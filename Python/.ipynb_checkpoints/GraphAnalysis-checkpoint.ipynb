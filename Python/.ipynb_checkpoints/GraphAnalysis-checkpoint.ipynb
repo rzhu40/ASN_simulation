{
 "cells": [
  {
   "cell_type": "code",
   "execution_count": 1,
   "metadata": {},
   "outputs": [],
   "source": [
    "import numpy as np\n",
    "import matplotlib.pyplot as plt\n",
    "import sys\n",
    "import networkx as nx\n",
    "from utils import *\n",
    "from dataStruct import *\n",
    "from graphTheory import *"
   ]
  },
  {
   "cell_type": "code",
   "execution_count": 107,
   "metadata": {
    "scrolled": false
   },
   "outputs": [
    {
     "name": "stderr",
     "output_type": "stream",
     "text": [
      "Running Simulation : 100%|████████████████████████████████████████████████████████| 3000/3000 [00:10<00:00, 274.57it/s]\n"
     ]
    }
   ],
   "source": [
    "SimulationOptions = simulation_options__(dt = 1e-3, T = 3,\n",
    "                                        interfaceContactWires = [73, 30])\n",
    "\n",
    "Connectivity = connectivity__(\n",
    "    filename = '2016-09-08-155153_asn_nw_00100_nj_00261_seed_042_avl_100.00_disp_10.00.mat')\n",
    "\n",
    "JunctionState = junctionState__(Connectivity.numOfJunctions)\n",
    "Stimulus = stimulus__(biasType = 'DC', \n",
    "                    TimeVector = SimulationOptions.TimeVector, \n",
    "                    onTime = 0, offTime = 1,\n",
    "                    onAmp = 0.1, offAmp = 0.005)\n",
    "\n",
    "Equations = equations__(Connectivity, SimulationOptions.contactWires)\n",
    "network1 = simulateNetwork(SimulationOptions, Connectivity, JunctionState, \n",
    "                                    Stimulus, Equations, \n",
    "                                    simpleOutput=False,\n",
    "                                    useSparse=False)\n",
    "\n",
    "# this_realization.allocateData()\n",
    "# this_realization.draw(time = 0.9, JunctionsToObserve =[4, 229])"
   ]
  },
  {
   "cell_type": "code",
   "execution_count": 109,
   "metadata": {},
   "outputs": [
    {
     "data": {
      "text/plain": [
       "[<matplotlib.lines.Line2D at 0x267f66a6128>]"
      ]
     },
     "execution_count": 109,
     "metadata": {},
     "output_type": "execute_result"
    },
    {
     "data": {
      "image/png": "[encoded data removed]",
      "text/plain": [
       "<Figure size 432x288 with 1 Axes>"
      ]
     },
     "metadata": {
      "needs_background": "light"
     },
     "output_type": "display_data"
    }
   ],
   "source": [
    "plt.plot(1/network1.networkResistance)"
   ]
  },
  {
   "cell_type": "code",
   "execution_count": 106,
   "metadata": {},
   "outputs": [
    {
     "data": {
      "application/vnd.plotly.v1+json": {
       "config": {
        "plotlyServerURL": "https://plot.ly"
       },
       "data": [
        {
         "hoverinfo": "name",
         "line": {
          "color": "yellow",
          "width": 1.5
         },
         "mode": "lines",
         "name": "Nanowire #1",
         "opacity": 1,
         "type": "scatter",
         "x": [
          2218.9598169631636,
          1678.8375773201244,
          1948.8986971416439
         ],
         "y": [
          20.799957779366878,
          917.8222982471494,
          469.31112801325816
         ]
        },
        {
         "hoverinfo": "name",
         "line": {
          "color": "white",
          "width": 1.5
         },
         "mode": "lines",
         "name": "Nanowire #2",
         "opacity": 1,
         "type": "scatter",
         "x": [
          2897.7700950322665,
          2197.570367932801,
          2547.670231482534
         ],
         "y": [
          405.81360262892537,
          1095.6437863586466,
          750.728694493786
         ]
        },
        {
         "hoverinfo": "name",
         "line": {
          "color": "white",
          "width": 1.5
         },
         "mode": "lines",
         "name": "Nanowire #3",
         "opacity": 1,
         "type": "scatter",
         "x": [
          2358.910993748829,
          1586.7663600532314,
          1972.83867690103
         ],
         "y": [
          1351.2673996400686,
          1944.0925885966544,
          1647.6799941183615
         ]
        },
        {
         "hoverinfo": "name",
         "line": {
          "color": "white",
          "width": 1.5
         },
         "mode": "lines",
         "name": "Nanowire #4",
         "opacity": 0.2,
         "type": "scatter",
         "x": [
          2089.165443677921,
          1320.6861763349086,
          1704.9258100064148
         ],
         "y": [
          1845.001976482109,
          2442.5735597182647,
          2143.787768100187
         ]
        },
        {
         "hoverinfo": "name",
         "line": {
          "color": "white",
          "width": 1.5
         },
         "mode": "lines",
         "name": "Nanowire #5",
         "opacity": 0.2,
         "type": "scatter",
         "x": [
          -276.66400213158477,
          838.7126091001396,
          281.0243034842774
         ],
         "y": [
          1816.274674889716,
          2144.9095854166717,
          1980.5921301531937
         ]
        },
        {
         "hoverinfo": "name",
         "line": {
          "color": "yellow",
          "width": 1.5
         },
         "mode": "lines",
         "name": "Nanowire #6",
         "opacity": 1,
         "type": "scatter",
         "x": [
          1093.7236875217102,
          1112.5711308348912,
          1103.1474091783007
         ],
         "y": [
          302.25324673570435,
          1377.3501349399528,
          839.8016908378286
         ]
        },
        {
         "hoverinfo": "name",
         "line": {
          "color": "white",
          "width": 1.5
         },
         "mode": "lines",
         "name": "Nanowire #7",
         "opacity": 0.2,
         "type": "scatter",
         "x": [
          328.0918795562978,
          1263.122326534055,
          795.6071030451764
         ],
         "y": [
          2779.1232163655895,
          2950.068467613575,
          2864.5958419895824
         ]
        },
        {
         "hoverinfo": "name",
         "line": {
          "color": "white",
          "width": 1.5
         },
         "mode": "lines",
         "name": "Nanowire #8",
         "opacity": 0.2,
         "type": "scatter",
         "x": [
          813.4704429265142,
          650.4674173479872,
          731.9689301372507
         ],
         "y": [
          1694.134708590659,
          2733.2467915839516,
          2213.6907500873053
         ]
        },
        {
         "hoverinfo": "name",
         "line": {
          "color": "white",
          "width": 1.5
         },
         "mode": "lines",
         "name": "Nanowire #9",
         "opacity": 0.2,
         "type": "scatter",
         "x": [
          2825.7840510226097,
          3012.2792774920636,
          2919.0316642573366
         ],
         "y": [
          1161.1414172897144,
          2164.9828977786897,
          1663.062157534202
         ]
        },
        {
         "hoverinfo": "name",
         "line": {
          "color": "white",
          "width": 1.5
         },
         "mode": "lines",
         "name": "Nanowire #10",
         "opacity": 0.2,
         "type": "scatter",
         "x": [
          1562.9165178597887,
          795.6698301407736,
          1179.2931740002812
         ],
         "y": [
          1693.9156195364214,
          1976.4088578696922,
          1835.1622387030568
         ]
        },
        {
         "hoverinfo": "name",
         "line": {
          "color": "white",
          "width": 1.5
         },
         "mode": "lines",
         "name": "Nanowire #11",
         "opacity": 0.2,
         "type": "scatter",
         "x": [
          2473.238112237666,
          2879.0412188250134,
          2676.1396655313397
         ],
         "y": [
          857.7375184737787,
          1659.8628560929608,
          1258.8001872833697
         ]
        },
        {
         "hoverinfo": "name",
         "line": {
          "color": "white",
          "width": 1.5
         },
         "mode": "lines",
         "name": "Nanowire #12",
         "opacity": 1,
         "type": "scatter",
         "x": [
          1413.615290395455,
          2373.2164655881224,
          1893.4158779917886
         ],
         "y": [
          558.3220605687072,
          928.0638764382375,
          743.1929685034723
         ]
        },
        {
         "hoverinfo": "name",
         "line": {
          "color": "white",
          "width": 1.5
         },
         "mode": "lines",
         "name": "Nanowire #13",
         "opacity": 1,
         "type": "scatter",
         "x": [
          1866.3632728038015,
          2902.5045484460893,
          2384.4339106249454
         ],
         "y": [
          818.1585569608543,
          1317.6775149467153,
          1067.9180359537847
         ]
        },
        {
         "hoverinfo": "name",
         "line": {
          "color": "white",
          "width": 1.5
         },
         "mode": "lines",
         "name": "Nanowire #14",
         "opacity": 1,
         "type": "scatter",
         "x": [
          1864.6055574020584,
          1151.2170012290944,
          1507.9112793155764
         ],
         "y": [
          1941.7515671402325,
          2605.3250956459824,
          2273.5383313931075
         ]
        },
        {
         "hoverinfo": "name",
         "line": {
          "color": "white",
          "width": 1.5
         },
         "mode": "lines",
         "name": "Nanowire #15",
         "opacity": 0.2,
         "type": "scatter",
         "x": [
          1901.880145116223,
          1559.5431626419318,
          1730.7116538790774
         ],
         "y": [
          -396.31420835483294,
          482.6751401333682,
          43.18046588926761
         ]
        },
        {
         "hoverinfo": "name",
         "line": {
          "color": "white",
          "width": 1.5
         },
         "mode": "lines",
         "name": "Nanowire #16",
         "opacity": 0.2,
         "type": "scatter",
         "x": [
          998.8766767894031,
          1956.2294861237801,
          1477.5530814565916
         ],
         "y": [
          190.8178556514626,
          505.6179873900348,
          348.2179215207487
         ]
        },
        {
         "hoverinfo": "name",
         "line": {
          "color": "white",
          "width": 1.5
         },
         "mode": "lines",
         "name": "Nanowire #17",
         "opacity": 0.2,
         "type": "scatter",
         "x": [
          133.05551759670266,
          1038.4024091915644,
          585.7289633941335
         ],
         "y": [
          15.534729582962939,
          260.4811225475535,
          138.00792606525823
         ]
        },
        {
         "hoverinfo": "name",
         "line": {
          "color": "white",
          "width": 1.5
         },
         "mode": "lines",
         "name": "Nanowire #18",
         "opacity": 0.2,
         "type": "scatter",
         "x": [
          2452.984679421788,
          1881.7280121472443,
          2167.356345784516
         ],
         "y": [
          -268.4406867786849,
          512.8135006925057,
          122.1864069569104
         ]
        },
        {
         "hoverinfo": "name",
         "line": {
          "color": "white",
          "width": 1.5
         },
         "mode": "lines",
         "name": "Nanowire #19",
         "opacity": 0.2,
         "type": "scatter",
         "x": [
          357.6030696678347,
          1327.0311049773002,
          842.3170873225674
         ],
         "y": [
          2453.6089781286114,
          2679.154525937432,
          2566.3817520330217
         ]
        },
        {
         "hoverinfo": "name",
         "line": {
          "color": "white",
          "width": 1.5
         },
         "mode": "lines",
         "name": "Nanowire #20",
         "opacity": 0.2,
         "type": "scatter",
         "x": [
          452.07652217770783,
          -306.18072358898485,
          72.94789929436152
         ],
         "y": [
          1873.4675039281335,
          2348.479652352008,
          2110.973578140071
         ]
        },
        {
         "hoverinfo": "name",
         "line": {
          "color": "white",
          "width": 1.5
         },
         "mode": "lines",
         "name": "Nanowire #21",
         "opacity": 1,
         "type": "scatter",
         "x": [
          2262.6464164283225,
          1610.1873590146843,
          1936.4168877215034
         ],
         "y": [
          991.5378413627053,
          1853.5051331612458,
          1422.5214872619756
         ]
        },
        {
         "hoverinfo": "name",
         "line": {
          "color": "white",
          "width": 1.5
         },
         "mode": "lines",
         "name": "Nanowire #22",
         "opacity": 0.2,
         "type": "scatter",
         "x": [
          105.7745270272552,
          956.8895494150385,
          531.3320382211468
         ],
         "y": [
          182.31368083316792,
          404.691283072841,
          293.50248195300446
         ]
        },
        {
         "hoverinfo": "name",
         "line": {
          "color": "white",
          "width": 1.5
         },
         "mode": "lines",
         "name": "Nanowire #23",
         "opacity": 0.2,
         "type": "scatter",
         "x": [
          2401.800915675761,
          3240.950590441724,
          2821.3757530587427
         ],
         "y": [
          1360.2948303609521,
          1589.400420340042,
          1474.847625350497
         ]
        },
        {
         "hoverinfo": "name",
         "line": {
          "color": "white",
          "width": 1.5
         },
         "mode": "lines",
         "name": "Nanowire #24",
         "opacity": 0.2,
         "type": "scatter",
         "x": [
          3369.5628270585494,
          2354.0086349569747,
          2861.785731007762
         ],
         "y": [
          1399.0898585363118,
          1441.7407661470822,
          1420.415312341697
         ]
        },
        {
         "hoverinfo": "name",
         "line": {
          "color": "white",
          "width": 1.5
         },
         "mode": "lines",
         "name": "Nanowire #25",
         "opacity": 1,
         "type": "scatter",
         "x": [
          2538.2980779885925,
          2950.8882633340986,
          2744.5931706613455
         ],
         "y": [
          24.774527011111445,
          1014.4366924489797,
          519.6056097300456
         ]
        },
        {
         "hoverinfo": "name",
         "line": {
          "color": "yellow",
          "width": 1.5
         },
         "mode": "lines",
         "name": "Nanowire #26",
         "opacity": 1,
         "type": "scatter",
         "x": [
          910.0863161617109,
          1310.8658853709558,
          1110.4761007663333
         ],
         "y": [
          835.9064295743979,
          1767.2034658534403,
          1301.554947713919
         ]
        },
        {
         "hoverinfo": "name",
         "line": {
          "color": "white",
          "width": 1.5
         },
         "mode": "lines",
         "name": "Nanowire #27",
         "opacity": 0.2,
         "type": "scatter",
         "x": [
          456.19487072878985,
          -363.45517155558525,
          46.369849586602285
         ],
         "y": [
          922.235420072061,
          1468.7929863121794,
          1195.5142031921202
         ]
        },
        {
         "hoverinfo": "name",
         "line": {
          "color": "white",
          "width": 1.5
         },
         "mode": "lines",
         "name": "Nanowire #28",
         "opacity": 0.2,
         "type": "scatter",
         "x": [
          3261.7858746863917,
          2308.1255008399608,
          2784.9556877631762
         ],
         "y": [
          1767.7968718073498,
          1927.303716505949,
          1847.5502941566494
         ]
        },
        {
         "hoverinfo": "name",
         "line": {
          "color": "white",
          "width": 1.5
         },
         "mode": "lines",
         "name": "Nanowire #29",
         "opacity": 1,
         "type": "scatter",
         "x": [
          1759.7841370793096,
          809.3207528245764,
          1284.552444951943
         ],
         "y": [
          1884.367274250146,
          1926.1946309557168,
          1905.2809526029314
         ]
        },
        {
         "hoverinfo": "name",
         "line": {
          "color": "yellow",
          "width": 1.5
         },
         "mode": "lines",
         "name": "Nanowire #30",
         "opacity": 1,
         "type": "scatter",
         "x": [
          3295.112147615296,
          2504.816766646721,
          2899.9644571310087
         ],
         "y": [
          -250.9361199983577,
          522.7601786306248,
          135.91202931613356
         ]
        },
        {
         "hoverinfo": "name",
         "marker": {
          "color": "red",
          "size": 30,
          "symbol": "hexagon"
         },
         "mode": "markers",
         "name": "Drain",
         "opacity": 0.9,
         "type": "scatter",
         "x": [
          3295.112147615296
         ],
         "y": [
          -250.9361199983577
         ]
        },
        {
         "hoverinfo": "name",
         "line": {
          "color": "white",
          "width": 1.5
         },
         "mode": "lines",
         "name": "Nanowire #31",
         "opacity": 0.2,
         "type": "scatter",
         "x": [
          2695.7812278569436,
          3085.938634678573,
          2890.8599312677584
         ],
         "y": [
          647.5541386715214,
          1600.121549087306,
          1123.8378438794136
         ]
        },
        {
         "hoverinfo": "name",
         "line": {
          "color": "white",
          "width": 1.5
         },
         "mode": "lines",
         "name": "Nanowire #32",
         "opacity": 0.2,
         "type": "scatter",
         "x": [
          2096.069954822771,
          3021.98677798139,
          2559.0283664020803
         ],
         "y": [
          1753.2694522967774,
          2001.8900419886406,
          1877.579747142709
         ]
        },
        {
         "hoverinfo": "name",
         "line": {
          "color": "white",
          "width": 1.5
         },
         "mode": "lines",
         "name": "Nanowire #33",
         "opacity": 1,
         "type": "scatter",
         "x": [
          1239.1949441786346,
          527.4984082388796,
          883.3466762087571
         ],
         "y": [
          1209.6127972417644,
          1809.2047542387618,
          1509.408775740263
         ]
        },
        {
         "hoverinfo": "name",
         "line": {
          "color": "white",
          "width": 1.5
         },
         "mode": "lines",
         "name": "Nanowire #34",
         "opacity": 0.2,
         "type": "scatter",
         "x": [
          1251.9017837847155,
          1058.684587826836,
          1155.2931858057757
         ],
         "y": [
          2048.8635021871414,
          3090.0755449427925,
          2569.469523564967
         ]
        },
        {
         "hoverinfo": "name",
         "line": {
          "color": "white",
          "width": 1.5
         },
         "mode": "lines",
         "name": "Nanowire #35",
         "opacity": 0.2,
         "type": "scatter",
         "x": [
          2423.333541170682,
          2683.4864879304596,
          2553.410014550571
         ],
         "y": [
          1440.048422463246,
          2512.1133672504243,
          1976.0808948568351
         ]
        },
        {
         "hoverinfo": "name",
         "line": {
          "color": "white",
          "width": 1.5
         },
         "mode": "lines",
         "name": "Nanowire #36",
         "opacity": 1,
         "type": "scatter",
         "x": [
          1473.575472706651,
          427.95655823101504,
          950.766015468833
         ],
         "y": [
          330.39797185628015,
          647.208590632298,
          488.80328124428905
         ]
        },
        {
         "hoverinfo": "name",
         "line": {
          "color": "white",
          "width": 1.5
         },
         "mode": "lines",
         "name": "Nanowire #37",
         "opacity": 0.2,
         "type": "scatter",
         "x": [
          78.51240323990481,
          938.4440768766501,
          508.4782400582775
         ],
         "y": [
          55.079338975894814,
          368.33314542668427,
          211.70624220128954
         ]
        },
        {
         "hoverinfo": "name",
         "line": {
          "color": "white",
          "width": 1.5
         },
         "mode": "lines",
         "name": "Nanowire #38",
         "opacity": 1,
         "type": "scatter",
         "x": [
          1659.212873376553,
          1681.594701373548,
          1670.4037873750506
         ],
         "y": [
          1444.330171939495,
          2410.185497298399,
          1927.2578346189468
         ]
        },
        {
         "hoverinfo": "name",
         "line": {
          "color": "white",
          "width": 1.5
         },
         "mode": "lines",
         "name": "Nanowire #39",
         "opacity": 0.2,
         "type": "scatter",
         "x": [
          2333.971093084054,
          3282.9575518806323,
          2808.464322482343
         ],
         "y": [
          62.60227605704665,
          96.46558719268424,
          79.53393162486545
         ]
        },
        {
         "hoverinfo": "name",
         "line": {
          "color": "white",
          "width": 1.5
         },
         "mode": "lines",
         "name": "Nanowire #40",
         "opacity": 0.2,
         "type": "scatter",
         "x": [
          2040.0102860390225,
          2136.1684940108153,
          2088.089390024919
         ],
         "y": [
          1270.5722845634525,
          2244.0812030773272,
          1757.32674382039
         ]
        },
        {
         "hoverinfo": "name",
         "line": {
          "color": "white",
          "width": 1.5
         },
         "mode": "lines",
         "name": "Nanowire #41",
         "opacity": 0.2,
         "type": "scatter",
         "x": [
          1178.6069545340793,
          2241.7600660021108,
          1710.183510268095
         ],
         "y": [
          2725.6713856539363,
          2915.7100628958096,
          2820.690724274873
         ]
        },
        {
         "hoverinfo": "name",
         "line": {
          "color": "white",
          "width": 1.5
         },
         "mode": "lines",
         "name": "Nanowire #42",
         "opacity": 0.2,
         "type": "scatter",
         "x": [
          -238.42177000539834,
          821.4807326300096,
          291.5294813123056
         ],
         "y": [
          1518.8732065654513,
          1933.9718606898223,
          1726.4225336276368
         ]
        },
        {
         "hoverinfo": "name",
         "line": {
          "color": "white",
          "width": 1.5
         },
         "mode": "lines",
         "name": "Nanowire #43",
         "opacity": 0.2,
         "type": "scatter",
         "x": [
          1363.2321711036836,
          2326.811189091335,
          1845.0216800975093
         ],
         "y": [
          978.073800652528,
          1350.9457565866032,
          1164.5097786195656
         ]
        },
        {
         "hoverinfo": "name",
         "line": {
          "color": "white",
          "width": 1.5
         },
         "mode": "lines",
         "name": "Nanowire #44",
         "opacity": 0.2,
         "type": "scatter",
         "x": [
          3181.0607466198785,
          2759.2623540057016,
          2970.16155031279
         ],
         "y": [
          1513.400662668575,
          2346.328647985544,
          1929.8646553270596
         ]
        },
        {
         "hoverinfo": "name",
         "line": {
          "color": "white",
          "width": 1.5
         },
         "mode": "lines",
         "name": "Nanowire #45",
         "opacity": 0.2,
         "type": "scatter",
         "x": [
          766.9742189216605,
          73.52987249748367,
          420.2520457095721
         ],
         "y": [
          1019.3113273876804,
          1730.2060155614192,
          1374.7586714745498
         ]
        },
        {
         "hoverinfo": "name",
         "line": {
          "color": "white",
          "width": 1.5
         },
         "mode": "lines",
         "name": "Nanowire #46",
         "opacity": 0.2,
         "type": "scatter",
         "x": [
          1705.3181606294286,
          1404.659753552992,
          1554.9889570912103
         ],
         "y": [
          1076.0638393895292,
          2197.6368965060806,
          1636.850367947805
         ]
        },
        {
         "hoverinfo": "name",
         "line": {
          "color": "white",
          "width": 1.5
         },
         "mode": "lines",
         "name": "Nanowire #47",
         "opacity": 0.2,
         "type": "scatter",
         "x": [
          3131.264812650712,
          2132.9736189170208,
          2632.1192157838664
         ],
         "y": [
          2764.7959143546946,
          2883.992938304457,
          2824.3944263295757
         ]
        },
        {
         "hoverinfo": "name",
         "line": {
          "color": "white",
          "width": 1.5
         },
         "mode": "lines",
         "name": "Nanowire #48",
         "opacity": 1,
         "type": "scatter",
         "x": [
          2037.075197544424,
          2407.5365089808024,
          2222.3058532626133
         ],
         "y": [
          711.635312267224,
          1604.9805145374216,
          1158.3079134023228
         ]
        },
        {
         "hoverinfo": "name",
         "line": {
          "color": "white",
          "width": 1.5
         },
         "mode": "lines",
         "name": "Nanowire #49",
         "opacity": 0.2,
         "type": "scatter",
         "x": [
          1787.1255520512186,
          2394.968893920389,
          2091.0472229858037
         ],
         "y": [
          2502.4713724271946,
          3264.672010516291,
          2883.5716914717427
         ]
        },
        {
         "hoverinfo": "name",
         "line": {
          "color": "white",
          "width": 1.5
         },
         "mode": "lines",
         "name": "Nanowire #50",
         "opacity": 0.2,
         "type": "scatter",
         "x": [
          2580.448447250959,
          1634.456056671697,
          2107.452251961328
         ],
         "y": [
          2508.89200746745,
          2923.211844268932,
          2716.051925868191
         ]
        },
        {
         "hoverinfo": "name",
         "line": {
          "color": "white",
          "width": 1.5
         },
         "mode": "lines",
         "name": "Nanowire #51",
         "opacity": 0.2,
         "type": "scatter",
         "x": [
          728.0929938580684,
          1428.8539134604625,
          1078.4734536592655
         ],
         "y": [
          290.78330839502024,
          883.9635003407584,
          587.3734043678893
         ]
        },
        {
         "hoverinfo": "name",
         "line": {
          "color": "white",
          "width": 1.5
         },
         "mode": "lines",
         "name": "Nanowire #52",
         "opacity": 0.2,
         "type": "scatter",
         "x": [
          1351.321788040238,
          410.2292775467222,
          880.7755327934801
         ],
         "y": [
          153.47386131738602,
          262.6939439336067,
          208.08390262549636
         ]
        },
        {
         "hoverinfo": "name",
         "line": {
          "color": "yellow",
          "width": 1.5
         },
         "mode": "lines",
         "name": "Nanowire #53",
         "opacity": 1,
         "type": "scatter",
         "x": [
          1883.0431332241737,
          2973.1237996469076,
          2428.0834664355407
         ],
         "y": [
          281.51184056213697,
          323.156167702423,
          302.33400413228
         ]
        },
        {
         "hoverinfo": "name",
         "line": {
          "color": "white",
          "width": 1.5
         },
         "mode": "lines",
         "name": "Nanowire #54",
         "opacity": 0.2,
         "type": "scatter",
         "x": [
          2942.960705623967,
          1917.7196624511175,
          2430.3401840375423
         ],
         "y": [
          6.0116771284612796,
          103.3192767808371,
          54.665476954649186
         ]
        },
        {
         "hoverinfo": "name",
         "line": {
          "color": "white",
          "width": 1.5
         },
         "mode": "lines",
         "name": "Nanowire #55",
         "opacity": 0.2,
         "type": "scatter",
         "x": [
          2102.6406242115863,
          3099.793287269036,
          2601.2169557403113
         ],
         "y": [
          215.3091307066148,
          351.3486338289555,
          283.32888226778516
         ]
        },
        {
         "hoverinfo": "name",
         "line": {
          "color": "white",
          "width": 1.5
         },
         "mode": "lines",
         "name": "Nanowire #56",
         "opacity": 0.2,
         "type": "scatter",
         "x": [
          3256.237691916498,
          2223.20562342233,
          2739.721657669414
         ],
         "y": [
          1865.1557461011012,
          2232.88489439704,
          2049.0203202490707
         ]
        },
        {
         "hoverinfo": "name",
         "line": {
          "color": "white",
          "width": 1.5
         },
         "mode": "lines",
         "name": "Nanowire #57",
         "opacity": 0.2,
         "type": "scatter",
         "x": [
          1574.3651888160923,
          1493.6892043495343,
          1534.0271965828133
         ],
         "y": [
          -248.7820045501635,
          675.9138953115374,
          213.56594538068697
         ]
        },
        {
         "hoverinfo": "name",
         "line": {
          "color": "white",
          "width": 1.5
         },
         "mode": "lines",
         "name": "Nanowire #58",
         "opacity": 0.2,
         "type": "scatter",
         "x": [
          1986.586964296443,
          1022.5108038267545,
          1504.5488840615988
         ],
         "y": [
          946.2712731339701,
          967.5825086285978,
          956.926890881284
         ]
        },
        {
         "hoverinfo": "name",
         "line": {
          "color": "white",
          "width": 1.5
         },
         "mode": "lines",
         "name": "Nanowire #59",
         "opacity": 0.2,
         "type": "scatter",
         "x": [
          1895.3562797707098,
          2894.414794029941,
          2394.8855369003254
         ],
         "y": [
          2416.695191986769,
          2652.5566738299585,
          2534.6259329083637
         ]
        },
        {
         "hoverinfo": "name",
         "line": {
          "color": "white",
          "width": 1.5
         },
         "mode": "lines",
         "name": "Nanowire #60",
         "opacity": 0.2,
         "type": "scatter",
         "x": [
          2036.0156331971584,
          1863.7679514694323,
          1949.8917923332954
         ],
         "y": [
          -434.3594314211198,
          573.991045836075,
          69.8158072074776
         ]
        },
        {
         "hoverinfo": "name",
         "line": {
          "color": "white",
          "width": 1.5
         },
         "mode": "lines",
         "name": "Nanowire #61",
         "opacity": 0.2,
         "type": "scatter",
         "x": [
          2534.8671160223967,
          1676.9341475238232,
          2105.90063177311
         ],
         "y": [
          2401.907650158683,
          2484.903245374932,
          2443.4054477668074
         ]
        },
        {
         "hoverinfo": "name",
         "line": {
          "color": "white",
          "width": 1.5
         },
         "mode": "lines",
         "name": "Nanowire #62",
         "opacity": 0.2,
         "type": "scatter",
         "x": [
          2422.006328213334,
          2352.7496884032726,
          2387.3780083083034
         ],
         "y": [
          369.1915871712532,
          1321.9370614691466,
          845.5643243201998
         ]
        },
        {
         "hoverinfo": "name",
         "line": {
          "color": "white",
          "width": 1.5
         },
         "mode": "lines",
         "name": "Nanowire #63",
         "opacity": 0.2,
         "type": "scatter",
         "x": [
          2863.8973734563037,
          2476.1346774490944,
          2670.016025452699
         ],
         "y": [
          -95.87135758753294,
          804.8603233174704,
          354.49448286496875
         ]
        },
        {
         "hoverinfo": "name",
         "line": {
          "color": "yellow",
          "width": 1.5
         },
         "mode": "lines",
         "name": "Nanowire #64",
         "opacity": 1,
         "type": "scatter",
         "x": [
          1313.2815849975636,
          714.6893561116513,
          1013.9854705546074
         ],
         "y": [
          1666.4782650995435,
          2513.9447270853602,
          2090.211496092452
         ]
        },
        {
         "hoverinfo": "name",
         "line": {
          "color": "white",
          "width": 1.5
         },
         "mode": "lines",
         "name": "Nanowire #65",
         "opacity": 1,
         "type": "scatter",
         "x": [
          1053.9762670211758,
          1199.5214488184884,
          1126.748857919832
         ],
         "y": [
          1380.7336001387685,
          2392.9234805405354,
          1886.828540339652
         ]
        },
        {
         "hoverinfo": "name",
         "line": {
          "color": "yellow",
          "width": 1.5
         },
         "mode": "lines",
         "name": "Nanowire #66",
         "opacity": 1,
         "type": "scatter",
         "x": [
          474.8974820664033,
          88.99415697881065,
          281.945819522607
         ],
         "y": [
          2176.976685046266,
          3087.855396116052,
          2632.416040581159
         ]
        },
        {
         "hoverinfo": "name",
         "line": {
          "color": "white",
          "width": 1.5
         },
         "mode": "lines",
         "name": "Nanowire #67",
         "opacity": 0.2,
         "type": "scatter",
         "x": [
          1841.79921381116,
          1627.8816321658837,
          1734.8404229885218
         ],
         "y": [
          1810.9023259790956,
          2599.523936844219,
          2205.2131314116573
         ]
        },
        {
         "hoverinfo": "name",
         "line": {
          "color": "white",
          "width": 1.5
         },
         "mode": "lines",
         "name": "Nanowire #68",
         "opacity": 0.2,
         "type": "scatter",
         "x": [
          581.0680047550138,
          -365.41436197456136,
          107.82682139022626
         ],
         "y": [
          2258.578580270102,
          2562.3070020389896,
          2410.442791154546
         ]
        },
        {
         "hoverinfo": "name",
         "line": {
          "color": "yellow",
          "width": 1.5
         },
         "mode": "lines",
         "name": "Nanowire #69",
         "opacity": 1,
         "type": "scatter",
         "x": [
          900.549331797974,
          1893.038776996787,
          1396.7940543973805
         ],
         "y": [
          774.7674905926552,
          917.4399448351836,
          846.1037177139194
         ]
        },
        {
         "hoverinfo": "name",
         "line": {
          "color": "white",
          "width": 1.5
         },
         "mode": "lines",
         "name": "Nanowire #70",
         "opacity": 0.2,
         "type": "scatter",
         "x": [
          1226.760645632067,
          2029.1071626133928,
          1627.93390412273
         ],
         "y": [
          44.384788883674105,
          1020.2524737946627,
          532.3186313391684
         ]
        },
        {
         "hoverinfo": "name",
         "line": {
          "color": "yellow",
          "width": 1.5
         },
         "mode": "lines",
         "name": "Nanowire #71",
         "opacity": 1,
         "type": "scatter",
         "x": [
          1342.4972156736717,
          376.7502970960346,
          859.6237563848532
         ],
         "y": [
          2176.0043585310336,
          2327.6841513141167,
          2251.844254922575
         ]
        },
        {
         "hoverinfo": "name",
         "line": {
          "color": "white",
          "width": 1.5
         },
         "mode": "lines",
         "name": "Nanowire #72",
         "opacity": 1,
         "type": "scatter",
         "x": [
          2255.8214341175267,
          1289.178129296538,
          1772.4997817070323
         ],
         "y": [
          2246.950025412715,
          2594.058410190869,
          2420.504217801792
         ]
        },
        {
         "hoverinfo": "name",
         "line": {
          "color": "yellow",
          "width": 1.5
         },
         "mode": "lines",
         "name": "Nanowire #73",
         "opacity": 1,
         "type": "scatter",
         "x": [
          14.075659141444476,
          168.9258404928521,
          91.50074981714829
         ],
         "y": [
          2419.333562403336,
          3523.6972896007037,
          2971.51542600202
         ]
        },
        {
         "hoverinfo": "name",
         "marker": {
          "color": "green",
          "size": 30,
          "symbol": "hexagon"
         },
         "mode": "markers",
         "name": "Drain",
         "opacity": 0.9,
         "type": "scatter",
         "x": [
          168.9258404928521
         ],
         "y": [
          3523.6972896007037
         ]
        },
        {
         "hoverinfo": "name",
         "line": {
          "color": "white",
          "width": 1.5
         },
         "mode": "lines",
         "name": "Nanowire #74",
         "opacity": 0.2,
         "type": "scatter",
         "x": [
          309.86816758471105,
          -85.77903508942453,
          112.04456624764325
         ],
         "y": [
          738.8151089144789,
          1736.8909525540798,
          1237.8530307342794
         ]
        },
        {
         "hoverinfo": "name",
         "line": {
          "color": "white",
          "width": 1.5
         },
         "mode": "lines",
         "name": "Nanowire #75",
         "opacity": 1,
         "type": "scatter",
         "x": [
          2099.783018412378,
          2835.820345545571,
          2467.8016819789746
         ],
         "y": [
          678.5748149239806,
          1553.5336998327184,
          1116.0542573783496
         ]
        },
        {
         "hoverinfo": "name",
         "line": {
          "color": "white",
          "width": 1.5
         },
         "mode": "lines",
         "name": "Nanowire #76",
         "opacity": 1,
         "type": "scatter",
         "x": [
          722.1932684531797,
          1438.9505800143975,
          1080.5719242337886
         ],
         "y": [
          2088.765012771345,
          2569.712751680636,
          2329.2388822259904
         ]
        },
        {
         "hoverinfo": "name",
         "line": {
          "color": "white",
          "width": 1.5
         },
         "mode": "lines",
         "name": "Nanowire #77",
         "opacity": 0.2,
         "type": "scatter",
         "x": [
          329.914917451256,
          432.4481584600527,
          381.18153795565433
         ],
         "y": [
          574.8307664902036,
          1469.9904750279036,
          1022.4106207590536
         ]
        },
        {
         "hoverinfo": "name",
         "line": {
          "color": "white",
          "width": 1.5
         },
         "mode": "lines",
         "name": "Nanowire #78",
         "opacity": 0.2,
         "type": "scatter",
         "x": [
          1357.5109102724678,
          1775.9486500563585,
          1566.7297801644131
         ],
         "y": [
          2370.740471079587,
          3213.803482541801,
          2792.271976810694
         ]
        },
        {
         "hoverinfo": "name",
         "line": {
          "color": "white",
          "width": 1.5
         },
         "mode": "lines",
         "name": "Nanowire #79",
         "opacity": 0.2,
         "type": "scatter",
         "x": [
          2420.3606648057957,
          2199.6006537858693,
          2309.9806592958325
         ],
         "y": [
          2164.9590754223746,
          2985.5174356356965,
          2575.2382555290355
         ]
        },
        {
         "hoverinfo": "name",
         "line": {
          "color": "white",
          "width": 1.5
         },
         "mode": "lines",
         "name": "Nanowire #80",
         "opacity": 1,
         "type": "scatter",
         "x": [
          160.58755414451088,
          1134.338610836548,
          647.4630824905295
         ],
         "y": [
          1165.660465325337,
          1408.303698924773,
          1286.982082125055
         ]
        },
        {
         "hoverinfo": "name",
         "line": {
          "color": "white",
          "width": 1.5
         },
         "mode": "lines",
         "name": "Nanowire #81",
         "opacity": 0.2,
         "type": "scatter",
         "x": [
          2321.0371827486097,
          1416.305672165392,
          1868.6714274570008
         ],
         "y": [
          2216.14572010164,
          2289.080686647344,
          2252.613203374492
         ]
        },
        {
         "hoverinfo": "name",
         "line": {
          "color": "white",
          "width": 1.5
         },
         "mode": "lines",
         "name": "Nanowire #82",
         "opacity": 0.2,
         "type": "scatter",
         "x": [
          835.272145731167,
          -323.18735576855903,
          256.04239498130397
         ],
         "y": [
          2238.5205515456864,
          2288.7366929624077,
          2263.628622254047
         ]
        },
        {
         "hoverinfo": "name",
         "line": {
          "color": "white",
          "width": 1.5
         },
         "mode": "lines",
         "name": "Nanowire #83",
         "opacity": 0.2,
         "type": "scatter",
         "x": [
          423.41819235628236,
          -113.32786534463617,
          155.0451635058231
         ],
         "y": [
          -64.53422696641371,
          683.2774399820094,
          309.3716065077978
         ]
        },
        {
         "hoverinfo": "name",
         "line": {
          "color": "white",
          "width": 1.5
         },
         "mode": "lines",
         "name": "Nanowire #84",
         "opacity": 0.2,
         "type": "scatter",
         "x": [
          1648.654246440452,
          1539.473542968436,
          1594.063894704444
         ],
         "y": [
          2228.3279449788247,
          3186.989495098575,
          2707.6587200387
         ]
        },
        {
         "hoverinfo": "name",
         "line": {
          "color": "white",
          "width": 1.5
         },
         "mode": "lines",
         "name": "Nanowire #85",
         "opacity": 0.2,
         "type": "scatter",
         "x": [
          1317.6872542814822,
          1926.1234753791568,
          1621.9053648303195
         ],
         "y": [
          1069.539636078867,
          1961.974598608276,
          1515.7571173435715
         ]
        },
        {
         "hoverinfo": "name",
         "line": {
          "color": "white",
          "width": 1.5
         },
         "mode": "lines",
         "name": "Nanowire #86",
         "opacity": 0.2,
         "type": "scatter",
         "x": [
          2278.613617412043,
          1545.9657915771963,
          1912.2897044946196
         ],
         "y": [
          2236.752504394261,
          2721.9922922521887,
          2479.372398323225
         ]
        },
        {
         "hoverinfo": "name",
         "line": {
          "color": "white",
          "width": 1.5
         },
         "mode": "lines",
         "name": "Nanowire #87",
         "opacity": 0.2,
         "type": "scatter",
         "x": [
          2409.8406974952586,
          1946.707304840711,
          2178.274001167985
         ],
         "y": [
          606.9725520114418,
          1313.3250541722286,
          960.1488030918352
         ]
        },
        {
         "hoverinfo": "name",
         "line": {
          "color": "white",
          "width": 1.5
         },
         "mode": "lines",
         "name": "Nanowire #88",
         "opacity": 0.2,
         "type": "scatter",
         "x": [
          2484.7626906484634,
          3370.3497861267447,
          2927.556238387604
         ],
         "y": [
          2438.379649519418,
          2934.759721457785,
          2686.5696854886014
         ]
        },
        {
         "hoverinfo": "name",
         "line": {
          "color": "white",
          "width": 1.5
         },
         "mode": "lines",
         "name": "Nanowire #89",
         "opacity": 1,
         "type": "scatter",
         "x": [
          2040.426705552999,
          1057.3753842541728,
          1548.901044903586
         ],
         "y": [
          1026.3549029608544,
          1308.8551694441244,
          1167.6050362024894
         ]
        },
        {
         "hoverinfo": "name",
         "line": {
          "color": "white",
          "width": 1.5
         },
         "mode": "lines",
         "name": "Nanowire #90",
         "opacity": 0.2,
         "type": "scatter",
         "x": [
          1425.7295173933976,
          512.0093202540781,
          968.8694188237379
         ],
         "y": [
          -252.33662531249152,
          317.3625341942817,
          32.51295444089508
         ]
        },
        {
         "hoverinfo": "name",
         "line": {
          "color": "white",
          "width": 1.5
         },
         "mode": "lines",
         "name": "Nanowire #91",
         "opacity": 0.2,
         "type": "scatter",
         "x": [
          2903.8887332361187,
          1867.2284353761029,
          2385.558584306111
         ],
         "y": [
          2633.7164744447086,
          2798.5753840708735,
          2716.145929257791
         ]
        },
        {
         "hoverinfo": "name",
         "line": {
          "color": "white",
          "width": 1.5
         },
         "mode": "lines",
         "name": "Nanowire #92",
         "opacity": 0.2,
         "type": "scatter",
         "x": [
          1146.7432969538993,
          478.2502106185461,
          812.4967537862227
         ],
         "y": [
          -115.70583348293667,
          663.425894199738,
          273.86003035840065
         ]
        },
        {
         "hoverinfo": "name",
         "line": {
          "color": "white",
          "width": 1.5
         },
         "mode": "lines",
         "name": "Nanowire #93",
         "opacity": 1,
         "type": "scatter",
         "x": [
          1479.1659601876718,
          1154.6625640461448,
          1316.9142621169083
         ],
         "y": [
          522.0024380887648,
          1393.8793874537243,
          957.9409127712446
         ]
        },
        {
         "hoverinfo": "name",
         "line": {
          "color": "white",
          "width": 1.5
         },
         "mode": "lines",
         "name": "Nanowire #94",
         "opacity": 0.2,
         "type": "scatter",
         "x": [
          105.80839460440441,
          364.92989344919135,
          235.36914402679787
         ],
         "y": [
          2356.8998471559166,
          3343.471955148913,
          2850.1859011524148
         ]
        },
        {
         "hoverinfo": "name",
         "line": {
          "color": "white",
          "width": 1.5
         },
         "mode": "lines",
         "name": "Nanowire #95",
         "opacity": 0.2,
         "type": "scatter",
         "x": [
          577.7421435145585,
          -425.6376830218134,
          76.05223024637253
         ],
         "y": [
          2744.1871760383165,
          2959.45570558702,
          2851.8214408126682
         ]
        },
        {
         "hoverinfo": "name",
         "line": {
          "color": "white",
          "width": 1.5
         },
         "mode": "lines",
         "name": "Nanowire #96",
         "opacity": 0.2,
         "type": "scatter",
         "x": [
          3311.033215603845,
          2464.857272463705,
          2887.945244033775
         ],
         "y": [
          1530.981938989713,
          1909.6453897500037,
          1720.3136643698583
         ]
        },
        {
         "hoverinfo": "name",
         "line": {
          "color": "white",
          "width": 1.5
         },
         "mode": "lines",
         "name": "Nanowire #97",
         "opacity": 0.2,
         "type": "scatter",
         "x": [
          1916.5692967563423,
          3099.3114263168923,
          2507.9403615366173
         ],
         "y": [
          1810.9325454131138,
          1980.0907276056816,
          1895.5116365093977
         ]
        },
        {
         "hoverinfo": "name",
         "line": {
          "color": "white",
          "width": 1.5
         },
         "mode": "lines",
         "name": "Nanowire #98",
         "opacity": 0.2,
         "type": "scatter",
         "x": [
          1567.3520614659626,
          2608.493175096225,
          2087.922618281094
         ],
         "y": [
          1302.1165748467026,
          1388.5565570232159,
          1345.3365659349593
         ]
        },
        {
         "hoverinfo": "name",
         "line": {
          "color": "white",
          "width": 1.5
         },
         "mode": "lines",
         "name": "Nanowire #99",
         "opacity": 0.2,
         "type": "scatter",
         "x": [
          1056.0926175509114,
          1397.6250489347078,
          1226.8588332428096
         ],
         "y": [
          461.94524435889235,
          1297.3193858294949,
          879.6323150941936
         ]
        },
        {
         "hoverinfo": "name",
         "line": {
          "color": "white",
          "width": 1.5
         },
         "mode": "lines",
         "name": "Nanowire #100",
         "opacity": 0.2,
         "type": "scatter",
         "x": [
          965.9266999685151,
          73.83922045655959,
          519.8829602125373
         ],
         "y": [
          683.9947741545341,
          1287.9924980649616,
          985.9936361097479
         ]
        },
        {
         "hoverinfo": "none",
         "line": {
          "color": "red",
          "width": 2
         },
         "mode": "lines",
         "name": "Current",
         "opacity": 0.9,
         "type": "scatter",
         "x": [
          1743.7121092226796,
          1795.6695948583174,
          null,
          1797.9524899361832,
          1849.969251894802,
          null,
          1868.22791776874,
          1920.3182150129428,
          null,
          1994.9081736578855,
          2047.0378882282778,
          null,
          2085.9053655966345,
          2085.941978973684,
          null,
          2149.188181634181,
          2149.21493718082,
          null,
          2306.9056392367193,
          2371.310353352557,
          null,
          2352.58873429679,
          2417.368356814976,
          null,
          2375.833786599105,
          2479.3065744973974,
          null,
          2569.000287378511,
          2672.5027555466627,
          null,
          1664.0462301036464,
          1720.1997713622343,
          null,
          1735.4230250802425,
          1791.6224191756241,
          null,
          1935.7097148330154,
          1991.938280203641,
          null,
          2192.944063780194,
          2249.171988447537,
          null,
          2327.7136229435623,
          2327.7263905758273,
          null,
          1363.600337591894,
          1363.627450852343,
          null,
          1451.4153417325213,
          1451.472745052318,
          null,
          1602.8967675864408,
          1602.9160794150546,
          null,
          1719.9482745021462,
          1719.9472344042758,
          null,
          514.0279791847247,
          514.0769712833011,
          null,
          763.5742933976428,
          763.620917611405,
          null,
          1097.2780190093488,
          1097.2727752817032,
          null,
          1098.6808413363055,
          1098.675183099698,
          null,
          1100.7716966635985,
          1100.7653015194276,
          null,
          1103.9358492574609,
          1102.1670489010664,
          null,
          1108.227557446079,
          1106.4580221321603,
          null,
          1111.1873031984783,
          1109.4195267130804,
          null,
          1111.3956010355223,
          1111.396598241877,
          null,
          732.741879753445,
          732.8790015116499,
          null,
          702.5424551757756,
          702.5576551372112,
          null,
          724.974086790188,
          724.9914897605364,
          null,
          737.1687588958298,
          737.2023746763857,
          null,
          747.8829753658264,
          747.9169737001504,
          null,
          763.6287168819479,
          763.6555651955881,
          null,
          2862.018615618003,
          2862.0082780790585,
          null,
          2880.636338540825,
          2880.6147800636377,
          null,
          2906.9399941489405,
          2906.9117725896435,
          null,
          2937.3490346432272,
          2937.3226203478257,
          null,
          2958.625360784199,
          2958.601963802122,
          null,
          2971.817299402611,
          2971.796597230182,
          null,
          2974.8907572343724,
          2974.874385654766,
          null,
          2977.5220730418705,
          2977.5179071782172,
          null,
          1035.5231697469662,
          1035.5344699168236,
          null,
          1160.8431659064936,
          1160.944348652469,
          null,
          1368.2496918899615,
          1368.4241527760396,
          null,
          2701.2897583960366,
          2701.298177901616,
          null,
          2769.872403361867,
          2769.887059086779,
          null,
          2794.489337275579,
          2794.5214937800633,
          null,
          1480.0664201442253,
          1481.0019721455449,
          null,
          1629.807660807031,
          1630.7140420743417,
          null,
          1781.5992633659314,
          1782.4798506561874,
          null,
          1942.2819883794868,
          1943.0295528459983,
          null,
          2157.1774186617167,
          2207.89214449828,
          null,
          2256.7819111796666,
          2307.516610882955,
          null,
          2324.2039779624815,
          2374.8884842551806,
          null,
          2154.521463166804,
          2170.2443046660087,
          null,
          2213.47387135802,
          2229.1834820136955,
          null,
          2265.3557666123934,
          2346.8865601130756,
          null,
          2324.762508261619,
          2324.853203424679,
          null,
          2414.1103834263863,
          2414.157169347805,
          null,
          2549.537160239028,
          2549.5029801357473,
          null,
          2746.3474716731807,
          2746.296491152717,
          null,
          1324.1293619278354,
          1368.261560564635,
          null,
          1363.11436495715,
          1407.221415260541,
          null,
          1435.1590120546703,
          1479.2690089309394,
          null,
          1586.5696865408358,
          1630.6192041237,
          null,
          1730.7310591864348,
          1730.7552427989801,
          null,
          1582.5315952047722,
          1582.5385810590158,
          null,
          1227.1595336684727,
          1227.21334764728,
          null,
          1461.8224189018251,
          1461.9945579753178,
          null,
          1498.6178768217387,
          1498.8265881434575,
          null,
          1558.8443363337644,
          1559.0861822369332,
          null,
          1738.2001971703282,
          1738.46032919761,
          null,
          1890.0770629189924,
          1890.240398636824,
          null,
          1916.136170059994,
          1916.2087608485892,
          null,
          531.5020386002009,
          531.5038839904806,
          null,
          795.2414031887715,
          795.2438637091446,
          null,
          859.9646798708719,
          859.9557217508735,
          null,
          1973.3534487719933,
          1973.4098319480913,
          null,
          2080.0764155021593,
          2080.0844709026724,
          null,
          2157.327016840184,
          2157.3463520787805,
          null,
          520.0837161378219,
          520.2417234863709,
          null,
          912.6829759043703,
          912.7454530061749,
          null,
          39.29928529119594,
          39.342568033163005,
          null,
          1702.2291073117076,
          1746.326371071252,
          null,
          1868.923295653123,
          1913.0519636457987,
          null,
          2020.8370082443842,
          2064.965169078926,
          null,
          2054.047242825891,
          2098.1841239046944,
          null,
          2129.334857072753,
          2173.4693653523827,
          null,
          2222.376468986002,
          2266.477410806606,
          null,
          318.24802039144066,
          318.247095567934,
          null,
          478.55980032205593,
          478.5446560484549,
          null,
          645.9623501595839,
          645.9450479644673,
          null,
          783.9150800822742,
          783.9039822001944,
          null,
          2557.1009863389163,
          2557.151260066409,
          null,
          2704.0857329790288,
          2704.1119345510747,
          null,
          2766.9400928769664,
          2766.8601777577705,
          null,
          2833.5478395618334,
          2833.4305256026155,
          null,
          2974.4461606929412,
          2974.364037565476,
          null,
          3108.0006392980354,
          3107.9064800928463,
          null,
          3178.961354540715,
          3178.916618708822,
          null,
          2691.2587957856795,
          2691.2837270161294,
          null,
          2744.3043936613203,
          2744.244352391756,
          null,
          2816.9609023408584,
          2816.8870587906877,
          null,
          2941.82296433155,
          2941.8104987163247,
          null,
          2551.7841622317355,
          2551.786158362753,
          null,
          2603.0938546173084,
          2603.0777370714395,
          null,
          2653.232358247482,
          2653.1934017479834,
          null,
          2665.301227704233,
          2665.2453662287785,
          null,
          2674.4811728109416,
          2674.4066952906273,
          null,
          2715.795489930668,
          2659.8862187070004,
          null,
          1109.3513554075193,
          1109.127072503525,
          null,
          1113.481351852237,
          1073.3677907649032,
          null,
          1200.266320669476,
          1160.0903813660743,
          null,
          267.15031505585387,
          267.1709063507772,
          null,
          2499.040436943866,
          2499.0339029670627,
          null,
          2517.5799934728,
          2517.580550890416,
          null,
          2554.6503147783133,
          2554.6621470929786,
          null,
          2762.5326286120426,
          2762.5506628231115,
          null,
          2990.537219776168,
          2990.5389612186987,
          null,
          1039.544475126008,
          1039.5324449841014,
          null,
          1135.2479752995032,
          1218.8946432649916,
          null,
          1312.7593729922319,
          1396.4720226010522,
          null,
          1572.0839867513414,
          1655.7844204874882,
          null,
          1664.1346747171308,
          1677.1086152397845,
          null,
          2670.5907437744527,
          2670.659858960918,
          null,
          2697.331540143299,
          2801.085822025102,
          null,
          2724.948198659965,
          2900.9951205755933,
          null,
          2841.7857428169564,
          3017.893937980883,
          null,
          3123.710611364756,
          3299.8888546120675,
          null,
          3035.6327864836658,
          3035.6280575444157,
          null,
          2536.2028553340288,
          2536.207822843798,
          null,
          2560.894401415858,
          2560.8868978894516,
          null,
          2668.4900397370147,
          2668.4764632799856,
          null,
          2848.35353690497,
          2848.3408314492253,
          null,
          2940.4083152449734,
          2940.438120303589,
          null,
          2962.068038618962,
          2962.0900655169758,
          null,
          1072.3848866074218,
          1072.7289764792022,
          null,
          1113.6020407617518,
          1113.9896394423583,
          null,
          1135.1140956214538,
          1135.6223759408167,
          null,
          1185.2494872369166,
          1185.8780152802801,
          null,
          1116.7052771271008,
          1116.7307102964714,
          null,
          1164.7758341070803,
          1164.812970963928,
          null,
          1190.588903281234,
          1190.6114303972718,
          null,
          1209.6978253869665,
          1209.7014234736178,
          null,
          2528.8214858352767,
          2528.820272895693,
          null,
          2531.3306841994104,
          2531.3252132102925,
          null,
          2533.629247132556,
          2533.621080348604,
          null,
          2559.6536385101804,
          2559.644471463013,
          null,
          736.8890951962566,
          736.8443060644762,
          null,
          1027.6398695225732,
          1027.555131795488,
          null,
          1271.8312819180114,
          1272.0328499277448,
          null,
          1455.8416639183583,
          1455.9240256142882,
          null,
          437.3807038406401,
          437.3798057058784,
          null,
          604.2807595757254,
          604.2660523386548,
          null,
          673.8399422379206,
          673.8231393530729,
          null,
          755.3701879162879,
          755.3641626485798,
          null,
          1664.5978716844697,
          1664.5973844604298,
          null,
          1668.1409148337398,
          1666.44774698572,
          null,
          1669.4135054245376,
          1667.7189983371234,
          null,
          1672.166096545664,
          1670.7724456358746,
          null,
          1675.3869670558042,
          1675.386262606357,
          null,
          1677.1212969524481,
          1677.121189764821,
          null,
          1679.8541633857653,
          1679.8535356005077,
          null,
          2450.3134117959735,
          2450.365639119334,
          null,
          2673.0409062601593,
          2673.1401767409934,
          null,
          2870.4993458109666,
          2870.5973115884085,
          null,
          2044.1944430429412,
          2044.193022798056,
          null,
          2058.479227726485,
          2058.476304637108,
          null,
          2082.9081955048687,
          2082.905351815429,
          null,
          2115.404675798065,
          2115.401122915748,
          null,
          1576.0031803737484,
          1576.0082666603719,
          null,
          1703.2021189896864,
          1703.2039501458135,
          null,
          1959.2609683926667,
          1959.2622444952767,
          null,
          2157.6680958769402,
          2157.6687083690163,
          null,
          52.48936403194632,
          52.42022880961857,
          null,
          457.4748130761778,
          457.31349755741303,
          null,
          1710.1928650993532,
          1710.26538020871,
          null,
          1863.687392262816,
          1863.8101057477727,
          null,
          2035.3607394198766,
          2035.4052745938918,
          null,
          2182.1252132768127,
          2182.173414997267,
          null,
          2945.741727450741,
          2945.7453659311345,
          null,
          2951.1966440270244,
          2951.223806624138,
          null,
          2962.0924668254574,
          2962.1236753413373,
          null,
          3000.9299858322906,
          3000.954529051018,
          null,
          3082.1531099702725,
          3082.178450864204,
          null,
          3142.9939230329883,
          3143.017068686086,
          null,
          278.93271091100473,
          279.00183756929874,
          null,
          477.4824271601308,
          477.53427215385125,
          null,
          1511.2743970181405,
          1511.2775630933997,
          null,
          1567.1612810696931,
          1567.2125843188169,
          null,
          1620.1052232716913,
          1620.1508845387627,
          null,
          1667.4110527903376,
          1667.4373815906242,
          null,
          1694.3764055286997,
          1694.3965383845984,
          null,
          2654.2080203009045,
          2654.208075613343,
          null,
          2107.45705410962,
          2086.945020244349,
          null,
          2144.9264751837227,
          2117.728302155897,
          null,
          2173.4065138321725,
          2146.196028248288,
          null,
          2244.6944556472954,
          2217.5052743856645,
          null,
          2302.4533958390793,
          2275.284012905931,
          null,
          2311.7058335352963,
          2284.5574330358077,
          null,
          1907.3067580703264,
          1907.3062764728193,
          null,
          2000.9921537361517,
          2000.9917408962401,
          null,
          2050.7922026552824,
          2050.7917823391595,
          null,
          1885.602139283671,
          1885.602655770203,
          null,
          1972.4232395402933,
          1972.4236440291597,
          null,
          2145.18507511735,
          2145.1853785921057,
          null,
          2385.68343664652,
          2385.6836866737412,
          null,
          749.2918741653066,
          749.2831192021612,
          null,
          794.5817967923833,
          794.5691813614195,
          null,
          889.8233037469847,
          889.8019333528755,
          null,
          1029.04269184953,
          1029.0531816154148,
          null,
          1110.8467277452135,
          1110.8893060081969,
          null,
          1243.6678194845404,
          1243.724436532168,
          null,
          1373.1030146043022,
          1373.147669700765,
          null,
          501.66342495547417,
          501.67802375928795,
          null,
          616.9561720926243,
          616.9853697002519,
          null,
          749.2887706088503,
          749.3303515286487,
          null,
          861.5890666071562,
          861.6423978415132,
          null,
          937.2503909062522,
          937.3246907792774,
          null,
          1163.1838745312425,
          1163.2019034609925,
          null,
          1979.913578589647,
          1979.9890308033434,
          null,
          2052.125452369885,
          2052.2827222912674,
          null,
          2357.811802868654,
          2458.8832624450747,
          null,
          2672.93117216503,
          2774.0465316927816,
          null,
          2703.4135639286724,
          2804.524480040367,
          null,
          2790.336982316963,
          2790.3523920597368,
          null,
          2064.5623034364826,
          2064.588573192513,
          null,
          2192.6588697454563,
          2192.736775808908,
          null,
          2272.0161662654023,
          2272.1266837227327,
          null,
          2444.705378015108,
          2444.7638687187437,
          null,
          2680.4882854056705,
          2680.541611852278,
          null,
          2671.966036408463,
          2672.024844603889,
          null,
          2713.199485057304,
          2713.2691668526436,
          null,
          2796.651194176695,
          2796.6359147324456,
          null,
          2419.9358139966234,
          2420.1665294407862,
          null,
          2760.538203323894,
          2760.7322969887996,
          null,
          2941.893069037688,
          2942.045695305672,
          null,
          2961.1957618736496,
          2961.299333443597,
          null,
          2978.0451588207775,
          2978.08577658893,
          null,
          1509.4524012976553,
          1509.455118389993,
          null,
          1519.4630629616609,
          1519.4660945802098,
          null,
          1183.009649808072,
          1183.0515694962537,
          null,
          1288.2010666746783,
          1288.2612637508207,
          null,
          1642.1728738683619,
          1642.2172914352423,
          null,
          2007.2065037491748,
          2007.20591032506,
          null,
          2181.066131708725,
          2181.0654100983857,
          null,
          2401.301868803412,
          2401.3013560585127,
          null,
          2662.05564063389,
          2662.055393542307,
          null,
          2848.688692632045,
          2848.688545975977,
          null,
          1896.6371927366458,
          1896.6543500541875,
          null,
          1929.0676136186978,
          1929.0720568572754,
          null,
          1989.787269775497,
          1989.7867939694702,
          null,
          2194.3284438823835,
          2194.3280991744027,
          null,
          2373.6693365933224,
          2373.6728706598365,
          null,
          2379.0575198707384,
          2379.0580713957365,
          null,
          2393.261014344695,
          2393.258545172024,
          null,
          2669.042823099029,
          2669.004577695731,
          null,
          2680.5631965963153,
          2680.5440807491036,
          null,
          2691.6648503260117,
          2691.6474927464023,
          null,
          2741.913088051314,
          2741.8913910768024,
          null,
          2801.7450294340942,
          2801.7238486850424,
          null,
          912.8435074390316,
          971.5287636685881,
          null,
          1026.413203930544,
          1085.1223261660123,
          null,
          1136.046128709891,
          1194.7654592039446,
          null,
          1169.7346678640529,
          1228.4158948569536,
          null,
          1242.0980068052854,
          1300.7341830537875,
          null,
          1088.7183394479277,
          1088.67895988287,
          null,
          1126.356473341944,
          1126.3034613474472,
          null,
          1131.1759321313734,
          1119.2043798060815,
          null,
          1152.0753669206842,
          1140.1012962118289,
          null,
          1183.3459896394563,
          1183.3312235528208,
          null,
          151.70906905447563,
          247.75447548493833,
          null,
          209.0852018925815,
          305.15105551452075,
          null,
          287.7883801040687,
          383.8739070986155,
          null,
          385.592125480757,
          481.61436824228673,
          null,
          415.83723094782954,
          415.8593927178777,
          null,
          429.88746875396566,
          429.9482034503598,
          null,
          1673.7424533324513,
          1673.7668230948902,
          null,
          1700.056477765794,
          1700.0737533032818,
          null,
          1741.3281947763207,
          1741.3324931270386,
          null,
          1775.2923666327767,
          1775.2963200564254,
          null,
          1811.5582251501787,
          1811.5708252020029,
          null,
          67.92729068540889,
          68.06757376269978,
          null,
          268.5579934810519,
          268.6521451306758,
          null,
          1152.1002511483414,
          1251.623859369337,
          null,
          1281.0829650609055,
          1380.6826894312392,
          null,
          1371.009218007654,
          1470.6513399206767,
          null,
          1538.8249297777647,
          1638.524961883928,
          null,
          1391.8660047811281,
          1391.8775316187402,
          null,
          1470.2229897637308,
          1470.2891718913697,
          null,
          1497.0489308871195,
          1497.0906628956457,
          null,
          1543.1503218326686,
          1543.1897556132699,
          null,
          1663.5055813420445,
          1663.5327900630894,
          null,
          1774.957862616045,
          1775.0026267724281,
          null,
          1879.9592912842995,
          1879.9310752608346,
          null,
          568.0508645187107,
          811.1642710805689,
          null,
          813.7214218662727,
          1056.8207850945362,
          null,
          925.0173721106579,
          1067.6283528129775,
          null,
          1058.6883499810929,
          1141.6773682009036,
          null,
          1198.5284840471172,
          1198.5090024157266,
          null,
          1425.8112953917184,
          1426.012356203064,
          null,
          1530.9006404108654,
          1531.0489634298244,
          null,
          1643.3145269443062,
          1643.4021371193967,
          null,
          45.83805676937743,
          45.817598894654715,
          null,
          88.94522826600937,
          88.89786048921674,
          null,
          136.02983096343823,
          101.79418925868549,
          null,
          33.705581312232354,
          33.73294263893857,
          null,
          128.67468349508044,
          128.68380393731584,
          null,
          2263.412457611411,
          2263.4608642029616,
          null,
          2307.5638274431117,
          2307.6468611716687,
          null,
          2355.8124675684226,
          2355.55670706058,
          null,
          2416.1173981924894,
          2415.8881201200766,
          null,
          2592.551795504312,
          2592.3803793763036,
          null,
          2741.37208317642,
          2741.255415596817,
          null,
          2781.748264768382,
          2781.702409153899,
          null,
          764.4597733783771,
          764.4980851016679,
          null,
          850.5017068647599,
          850.5803801367548,
          null,
          933.0261869909525,
          933.0705094495335,
          null,
          1065.9312636228706,
          1116.0916203814754,
          null,
          1240.3506818027543,
          1290.5775301402796,
          null,
          1352.2068845663493,
          1352.3842799610923,
          null,
          381.5686090257399,
          381.57142545084,
          null,
          395.92288517619596,
          395.9257016012961,
          null,
          412.97883590252036,
          412.9760194774202,
          null,
          1372.4948667157191,
          1372.493077618519,
          null,
          1407.1142745117738,
          1407.095426777216,
          null,
          1504.744825829061,
          1504.7508901656215,
          null,
          1574.6831675553642,
          1574.686934778843,
          null,
          2224.7431714428426,
          2224.7433330894537,
          null,
          2248.5155602478935,
          2248.51570742235,
          null,
          2280.543491150053,
          2280.5436217183246,
          null,
          2309.706562661434,
          2309.7067083886745,
          null,
          2338.5873069919844,
          2338.5873969646354,
          null,
          316.901370060928,
          316.94940013331075,
          null,
          469.0564889756621,
          469.1525491204276,
          null,
          783.4067817515395,
          783.5748870048791,
          null,
          1044.17749710138,
          1043.9090258007516,
          null,
          1514.0794870714722,
          1514.1618183663102,
          null,
          1586.8369595959853,
          1586.9673874131306,
          null,
          1661.0614889619928,
          1661.269813054815,
          null,
          1698.5012172266229,
          1698.7319403209742,
          null,
          1926.7974662548218,
          1927.0775991592743,
          null,
          2195.123139540186,
          2195.367244781663,
          null,
          119.56708053695972,
          119.51605403434822,
          null,
          584.4670379412261,
          584.5715571580254,
          null,
          253.96529927660657,
          253.9658566472451,
          null,
          305.9739377682955,
          305.97505250957255,
          null,
          1582.4444059440748,
          1582.445364796236,
          null,
          1589.9933542889776,
          1589.9946873208332,
          null,
          1608.3879304820712,
          1608.3894740066985,
          null,
          1632.1888231130188,
          1632.1976662320974,
          null,
          1504.3226026148996,
          1504.3213974368066,
          null,
          1629.7066583610308,
          1629.717727651316,
          null,
          1699.870210139751,
          1699.8931264577802,
          null,
          1769.5112175582103,
          1769.5048227659086,
          null,
          1819.002782165113,
          1818.9756703130743,
          null,
          1707.2768931129956,
          1707.2753422378776,
          null,
          1880.549383681182,
          1880.5484767868447,
          null,
          1960.186504925547,
          1960.1859965735264,
          null,
          2079.432396179296,
          2079.4783602055654,
          null,
          2164.503916204191,
          2164.5675046172755,
          null,
          2204.241827718901,
          2204.313469873816,
          null,
          2241.015297682274,
          2241.0752029754162,
          null,
          2325.864592210679,
          2325.8832664469523,
          null,
          2847.85178894989,
          2847.851698929904,
          null,
          2963.627405661041,
          2963.627357068368,
          null,
          1109.2637464799905,
          1109.8090568413015,
          null,
          1132.820046967695,
          1133.2689178210367,
          null,
          1178.1449017251684,
          1178.4426545791127,
          null,
          1283.911219660267,
          1284.0570646295896,
          null,
          1388.7719492774445,
          1388.7986265194866,
          null,
          1551.628432133546,
          1551.6571656128865,
          null,
          1707.6024608174953,
          1707.6541928495024,
          null,
          581.177134942307,
          581.1790275654441,
          null,
          630.3468030185006,
          630.3505882647748,
          null,
          688.9748481153208,
          688.9680546969435,
          null,
          906.4121834301302,
          906.4048492622851,
          null,
          1977.133373546287,
          1977.1334942973854,
          null,
          2136.3505697688543,
          2136.3507023619522,
          null,
          2557.934945608031,
          2557.935141327379,
          null,
          2849.707943102653,
          2849.708091920223,
          null,
          630.9808715315461,
          631.0113459759034,
          null,
          757.9085376462644,
          757.9348364354155,
          null,
          774.6535681073549,
          774.68316038878,
          null,
          822.5529579588895,
          822.5783745851083,
          null,
          865.998420795727,
          866.0177944798696,
          null,
          972.7598468485149,
          972.7654748379535,
          null,
          1208.8539892976441,
          1208.9091212640783,
          null,
          1252.6072915461555,
          1252.9490967540555,
          null,
          1302.49713131867,
          1302.8508189200356,
          null,
          1338.1099800366314,
          1338.469173081917,
          null,
          1362.5755023154893,
          1362.91975452145,
          null,
          1411.8957268161594,
          1412.2454456601183,
          null,
          168.41059502014667,
          168.4229025066375,
          null,
          222.58167654282727,
          222.58117262800425,
          null,
          137.52047588646064,
          137.7099581388558,
          null,
          213.7807913251727,
          213.91902395615145,
          null,
          301.11983192955256,
          301.2561250313725,
          null,
          2497.3075158090146,
          2497.3135626973067,
          null,
          2514.709789476741,
          2514.7284460054098,
          null,
          2537.574770836955,
          2537.609908640969,
          null,
          2735.7108074470425,
          2735.7577317028463,
          null,
          3028.9649248373316,
          3029.0028177902605,
          null,
          3167.431806624012,
          3167.4741348420566,
          null,
          2297.5720641542084,
          2297.579206309162,
          null,
          2500.9590987501306,
          2500.95256542311,
          null,
          2518.741273544738,
          2518.7276227429006,
          null,
          2647.4689720912565,
          2647.4595201779402,
          null,
          2857.6571118943066,
          2857.6467672116214,
          null,
          2964.8916393877466,
          2964.872429383118,
          null,
          2977.770873551306,
          2977.7281933825416,
          null,
          1821.6906249365456,
          1821.7650328282546,
          null,
          2023.7025803378142,
          2023.7778256589313,
          null,
          2177.2409974815873,
          2177.331479269623,
          null,
          2323.429769235069,
          2323.46566286028,
          null,
          2399.8335428664395,
          2399.8854779483886,
          null,
          1110.5004536480353,
          1110.5094028378553,
          null,
          1162.1752822299563,
          1162.1772708796047,
          null,
          1231.1740516989526,
          1231.1469394593412,
          null,
          1274.9599436389267,
          1274.9259129602149,
          null,
          1327.6645219087784,
          1327.6175998601454,
          null,
          164.07146234969846,
          164.1124501279485,
          null,
          308.27135751907235,
          308.2713575190724,
          null,
          1772.1685229611517,
          1795.6695948583174,
          1789.876227247644,
          null,
          1826.441368516843,
          1849.969251894802,
          1844.169274850946,
          null,
          1896.7570706329868,
          1920.3182150129428,
          1914.5100386319457,
          null,
          2023.4589148597663,
          2047.0378882282778,
          2041.2253167335052,
          null,
          2085.9254182491627,
          2085.941978973684,
          2085.937896506064,
          null,
          2149.2028352860207,
          2149.21493718082,
          2149.2119538817747,
          null,
          2346.6437153079464,
          2371.310353352557,
          2359.66461063808,
          null,
          2392.55813099131,
          2417.368356814976,
          2405.65482268406,
          null,
          2439.677087097402,
          2479.3065744973974,
          2460.5964927532905,
          null,
          2632.861900772652,
          2672.5027555466627,
          2653.787306978229,
          null,
          1699.9460281362346,
          1720.1997713622343,
          1708.7932735772188,
          null,
          1771.3521375165749,
          1791.6224191756241,
          1780.2066072802318,
          null,
          1971.6574769015194,
          1991.938280203641,
          1980.5165427320696,
          null,
          2228.8914162375154,
          2249.171988447537,
          2237.7503811223537,
          null,
          2327.7217854816568,
          2327.7263905758273,
          2327.723797080103,
          null,
          1363.6176441344478,
          1363.627450852343,
          1363.6219706917764,
          null,
          1451.4519825857549,
          1451.472745052318,
          1451.461142633268,
          null,
          1602.9090944323518,
          1602.9160794150546,
          1602.912176088052,
          null,
          1719.9476106019824,
          1719.9472344042758,
          1719.9474446299455,
          null,
          514.0646411523131,
          514.0769712833011,
          514.0616789061836,
          null,
          763.6091834199823,
          763.620917611405,
          763.6063643450544,
          null,
          1097.2435627282196,
          1097.2727752817032,
          1097.3049443304913,
          null,
          1098.6436613368044,
          1098.675183099698,
          1098.7098950645036,
          null,
          1100.729674480085,
          1100.7653015194276,
          1100.804534240642,
          null,
          1092.3131475344853,
          1102.1670489010664,
          1113.018227453176,
          null,
          1096.6000263527046,
          1106.4580221321603,
          1117.3137094776416,
          null,
          1099.5713292823752,
          1109.4195267130804,
          1120.2644240549018,
          null,
          1111.4021536303214,
          1111.396598241877,
          1111.3904806129606,
          null,
          732.8429180550968,
          732.8790015116499,
          732.8377735856023,
          null,
          702.5434279575281,
          702.5576551372112,
          702.5633123419359,
          null,
          724.975200562224,
          724.9914897605364,
          724.9979668931592,
          null,
          737.1709102708883,
          737.2023746763857,
          737.214885981325,
          null,
          747.8851512239289,
          747.9169737001504,
          747.9296273860418,
          null,
          763.6304351461491,
          763.6555651955881,
          763.6655577477021,
          null,
          2862.005482950628,
          2862.0082780790585,
          2862.0169016729274,
          null,
          2880.6089509477492,
          2880.6147800636377,
          2880.632764184683,
          null,
          2906.9041418679435,
          2906.9117725896435,
          2906.935315065955,
          null,
          2937.3154782854403,
          2937.3226203478257,
          2937.3446552012947,
          null,
          2958.5956375797837,
          2958.601963802122,
          2958.6214816073043,
          null,
          2971.79099964733,
          2971.796597230182,
          2971.813867020234,
          null,
          2974.869959004684,
          2974.874385654766,
          2974.8880428563757,
          null,
          2977.5167807859493,
          2977.5179071782172,
          2977.5213823492854,
          null,
          1035.5308574062456,
          1035.5344699168236,
          1035.5317112156645,
          null,
          1160.9120019050508,
          1160.944348652469,
          1160.9196469920407,
          null,
          1368.368380004092,
          1368.4241527760396,
          1368.3815617836292,
          null,
          2701.2975119784196,
          2701.298177901616,
          2701.294096776454,
          null,
          2769.885899922849,
          2769.887059086779,
          2769.8799551247776,
          null,
          2794.5189504285518,
          2794.5214937800633,
          2794.505906793591,
          null,
          1480.775219714713,
          1481.0019721455449,
          1480.7012457891758,
          null,
          1630.4943598382572,
          1630.7140420743417,
          1630.42269243732,
          null,
          1782.26642018055,
          1782.4798506561874,
          1782.196792304658,
          null,
          1942.8483634949564,
          1943.0295528459983,
          1942.7892537093946,
          null,
          2195.600270453661,
          2207.89214449828,
          2191.59026636262,
          null,
          2295.219895714778,
          2307.516610882955,
          2291.20831229375,
          null,
          2362.6039346083717,
          2374.8884842551806,
          2358.5963199711337,
          null,
          2166.58965777578,
          2170.2443046660087,
          2165.034168675484,
          null,
          2225.5319105256553,
          2229.1834820136955,
          2223.977730376601,
          null,
          2327.935388917956,
          2346.8865601130756,
          2319.8694002965485,
          null,
          2324.8321220701637,
          2324.853203424679,
          2324.8231494339134,
          null,
          2414.1462943401143,
          2414.157169347805,
          2414.141665724427,
          null,
          2549.510925023328,
          2549.5029801357473,
          2549.514306522665,
          null,
          2746.3083411609095,
          2746.296491152717,
          2746.3133847558547,
          null,
          1351.6083205117814,
          1368.261560564635,
          1360.0323797786534,
          null,
          1390.5776649055979,
          1407.221415260541,
          1398.9969237986465,
          null,
          1462.624146689732,
          1479.2690089309394,
          1471.0439680316351,
          null,
          1613.9971636820496,
          1630.6192041237,
          1622.4054405922725,
          null,
          1730.7461171375016,
          1730.7552427989801,
          1730.750733363107,
          null,
          1582.5347712498112,
          1582.5385810590158,
          1582.5384521348108,
          null,
          1227.1999927126212,
          1227.21334764728,
          1227.1963614226706,
          null,
          1461.951838478829,
          1461.9945579753178,
          1461.9402227815408,
          null,
          1498.7747925668084,
          1498.8265881434575,
          1498.7607090267702,
          null,
          1559.0261637007482,
          1559.0861822369332,
          1559.0098442867732,
          null,
          1738.395772621345,
          1738.46032919761,
          1738.378219285995,
          null,
          1890.199863855947,
          1890.240398636824,
          1890.188842196447,
          null,
          1916.19074610112,
          1916.2087608485892,
          1916.1858477790302,
          null,
          531.5034149897482,
          531.5038839904806,
          531.503312531436,
          null,
          795.2432383748347,
          795.2438637091446,
          795.2431017637518,
          null,
          859.9579984317937,
          859.9557217508735,
          859.9584957975085,
          null,
          1973.3860251414105,
          1973.4098319480913,
          1973.4018490420626,
          null,
          2080.081069651164,
          2080.0844709026724,
          2080.083330393929,
          null,
          2157.338188113583,
          2157.3463520787805,
          2157.34361453536,
          null,
          520.2009519604247,
          520.2417234863709,
          520.1934080086402,
          null,
          912.7293316877636,
          912.7454530061749,
          912.7263487616658,
          null,
          39.32758417122847,
          39.342568033163005,
          39.33314841115724,
          null,
          1727.9174743963406,
          1746.326371071252,
          1739.872543735147,
          null,
          1894.6299569220187,
          1913.0519636457987,
          1906.5935401628815,
          null,
          2046.5433740739893,
          2064.965169078926,
          2058.506819820819,
          null,
          2079.7586885361184,
          2098.1841239046944,
          2091.7244984007166,
          null,
          2155.0449205353984,
          2173.4693653523827,
          2167.0100871179375,
          null,
          2248.0669786839085,
          2266.477410806606,
          2260.023045170185,
          null,
          318.2473314895671,
          318.247095567934,
          318.2473810761958,
          null,
          478.5485193388386,
          478.5446560484549,
          478.5493313353612,
          null,
          645.9494617386616,
          645.9450479644673,
          645.9503894373178,
          null,
          783.9068132597914,
          783.9039822001944,
          783.9074082993354,
          null,
          2557.1384958601584,
          2557.151260066409,
          2557.1356791622134,
          null,
          2704.1052821247204,
          2704.1119345510747,
          2704.103814123086,
          null,
          2766.880467740528,
          2766.8601777577705,
          2766.8849451636916,
          null,
          2833.460310932772,
          2833.4305256026155,
          2833.4668837095346,
          null,
          2974.3848881486574,
          2974.364037565476,
          2974.389489280419,
          null,
          3107.9303865659763,
          3107.9064800928463,
          3107.9356620458934,
          null,
          3178.9279768756733,
          3178.916618708822,
          3178.93048330064,
          null,
          2691.276591274125,
          2691.2837270161294,
          2691.2768061421652,
          null,
          2744.2615372238515,
          2744.244352391756,
          2744.2610197624317,
          null,
          2816.908194070142,
          2816.8870587906877,
          2816.907557654746,
          null,
          2941.814066587327,
          2941.8104987163247,
          2941.8139591533068,
          null,
          2551.7860869189776,
          2551.786158362753,
          2551.785104356776,
          null,
          2603.0783139365453,
          2603.0777370714395,
          2603.0862475296844,
          null,
          2653.1947960449434,
          2653.1934017479834,
          2653.21397173209,
          null,
          2665.247365573853,
          2665.2453662287785,
          2665.2748624534665,
          null,
          2674.4093609248985,
          2674.4066952906273,
          2674.4460212421086,
          null,
          2661.8872744458436,
          2659.8862187070004,
          2689.407680729596,
          null,
          1109.1368244818386,
          1109.127072503525,
          1109.2437747191225,
          null,
          1075.1119565967074,
          1073.3677907649032,
          1094.2402753414265,
          null,
          1161.8372594465586,
          1160.0903813660743,
          1180.9953235035196,
          null,
          267.16369265672205,
          267.1709063507772,
          267.16651035209725,
          null,
          2499.035857079689,
          2499.0339029670627,
          2499.0356328123084,
          null,
          2517.580384183855,
          2517.580550890416,
          2517.5804033162444,
          null,
          2554.658608409543,
          2554.6621470929786,
          2554.6590145331475,
          null,
          2762.5452693421407,
          2762.5506628231115,
          2762.5458883350443,
          null,
          2990.538440406498,
          2990.5389612186987,
          2990.5385001784816,
          null,
          1039.5358906958948,
          1039.5324449841014,
          1039.535782053654,
          null,
          1194.9362965950136,
          1218.8946432649916,
          1195.6916959506707,
          null,
          1372.4947772573641,
          1396.4720226010522,
          1373.2507724824334,
          null,
          1631.810674053195,
          1655.7844204874882,
          1632.5665589587193,
          null,
          1673.392577622534,
          1677.1086152397845,
          1673.5097431540432,
          null,
          2670.633432166101,
          2670.659858960918,
          2670.647317537311,
          null,
          2761.4144667284863,
          2801.085822025102,
          2782.258897486155,
          null,
          2833.6820433558337,
          2900.9951205755933,
          2869.0502017336394,
          null,
          2950.5574323998135,
          3017.893937980883,
          2985.937900688673,
          null,
          3232.525565534901,
          3299.8888546120675,
          3267.92010661572,
          null,
          3035.62820601245,
          3035.6280575444157,
          3035.630575325972,
          null,
          2536.206559324195,
          2536.207822843798,
          2536.206285604037,
          null,
          2560.8888064619855,
          2560.8868978894516,
          2560.889219921954,
          null,
          2668.4799165433697,
          2668.4764632799856,
          2668.480664634493,
          null,
          2848.3440631675603,
          2848.3408314492253,
          2848.344763264695,
          null,
          2940.4305391859702,
          2940.438120303589,
          2940.4288968650217,
          null,
          2962.08446282695,
          2962.0900655169758,
          2962.083249098888,
          null,
          1072.6022304266548,
          1072.7289764792022,
          1072.6617193037098,
          null,
          1113.8468668507526,
          1113.9896394423583,
          1113.9138778619688,
          null,
          1135.4351500752794,
          1135.6223759408167,
          1135.5230254471164,
          null,
          1185.646495974003,
          1185.8780152802801,
          1185.7551606879738,
          null,
          1116.709477848933,
          1116.7307102964714,
          1116.7376031270617,
          null,
          1164.7819678925734,
          1164.812970963928,
          1164.823035697079,
          null,
          1190.5926240187785,
          1190.6114303972718,
          1190.6175356369401,
          null,
          1209.6984196723633,
          1209.7014234736178,
          1209.702398617587,
          null,
          2528.8201019661615,
          2528.820272895693,
          2528.8211276994502,
          null,
          2531.3244422291,
          2531.3252132102925,
          2531.3290688203465,
          null,
          2533.6199294713692,
          2533.621080348604,
          2533.626835785808,
          null,
          2559.643179626966,
          2559.644471463013,
          2559.6509318230064,
          null,
          736.8583248946887,
          736.8443060644762,
          736.8555400442389,
          null,
          1027.5816543861565,
          1027.555131795488,
          1027.576385654926,
          null,
          1271.9697598969178,
          1272.0328499277448,
          1271.9822927757718,
          null,
          1455.8982467124572,
          1455.9240256142882,
          1455.9033677093787,
          null,
          437.38002532740745,
          437.3798057058784,
          437.3800924667142,
          null,
          604.2696487097469,
          604.2660523386548,
          604.2707481368512,
          null,
          673.8272481743993,
          673.8231393530729,
          673.828504259886,
          null,
          755.3656360115577,
          755.3641626485798,
          755.3660864253641,
          null,
          1664.5953644747824,
          1664.5973844604298,
          1664.5996791505781,
          null,
          1659.4280302426375,
          1666.44774698572,
          1674.4220981283243,
          null,
          1660.6937292318153,
          1667.7189983371234,
          1675.699656925979,
          null,
          1664.9944983184234,
          1670.7724456358746,
          1677.3361550388543,
          null,
          1675.383342024333,
          1675.386262606357,
          1675.3895803679495,
          null,
          1677.1207453748686,
          1677.121189764821,
          1677.1216945888268,
          null,
          1679.850932861099,
          1679.8535356005077,
          1679.8564922950209,
          null,
          2450.3511070532186,
          2450.365639119334,
          2450.3507246072304,
          null,
          2673.112555084397,
          2673.1401767409934,
          2673.1118281546087,
          null,
          2870.5700529608694,
          2870.5973115884085,
          2870.5693355850567,
          null,
          2044.191947844201,
          2044.193022798056,
          2044.1948985080942,
          null,
          2058.474092211471,
          2058.476304637108,
          2058.4801651460557,
          null,
          2082.9031994859556,
          2082.905351815429,
          2082.909107461292,
          null,
          2115.3984338129158,
          2115.401122915748,
          2115.405815188958,
          null,
          1576.0069260833177,
          1576.0082666603719,
          1576.0067395098217,
          null,
          1703.2034675135774,
          1703.2039501458135,
          1703.2034003437095,
          null,
          1959.2619081568034,
          1959.2622444952767,
          1959.2618613472264,
          null,
          2157.6685469363474,
          2157.6687083690163,
          2157.6685244691143,
          null,
          52.43694040417389,
          52.42022880961857,
          52.44249673001792,
          null,
          457.35249127804207,
          457.31349755741303,
          457.36545603834486,
          null,
          1710.24781684801,
          1710.26538020871,
          1710.2420584215151,
          null,
          1863.7803842012127,
          1863.8101057477727,
          1863.7706395205619,
          null,
          2035.39448805117,
          2035.4052745938918,
          2035.3909515119813,
          null,
          2182.161740406824,
          2182.173414997267,
          2182.1579127070986,
          null,
          2945.7436029978917,
          2945.7453659311345,
          2945.745077432471,
          null,
          2951.210645677745,
          2951.223806624138,
          2951.2216528752892,
          null,
          2962.108554047789,
          2962.1236753413373,
          2962.121200787639,
          null,
          3000.9426372578796,
          3000.954529051018,
          3000.9525829952395,
          null,
          3082.1661725778094,
          3082.178450864204,
          3082.1764415599796,
          null,
          3143.00585404787,
          3143.017068686086,
          3143.015233444651,
          null,
          278.97507892447464,
          279.00183756929874,
          278.9896215277038,
          null,
          477.51420317023315,
          477.53427215385125,
          477.52511012265506,
          null,
          1511.275458703466,
          1511.2775630933997,
          1511.2778824007985,
          null,
          1567.1784846742491,
          1567.2125843188169,
          1567.2177583926102,
          null,
          1620.120534940945,
          1620.1508845387627,
          1620.1554896031469,
          null,
          1667.4198816710868,
          1667.4373815906242,
          1667.4400369225555,
          null,
          1694.3831567130278,
          1694.3965383845984,
          1694.398568838495,
          null,
          2654.2080593426886,
          2654.208075613343,
          2654.208060697984,
          null,
          2087.652264427068,
          2086.945020244349,
          2097.8027801779335,
          null,
          2118.666080914496,
          2117.728302155897,
          2132.1252768931618,
          null,
          2147.13423153737,
          2146.196028248288,
          2160.5995204659125,
          null,
          2218.442743112875,
          2217.5052743856645,
          2231.8974894565126,
          null,
          2276.2207989971466,
          2275.284012905931,
          2289.665748006867,
          null,
          2285.493495663702,
          2284.5574330358077,
          2298.928061377219,
          null,
          1907.3063502755672,
          1907.3062764728193,
          1907.3064742022455,
          null,
          2000.991804162182,
          2000.9917408962401,
          2000.9919103958694,
          null,
          2050.7918467507984,
          2050.7917823391595,
          2050.791954908296,
          null,
          1885.602486958367,
          1885.602655770203,
          1885.6025333788891,
          null,
          1972.4235118233732,
          1972.4236440291597,
          1972.4235481778244,
          null,
          2145.185279402432,
          2145.1853785921057,
          2145.1853066779863,
          null,
          2385.683604953209,
          2385.6836866737412,
          2385.6836274250327,
          null,
          749.2848268910789,
          749.2831192021612,
          749.2863476978014,
          null,
          794.5716420492934,
          794.5691813614195,
          794.5738334499765,
          null,
          889.806101729667,
          889.8019333528755,
          889.8098139370726,
          null,
          1029.0511355466133,
          1029.0531816154148,
          1029.049313390859,
          null,
          1110.88100095578,
          1110.8893060081969,
          1110.8736047728949,
          null,
          1243.7133931613191,
          1243.724436532168,
          1243.703558329897,
          null,
          1373.1389595540654,
          1373.147669700765,
          1373.1312026086887,
          null,
          501.6737343985473,
          501.67802375928795,
          501.67408208709895,
          null,
          616.9767909787706,
          616.9853697002519,
          616.9774863558739,
          null,
          749.3181343931068,
          749.3303515286487,
          749.3191246940906,
          null,
          861.6267282766763,
          861.6423978415132,
          861.6279984259205,
          null,
          937.3028602949133,
          937.3246907792774,
          937.3046298381971,
          null,
          1163.196606274699,
          1163.2019034609925,
          1163.1970356559382,
          null,
          1979.9680559986525,
          1979.9890308033434,
          1979.9674644749748,
          null,
          2052.2390031513887,
          2052.2827222912674,
          2052.237770200389,
          null,
          2430.7866166267877,
          2458.8832624450747,
          2429.994245421747,
          null,
          2745.9376822179024,
          2774.0465316927816,
          2745.144966849856,
          null,
          2776.416865781519,
          2804.524480040367,
          2775.6241852485778,
          null,
          2790.348108337243,
          2790.3523920597368,
          2790.347987529287,
          null,
          2064.5809117147564,
          2064.588573192513,
          2064.5814233727347,
          null,
          2192.7140547919507,
          2192.736775808908,
          2192.7155721741015,
          null,
          2272.0944517126572,
          2272.1266837227327,
          2272.096604269335,
          null,
          2444.7468101200893,
          2444.7638687187437,
          2444.7479493478436,
          null,
          2680.526059390198,
          2680.541611852278,
          2680.527098033336,
          null,
          2672.0090893324113,
          2672.024844603889,
          2672.0074428989965,
          null,
          2713.2504984409593,
          2713.2691668526436,
          2713.248547582998,
          null,
          2796.640008239999,
          2796.6359147324456,
          2796.640436013499,
          null,
          2420.0930621379234,
          2420.1665294407862,
          2420.10991578342,
          null,
          2760.670491251801,
          2760.7322969887996,
          2760.684669695006,
          null,
          2941.997094136836,
          2942.045695305672,
          2942.00824340785,
          null,
          2961.2663528864223,
          2961.299333443597,
          2961.27391873677,
          null,
          2978.0728425702073,
          2978.08577658893,
          2978.0758096774493,
          null,
          1509.4511569707356,
          1509.455118389993,
          1509.4575478702786,
          null,
          1519.461674593471,
          1519.4660945802098,
          1519.468805293201,
          null,
          1183.0396569299571,
          1183.0515694962537,
          1183.0398470895605,
          null,
          1288.2441571908362,
          1288.2612637508207,
          1288.244430261859,
          null,
          1642.204669031948,
          1642.2172914352423,
          1642.204870522638,
          null,
          2007.2060632410585,
          2007.20591032506,
          2007.2060919908183,
          null,
          2181.065596045945,
          2181.0654100983857,
          2181.0656310059735,
          null,
          2401.301488184755,
          2401.3013560585127,
          2401.3015130258295,
          null,
          2662.0554572138954,
          2662.055393542307,
          2662.0554691848006,
          null,
          2848.688583766924,
          2848.688545975977,
          2848.688590872005,
          null,
          1896.6392075026542,
          1896.6543500541875,
          1896.659819042909,
          null,
          1929.0681353835967,
          1929.0720568572754,
          1929.0734731638518,
          null,
          1989.7869328257484,
          1989.7867939694702,
          1989.7869233800393,
          null,
          2194.3281997718404,
          2194.3280991744027,
          2194.3281929286923,
          null,
          2373.6668859575393,
          2373.6728706598365,
          2373.676862800399,
          null,
          2379.057137425504,
          2379.0580713957365,
          2379.0586944075867,
          null,
          2393.262726548718,
          2393.258545172024,
          2393.255755953333,
          null,
          2669.024474895814,
          2669.004577695731,
          2669.006243849603,
          null,
          2680.554025783119,
          2680.5440807491036,
          2680.5449135274275,
          null,
          2691.6565230403635,
          2691.6474927464023,
          2691.6482489261252,
          null,
          2741.9026789442537,
          2741.8913910768024,
          2741.892336301456,
          null,
          2801.7348679858064,
          2801.7238486850424,
          2801.7247714204304,
          null,
          946.4599525770342,
          971.5287636685881,
          963.5099134234353,
          null,
          1060.0433201391006,
          1085.1223261660123,
          1077.1002148304315,
          null,
          1169.682092475172,
          1194.7654592039446,
          1186.7419529950664,
          null,
          1203.3488049502264,
          1228.4158948569536,
          1220.397595173346,
          null,
          1275.6863376502529,
          1300.7341830537875,
          1292.7220391782307,
          null,
          1088.6619611793565,
          1088.67895988287,
          1088.7181613984003,
          null,
          1126.2805780277408,
          1126.3034613474472,
          1126.3562336551786,
          null,
          1114.0367029087593,
          1119.2043798060815,
          1131.1218043310614,
          null,
          1134.9325322213538,
          1140.1012962118289,
          1152.0212277338321,
          null,
          1183.3248495786947,
          1183.3312235528208,
          1183.3459228765364,
          null,
          197.4173568271195,
          247.75447548493833,
          243.93969833290362,
          null,
          254.8032205430142,
          305.15105551452075,
          301.335466231206,
          null,
          333.5157613696439,
          383.8739070986155,
          380.0575364189267,
          null,
          431.28938959610366,
          481.61436824228673,
          477.80051111587625,
          null,
          415.84777779853863,
          415.8593927178777,
          415.8585124861501,
          null,
          429.9163725723131,
          429.9482034503598,
          429.9457911607902,
          null,
          1673.7507348626923,
          1673.7668230948902,
          1673.7691712755277,
          null,
          1700.0623484789983,
          1700.0737533032818,
          1700.075417910507,
          null,
          1741.329655476709,
          1741.3324931270386,
          1741.3329073002974,
          null,
          1775.293710117252,
          1775.2963200564254,
          1775.296700993781,
          null,
          1811.5625070019398,
          1811.5708252020029,
          1811.5720392966334,
          null,
          68.02340783724705,
          68.06757376269978,
          68.03264590462169,
          null,
          268.62250296129343,
          268.6521451306758,
          268.6287031338264,
          null,
          1225.0353361394073,
          1251.623859369337,
          1222.0994224557123,
          null,
          1354.0738311668283,
          1380.6826894312392,
          1351.135672081782,
          null,
          1444.0311548156417,
          1470.6513399206767,
          1441.0917450170414,
          null,
          1611.8893056103623,
          1638.524961883928,
          1608.9481874801259,
          null,
          1391.875720620798,
          1391.8775316187402,
          1391.8728436061356,
          null,
          1470.278773922646,
          1470.2891718913697,
          1470.2622553459112,
          null,
          1497.084106320103,
          1497.0906628956457,
          1497.0736903149107,
          null,
          1543.1835601156035,
          1543.1897556132699,
          1543.1737177313519,
          null,
          1663.5285152620136,
          1663.5327900630894,
          1663.521724163533,
          null,
          1774.9955938117994,
          1775.0026267724281,
          1774.9844210045997,
          null,
          1879.9355083206344,
          1879.9310752608346,
          1879.9425508344577,
          null,
          738.7108729118378,
          811.1642710805689,
          746.5465447531185,
          null,
          984.3715721628718,
          1056.8207850945362,
          992.2067913801892,
          null,
          1025.1269938209578,
          1067.6283528129775,
          1029.7234200795906,
          null,
          1116.9447281307966,
          1141.6773682009036,
          1119.6195074545565,
          null,
          1198.5148083908725,
          1198.5090024157266,
          1198.514180487736,
          null,
          1425.9482676246243,
          1426.012356203064,
          1425.9630835650532,
          null,
          1531.001685139384,
          1531.0489634298244,
          1531.0126148924196,
          null,
          1643.3742111822594,
          1643.4021371193967,
          1643.380667075511,
          null,
          45.808395712797186,
          45.817598894654715,
          45.83833654486058,
          null,
          88.87655161574297,
          88.89786048921674,
          88.94587605287954,
          null,
          86.39293957426281,
          101.79418925868549,
          136.49802686980405,
          null,
          33.718147111126115,
          33.73294263893857,
          33.73231142467058,
          null,
          128.6788720947117,
          128.68380393731584,
          128.68359353255985,
          null,
          2263.4531222648448,
          2263.4608642029616,
          2263.441313750952,
          null,
          2307.633581121008,
          2307.6468611716687,
          2307.6133255131285,
          null,
          2355.597612275367,
          2355.55670706058,
          2355.660003602938,
          null,
          2415.9247898501967,
          2415.8881201200766,
          2415.980720937609,
          null,
          2592.407794920608,
          2592.3803793763036,
          2592.449610914343,
          null,
          2741.274074898218,
          2741.255415596817,
          2741.302535293599,
          null,
          2781.7097430999233,
          2781.702409153899,
          2781.720929317406,
          null,
          764.4899224588318,
          764.4980851016679,
          764.4846469983046,
          null,
          850.5636181181117,
          850.5803801367548,
          850.5527849395099,
          null,
          933.0610661677403,
          933.0705094495335,
          933.0549630389685,
          null,
          1105.4045240676255,
          1116.0916203814754,
          1098.4975264340956,
          null,
          1279.8762672224839,
          1290.5775301402796,
          1272.960113809212,
          null,
          1352.3464843433621,
          1352.3842799610923,
          1352.3220572927814,
          null,
          381.5731544190467,
          381.57142545084,
          381.5681085383032,
          null,
          395.9274305695028,
          395.9257016012961,
          395.9223846887593,
          null,
          412.9742905092135,
          412.9760194774202,
          412.97933638995704,
          null,
          1372.4932121200588,
          1372.493077618519,
          1372.4939518378412,
          null,
          1407.096843720533,
          1407.095426777216,
          1407.1046364801487,
          null,
          1504.7504342582479,
          1504.7508901656215,
          1504.7479269056055,
          null,
          1574.6866515648517,
          1574.686934778843,
          1574.6850939735718,
          null,
          2224.74322587065,
          2224.7433330894537,
          2224.743349169381,
          null,
          2248.5156098028015,
          2248.51570742235,
          2248.5157220626475,
          null,
          2280.5435351135156,
          2280.5436217183246,
          2280.543634706709,
          null,
          2309.706611729052,
          2309.7067083886745,
          2309.7067228850096,
          null,
          2338.5873372865517,
          2338.5873969646354,
          2338.5874059147377,
          null,
          316.9370881047138,
          316.94940013331075,
          316.9346320591514,
          null,
          469.12792506323365,
          469.1525491204276,
          469.1230129721089,
          null,
          783.5317949047896,
          783.5748870048791,
          783.5231987453213,
          null,
          1043.9778457330735,
          1043.9090258007516,
          1043.9915741684854,
          null,
          1514.1379275225115,
          1514.1618183663102,
          1514.1392895439776,
          null,
          1586.929539950479,
          1586.9673874131306,
          1586.931697641392,
          null,
          1661.2093616994594,
          1661.269813054815,
          1661.2128080425164,
          null,
          1698.6649892373218,
          1698.7319403209742,
          1698.6688061311027,
          null,
          1926.996310367736,
          1927.0775991592743,
          1927.0009446569206,
          null,
          2195.296410474902,
          2195.367244781663,
          2195.3004487519574,
          null,
          119.530665753281,
          119.51605403434822,
          119.53021185219656,
          null,
          584.5416275069464,
          584.5715571580254,
          584.5425572470505,
          null,
          253.9656198417599,
          253.9658566472451,
          253.96577919848465,
          null,
          305.97457889860215,
          305.97505250957255,
          305.9748976120517,
          null,
          1582.4442306270596,
          1582.445364796236,
          1582.445958349632,
          null,
          1589.9931105567573,
          1589.9946873208332,
          1589.9955125007905,
          null,
          1608.3876482632456,
          1608.3894740066985,
          1608.3904294869299,
          null,
          1632.1872062326431,
          1632.1976662320974,
          1632.203140343306,
          null,
          1504.3215558074457,
          1504.3213974368066,
          1504.3219185643438,
          null,
          1629.7162730525406,
          1629.717727651316,
          1629.7129412118522,
          null,
          1699.8901150589209,
          1699.8931264577802,
          1699.883217279671,
          null,
          1769.5056630959398,
          1769.5048227659086,
          1769.5075879193598,
          null,
          1818.9792330407429,
          1818.9756703130743,
          1818.9873936697836,
          null,
          1707.2758848344401,
          1707.2753422378776,
          1707.2756740488576,
          null,
          1880.5487940772211,
          1880.5484767868447,
          1880.5486708176184,
          null,
          1960.186174427988,
          1960.1859965735264,
          1960.1861053358505,
          null,
          2079.4582096493623,
          2079.4783602055654,
          2079.472595527984,
          null,
          2164.5396275578505,
          2164.5675046172755,
          2164.5595295391745,
          null,
          2204.2820620667485,
          2204.313469873816,
          2204.304484718297,
          null,
          2241.0489405899316,
          2241.0752029754162,
          2241.067689823754,
          null,
          2325.8750796913932,
          2325.8832664469523,
          2325.880924377296,
          null,
          2847.851719130039,
          2847.851698929904,
          2847.851729484439,
          null,
          2963.627367972375,
          2963.627357068368,
          2963.627373561667,
          null,
          1109.6392505925219,
          1109.8090568413015,
          1109.6714086165439,
          null,
          1133.1291422341412,
          1133.2689178210367,
          1133.1556130307895,
          null,
          1178.3499361956399,
          1178.4426545791127,
          1178.3674952667839,
          null,
          1284.0116494148767,
          1284.0570646295896,
          1284.0202501794317,
          null,
          1388.7903193925358,
          1388.7986265194866,
          1388.7918926019433,
          null,
          1551.648218186453,
          1551.6571656128865,
          1551.6499126562164,
          null,
          1707.6380838170685,
          1707.6541928495024,
          1707.641134556695,
          null,
          581.1783729410745,
          581.1790275654441,
          581.1786150994162,
          null,
          630.3492790160356,
          630.3505882647748,
          630.349763332719,
          null,
          688.970404418415,
          688.9680546969435,
          688.9695352105433,
          null,
          906.4073860192908,
          906.4048492622851,
          906.4064476233216,
          null,
          1977.1334582863758,
          1977.1334942973854,
          1977.1334622270451,
          null,
          2136.3506628193613,
          2136.3507023619522,
          2136.3506671464897,
          null,
          2557.9350829589553,
          2557.935141327379,
          2557.9350893461865,
          null,
          2849.708047539087,
          2849.708091920223,
          2849.7080523956956,
          null,
          630.9991106207256,
          631.0113459759034,
          631.0063993647902,
          null,
          757.9242775874103,
          757.9348364354155,
          757.9305676165601,
          null,
          774.6712792181338,
          774.68316038878,
          774.6783569703339,
          null,
          822.5681699216348,
          822.5783745851083,
          822.5742489589201,
          null,
          866.0100160310221,
          866.0177944798696,
          866.0146497439014,
          null,
          972.7632152249837,
          972.7654748379535,
          972.7645613028362,
          null,
          1208.8783802259647,
          1208.9091212640783,
          1208.9087780409754,
          null,
          1252.7585095574964,
          1252.9490967540555,
          1252.9469688516488,
          null,
          1302.6536062186372,
          1302.8508189200356,
          1302.848617043994,
          null,
          1338.268890599549,
          1338.469173081917,
          1338.4669369318297,
          null,
          1362.7278029030224,
          1362.91975452145,
          1362.917611385299,
          null,
          1412.0504458985185,
          1412.2454456601183,
          1412.2432684915073,
          null,
          168.42424096617097,
          168.4229025066375,
          168.41462489456254,
          null,
          222.58111782643292,
          222.58117262800425,
          222.5815115446,
          null,
          137.65237045839584,
          137.7099581388558,
          137.6607127747084,
          null,
          213.87701212400714,
          213.91902395615145,
          213.8830980783262,
          null,
          301.2147026633286,
          301.2561250313725,
          301.2207032261899,
          null,
          2497.311580382465,
          2497.3135626973067,
          2497.3121356823644,
          null,
          2514.7223299483753,
          2514.7284460054098,
          2514.724043221053,
          null,
          2537.5983896270495,
          2537.609908640969,
          2537.6016164138027,
          null,
          2735.7423488076734,
          2735.7577317028463,
          2735.7466579718703,
          null,
          3028.9903955725244,
          3029.0028177902605,
          3028.9938753710485,
          null,
          3167.4602586381643,
          3167.4741348420566,
          3167.4641457374605,
          null,
          2297.5772976906565,
          2297.579206309162,
          2297.577088069484,
          null,
          2500.954311342785,
          2500.95256542311,
          2500.9545030949494,
          null,
          2518.7312706857374,
          2518.7276227429006,
          2518.7316713347163,
          null,
          2647.4620460397828,
          2647.4595201779402,
          2647.4623234520154,
          null,
          2857.6495316507767,
          2857.6467672116214,
          2857.6498352656563,
          null,
          2964.8775629276247,
          2964.872429383118,
          2964.8781267383683,
          null,
          2977.7395989261704,
          2977.7281933825416,
          2977.740851582698,
          null,
          1821.7446905295726,
          1821.7650328282546,
          1821.7434227988763,
          null,
          2023.7572544162656,
          2023.7778256589313,
          2023.7559724177954,
          null,
          2177.3067425445897,
          2177.331479269623,
          2177.3052009535363,
          null,
          2323.4558499381824,
          2323.46566286028,
          2323.455238397532,
          null,
          2399.8712794685657,
          2399.8854779483886,
          2399.870394620251,
          null,
          1110.5091259708022,
          1110.5094028378553,
          1110.504634012327,
          null,
          1162.1772093554243,
          1162.1772708796047,
          1162.176211172145,
          null,
          1231.1477782487777,
          1231.1469394593412,
          1231.161386972802,
          null,
          1274.9269657900154,
          1274.9259129602149,
          1274.9440471570138,
          null,
          1327.619051518854,
          1327.6175998601454,
          1327.6426035831485,
          null,
          164.09804791022677,
          164.1124501279485,
          164.10374279801187,
          null,
          308.2713575190724,
          308.2713575190724,
          308.2713575190724,
          null
         ],
         "y": [
          810.0801980839683,
          723.7904252345795,
          null,
          719.9990466623085,
          633.6108290867592,
          null,
          603.2872652822334,
          516.7769220300504,
          null,
          392.89966912652085,
          306.32386250401464,
          null,
          241.77366819969575,
          241.7128615623039,
          null,
          136.67505239208072,
          136.63061740809962,
          null,
          987.9277056852718,
          924.476787251427,
          null,
          942.9211502140581,
          879.1008755493207,
          null,
          920.020343372933,
          818.0799261971265,
          null,
          729.7145240960913,
          627.7448661976483,
          null,
          1884.759852777579,
          1841.6471608614586,
          null,
          1829.959288061361,
          1786.8113919678751,
          null,
          1676.1862907280847,
          1633.0159979669231,
          null,
          1478.6909059698278,
          1435.5211051178605,
          null,
          1375.2196314312332,
          1375.2098288972522,
          null,
          2409.20339037817,
          2409.1823070325786,
          null,
          2340.9182026233493,
          2340.8735656446415,
          null,
          2223.1258309548593,
          2223.110814024032,
          null,
          2132.106258560104,
          2132.1070673430568,
          null,
          2049.244405398331,
          2049.258840445444,
          null,
          2122.770808783399,
          2122.7845461561965,
          null,
          504.99961707942566,
          504.700504081407,
          null,
          585.0194846738777,
          584.696727233067,
          null,
          704.286168154802,
          703.9213759926151,
          null,
          884.7759327843596,
          783.8799264976999,
          null,
          1129.5837850747084,
          1028.6458553009165,
          null,
          1298.413763518256,
          1197.5761609367482,
          null,
          1310.2955000861548,
          1310.3523827853596,
          null,
          2853.102621180462,
          2853.1276902180357,
          null,
          2401.278714076586,
          2401.1818173255424,
          null,
          2258.281494429511,
          2258.170553931905,
          null,
          2180.542869099462,
          2180.328575140004,
          null,
          2112.241855947925,
          2112.025123283778,
          null,
          2011.8658647230945,
          2011.694712028152,
          null,
          1356.179969519203,
          1356.124326001698,
          null,
          1456.392950280082,
          1456.2769082018679,
          null,
          1597.9767381753063,
          1597.8248309527846,
          null,
          1761.6584409615898,
          1761.5162616366597,
          null,
          1876.1817943848882,
          1876.0558562492497,
          null,
          1947.1895914418046,
          1947.0781585659429,
          null,
          1963.7329878517976,
          1963.6448651098838,
          null,
          1977.896481501678,
          1977.874058049794,
          null,
          1888.097044062009,
          1888.0928834424483,
          null,
          1841.9553635442785,
          1841.9181089793105,
          null,
          1765.5901708176584,
          1765.5259359093043,
          null,
          1308.5127853457666,
          1308.529427649992,
          null,
          1444.075762452232,
          1444.1047314968312,
          null,
          1492.7344989334306,
          1492.7980606622523,
          null,
          583.9261990535929,
          584.2866745352312,
          null,
          641.6226667784327,
          641.9719025487811,
          null,
          700.109154930769,
          700.4484520806142,
          null,
          762.0214618987632,
          762.309504317294,
          null,
          844.8223469629804,
          864.3631263064105,
          null,
          883.2007346561336,
          902.7492100861712,
          null,
          909.1789827517027,
          928.708118269227,
          null,
          957.0782992479203,
          964.6582090410043,
          null,
          985.4989849234129,
          993.0725161874986,
          null,
          1010.5110087323586,
          1049.816630437252,
          null,
          1039.15072648471,
          1039.1944502069582,
          null,
          1082.2249274163244,
          1082.2474826945136,
          null,
          1147.5135555475613,
          1147.4970774764952,
          null,
          1242.3949042589334,
          1242.370326783778,
          null,
          2444.486988112192,
          2403.4364855260005,
          null,
          2408.2242589232796,
          2367.1971485939325,
          null,
          2341.2103991258678,
          2300.180547979129,
          null,
          2200.3725420382634,
          2159.3989469917647,
          null,
          2066.2777771406345,
          2066.255282239406,
          null,
          423.6497108176977,
          423.6317738380997,
          null,
          265.88263085085185,
          265.90032615341187,
          null,
          343.04530950531154,
          343.10191288338126,
          null,
          355.144521924841,
          355.2131511187305,
          null,
          374.94839903647295,
          375.02792366045236,
          null,
          433.92482660729854,
          434.01036413918786,
          null,
          483.8655139689019,
          483.91922259647333,
          null,
          492.43436160896937,
          492.4582311684358,
          null,
          123.3365445725388,
          123.33704385264551,
          null,
          194.69262547202734,
          194.6932911788363,
          null,
          212.20385051881766,
          212.2014268520423,
          null,
          387.5059810735548,
          387.42887108963174,
          null,
          241.55098495056063,
          241.53996833448758,
          null,
          135.9025798860921,
          135.87613689297785,
          null,
          2491.4114607076367,
          2491.448222440007,
          null,
          2582.7529650670776,
          2582.767500887828,
          null,
          2132.0528365558184,
          2132.0257219738396,
          null,
          1731.9082672575348,
          1673.6511266957737,
          null,
          1511.687647357221,
          1453.3890184883003,
          null,
          1310.9935962263828,
          1252.695637366895,
          null,
          1267.1193704999594,
          1208.809891277248,
          null,
          1167.6564843296178,
          1109.3501398250996,
          null,
          1044.738693038094,
          986.4766933693982,
          null,
          237.82832309768548,
          237.82808146168037,
          null,
          279.7142589512554,
          279.710302086246,
          null,
          323.4528567464612,
          323.4483360641065,
          null,
          359.4968654828594,
          359.49396585079796,
          null,
          1402.6950306863585,
          1402.7087564761002,
          null,
          1442.8249718751006,
          1442.8321254578314,
          null,
          1459.9855400552538,
          1459.9637215393416,
          null,
          1478.1708621262778,
          1478.138832936912,
          null,
          1516.6390805627673,
          1516.6166592139487,
          null,
          1553.1022748358314,
          1553.0765673835074,
          null,
          1572.476049288579,
          1572.4638354613355,
          null,
          1427.5770459211271,
          1427.5759988675925,
          null,
          1425.349254522354,
          1425.3517761156484,
          null,
          1422.2978506060363,
          1422.3009518629267,
          null,
          1417.0539352035162,
          1417.0544587302836,
          null,
          57.123011801581924,
          57.12779983439399,
          null,
          180.19734337283307,
          180.15868291528326,
          null,
          300.4623953223836,
          300.36895205829023,
          null,
          329.4114685315617,
          329.27747603555383,
          null,
          351.4310043217747,
          351.2523583271572,
          null,
          450.5298631810949,
          316.42272153657615,
          null,
          1298.9413613444938,
          1298.420192053878,
          null,
          1308.5382912887953,
          1215.3258537662432,
          null,
          1510.2017254117663,
          1416.8443387645189,
          null,
          1048.2937705012025,
          1048.2800398509755,
          null,
          1895.3717626375665,
          1895.3728554941554,
          null,
          1892.270882864074,
          1892.2707896318004,
          null,
          1886.07059380356,
          1886.0686147602555,
          null,
          1851.300718848473,
          1851.297702491515,
          null,
          1813.1652422042057,
          1813.1649509348913,
          null,
          1916.0630994161436,
          1916.0636288305798,
          null,
          1911.8514438110547,
          1908.1703772111368,
          null,
          1904.0396409856148,
          1900.3556707096825,
          null,
          1892.6274568847598,
          1888.9440241967789,
          null,
          1888.576551795389,
          1888.005603301099,
          null,
          360.46805899867195,
          360.4003954829348,
          null,
          334.2889167802125,
          232.71385283326674,
          null,
          307.252308710129,
          134.90301355897455,
          null,
          192.86877866295163,
          20.45949722495405,
          null,
          -83.13464048846092,
          -255.6124987448811,
          null,
          1477.3000654862017,
          1477.2885198040312,
          null,
          1871.450803505636,
          1871.4521373459738,
          null,
          1878.0808015721216,
          1878.0787867786614,
          null,
          1906.9716159288832,
          1906.967970475352,
          null,
          1955.2672809513529,
          1955.2638693728823,
          null,
          1979.985174289516,
          1979.9931773315425,
          null,
          1985.801088919334,
          1985.8070034250827,
          null,
          1350.1473703570302,
          1349.8574806228737,
          null,
          1315.4226346399892,
          1315.0960894909003,
          null,
          1297.2991024587832,
          1296.8708851273786,
          null,
          1255.0609067454475,
          1254.5313827973644,
          null,
          2777.4126883635627,
          2777.2756336769817,
          null,
          2518.369270507331,
          2518.1691467948003,
          null,
          2379.2673735391513,
          2379.1459790411577,
          null,
          2276.292895921198,
          2276.2735064919425,
          null,
          1874.7539638807239,
          1874.7489654748858,
          null,
          1885.0941258477876,
          1885.0715804347158,
          null,
          1894.5662797276661,
          1894.532625206757,
          null,
          2001.8102608275058,
          2001.7724843193485,
          null,
          553.605551474303,
          553.619122070968,
          null,
          465.5113792584892,
          465.53705382441365,
          null,
          391.52416327590083,
          391.46309046533383,
          null,
          335.7711138850775,
          335.746159229524,
          null,
          185.80700563141323,
          185.80667846107934,
          null,
          246.60494965266054,
          246.5995921363183,
          null,
          271.9437985525824,
          271.9376776387944,
          null,
          301.64343700363116,
          301.64124213384986,
          null,
          1676.7119636970021,
          1676.690938250207,
          null,
          1829.6068520930012,
          1756.5406493254766,
          null,
          1884.5236533162395,
          1811.3996576150303,
          null,
          2003.3077308827642,
          1943.1667471752673,
          null,
          2142.2997263054835,
          2142.2693268112903,
          null,
          2217.14221758133,
          2217.137592054751,
          null,
          2335.0751048534657,
          2335.0480136911942,
          null,
          66.75379592359911,
          66.7556595857034,
          null,
          74.70152834231686,
          74.7050706765071,
          null,
          81.74756837048113,
          81.75106414807776,
          null,
          1312.9328302276551,
          1312.9184516208643,
          null,
          1457.5524688606838,
          1457.522875405918,
          null,
          1704.8721569451427,
          1704.8433673380005,
          null,
          2033.8676119666998,
          2033.8316424671145,
          null,
          2796.705982914534,
          2796.706892088548,
          null,
          2819.4428001992665,
          2819.443127518525,
          null,
          2865.2133336358156,
          2865.2135617392273,
          null,
          2900.678618603478,
          2900.67872808647,
          null,
          1632.8052143760178,
          1632.778138359432,
          null,
          1791.4131188013944,
          1791.3499414293606,
          null,
          1112.3356620954962,
          1112.3637229500353,
          null,
          1171.7327675743431,
          1171.7802534746181,
          null,
          1238.1644514749396,
          1238.1816850563407,
          null,
          1294.9572576767166,
          1294.9759100855483,
          null,
          1978.0866358145224,
          1978.0794508840038,
          null,
          1967.3147771410072,
          1967.2611389866518,
          null,
          1945.7987261299463,
          1945.7370984739107,
          null,
          1869.10602879513,
          1869.0575631440367,
          null,
          1708.7142057488022,
          1708.6641649233788,
          null,
          1588.571462825341,
          1588.5257569560413,
          null,
          1519.6342695850503,
          1519.563403372865,
          null,
          1316.0881027617834,
          1316.0349531026443,
          null,
          1799.9227172574765,
          1799.9109065626012,
          null,
          1591.4428546521954,
          1591.251473534603,
          null,
          1393.94131232479,
          1393.7709779995366,
          null,
          1217.4721280815102,
          1217.3739113932934,
          null,
          1116.8808510868782,
          1116.80574768645,
          null,
          2821.756999717415,
          2821.7569931130515,
          null,
          881.3569321729628,
          831.8933944791208,
          null,
          971.7121906441027,
          906.1254299356352,
          null,
          1040.3900933066384,
          974.773641608738,
          null,
          1212.296683372236,
          1146.7316057678938,
          null,
          1351.5788985878523,
          1286.061563463539,
          null,
          1373.890596382074,
          1308.4238591363062,
          null,
          2653.171701943673,
          2653.1710980480602,
          null,
          2770.647807113368,
          2770.6472894358308,
          null,
          2833.094208099363,
          2833.0936810470866,
          null,
          2813.2164521311493,
          2813.2162259236047,
          null,
          2775.1910890865033,
          2775.1909119309967,
          null,
          2699.5259397315695,
          2699.525806817592,
          null,
          2594.1939699482027,
          2594.1938604428424,
          null,
          308.7277392814017,
          308.72032837908995,
          null,
          347.06475872075623,
          347.05408000915673,
          null,
          427.6848015858561,
          427.6667119719449,
          null,
          545.5312468529413,
          545.5401262312955,
          null,
          614.7767375148206,
          614.8127791682615,
          null,
          727.2071520663051,
          727.255077271949,
          null,
          836.7714724185842,
          836.8092720702915,
          null,
          252.0823993483771,
          252.0807050595151,
          null,
          238.70190462871653,
          238.69851605099254,
          null,
          223.34382114425455,
          223.3389954002974,
          null,
          210.31062040150405,
          210.30443095492197,
          null,
          201.52961747282666,
          201.52099447542767,
          null,
          175.30852499558287,
          175.30643261765528,
          null,
          285.2125800039835,
          285.2154625032034,
          null,
          287.97128859110626,
          287.9772967703696,
          null,
          299.6494173522249,
          303.5106480453251,
          null,
          311.687915517947,
          315.5508233198989,
          null,
          312.8524336437381,
          316.7151716939665,
          null,
          316.17316703807774,
          316.1737557361337,
          null,
          89.38215924535348,
          89.37966593227375,
          null,
          77.22426771902269,
          77.21687350467344,
          null,
          69.69231404756249,
          69.68182462308607,
          null,
          53.30204876007372,
          53.29649729487377,
          null,
          30.92343944666763,
          30.91837813103661,
          null,
          292.9810349792337,
          292.989058061337,
          null,
          298.606430241188,
          298.6159367863399,
          null,
          309.9915766324161,
          309.9894920890151,
          null,
          2162.854710794477,
          2162.772582856373,
          null,
          2041.6102399258693,
          2041.541148268154,
          null,
          1977.0532214729278,
          1976.9988909935118,
          null,
          1970.1820283968664,
          1970.145159952637,
          null,
          1964.1841367750708,
          1964.1696780397187,
          null,
          495.238522299112,
          495.20737939876983,
          null,
          380.4978363711221,
          380.4630884190431,
          null,
          964.0346263724343,
          964.0336997232926,
          null,
          961.7093338812593,
          961.7080032041631,
          null,
          953.8846651975234,
          953.883683331913,
          null,
          2443.1012124505596,
          2443.1010723527684,
          null,
          2484.146645623861,
          2484.1464752633847,
          null,
          2536.140724613814,
          2536.140603563075,
          null,
          2597.70045324066,
          2597.700394906352,
          null,
          2641.761484278307,
          2641.7614496551923,
          null,
          381.5721128993306,
          381.47167271251266,
          null,
          191.72206646584573,
          191.696055423518,
          null,
          2454.638140699003,
          2454.638186728012,
          null,
          2434.851027818914,
          2434.8510611656266,
          null,
          1034.1509345124307,
          1034.1023172840103,
          null,
          960.0271068718673,
          960.019519686761,
          null,
          764.6333494445596,
          764.6673172069906,
          null,
          356.75512887581226,
          356.8439688976976,
          null,
          329.9945211853003,
          330.0389252741108,
          null,
          304.20655517479713,
          304.24687499415813,
          null,
          187.48521994871749,
          187.5356197229187,
          null,
          48.50195598740257,
          48.551156624525625,
          null,
          2233.4048379094465,
          2150.320253667254,
          null,
          2072.616735040826,
          1989.4983621214408,
          null,
          1917.4021792941985,
          1834.2693538704727,
          null,
          1869.7070945457967,
          1786.6282147594395,
          null,
          1767.257547307029,
          1684.2424488280844,
          null,
          1622.3463673928263,
          1622.0725033132755,
          null,
          1884.0997128095364,
          1883.7310423822032,
          null,
          1917.6165036468146,
          1834.360679120548,
          null,
          2062.9610361048963,
          1979.687697550844,
          null,
          2280.431703831165,
          2280.329013496239,
          null,
          2939.824336100256,
          2713.120624766087,
          null,
          2804.3948268730937,
          2577.642852385419,
          null,
          2618.6253740960206,
          2391.8269629618644,
          null,
          2387.771313674815,
          2161.122277414763,
          null,
          2316.381354342996,
          2316.329044131541,
          null,
          2283.2174459984067,
          2283.0740890010134,
          null,
          2430.454922573351,
          2430.3650817983985,
          null,
          2333.446494479871,
          2333.3828070442833,
          null,
          2181.2955225883516,
          2181.279676428157,
          null,
          2056.0843093952553,
          2056.069734831995,
          null,
          1922.3877728907169,
          1922.341321948769,
          null,
          2423.2466445767363,
          2423.2016274066714,
          null,
          2358.8637792846307,
          2358.833565798408,
          null,
          810.9284666154188,
          825.2351955268954,
          null,
          829.4700041983017,
          843.7876749670305,
          null,
          842.3970930160342,
          856.7208585210834,
          null,
          866.5209560702175,
          880.8530462878579,
          null,
          245.19700802980856,
          245.2110277433573,
          null,
          340.50003223843385,
          340.5805273840032,
          null,
          373.127542304949,
          373.17829957463886,
          null,
          429.1991481523469,
          429.24711016298477,
          null,
          575.5832926316676,
          575.6163857043657,
          null,
          711.139037441411,
          711.1934826128326,
          null,
          838.8488223512406,
          838.8145041297325,
          null,
          2297.638567043764,
          2259.4552806974793,
          null,
          2259.0536557025353,
          2220.872574996143,
          null,
          2241.5735619575535,
          2219.1751430908603,
          null,
          2220.579256063871,
          2207.5450368034135,
          null,
          2198.6160251698675,
          2198.6190849464565,
          null,
          2544.9953097132775,
          2544.923111526914,
          null,
          2507.2591637894766,
          2507.2059030227806,
          null,
          2466.8928752250686,
          2466.8614156099093,
          null,
          2645.8572869671884,
          2645.7113850729693,
          null,
          2953.289904530111,
          2952.9520860395464,
          null,
          3289.0888482235478,
          3044.9263903814494,
          null,
          1435.4741637811317,
          1435.405140977354,
          null,
          1195.901215608641,
          1195.8782080073818,
          null,
          873.0880907892956,
          873.1456337640935,
          null,
          925.572702494522,
          925.6714082202644,
          null,
          982.9279137129924,
          982.6238803161845,
          null,
          1054.6149503730012,
          1054.3423977738637,
          null,
          1264.3500247241486,
          1264.1462550800172,
          null,
          1441.2590321253756,
          1441.1203444099683,
          null,
          1489.2559169575256,
          1489.201406437698,
          null,
          2117.12604885355,
          2117.151756211387,
          null,
          2174.8606163203585,
          2174.913406479131,
          null,
          2230.2349549998007,
          2230.264695591063,
          null,
          2319.4149257718573,
          2353.0727758932426,
          null,
          2436.45122724016,
          2470.153693543372,
          null,
          2511.507298429655,
          2511.626331626273,
          null,
          1025.7899192467644,
          1025.814507860632,
          null,
          1151.1089819106433,
          1151.1335705245108,
          null,
          1300.0148365466043,
          1299.9902479327368,
          null,
          2400.929955061578,
          2400.9263504113997,
          null,
          2470.6806955341126,
          2470.6427213593556,
          null,
          2667.385482838379,
          2667.3977011861934,
          null,
          2808.2963601003175,
          2808.303950254046,
          null,
          2892.063449268673,
          2892.0628484330537,
          null,
          2803.7021908772444,
          2803.7016438341916,
          null,
          2684.6553293524494,
          2684.654844034088,
          null,
          2576.2570645235764,
          2576.2565228597805,
          null,
          2468.908201384241,
          2468.907866958588,
          null,
          1204.6113753033706,
          1204.6233436314076,
          null,
          1242.5260043129638,
          1242.549940969038,
          null,
          1320.8570839024273,
          1320.8989730505573,
          null,
          1385.8369873034815,
          1385.7700885370407,
          null,
          2281.1986466876397,
          2281.192009547047,
          null,
          2275.333300159469,
          2275.3227857158263,
          null,
          2269.34968678594,
          2269.332892730949,
          null,
          2266.331481609577,
          2266.3128818581913,
          null,
          2247.927370455487,
          2247.9047875303036,
          null,
          2226.296285680064,
          2226.2766071263577,
          null,
          2269.544464526614,
          2269.546676389927,
          null,
          2249.3922865908144,
          2249.387755960469,
          null,
          171.5529293807216,
          171.55215283423314,
          null,
          99.09284124746266,
          99.09128815448572,
          null,
          2809.6836818898505,
          2809.6752626850844,
          null,
          2743.4001144465146,
          2743.388409755626,
          null,
          2581.8864736080786,
          2581.8729206846688,
          null,
          2372.9026523079515,
          2372.825005269837,
          null,
          1343.2904489349905,
          1343.2886812179663,
          null,
          1527.1998074043304,
          1527.2160434884397,
          null,
          1630.1134810669641,
          1630.1470939958342,
          null,
          1732.2607032258945,
          1732.2513235472522,
          null,
          1804.853361377968,
          1804.8135945728052,
          null,
          2615.154379235567,
          2615.1554063952563,
          null,
          2500.3943218108225,
          2500.3949224557714,
          null,
          2447.649881091029,
          2447.6502177775214,
          null,
          1110.8980604519602,
          1110.827957959936,
          null,
          981.1503851919572,
          981.0534026910119,
          null,
          920.5437140379378,
          920.4344482925023,
          null,
          864.4582904132627,
          864.3669252593467,
          null,
          735.0495445804584,
          735.0210633831899,
          null,
          2641.8945761202413,
          2641.8945256631746,
          null,
          2706.7879211624395,
          2706.7878939257794,
          null,
          1293.9439681277888,
          1293.7872618408953,
          null,
          1287.1745746882439,
          1287.0455823020498,
          null,
          1274.1495339097196,
          1274.0639684272642,
          null,
          1243.7553801618328,
          1243.7134685730823,
          null,
          1213.6214660734574,
          1213.6137998124773,
          null,
          1166.8212646917107,
          1166.8130075281274,
          null,
          1121.9988798242875,
          1121.9840135477148,
          null,
          274.2368092555388,
          274.23562921616366,
          null,
          243.57981090534975,
          243.57745082659946,
          null,
          207.02557020917857,
          207.02980586551175,
          null,
          71.45467272648708,
          71.45924553692744,
          null,
          2781.097326594697,
          2781.0973073917867,
          null,
          2755.777196734248,
          2755.777175648118,
          null,
          2688.7331123222693,
          2688.733081197244,
          null,
          2642.33278395567,
          2642.332760289381,
          null,
          485.41761537130617,
          485.3820972680263,
          null,
          337.4828441490354,
          337.45219279085967,
          null,
          317.9664351091617,
          317.93194517078507,
          null,
          262.1394787309616,
          262.10985553768916,
          null,
          211.50359451321842,
          211.48101439637637,
          null,
          87.07266765596378,
          87.066108208717,
          null,
          1248.2776615802304,
          1248.129532804758,
          null,
          1130.7211239825847,
          1129.8027604600932,
          null,
          996.6769142073636,
          995.7266250252669,
          null,
          900.9921778760677,
          900.0270966464706,
          null,
          835.2581202891695,
          834.3331821630542,
          null,
          702.7443549759556,
          701.8047290662366,
          null,
          2595.249752912497,
          2595.2966120999654,
          null,
          2801.499247178135,
          2801.4973285866195,
          null,
          2838.6338337839748,
          2838.5931816154043,
          null,
          2822.2726856591607,
          2822.243028759132,
          null,
          2803.5346700584278,
          2803.5054292715986,
          null,
          1895.1239167363103,
          1895.1212107558276,
          null,
          1887.3364051064675,
          1887.3280563161454,
          null,
          1877.104333616349,
          1877.0886094608375,
          null,
          1788.4385236852384,
          1788.417525096504,
          null,
          1657.2074045061863,
          1657.1904474224593,
          null,
          1595.243521346395,
          1595.2245794830164,
          null,
          1865.4243352399528,
          1865.425356725464,
          null,
          1894.513162122754,
          1894.5122277130506,
          null,
          1897.0564048876022,
          1897.0544525221908,
          null,
          1915.4673018529893,
          1915.4659500211446,
          null,
          1945.5288366194322,
          1945.5273571018986,
          null,
          1960.8657365959384,
          1960.8629891420499,
          null,
          1962.70775083107,
          1962.7016466266255,
          null,
          1323.232848717148,
          1323.2390263781288,
          null,
          1340.0047440882176,
          1340.0109912761648,
          null,
          1352.75215927293,
          1352.7596714574386,
          null,
          1364.8893755055292,
          1364.892355547603,
          null,
          1371.2327431282765,
          1371.237055000605,
          null,
          595.0245515999478,
          595.0464409465392,
          null,
          721.4190359754374,
          721.4239001298779,
          null,
          890.1871602034935,
          890.1208447915227,
          null,
          997.285633223107,
          997.2023955964563,
          null,
          1126.198842564187,
          1126.084073182158,
          null,
          1226.8997577469304,
          1226.8720065169896,
          null,
          1129.267619116229,
          1129.267619116229,
          null,
          742.7850320681557,
          723.7904252345795,
          753.4473360785211,
          null,
          652.6271061462094,
          633.6108290867592,
          663.3015743744637,
          null,
          535.8200821039684,
          516.7769220300504,
          546.5096406615718,
          null,
          325.3814327558742,
          306.32386250401464,
          336.0790802252092,
          null,
          241.72624667309967,
          241.7128615623039,
          241.7337601805793,
          null,
          136.64039869529628,
          136.63061740809962,
          136.645889256834,
          null,
          935.7557823359145,
          924.476787251427,
          948.972408067563,
          null,
          890.44552716354,
          879.1008755493207,
          903.7390886304916,
          null,
          836.2007902069251,
          818.0799261971265,
          857.4346568552934,
          null,
          645.8709280197879,
          627.7448661976483,
          667.1108854182469,
          null,
          1848.039271729345,
          1841.6471608614586,
          1859.5626570670488,
          null,
          1793.2087223893254,
          1786.8113919678751,
          1804.7415172833162,
          null,
          1639.416649034255,
          1633.0159979669231,
          1650.9554302264899,
          null,
          1441.921683252189,
          1435.5211051178605,
          1453.4603329643667,
          null,
          1375.211282271681,
          1375.2098288972522,
          1375.2139023441314,
          null,
          2409.185468607493,
          2409.1823070325786,
          2409.1910325762283,
          null,
          2340.880259228994,
          2340.8735656446415,
          2340.8920390839926,
          null,
          2223.1130659034407,
          2223.110814024032,
          2223.117028924075,
          null,
          2132.1069460611716,
          2132.1070673430568,
          2132.106732620518,
          null,
          2049.249744207895,
          2049.258840445444,
          2049.2597979786415,
          null,
          2122.7758895577604,
          2122.7845461561965,
          2122.7854574099247,
          null,
          504.7853644026571,
          504.700504081407,
          504.78428832636854,
          null,
          584.7882956379657,
          584.696727233067,
          584.7871344994285,
          null,
          704.0248699239312,
          703.9213759926151,
          704.0235575630556,
          null,
          812.5047858754252,
          783.8799264976999,
          812.1418066645801,
          null,
          1057.282608647174,
          1028.6458553009165,
          1056.9194786141622,
          null,
          1226.1844507998949,
          1197.5761609367482,
          1225.8216816997526,
          null,
          1310.3362447901536,
          1310.3523827853596,
          1310.33644942895,
          null,
          2853.1065535401317,
          2853.1276902180357,
          2853.1346925821686,
          null,
          2401.207573666226,
          2401.1818173255424,
          2401.210692882019,
          null,
          2258.200043272065,
          2258.170553931905,
          2258.203614571913,
          null,
          2180.3855370934934,
          2180.328575140004,
          2180.3924354579435,
          null,
          2112.082733474779,
          2112.025123283778,
          2112.0897103438865,
          null,
          2011.7402065062677,
          2011.694712028152,
          2011.7457161047153,
          null,
          1356.1410730365017,
          1356.124326001698,
          1356.1389516485708,
          null,
          1456.3118333972845,
          1456.2769082018679,
          1456.3074093372102,
          null,
          1597.8705504841257,
          1597.8248309527846,
          1597.8647590790722,
          null,
          1761.559053361729,
          1761.5162616366597,
          1761.5536328290696,
          null,
          1876.0937598620192,
          1876.0558562492497,
          1876.0889585185212,
          null,
          1947.1116965292854,
          1947.0781585659429,
          1947.1074481932967,
          null,
          1963.6713874199747,
          1963.6448651098838,
          1963.6680277739727,
          null,
          1977.8808068382596,
          1977.874058049794,
          1977.8799519526892,
          null,
          1888.0928968877838,
          1888.0928834424483,
          1888.0952158192122,
          null,
          1841.9182293700637,
          1841.9181089793105,
          1841.938993292432,
          null,
          1765.5261434889392,
          1765.5259359093043,
          1765.5619449712958,
          null,
          1308.5238721626984,
          1308.529427649992,
          1308.5255999470014,
          null,
          1444.0950611316584,
          1444.1047314968312,
          1444.0980686635394,
          null,
          1492.776842664309,
          1492.7980606622523,
          1492.7834415676725,
          null,
          584.0890604013363,
          584.2866745352312,
          584.2810469790843,
          null,
          641.7804500706019,
          641.9719025487811,
          641.9664504611738,
          null,
          700.262447994858,
          700.4484520806142,
          700.4431551495925,
          null,
          762.1515982849495,
          762.309504317294,
          762.3050075485384,
          null,
          853.6507911205795,
          864.3631263064105,
          864.0580658001854,
          null,
          892.0326558741739,
          902.7492100861712,
          902.444029432636,
          null,
          918.0021662763975,
          928.708118269227,
          928.4032395403693,
          null,
          960.9081149004558,
          964.6582090410043,
          964.1346320022825,
          null,
          989.3255777684394,
          993.0725161874986,
          992.5493797412662,
          null,
          1030.370517532237,
          1049.816630437252,
          1047.1016217393724,
          null,
          1039.1728182774127,
          1039.1944502069582,
          1039.191430021014,
          null,
          1082.2363236677065,
          1082.2474826945136,
          1082.2459247042361,
          null,
          1147.5052298581777,
          1147.4970774764952,
          1147.4982156878839,
          null,
          1242.382486274865,
          1242.370326783778,
          1242.3720244559156,
          null,
          2410.480711563029,
          2403.4364855260005,
          2419.53717210485,
          null,
          2374.2373605425983,
          2367.1971485939325,
          2383.288660342461,
          null,
          2307.2212302493745,
          2300.180547979129,
          2316.2731347216045,
          null,
          2166.429975770309,
          2159.3989469917647,
          2175.4694691605796,
          null,
          2066.259142342424,
          2066.255282239406,
          2066.2641051120017,
          null,
          423.63611362144906,
          423.6317738380997,
          423.6375472031708,
          null,
          265.889816070417,
          265.90032615341187,
          265.9008593492638,
          null,
          343.0682934411998,
          343.10191288338126,
          343.10361845955254,
          null,
          355.1723889717596,
          355.2131511187305,
          355.21521905746033,
          null,
          374.9806901986157,
          375.02792366045236,
          375.0303199008944,
          null,
          433.9595593249565,
          434.01036413918786,
          434.0129415609092,
          null,
          483.887322484486,
          483.91922259647333,
          483.9208409478598,
          null,
          492.44405390019233,
          492.4582311684358,
          492.45895040734405,
          null,
          123.33671375350153,
          123.33704385264551,
          123.3370924498903,
          null,
          194.6928510466443,
          194.6932911788363,
          194.6933559751627,
          null,
          212.20302925982324,
          212.2014268520423,
          212.20119094533177,
          null,
          387.4448237399051,
          387.42887108963174,
          387.4563942490872,
          null,
          241.54224747156513,
          241.53996833448758,
          241.54390053710796,
          null,
          135.88160746630535,
          135.87613689297785,
          135.88557529095092,
          null,
          2491.4216465126174,
          2491.448222440007,
          2491.4540715302155,
          null,
          2582.756992598585,
          2582.767500887828,
          2582.7698136549734,
          null,
          2132.0289247147366,
          2132.0257219738396,
          2132.0378068565033,
          null,
          1685.549622482573,
          1673.6511266957737,
          1694.5989139653586,
          null,
          1465.295987887831,
          1453.3890184883003,
          1474.3517238988063,
          null,
          1264.6024699230388,
          1252.695637366895,
          1273.6581018590357,
          null,
          1220.7190767637271,
          1208.809891277248,
          1229.7764981992393,
          null,
          1121.2586850736466,
          1109.3501398250996,
          1130.3156195820907,
          null,
          998.3761815849855,
          986.4766933693982,
          1007.4262278503535,
          null,
          237.82824447323213,
          237.82808146168037,
          237.82805468827115,
          null,
          279.7129714512895,
          279.710302086246,
          279.70986366331294,
          null,
          323.4513857894375,
          323.4483360641065,
          323.4478351698853,
          null,
          359.4959219894192,
          359.49396585079796,
          359.4936445698874,
          null,
          1402.699728680855,
          1402.7087564761002,
          1402.7100454573447,
          null,
          1442.827420367532,
          1442.8321254578314,
          1442.832797246788,
          null,
          1459.9780721230177,
          1459.9637215393416,
          1459.9616725747048,
          null,
          1478.1598993359248,
          1478.138832936912,
          1478.1358250936373,
          null,
          1516.6314062959063,
          1516.6166592139487,
          1516.6145536376107,
          null,
          1553.093475817938,
          1553.0765673835074,
          1553.0741532110255,
          null,
          1572.471868801026,
          1572.4638354613355,
          1572.4626884676445,
          null,
          1427.573735945233,
          1427.5759988675925,
          1427.57885213504,
          null,
          1425.3572258559516,
          1425.3517761156484,
          1425.3449046617784,
          null,
          1422.307654388946,
          1422.3009518629267,
          1422.2925007999781,
          null,
          1417.0555901914634,
          1417.0544587302836,
          1417.0530320965597,
          null,
          57.126245235558486,
          57.12779983439399,
          57.12665486576854,
          null,
          180.17123535689043,
          180.15868291528326,
          180.16792784168155,
          null,
          300.39929161427204,
          300.36895205829023,
          300.3912972697469,
          null,
          329.320981288428,
          329.27747603555383,
          329.3095178385232,
          null,
          351.3103618676714,
          351.2523583271572,
          351.29507818036797,
          null,
          359.96519804313533,
          316.42272153657615,
          348.4919398688439,
          null,
          1298.5901265161406,
          1298.420192053878,
          1298.5441009535587,
          null,
          1245.719059451584,
          1215.3258537662432,
          1237.4872719041482,
          null,
          1447.2848071186393,
          1416.8443387645189,
          1439.0402188073635,
          null,
          1048.2817978368923,
          1048.2800398509755,
          1048.2860234194768,
          null,
          1895.3732178348785,
          1895.3728554941554,
          1895.3718769838688,
          null,
          1892.2707587202885,
          1892.2707896318004,
          1892.2708731091202,
          null,
          1886.067958600985,
          1886.0686147602555,
          1886.0703867349596,
          null,
          1851.2967024069912,
          1851.297702491515,
          1851.300403245064,
          null,
          1813.1648543634517,
          1813.1649509348913,
          1813.1652117285062,
          null,
          1916.0647139497858,
          1916.0636288305798,
          1916.0622452192704,
          null,
          1900.6254449374248,
          1908.1703772111368,
          1917.7907521571874,
          null,
          1892.8047868895148,
          1900.3556707096825,
          1909.9836343399431,
          null,
          1881.3942422487387,
          1888.9440241967789,
          1898.5705828544533,
          null,
          1886.8353534280618,
          1888.005603301099,
          1889.497762826296,
          null,
          360.41237871907094,
          360.4003954829348,
          360.4265619906594,
          null,
          250.70283793934743,
          232.71385283326674,
          271.99447055526707,
          null,
          165.42614377464446,
          134.90301355897455,
          201.55309985402008,
          null,
          50.9932510364029,
          20.45949722495405,
          87.13278112687752,
          null,
          -225.06659995101933,
          -255.6124987448811,
          -188.9126951472333,
          null,
          1477.2922598394766,
          1477.2885198040312,
          1477.2912894039885,
          null,
          1871.451251629476,
          1871.4521373459738,
          1871.452271022518,
          null,
          1878.0801246717785,
          1878.0787867786614,
          1878.0785848574724,
          null,
          1906.9703911836207,
          1906.967970475352,
          1906.9676051305532,
          null,
          1955.2661347799549,
          1955.2638693728823,
          1955.263527466878,
          null,
          1979.9878630325557,
          1979.9931773315425,
          1979.9939793908075,
          null,
          1985.8030759870157,
          1985.8070034250827,
          1985.8075961727052,
          null,
          1349.9038970959032,
          1349.8574806228737,
          1349.9745084962613,
          null,
          1315.1483751440978,
          1315.0960894909003,
          1315.227915077874,
          null,
          1296.9394502949992,
          1296.8708851273786,
          1297.043755559606,
          null,
          1254.6161689458847,
          1254.5313827973644,
          1254.7451504967698,
          null,
          2777.311660863399,
          2777.2756336769817,
          2777.316880057139,
          null,
          2518.2217527616426,
          2518.1691467948003,
          2518.2293736935035,
          null,
          2379.1778896771116,
          2379.1459790411577,
          2379.182512513585,
          null,
          2276.278603337587,
          2276.2735064919425,
          2276.279341708454,
          null,
          1874.7504990193413,
          1874.7489654748858,
          1874.7502501094793,
          null,
          1885.0784975187494,
          1885.0715804347158,
          1885.07737480566,
          null,
          1894.5429506396288,
          1894.532625206757,
          1894.541274716858,
          null,
          2001.7840744055707,
          2001.7724843193485,
          2001.782193216699,
          null,
          553.6198920496856,
          553.619122070968,
          553.610700778523,
          null,
          465.53851056724017,
          465.53705382441365,
          465.5211213615025,
          null,
          391.4596252702863,
          391.46309046533383,
          391.50098946203366,
          null,
          335.7447433335134,
          335.746159229524,
          335.7616449489413,
          null,
          185.80686284699786,
          185.80667846107934,
          185.8066785388899,
          null,
          246.6026115132893,
          246.5995921363183,
          246.59959341049083,
          null,
          271.9411272495753,
          271.9376776387944,
          271.9376790945249,
          null,
          301.6424791136085,
          301.64124213384986,
          301.64124265585343,
          null,
          1676.6969154794983,
          1676.690938250207,
          1676.6968154952367,
          null,
          1777.3123100493397,
          1756.5406493254766,
          1776.9648515433073,
          null,
          1832.1877480309433,
          1811.3996576150303,
          1831.840014696801,
          null,
          1960.263955759463,
          1943.1667471752673,
          1959.9779617491158,
          null,
          2142.2779689461713,
          2142.2693268112903,
          2142.2778243846305,
          null,
          2217.1389070248074,
          2217.137592054751,
          2217.1388850286107,
          null,
          2335.0557153153377,
          2335.0480136911942,
          2335.055586486216,
          null,
          66.74977536585891,
          66.7556595857034,
          66.76049304383167,
          null,
          74.69388631369256,
          74.7050706765071,
          74.7142578161423,
          null,
          81.74002678038181,
          81.75106414807776,
          81.76013054192683,
          null,
          1312.9226507877815,
          1312.9184516208643,
          1312.922359336366,
          null,
          1457.5315179578724,
          1457.522875405918,
          1457.5309181046039,
          null,
          1704.8517751321374,
          1704.8433673380005,
          1704.8511915726956,
          null,
          2033.8421470963103,
          2033.8316424671145,
          2033.8414180019188,
          null,
          2796.7061139015705,
          2796.706892088548,
          2796.7071576690587,
          null,
          2819.4428473569933,
          2819.443127518525,
          2819.4432231323617,
          null,
          2865.2133664992602,
          2865.2135617392273,
          2865.2136283709387,
          null,
          2900.6786343769736,
          2900.67872808647,
          2900.6787600677503,
          null,
          1632.7928649909227,
          1632.778138359432,
          1632.778677607733,
          null,
          1791.3843035695054,
          1791.3499414293606,
          1791.3511996753962,
          null,
          1112.3483718882237,
          1112.3637229500353,
          1112.363252865081,
          null,
          1171.7542756844803,
          1171.7802534746181,
          1171.779457974708,
          null,
          1238.172257197579,
          1238.1816850563407,
          1238.181396353539,
          null,
          1294.965706038465,
          1294.9759100855483,
          1294.9755976140682,
          null,
          1978.081103041785,
          1978.0794508840038,
          1978.0818497019363,
          null,
          1967.2734729533965,
          1967.2611389866518,
          1967.2790470466111,
          null,
          1945.7512696076724,
          1945.7370984739107,
          1945.7576739723168,
          null,
          1869.0687077058888,
          1869.0575631440367,
          1869.073744271001,
          null,
          1708.675671692843,
          1708.6641649233788,
          1708.6808719505477,
          null,
          1588.5362669125966,
          1588.5257569560413,
          1588.5410166803506,
          null,
          1519.576288296988,
          1519.563403372865,
          1519.5904739227342,
          null,
          1316.0446167957364,
          1316.0349531026443,
          1316.0552560150463,
          null,
          1799.9139112309933,
          1799.9109065626012,
          1799.9145609479017,
          null,
          1591.3001613384054,
          1591.251473534603,
          1591.3106893851764,
          null,
          1393.8143114501563,
          1393.7709779995366,
          1393.8236816940212,
          null,
          1217.3988979484257,
          1217.3739113932934,
          1217.4043009364543,
          null,
          1116.8248541671255,
          1116.80574768645,
          1116.8289856724816,
          null,
          2821.7569892994825,
          2821.7569931130515,
          2821.7570006502633,
          null,
          847.9422095185319,
          831.8933944791208,
          843.7328922610312,
          null,
          927.4055453644867,
          906.1254299356352,
          921.8241515421827,
          null,
          996.063390501348,
          974.773641608738,
          990.4794699937312,
          null,
          1168.0046859513138,
          1146.7316057678938,
          1162.4251373481075,
          null,
          1307.319153241961,
          1286.061563463539,
          1301.7436674950418,
          null,
          1329.665032054309,
          1308.4238591363062,
          1324.0938521563703,
          null,
          2653.17131770575,
          2653.1710980480602,
          2653.1712188761207,
          null,
          2770.647477733029,
          2770.6472894358308,
          2770.6473930132897,
          null,
          2833.093872754201,
          2833.0936810470866,
          2833.093786500253,
          null,
          2813.2162366986336,
          2813.2162259236047,
          2813.216342687912,
          null,
          2775.1909203695113,
          2775.1909119309967,
          2775.1910033755153,
          null,
          2699.5258131487335,
          2699.525806817592,
          2699.525875425421,
          null,
          2594.1938656589523,
          2594.1938604428424,
          2594.1939169675597,
          null,
          308.7233158822796,
          308.72032837908995,
          308.72151925802973,
          null,
          347.0583848405555,
          347.05408000915673,
          347.0557960016517,
          null,
          427.67400430653333,
          427.6667119719449,
          427.6696188433796,
          null,
          545.5365467520311,
          545.5401262312955,
          545.5386993787699,
          null,
          614.7982499584452,
          614.8127791682615,
          614.8069875326102,
          null,
          727.2357575320978,
          727.255077271949,
          727.2473760345442,
          null,
          836.7940341714104,
          836.8092720702915,
          836.8031979369059,
          null,
          252.0796847672456,
          252.0807050595151,
          252.08268061822926,
          null,
          238.69647546645353,
          238.69851605099254,
          238.70246716842087,
          null,
          223.3360893614486,
          223.3389954002974,
          223.34462226873802,
          null,
          210.3007037011804,
          210.30443095492197,
          210.3116479150315,
          null,
          201.5158017495688,
          201.52099447542767,
          201.53104898150147,
          null,
          175.30517259814368,
          175.30643261765528,
          175.30887235242594,
          null,
          285.2069080511467,
          285.2154625032034,
          285.2223917573123,
          null,
          287.95946617353854,
          287.9772967703696,
          287.99173986216977,
          null,
          292.05159452134905,
          303.5106480453251,
          312.7926795756262,
          null,
          304.0867926055853,
          315.5508233198989,
          324.83688646045016,
          null,
          305.2516447553245,
          316.7151716939665,
          326.0008267675114,
          null,
          316.17200864483834,
          316.1737557361337,
          316.17517091029765,
          null,
          89.37767338092763,
          89.37966593227375,
          89.38306425236127,
          null,
          77.21096435837528,
          77.21687350467344,
          77.22695162416791,
          null,
          69.67344191454026,
          69.68182462308607,
          69.69612143249795,
          null,
          53.29206079648646,
          53.29649729487377,
          53.30406379579084,
          null,
          30.91433333964806,
          30.91837813103661,
          30.925276570995123,
          null,
          292.98076221579396,
          292.989058061337,
          292.99283036825096,
          null,
          298.6061070439526,
          298.6159367863399,
          298.62040659053014,
          null,
          309.9916475013442,
          309.9894920890151,
          309.98851197471697,
          null,
          2162.772062562808,
          2162.772582856373,
          2162.819408160376,
          null,
          2041.540710561501,
          2041.541148268154,
          2041.5805409273548,
          null,
          1976.9985468012737,
          1976.9988909935118,
          1977.0298675561046,
          null,
          1970.1449263851723,
          1970.145159952637,
          1970.166180523091,
          null,
          1964.1695864413282,
          1964.1696780397187,
          1964.177921698259,
          null,
          495.21588003476904,
          495.20737939876983,
          495.21643761495545,
          null,
          380.47257307490673,
          380.4630884190431,
          380.4731951996731,
          null,
          964.0296597395727,
          964.0336997232926,
          964.0382621662287,
          null,
          961.7022017486145,
          961.7080032041631,
          961.7145549161805,
          null,
          953.8794026166964,
          953.883683331913,
          953.8885176382507,
          null,
          2443.1011727363266,
          2443.1010723527684,
          2443.1010509585262,
          null,
          2484.146597330911,
          2484.1464752633847,
          2484.146449247748,
          null,
          2536.140690298946,
          2536.140603563075,
          2536.1405850774954,
          null,
          2597.7004367043373,
          2597.700394906352,
          2597.700385998158,
          null,
          2641.7614744635166,
          2641.7614496551923,
          2641.761444367919,
          null,
          381.4982271387662,
          381.47167271251266,
          381.501748027689,
          null,
          191.70293223574976,
          191.696055423518,
          191.70384404200684,
          null,
          2454.6382225726497,
          2454.638186728012,
          2454.6381249315023,
          null,
          2434.8510871340504,
          2434.8510611656266,
          2434.8510163958067,
          null,
          1034.1156602426665,
          1034.1023172840103,
          1034.1163854758279,
          null,
          960.0216019835204,
          960.019519686761,
          960.0217151631158,
          null,
          764.6579947823176,
          764.6673172069906,
          764.657488078243,
          null,
          356.8228484132941,
          356.8439688976976,
          356.8149999943035,
          null,
          330.02836881717536,
          330.0389252741108,
          330.02444601429346,
          null,
          304.23728951570035,
          304.24687499415813,
          304.2337275305809,
          null,
          187.52363787484651,
          187.5356197229187,
          187.5191853934472,
          null,
          48.53945985468081,
          48.551156624525625,
          48.53511330898494,
          null,
          2167.720982957269,
          2150.320253667254,
          2179.763906805311,
          null,
          2006.9061679062143,
          1989.4983621214408,
          2018.9539893471137,
          null,
          1851.6801864997312,
          1834.2693538704727,
          1863.7301027986693,
          null,
          1804.027749342968,
          1786.6282147594395,
          1816.0698463429508,
          null,
          1701.6286254430538,
          1684.2424488280844,
          1713.6614774858028,
          null,
          1622.1537483110167,
          1622.0725033132755,
          1622.1456671483256,
          null,
          1883.84041279721,
          1883.7310423822032,
          1883.8295340952366,
          null,
          1859.0594979166199,
          1834.360679120548,
          1856.6027906913437,
          null,
          2004.3917120890892,
          1979.687697550844,
          2001.9344880610686,
          null,
          2280.359477790946,
          2280.329013496239,
          2280.3564476115057,
          null,
          2767.1753270578006,
          2713.120624766087,
          2786.8850052616717,
          null,
          2631.709062430486,
          2577.642852385419,
          2651.422936645173,
          null,
          2445.904245252226,
          2391.8269629618644,
          2465.622156680744,
          null,
          2215.1639431097806,
          2161.122277414763,
          2234.8688678488306,
          null,
          2316.3415168559195,
          2316.329044131541,
          2316.3460647189804,
          null,
          2283.1082707079204,
          2283.0740890010134,
          2283.1207342016596,
          null,
          2430.3879081274863,
          2430.3650817983985,
          2430.3929090972715,
          null,
          2333.3989884537186,
          2333.3828070442833,
          2333.402533602803,
          null,
          2181.283702547339,
          2181.279676428157,
          2181.2845846208565,
          null,
          2056.073437869702,
          2056.069734831995,
          2056.074249160016,
          null,
          1922.3531239895228,
          1922.341321948769,
          1922.3557096724414,
          null,
          2423.1999242059665,
          2423.2016274066714,
          2423.2287119888874,
          null,
          2358.8324226872137,
          2358.833565798408,
          2358.851743743633,
          null,
          810.990293626776,
          825.2351955268954,
          831.4137408755955,
          null,
          829.531878495264,
          843.7876749670305,
          849.9709456978671,
          null,
          842.4589936516049,
          856.7208585210834,
          862.9067613423844,
          null,
          866.5828926813144,
          880.8530462878579,
          887.0425442436286,
          null,
          245.20589275375147,
          245.2110277433573,
          245.20825820014278,
          null,
          340.5510444894788,
          340.5805273840032,
          340.5646258619472,
          null,
          373.15970874884397,
          373.17829957463886,
          373.1682726613664,
          null,
          429.2295431545545,
          429.24711016298477,
          429.23763544293035,
          null,
          575.6042647303002,
          575.6163857043657,
          575.6098482887031,
          null,
          711.1735410221313,
          711.1934826128326,
          711.1827271680405,
          null,
          838.8270738381023,
          838.8145041297325,
          838.8212835690686,
          null,
          2245.2745417755636,
          2259.4552806974793,
          2295.1643510695703,
          null,
          2206.6926552180585,
          2220.872574996143,
          2256.5795826502845,
          null,
          2210.856683350865,
          2219.1751430908603,
          2240.1221801866377,
          null,
          2202.704309928642,
          2207.5450368034135,
          2219.7346594722394,
          null,
          2198.62022130472,
          2198.6190849464565,
          2198.6162234385038,
          null,
          2544.922834703548,
          2544.923111526914,
          2544.964094812056,
          null,
          2507.2056988095524,
          2507.2059030227806,
          2507.236136485674,
          null,
          2466.861294986982,
          2466.8614156099093,
          2466.879273653767,
          null,
          2645.7546150545495,
          2645.7113850729693,
          2645.750416851403,
          null,
          2953.0521799225135,
          2952.9520860395464,
          2953.042459482229,
          null,
          3117.2704720784122,
          3044.9263903814494,
          3110.244904628789,
          null,
          1435.4217916057023,
          1435.405140977354,
          1435.4274064806311,
          null,
          1195.8837582168312,
          1195.8782080073818,
          1195.8856298418075,
          null,
          873.1244451426408,
          873.1456337640935,
          873.1343787602689,
          null,
          925.635062545309,
          925.6714082202644,
          925.6521020699541,
          null,
          982.7358322716851,
          982.6238803161845,
          982.6833471243555,
          null,
          1054.4427577894758,
          1054.3423977738637,
          1054.395707157963,
          null,
          1264.2212876598974,
          1264.1462550800172,
          1264.1861109986955,
          null,
          1441.1714123554862,
          1441.1203444099683,
          1441.1474707581076,
          null,
          1489.2214784408206,
          1489.201406437698,
          1489.2120683145179,
          null,
          2117.1405780927216,
          2117.151756211387,
          2117.148440121376,
          null,
          2174.8904521692075,
          2174.913406479131,
          2174.9065968754653,
          null,
          2230.2517637347282,
          2230.264695591063,
          2230.26085923891,
          null,
          2338.437610153714,
          2353.0727758932426,
          2348.731121598421,
          null,
          2455.4991277169884,
          2470.153693543372,
          2465.806284037307,
          null,
          2511.574573401825,
          2511.626331626273,
          2511.610977080826,
          null,
          1025.8072871566949,
          1025.814507860632,
          1025.807865121165,
          null,
          1151.1263498205738,
          1151.1335705245108,
          1151.1269277850438,
          null,
          1299.9974686366738,
          1299.9902479327368,
          1299.9968906722038,
          null,
          2400.9275501625357,
          2400.9263504113997,
          2400.9271830181674,
          null,
          2470.655360466358,
          2470.6427213593556,
          2470.651492683433,
          null,
          2667.3936345012316,
          2667.3977011861934,
          2667.3948789763876,
          null,
          2808.301423990717,
          2808.303950254046,
          2808.3021970705054,
          null,
          2892.063001227374,
          2892.0628484330537,
          2892.063034399212,
          null,
          2803.701782948899,
          2803.7016438341916,
          2803.701813150876,
          null,
          2684.6549674520193,
          2684.654844034088,
          2684.6549942462066,
          null,
          2576.2566606065266,
          2576.2565228597805,
          2576.2566905115177,
          null,
          2468.9079520040455,
          2468.907866958588,
          2468.907970467521,
          null,
          1204.6150414908736,
          1204.6233436314076,
          1204.6248978422177,
          null,
          1242.5333366879702,
          1242.549940969038,
          1242.5530493906585,
          null,
          1320.8699155586883,
          1320.8989730505573,
          1320.904412788393,
          null,
          1385.8164945980059,
          1385.7700885370407,
          1385.761401042374,
          null,
          2281.18543292028,
          2281.192009547047,
          2281.2023282970367,
          null,
          2275.312367137143,
          2275.3227857158263,
          2275.3391325015714,
          null,
          2269.3162517949877,
          2269.332892730949,
          2269.3590024166388,
          null,
          2266.2944516891894,
          2266.3128818581913,
          2266.3417988566684,
          null,
          2247.8824105039093,
          2247.9047875303036,
          2247.9398971615883,
          null,
          2226.2571079909662,
          2226.2766071263577,
          2226.3072013367723,
          null,
          2269.5512884759582,
          2269.546676389927,
          2269.540817220916,
          null,
          2249.378308877187,
          2249.387755960469,
          2249.3997574836926,
          null,
          171.55231455913892,
          171.55215283423314,
          171.5524289383303,
          null,
          99.09161160429727,
          99.09128815448572,
          99.09184036268007,
          null,
          2809.6775377404356,
          2809.6752626850844,
          2809.677734508488,
          null,
          2743.3915726219993,
          2743.388409755626,
          2743.391846176247,
          null,
          2581.87658298435,
          2581.8729206846688,
          2581.8768997342586,
          null,
          2372.8459872170033,
          2372.825005269837,
          2372.8478019319164,
          null,
          1343.2893032097145,
          1343.2886812179663,
          1343.289055892604,
          null,
          1527.2103306338363,
          1527.2160434884397,
          1527.2126021859863,
          null,
          1630.1352668967545,
          1630.1470939958342,
          1630.1399696021806,
          null,
          1732.2546238960279,
          1732.2513235472522,
          1732.25331160736,
          null,
          1804.8275869846702,
          1804.8135945728052,
          1804.8220233049583,
          null,
          2615.1552759601013,
          2615.1554063952563,
          2615.154957701783,
          null,
          2500.394846182123,
          2500.3949224557714,
          2500.3946600764443,
          null,
          2447.650175022967,
          2447.6502177775214,
          2447.650070702988,
          null,
          1110.8430042114164,
          1110.827957959936,
          1110.8524365851279,
          null,
          981.0742182577098,
          981.0534026910119,
          981.0872673686041,
          null,
          920.4579002388817,
          920.4344482925023,
          920.4726020749371,
          null,
          864.3865351625423,
          864.3669252593467,
          864.3988284527102,
          null,
          735.0271763649712,
          735.0210633831899,
          735.0310085439512,
          null,
          2641.8945491240092,
          2641.8945256631746,
          2641.89453065082,
          null,
          2706.787906589908,
          2706.7878939257794,
          2706.7878966181042,
          null,
          1293.775486424943,
          1293.7872618408953,
          1293.8873907017025,
          null,
          1287.0358893980047,
          1287.0455823020498,
          1287.1280031221613,
          null,
          1274.057538760867,
          1274.0639684272642,
          1274.118641245136,
          null,
          1243.7103192010914,
          1243.7134685730823,
          1243.740248351478,
          null,
          1213.6132237448949,
          1213.6137998124773,
          1213.618698237383,
          null,
          1166.8123870582172,
          1166.8130075281274,
          1166.8182835154505,
          null,
          1121.9828964477324,
          1121.9840135477148,
          1121.9935124859335,
          null,
          274.23576768388057,
          274.23562921616366,
          274.2361560730226,
          null,
          243.57772776203333,
          243.57745082659946,
          243.57850454031725,
          null,
          207.02930884678975,
          207.02980586551175,
          207.02791475523347,
          null,
          71.45870895600059,
          71.45924553692744,
          71.45720389611806,
          null,
          2781.0973004154444,
          2781.0973073917867,
          2781.097325195029,
          null,
          2755.777167987609,
          2755.777175648118,
          2755.7771951973155,
          null,
          2688.733069889643,
          2688.733081197244,
          2688.7331100536185,
          null,
          2642.33275169151,
          2642.332760289381,
          2642.332782230674,
          null,
          485.3889832357452,
          485.3820972680263,
          485.3952369600413,
          null,
          337.45813523269766,
          337.45219279085967,
          337.4635320620785,
          null,
          317.9386318060599,
          317.93194517078507,
          317.94470449986056,
          null,
          262.1155986470832,
          262.10985553768916,
          262.1208144459685,
          null,
          211.48539205006009,
          211.48101439637637,
          211.4893677641964,
          null,
          87.06737990224295,
          87.066108208717,
          87.0685348336956,
          null,
          1248.1656345870106,
          1248.129532804758,
          1248.1769483328476,
          null,
          1130.02658300782,
          1129.8027604600932,
          1130.096725567537,
          null,
          995.9582284596421,
          995.7266250252669,
          996.030809430109,
          null,
          900.2623051823949,
          900.0270966464706,
          900.336015936493,
          null,
          834.5586070659456,
          834.3331821630542,
          834.6292517792392,
          null,
          702.0337336595949,
          701.8047290662366,
          702.1055001930756,
          null,
          2595.2821393076733,
          2595.2966120999654,
          2595.2846649526496,
          null,
          2801.497921157212,
          2801.4973285866195,
          2801.4978177478,
          null,
          2838.585199754115,
          2838.5931816154043,
          2838.624083802388,
          null,
          2822.2372057668877,
          2822.243028759132,
          2822.2655727734436,
          null,
          2803.4996879812156,
          2803.5054292715986,
          2803.527656972947,
          null,
          1895.121353145515,
          1895.1212107558276,
          1895.1225940400752,
          null,
          1887.3284956325601,
          1887.3280563161454,
          1887.3323241777257,
          null,
          1877.0894368716786,
          1877.0886094608375,
          1877.0966475737378,
          null,
          1788.4186300499596,
          1788.417525096504,
          1788.4282594743768,
          null,
          1657.1913397104363,
          1657.1904474224593,
          1657.1991158023513,
          null,
          1595.225576210828,
          1595.2245794830164,
          1595.2342624727494,
          null,
          1865.4243359324867,
          1865.425356725464,
          1865.4258015890032,
          null,
          1894.5131614892548,
          1894.5122277130506,
          1894.5118207715884,
          null,
          1897.056403563962,
          1897.0544525221908,
          1897.0536022544416,
          null,
          1915.4673009364915,
          1915.4659500211446,
          1915.4653612896432,
          null,
          1945.5288356163676,
          1945.5273571018986,
          1945.5267127624547,
          null,
          1960.8657347332544,
          1960.8629891420499,
          1960.8617926081324,
          null,
          1962.7077466926185,
          1962.7016466266255,
          1962.6989882061557,
          null,
          1323.2296501480614,
          1323.2390263781288,
          1323.2449195467336,
          null,
          1340.0015095205865,
          1340.0109912761648,
          1340.0169507698943,
          null,
          1352.7482697359003,
          1352.7596714574386,
          1352.7668376923675,
          null,
          1364.8878325476874,
          1364.892355547603,
          1364.895198353391,
          null,
          1371.2305105969708,
          1371.237055000605,
          1371.241168303474,
          null,
          595.039351928344,
          595.0464409465392,
          595.0411884102549,
          null,
          721.4223248393963,
          721.4239001298779,
          721.422732934339,
          null,
          890.142321502128,
          890.1208447915227,
          890.1367577428814,
          null,
          997.2293526848001,
          997.2023955964563,
          997.2223691782337,
          null,
          1126.121242050313,
          1126.084073182158,
          1126.111613078834,
          null,
          1226.87562421105,
          1226.8720065169896,
          1226.884035398525,
          null,
          1129.267619116229,
          1129.267619116229,
          1129.267619116229,
          null
         ]
        },
        {
         "hoverinfo": "name",
         "marker": {
          "color": "white",
          "size": 5
         },
         "mode": "markers",
         "name": "Junction #1",
         "opacity": 0.9,
         "type": "scatter",
         "x": [
          1804.5938906860697
         ],
         "y": [
          708.9691641516665
         ]
        },
        {
         "hoverinfo": "name",
         "marker": {
          "color": "white",
          "size": 5
         },
         "mode": "markers",
         "name": "Junction #2",
         "opacity": 0.9,
         "type": "scatter",
         "x": [
          1931.8619448514107
         ],
         "y": [
          497.6053664128003
         ]
        },
        {
         "hoverinfo": "name",
         "marker": {
          "color": "white",
          "size": 5
         },
         "mode": "markers",
         "name": "Junction #3",
         "opacity": 0.9,
         "type": "scatter",
         "x": [
          2113.856328728909
         ],
         "y": [
          195.35336455915012
         ]
        },
        {
         "hoverinfo": "name",
         "marker": {
          "color": "red",
          "size": 5
         },
         "mode": "markers",
         "name": "Junction #4",
         "opacity": 0.9,
         "type": "scatter",
         "x": [
          2057.95440246436
         ],
         "y": [
          288.1939718402414
         ]
        },
        {
         "hoverinfo": "name",
         "marker": {
          "color": "white",
          "size": 5
         },
         "mode": "markers",
         "name": "Junction #5",
         "opacity": 0.9,
         "type": "scatter",
         "x": [
          2184.5200345394537
         ],
         "y": [
          77.99674022501131
         ]
        },
        {
         "hoverinfo": "name",
         "marker": {
          "color": "red",
          "size": 5
         },
         "mode": "markers",
         "name": "Junction #6",
         "opacity": 0.9,
         "type": "scatter",
         "x": [
          1696.1131292590624
         ],
         "y": [
          889.1314669949861
         ]
        },
        {
         "hoverinfo": "name",
         "marker": {
          "color": "white",
          "size": 5
         },
         "mode": "markers",
         "name": "Junction #7",
         "opacity": 0.9,
         "type": "scatter",
         "x": [
          1791.3110891862968
         ],
         "y": [
          731.0289291729505
         ]
        },
        {
         "hoverinfo": "name",
         "marker": {
          "color": "red",
          "size": 5
         },
         "mode": "markers",
         "name": "Junction #8",
         "opacity": 0.9,
         "type": "scatter",
         "x": [
          2369.2288848161597
         ],
         "y": [
          926.5274304712389
         ]
        },
        {
         "hoverinfo": "name",
         "marker": {
          "color": "red",
          "size": 5
         },
         "mode": "markers",
         "name": "Junction #9",
         "opacity": 0.9,
         "type": "scatter",
         "x": [
          2277.862694696019
         ],
         "y": [
          1016.5405414136662
         ]
        },
        {
         "hoverinfo": "name",
         "marker": {
          "color": "red",
          "size": 5
         },
         "mode": "markers",
         "name": "Junction #10",
         "opacity": 0.9,
         "type": "scatter",
         "x": [
          2755.561886374971
         ],
         "y": [
          545.9157919175555
         ]
        },
        {
         "hoverinfo": "name",
         "marker": {
          "color": "white",
          "size": 5
         },
         "mode": "markers",
         "name": "Junction #11",
         "opacity": 0.9,
         "type": "scatter",
         "x": [
          2382.438688382051
         ],
         "y": [
          913.5132562746271
         ]
        },
        {
         "hoverinfo": "name",
         "marker": {
          "color": "red",
          "size": 5
         },
         "mode": "markers",
         "name": "Junction #12",
         "opacity": 0.9,
         "type": "scatter",
         "x": [
          2335.94858377742
         ],
         "y": [
          959.3148699568774
         ]
        },
        {
         "hoverinfo": "name",
         "marker": {
          "color": "red",
          "size": 5
         },
         "mode": "markers",
         "name": "Junction #13",
         "opacity": 0.9,
         "type": "scatter",
         "x": [
          1658.7673993962396
         ],
         "y": [
          1888.8127512567285
         ]
        },
        {
         "hoverinfo": "name",
         "marker": {
          "color": "white",
          "size": 5
         },
         "mode": "markers",
         "name": "Junction #14",
         "opacity": 0.9,
         "type": "scatter",
         "x": [
          1669.3250608110534
         ],
         "y": [
          1880.7069542984295
         ]
        },
        {
         "hoverinfo": "name",
         "marker": {
          "color": "white",
          "size": 5
         },
         "mode": "markers",
         "name": "Junction #15",
         "opacity": 0.9,
         "type": "scatter",
         "x": [
          2069.8984403165987
         ],
         "y": [
          1573.1609596318774
         ]
        },
        {
         "hoverinfo": "name",
         "marker": {
          "color": "red",
          "size": 5
         },
         "mode": "markers",
         "name": "Junction #16",
         "opacity": 0.9,
         "type": "scatter",
         "x": [
          2315.9896872437894
         ],
         "y": [
          1384.220852307778
         ]
        },
        {
         "hoverinfo": "name",
         "marker": {
          "color": "white",
          "size": 5
         },
         "mode": "markers",
         "name": "Junction #17",
         "opacity": 0.9,
         "type": "scatter",
         "x": [
          1801.5209893494318
         ],
         "y": [
          1779.2116218242923
         ]
        },
        {
         "hoverinfo": "name",
         "marker": {
          "color": "white",
          "size": 5
         },
         "mode": "markers",
         "name": "Junction #18",
         "opacity": 0.9,
         "type": "scatter",
         "x": [
          2339.4375586433353
         ],
         "y": [
          1366.2184105546885
         ]
        },
        {
         "hoverinfo": "name",
         "marker": {
          "color": "white",
          "size": 5
         },
         "mode": "markers",
         "name": "Junction #19",
         "opacity": 0.9,
         "type": "scatter",
         "x": [
          1354.2198358333246
         ],
         "y": [
          2416.4976942398716
         ]
        },
        {
         "hoverinfo": "name",
         "marker": {
          "color": "white",
          "size": 5
         },
         "mode": "markers",
         "name": "Junction #20",
         "opacity": 0.9,
         "type": "scatter",
         "x": [
          1675.9436910583022
         ],
         "y": [
          2166.324343179488
         ]
        },
        {
         "hoverinfo": "name",
         "marker": {
          "color": "white",
          "size": 5
         },
         "mode": "markers",
         "name": "Junction #21",
         "opacity": 0.9,
         "type": "scatter",
         "x": [
          1763.9528579459902
         ],
         "y": [
          2097.88817394072
         ]
        },
        {
         "hoverinfo": "name",
         "marker": {
          "color": "white",
          "size": 5
         },
         "mode": "markers",
         "name": "Junction #22",
         "opacity": 0.9,
         "type": "scatter",
         "x": [
          1372.9808393504632
         ],
         "y": [
          2401.909086516468
         ]
        },
        {
         "hoverinfo": "name",
         "marker": {
          "color": "white",
          "size": 5
         },
         "mode": "markers",
         "name": "Junction #23",
         "opacity": 0.9,
         "type": "scatter",
         "x": [
          1529.8498441145794
         ],
         "y": [
          2279.927318730231
         ]
        },
        {
         "hoverinfo": "name",
         "marker": {
          "color": "white",
          "size": 5
         },
         "mode": "markers",
         "name": "Junction #24",
         "opacity": 0.9,
         "type": "scatter",
         "x": [
          746.9974953850921
         ],
         "y": [
          2117.8866158777737
         ]
        },
        {
         "hoverinfo": "name",
         "marker": {
          "color": "white",
          "size": 5
         },
         "mode": "markers",
         "name": "Junction #25",
         "opacity": 0.9,
         "type": "scatter",
         "x": [
          281.0584629843572
         ],
         "y": [
          1980.6021949188876
         ]
        },
        {
         "hoverinfo": "name",
         "marker": {
          "color": "white",
          "size": 5
         },
         "mode": "markers",
         "name": "Junction #26",
         "opacity": 0.9,
         "type": "scatter",
         "x": [
          780.1510914101937
         ],
         "y": [
          2127.6550016890237
         ]
        },
        {
         "hoverinfo": "name",
         "marker": {
          "color": "red",
          "size": 5
         },
         "mode": "markers",
         "name": "Junction #27",
         "opacity": 0.9,
         "type": "scatter",
         "x": [
          1111.2749121260074
         ],
         "y": [
          1303.411156734961
         ]
        },
        {
         "hoverinfo": "name",
         "marker": {
          "color": "white",
          "size": 5
         },
         "mode": "markers",
         "name": "Junction #28",
         "opacity": 0.9,
         "type": "scatter",
         "x": [
          1111.516289945037
         ],
         "y": [
          1317.1798434373486
         ]
        },
        {
         "hoverinfo": "name",
         "marker": {
          "color": "red",
          "size": 5
         },
         "mode": "markers",
         "name": "Junction #29",
         "opacity": 0.9,
         "type": "scatter",
         "x": [
          1096.2214707795702
         ],
         "y": [
          444.7319353998464
         ]
        },
        {
         "hoverinfo": "name",
         "marker": {
          "color": "white",
          "size": 5
         },
         "mode": "markers",
         "name": "Junction #30",
         "opacity": 0.9,
         "type": "scatter",
         "x": [
          1099.0271154334837
         ],
         "y": [
          604.7716705887506
         ]
        },
        {
         "hoverinfo": "name",
         "marker": {
          "color": "white",
          "size": 5
         },
         "mode": "markers",
         "name": "Junction #31",
         "opacity": 0.9,
         "type": "scatter",
         "x": [
          1105.3554206212086
         ],
         "y": [
          965.7511998478658
         ]
        },
        {
         "hoverinfo": "name",
         "marker": {
          "color": "red",
          "size": 5
         },
         "mode": "markers",
         "name": "Junction #32",
         "opacity": 0.9,
         "type": "scatter",
         "x": [
          1102.516277893713
         ],
         "y": [
          803.8006657208534
         ]
        },
        {
         "hoverinfo": "name",
         "marker": {
          "color": "white",
          "size": 5
         },
         "mode": "markers",
         "name": "Junction #33",
         "opacity": 0.9,
         "type": "scatter",
         "x": [
          1111.0996942709492
         ],
         "y": [
          1293.416370301551
         ]
        },
        {
         "hoverinfo": "name",
         "marker": {
          "color": "white",
          "size": 5
         },
         "mode": "markers",
         "name": "Junction #34",
         "opacity": 0.9,
         "type": "scatter",
         "x": [
          1098.3345672391274
         ],
         "y": [
          565.2672987590049
         ]
        },
        {
         "hoverinfo": "name",
         "marker": {
          "color": "white",
          "size": 5
         },
         "mode": "markers",
         "name": "Junction #35",
         "opacity": 0.9,
         "type": "scatter",
         "x": [
          1090.5213616232033
         ],
         "y": [
          2918.5130082082705
         ]
        },
        {
         "hoverinfo": "name",
         "marker": {
          "color": "white",
          "size": 5
         },
         "mode": "markers",
         "name": "Junction #36",
         "opacity": 0.9,
         "type": "scatter",
         "x": [
          374.96239788368666
         ],
         "y": [
          2787.6922341526533
         ]
        },
        {
         "hoverinfo": "name",
         "marker": {
          "color": "white",
          "size": 5
         },
         "mode": "markers",
         "name": "Junction #37",
         "opacity": 0.9,
         "type": "scatter",
         "x": [
          682.4767591777423
         ],
         "y": [
          2529.1935616153005
         ]
        },
        {
         "hoverinfo": "name",
         "marker": {
          "color": "white",
          "size": 5
         },
         "mode": "markers",
         "name": "Junction #38",
         "opacity": 0.9,
         "type": "scatter",
         "x": [
          778.4889784173351
         ],
         "y": [
          1917.1346334281125
         ]
        },
        {
         "hoverinfo": "name",
         "marker": {
          "color": "white",
          "size": 5
         },
         "mode": "markers",
         "name": "Junction #39",
         "opacity": 0.9,
         "type": "scatter",
         "x": [
          722.6081511738088
         ],
         "y": [
          2273.363866537871
         ]
        },
        {
         "hoverinfo": "name",
         "marker": {
          "color": "white",
          "size": 5
         },
         "mode": "markers",
         "name": "Junction #40",
         "opacity": 0.9,
         "type": "scatter",
         "x": [
          748.7684553465607
         ],
         "y": [
          2106.5970960180766
         ]
        },
        {
         "hoverinfo": "name",
         "marker": {
          "color": "white",
          "size": 5
         },
         "mode": "markers",
         "name": "Junction #41",
         "opacity": 0.9,
         "type": "scatter",
         "x": [
          727.3400224065674
         ],
         "y": [
          2243.1991223211508
         ]
        },
        {
         "hoverinfo": "name",
         "marker": {
          "color": "white",
          "size": 5
         },
         "mode": "markers",
         "name": "Junction #42",
         "opacity": 0.9,
         "type": "scatter",
         "x": [
          2850.179067893859
         ],
         "y": [
          1292.451640699639
         ]
        },
        {
         "hoverinfo": "name",
         "marker": {
          "color": "white",
          "size": 5
         },
         "mode": "markers",
         "name": "Junction #43",
         "opacity": 0.9,
         "type": "scatter",
         "x": [
          2887.414513739503
         ],
         "y": [
          1492.877602221397
         ]
        },
        {
         "hoverinfo": "name",
         "marker": {
          "color": "white",
          "size": 5
         },
         "mode": "markers",
         "name": "Junction #44",
         "opacity": 0.9,
         "type": "scatter",
         "x": [
          2873.858163342147
         ],
         "y": [
          1419.908298338767
         ]
        },
        {
         "hoverinfo": "name",
         "marker": {
          "color": "white",
          "size": 5
         },
         "mode": "markers",
         "name": "Junction #45",
         "opacity": 0.9,
         "type": "scatter",
         "x": [
          2948.232594728076
         ],
         "y": [
          1820.241007793964
         ]
        },
        {
         "hoverinfo": "name",
         "marker": {
          "color": "white",
          "size": 5
         },
         "mode": "markers",
         "name": "Junction #46",
         "opacity": 0.9,
         "type": "scatter",
         "x": [
          2979.879103579897
         ],
         "y": [
          1990.5835892075575
         ]
        },
        {
         "hoverinfo": "name",
         "marker": {
          "color": "white",
          "size": 5
         },
         "mode": "markers",
         "name": "Junction #47",
         "opacity": 0.9,
         "type": "scatter",
         "x": [
          2969.0181268403217
         ],
         "y": [
          1932.1225809758125
         ]
        },
        {
         "hoverinfo": "name",
         "marker": {
          "color": "white",
          "size": 5
         },
         "mode": "markers",
         "name": "Junction #48",
         "opacity": 0.9,
         "type": "scatter",
         "x": [
          2975.165042503844
         ],
         "y": [
          1965.2093737957985
         ]
        },
        {
         "hoverinfo": "name",
         "marker": {
          "color": "white",
          "size": 5
         },
         "mode": "markers",
         "name": "Junction #49",
         "opacity": 0.9,
         "type": "scatter",
         "x": [
          2926.465474558378
         ],
         "y": [
          1703.0758741292157
         ]
        },
        {
         "hoverinfo": "name",
         "marker": {
          "color": "white",
          "size": 5
         },
         "mode": "markers",
         "name": "Junction #50",
         "opacity": 0.9,
         "type": "scatter",
         "x": [
          2974.6164719649005
         ],
         "y": [
          1962.2566019077967
         ]
        },
        {
         "hoverinfo": "name",
         "marker": {
          "color": "white",
          "size": 5
         },
         "mode": "markers",
         "name": "Junction #51",
         "opacity": 0.9,
         "type": "scatter",
         "x": [
          948.7111715310303
         ],
         "y": [
          1920.0604306686164
         ]
        },
        {
         "hoverinfo": "name",
         "marker": {
          "color": "green",
          "size": 5
         },
         "mode": "markers",
         "name": "Junction #52",
         "opacity": 0.9,
         "type": "scatter",
         "x": [
          1537.1482199298375
         ],
         "y": [
          1703.4032720021617
         ]
        },
        {
         "hoverinfo": "name",
         "marker": {
          "color": "white",
          "size": 5
         },
         "mode": "markers",
         "name": "Junction #53",
         "opacity": 0.9,
         "type": "scatter",
         "x": [
          1199.3511638500854
         ],
         "y": [
          1827.777069633155
         ]
        },
        {
         "hoverinfo": "name",
         "marker": {
          "color": "white",
          "size": 5
         },
         "mode": "markers",
         "name": "Junction #54",
         "opacity": 0.9,
         "type": "scatter",
         "x": [
          1122.335167962902
         ],
         "y": [
          1856.1336574554018
         ]
        },
        {
         "hoverinfo": "name",
         "marker": {
          "color": "white",
          "size": 5
         },
         "mode": "markers",
         "name": "Junction #55",
         "opacity": 0.9,
         "type": "scatter",
         "x": [
          2642.5158754525028
         ],
         "y": [
          1192.3381678182277
         ]
        },
        {
         "hoverinfo": "name",
         "marker": {
          "color": "white",
          "size": 5
         },
         "mode": "markers",
         "name": "Junction #56",
         "opacity": 0.9,
         "type": "scatter",
         "x": [
          2779.6811653841637
         ],
         "y": [
          1463.4641220311587
         ]
        },
        {
         "hoverinfo": "name",
         "marker": {
          "color": "white",
          "size": 5
         },
         "mode": "markers",
         "name": "Junction #57",
         "opacity": 0.9,
         "type": "scatter",
         "x": [
          2760.06364133957
         ],
         "y": [
          1424.6874028733055
         ]
        },
        {
         "hoverinfo": "name",
         "marker": {
          "color": "white",
          "size": 5
         },
         "mode": "markers",
         "name": "Junction #58",
         "opacity": 0.9,
         "type": "scatter",
         "x": [
          2809.2975091669946
         ],
         "y": [
          1522.0048758357025
         ]
        },
        {
         "hoverinfo": "name",
         "marker": {
          "color": "red",
          "size": 5
         },
         "mode": "markers",
         "name": "Junction #59",
         "opacity": 0.9,
         "type": "scatter",
         "x": [
          2079.970086072904
         ],
         "y": [
          815.0737596458599
         ]
        },
        {
         "hoverinfo": "name",
         "marker": {
          "color": "white",
          "size": 5
         },
         "mode": "markers",
         "name": "Junction #60",
         "opacity": 0.9,
         "type": "scatter",
         "x": [
          1501.010685568269
         ],
         "y": [
          591.996187846994
         ]
        },
        {
         "hoverinfo": "name",
         "marker": {
          "color": "white",
          "size": 5
         },
         "mode": "markers",
         "name": "Junction #61",
         "opacity": 0.9,
         "type": "scatter",
         "x": [
          1758.604636045793
         ],
         "y": [
          691.2491457098715
         ]
        },
        {
         "hoverinfo": "name",
         "marker": {
          "color": "white",
          "size": 5
         },
         "mode": "markers",
         "name": "Junction #62",
         "opacity": 0.9,
         "type": "scatter",
         "x": [
          2279.1790711088033
         ],
         "y": [
          891.8305350321665
         ]
        },
        {
         "hoverinfo": "name",
         "marker": {
          "color": "white",
          "size": 5
         },
         "mode": "markers",
         "name": "Junction #63",
         "opacity": 0.9,
         "type": "scatter",
         "x": [
          2234.38475125053
         ],
         "y": [
          874.5709342801008
         ]
        },
        {
         "hoverinfo": "name",
         "marker": {
          "color": "red",
          "size": 5
         },
         "mode": "markers",
         "name": "Junction #64",
         "opacity": 0.9,
         "type": "scatter",
         "x": [
          1459.1221547201815
         ],
         "y": [
          575.8562102601918
         ]
        },
        {
         "hoverinfo": "name",
         "marker": {
          "color": "red",
          "size": 5
         },
         "mode": "markers",
         "name": "Junction #65",
         "opacity": 0.9,
         "type": "scatter",
         "x": [
          2252.848838528768
         ],
         "y": [
          1004.481476051051
         ]
        },
        {
         "hoverinfo": "name",
         "marker": {
          "color": "red",
          "size": 5
         },
         "mode": "markers",
         "name": "Junction #66",
         "opacity": 0.9,
         "type": "scatter",
         "x": [
          2134.9440221463356
         ],
         "y": [
          947.6401047000659
         ]
        },
        {
         "hoverinfo": "name",
         "marker": {
          "color": "white",
          "size": 5
         },
         "mode": "markers",
         "name": "Junction #67",
         "opacity": 0.9,
         "type": "scatter",
         "x": [
          2371.6623218272193
         ],
         "y": [
          1061.7609115557539
         ]
        },
        {
         "hoverinfo": "name",
         "marker": {
          "color": "white",
          "size": 5
         },
         "mode": "markers",
         "name": "Junction #68",
         "opacity": 0.9,
         "type": "scatter",
         "x": [
          2456.5584450255533
         ],
         "y": [
          1102.6889432768949
         ]
        },
        {
         "hoverinfo": "name",
         "marker": {
          "color": "white",
          "size": 5
         },
         "mode": "markers",
         "name": "Junction #69",
         "opacity": 0.9,
         "type": "scatter",
         "x": [
          2174.098904187272
         ],
         "y": [
          966.5164937957747
         ]
        },
        {
         "hoverinfo": "name",
         "marker": {
          "color": "red",
          "size": 5
         },
         "mode": "markers",
         "name": "Junction #70",
         "opacity": 0.9,
         "type": "scatter",
         "x": [
          1674.8302430533063
         ],
         "y": [
          2118.275109431479
         ]
        },
        {
         "hoverinfo": "name",
         "marker": {
          "color": "white",
          "size": 5
         },
         "mode": "markers",
         "name": "Junction #71",
         "opacity": 0.9,
         "type": "scatter",
         "x": [
          1786.6318753195633
         ],
         "y": [
          2014.2804448497902
         ]
        },
        {
         "hoverinfo": "name",
         "marker": {
          "color": "red",
          "size": 5
         },
         "mode": "markers",
         "name": "Junction #72",
         "opacity": 0.9,
         "type": "scatter",
         "x": [
          1294.038888022346
         ],
         "y": [
          2472.4762819845128
         ]
        },
        {
         "hoverinfo": "name",
         "marker": {
          "color": "white",
          "size": 5
         },
         "mode": "markers",
         "name": "Junction #73",
         "opacity": 0.9,
         "type": "scatter",
         "x": [
          1372.008894080975
         ],
         "y": [
          2399.9508236066877
         ]
        },
        {
         "hoverinfo": "name",
         "marker": {
          "color": "white",
          "size": 5
         },
         "mode": "markers",
         "name": "Junction #74",
         "opacity": 0.9,
         "type": "scatter",
         "x": [
          1498.3091300283652
         ],
         "y": [
          2282.469974645048
         ]
        },
        {
         "hoverinfo": "name",
         "marker": {
          "color": "white",
          "size": 5
         },
         "mode": "markers",
         "name": "Junction #75",
         "opacity": 0.9,
         "type": "scatter",
         "x": [
          1596.6566637712488
         ],
         "y": [
          387.3819820819317
         ]
        },
        {
         "hoverinfo": "name",
         "marker": {
          "color": "white",
          "size": 5
         },
         "mode": "markers",
         "name": "Junction #76",
         "opacity": 0.9,
         "type": "scatter",
         "x": [
          1568.4065266382959
         ],
         "y": [
          459.91743955346374
         ]
        },
        {
         "hoverinfo": "name",
         "marker": {
          "color": "white",
          "size": 5
         },
         "mode": "markers",
         "name": "Junction #77",
         "opacity": 0.9,
         "type": "scatter",
         "x": [
          1900.410395268577
         ],
         "y": [
          487.2633568051384
         ]
        },
        {
         "hoverinfo": "name",
         "marker": {
          "color": "white",
          "size": 5
         },
         "mode": "markers",
         "name": "Junction #78",
         "opacity": 0.9,
         "type": "scatter",
         "x": [
          1447.4410930564527
         ],
         "y": [
          338.3163911519552
         ]
        },
        {
         "hoverinfo": "name",
         "marker": {
          "color": "white",
          "size": 5
         },
         "mode": "markers",
         "name": "Junction #79",
         "opacity": 0.9,
         "type": "scatter",
         "x": [
          1006.8779742804929
         ],
         "y": [
          193.4488705497485
         ]
        },
        {
         "hoverinfo": "name",
         "marker": {
          "color": "white",
          "size": 5
         },
         "mode": "markers",
         "name": "Junction #80",
         "opacity": 0.9,
         "type": "scatter",
         "x": [
          1521.03200889628
         ],
         "y": [
          362.5148159910142
         ]
        },
        {
         "hoverinfo": "name",
         "marker": {
          "color": "white",
          "size": 5
         },
         "mode": "markers",
         "name": "Junction #81",
         "opacity": 0.9,
         "type": "scatter",
         "x": [
          1879.7437305694077
         ],
         "y": [
          480.4676711326654
         ]
        },
        {
         "hoverinfo": "name",
         "marker": {
          "color": "white",
          "size": 5
         },
         "mode": "markers",
         "name": "Junction #82",
         "opacity": 0.9,
         "type": "scatter",
         "x": [
          1476.2037447471976
         ],
         "y": [
          347.77422785866787
         ]
        },
        {
         "hoverinfo": "name",
         "marker": {
          "color": "white",
          "size": 5
         },
         "mode": "markers",
         "name": "Junction #83",
         "opacity": 0.9,
         "type": "scatter",
         "x": [
          855.555325682301
         ],
         "y": [
          211.0108764071033
         ]
        },
        {
         "hoverinfo": "name",
         "marker": {
          "color": "white",
          "size": 5
         },
         "mode": "markers",
         "name": "Junction #84",
         "opacity": 0.9,
         "type": "scatter",
         "x": [
          328.0765965051599
         ],
         "y": [
          68.2987146081262
         ]
        },
        {
         "hoverinfo": "name",
         "marker": {
          "color": "white",
          "size": 5
         },
         "mode": "markers",
         "name": "Junction #85",
         "opacity": 0.9,
         "type": "scatter",
         "x": [
          734.9274806952419
         ],
         "y": [
          178.3743745369514
         ]
        },
        {
         "hoverinfo": "name",
         "marker": {
          "color": "white",
          "size": 5
         },
         "mode": "markers",
         "name": "Junction #86",
         "opacity": 0.9,
         "type": "scatter",
         "x": [
          864.3740340594428
         ],
         "y": [
          213.39682463053202
         ]
        },
        {
         "hoverinfo": "name",
         "marker": {
          "color": "white",
          "size": 5
         },
         "mode": "markers",
         "name": "Junction #87",
         "opacity": 0.9,
         "type": "scatter",
         "x": [
          2046.2965022754095
         ],
         "y": [
          287.74860534197114
         ]
        },
        {
         "hoverinfo": "name",
         "marker": {
          "color": "white",
          "size": 5
         },
         "mode": "markers",
         "name": "Junction #88",
         "opacity": 0.9,
         "type": "scatter",
         "x": [
          2200.797704951459
         ],
         "y": [
          76.45179521303407
         ]
        },
        {
         "hoverinfo": "name",
         "marker": {
          "color": "white",
          "size": 5
         },
         "mode": "markers",
         "name": "Junction #89",
         "opacity": 0.9,
         "type": "scatter",
         "x": [
          1142.8891926309982
         ],
         "y": [
          2636.3123685188543
         ]
        },
        {
         "hoverinfo": "name",
         "marker": {
          "color": "white",
          "size": 5
         },
         "mode": "markers",
         "name": "Junction #90",
         "opacity": 0.9,
         "type": "scatter",
         "x": [
          357.69067309790137
         ],
         "y": [
          2453.629359799973
         ]
        },
        {
         "hoverinfo": "name",
         "marker": {
          "color": "white",
          "size": 5
         },
         "mode": "markers",
         "name": "Junction #91",
         "opacity": 0.9,
         "type": "scatter",
         "x": [
          -202.45989240196533
         ],
         "y": [
          2283.5034781927498
         ]
        },
        {
         "hoverinfo": "name",
         "marker": {
          "color": "red",
          "size": 5
         },
         "mode": "markers",
         "name": "Junction #92",
         "opacity": 0.9,
         "type": "scatter",
         "x": [
          1666.9567688564262
         ],
         "y": [
          1778.5067498875728
         ]
        },
        {
         "hoverinfo": "name",
         "marker": {
          "color": "white",
          "size": 5
         },
         "mode": "markers",
         "name": "Junction #93",
         "opacity": 0.9,
         "type": "scatter",
         "x": [
          2041.3288709495112
         ],
         "y": [
          1283.9216823658203
         ]
        },
        {
         "hoverinfo": "name",
         "marker": {
          "color": "white",
          "size": 5
         },
         "mode": "markers",
         "name": "Junction #94",
         "opacity": 0.9,
         "type": "scatter",
         "x": [
          2066.7656147022703
         ],
         "y": [
          1250.3170586340984
         ]
        },
        {
         "hoverinfo": "name",
         "marker": {
          "color": "white",
          "size": 5
         },
         "mode": "markers",
         "name": "Junction #95",
         "opacity": 0.9,
         "type": "scatter",
         "x": [
          2191.9040994432357
         ],
         "y": [
          1084.9959100251372
         ]
        },
        {
         "hoverinfo": "name",
         "marker": {
          "color": "white",
          "size": 5
         },
         "mode": "markers",
         "name": "Junction #96",
         "opacity": 0.9,
         "type": "scatter",
         "x": [
          1737.5014457669888
         ],
         "y": [
          1685.3097846274968
         ]
        },
        {
         "hoverinfo": "name",
         "marker": {
          "color": "white",
          "size": 5
         },
         "mode": "markers",
         "name": "Junction #97",
         "opacity": 0.9,
         "type": "scatter",
         "x": [
          2000.3451455392571
         ],
         "y": [
          1338.0655100869453
         ]
        },
        {
         "hoverinfo": "name",
         "marker": {
          "color": "white",
          "size": 5
         },
         "mode": "markers",
         "name": "Junction #98",
         "opacity": 0.9,
         "type": "scatter",
         "x": [
          820.5883392283931
         ],
         "y": [
          369.0787800545803
         ]
        },
        {
         "hoverinfo": "name",
         "marker": {
          "color": "white",
          "size": 5
         },
         "mode": "markers",
         "name": "Junction #99",
         "opacity": 0.9,
         "type": "scatter",
         "x": [
          412.4367212610993
         ],
         "y": [
          262.43775532072686
         ]
        },
        {
         "hoverinfo": "name",
         "marker": {
          "color": "white",
          "size": 5
         },
         "mode": "markers",
         "name": "Junction #100",
         "opacity": 0.9,
         "type": "scatter",
         "x": [
          224.059319521782
         ],
         "y": [
          213.2188908746441
         ]
        },
        {
         "hoverinfo": "name",
         "marker": {
          "color": "white",
          "size": 5
         },
         "mode": "markers",
         "name": "Junction #101",
         "opacity": 0.9,
         "type": "scatter",
         "x": [
          544.6828793830125
         ],
         "y": [
          296.9907625817838
         ]
        },
        {
         "hoverinfo": "name",
         "marker": {
          "color": "white",
          "size": 5
         },
         "mode": "markers",
         "name": "Junction #102",
         "opacity": 0.9,
         "type": "scatter",
         "x": [
          747.2418209361554
         ],
         "y": [
          349.9149509111385
         ]
        },
        {
         "hoverinfo": "name",
         "marker": {
          "color": "white",
          "size": 5
         },
         "mode": "markers",
         "name": "Junction #103",
         "opacity": 0.9,
         "type": "scatter",
         "x": [
          2653.9724455882883
         ],
         "y": [
          1429.1429856708523
         ]
        },
        {
         "hoverinfo": "name",
         "marker": {
          "color": "white",
          "size": 5
         },
         "mode": "markers",
         "name": "Junction #104",
         "opacity": 0.9,
         "type": "scatter",
         "x": [
          3061.4778076463795
         ],
         "y": [
          1540.4005589041376
         ]
        },
        {
         "hoverinfo": "name",
         "marker": {
          "color": "white",
          "size": 5
         },
         "mode": "markers",
         "name": "Junction #105",
         "opacity": 0.9,
         "type": "scatter",
         "x": [
          3154.5234709496913
         ],
         "y": [
          1565.8039907675252
         ]
        },
        {
         "hoverinfo": "name",
         "marker": {
          "color": "white",
          "size": 5
         },
         "mode": "markers",
         "name": "Junction #106",
         "opacity": 0.9,
         "type": "scatter",
         "x": [
          2754.199020369769
         ],
         "y": [
          1456.5069580793488
         ]
        },
        {
         "hoverinfo": "name",
         "marker": {
          "color": "white",
          "size": 5
         },
         "mode": "markers",
         "name": "Junction #107",
         "opacity": 0.9,
         "type": "scatter",
         "x": [
          3203.399238131739
         ],
         "y": [
          1579.1481078096328
         ]
        },
        {
         "hoverinfo": "name",
         "marker": {
          "color": "white",
          "size": 5
         },
         "mode": "markers",
         "name": "Junction #108",
         "opacity": 0.9,
         "type": "scatter",
         "x": [
          2460.229527089544
         ],
         "y": [
          1376.2470757018646
         ]
        },
        {
         "hoverinfo": "name",
         "marker": {
          "color": "white",
          "size": 5
         },
         "mode": "markers",
         "name": "Junction #109",
         "opacity": 0.9,
         "type": "scatter",
         "x": [
          3009.7877653209525
         ],
         "y": [
          1414.1995720682655
         ]
        },
        {
         "hoverinfo": "name",
         "marker": {
          "color": "white",
          "size": 5
         },
         "mode": "markers",
         "name": "Junction #110",
         "opacity": 0.9,
         "type": "scatter",
         "x": [
          2728.5451459830706
         ],
         "y": [
          1426.0111061714022
         ]
        },
        {
         "hoverinfo": "name",
         "marker": {
          "color": "red",
          "size": 5
         },
         "mode": "markers",
         "name": "Junction #111",
         "opacity": 0.9,
         "type": "scatter",
         "x": [
          2676.029093486365
         ],
         "y": [
          355.1439344446344
         ]
        },
        {
         "hoverinfo": "name",
         "marker": {
          "color": "white",
          "size": 5
         },
         "mode": "markers",
         "name": "Junction #112",
         "opacity": 0.9,
         "type": "scatter",
         "x": [
          2557.392196012601
         ],
         "y": [
          70.57475896510732
         ]
        },
        {
         "hoverinfo": "name",
         "marker": {
          "color": "white",
          "size": 5
         },
         "mode": "markers",
         "name": "Junction #113",
         "opacity": 0.9,
         "type": "scatter",
         "x": [
          2657.669203272948
         ],
         "y": [
          311.10486286420837
         ]
        },
        {
         "hoverinfo": "name",
         "marker": {
          "color": "white",
          "size": 5
         },
         "mode": "markers",
         "name": "Junction #114",
         "opacity": 0.9,
         "type": "scatter",
         "x": [
          2546.1761284508702
         ],
         "y": [
          43.67126463805653
         ]
        },
        {
         "hoverinfo": "name",
         "marker": {
          "color": "white",
          "size": 5
         },
         "mode": "markers",
         "name": "Junction #115",
         "opacity": 0.9,
         "type": "scatter",
         "x": [
          2648.7955132220154
         ],
         "y": [
          289.8199277805588
         ]
        },
        {
         "hoverinfo": "name",
         "marker": {
          "color": "white",
          "size": 5
         },
         "mode": "markers",
         "name": "Junction #116",
         "opacity": 0.9,
         "type": "scatter",
         "x": [
          2672.933252135518
         ],
         "y": [
          347.718074198915
         ]
        },
        {
         "hoverinfo": "name",
         "marker": {
          "color": "white",
          "size": 5
         },
         "mode": "markers",
         "name": "Junction #117",
         "opacity": 0.9,
         "type": "scatter",
         "x": [
          1115.6877915784667
         ],
         "y": [
          1313.6654258426297
         ]
        },
        {
         "hoverinfo": "name",
         "marker": {
          "color": "red",
          "size": 5
         },
         "mode": "markers",
         "name": "Junction #118",
         "opacity": 0.9,
         "type": "scatter",
         "x": [
          1284.8448497604852
         ],
         "y": [
          1706.738024980903
         ]
        },
        {
         "hoverinfo": "name",
         "marker": {
          "color": "red",
          "size": 5
         },
         "mode": "markers",
         "name": "Junction #119",
         "opacity": 0.9,
         "type": "scatter",
         "x": [
          1107.4277986890315
         ],
         "y": [
          1294.4715659540266
         ]
        },
        {
         "hoverinfo": "name",
         "marker": {
          "color": "white",
          "size": 5
         },
         "mode": "markers",
         "name": "Junction #120",
         "opacity": 0.9,
         "type": "scatter",
         "x": [
          158.4562846945684
         ],
         "y": [
          1120.7729282323778
         ]
        },
        {
         "hoverinfo": "name",
         "marker": {
          "color": "white",
          "size": 5
         },
         "mode": "markers",
         "name": "Junction #121",
         "opacity": 0.9,
         "type": "scatter",
         "x": [
          375.8443454171394
         ],
         "y": [
          975.8146127700271
         ]
        },
        {
         "hoverinfo": "name",
         "marker": {
          "color": "white",
          "size": 5
         },
         "mode": "markers",
         "name": "Junction #122",
         "opacity": 0.9,
         "type": "scatter",
         "x": [
          2576.832662496009
         ],
         "y": [
          1882.360429902982
         ]
        },
        {
         "hoverinfo": "name",
         "marker": {
          "color": "white",
          "size": 5
         },
         "mode": "markers",
         "name": "Junction #123",
         "opacity": 0.9,
         "type": "scatter",
         "x": [
          2532.467967060618
         ],
         "y": [
          1889.780757704138
         ]
        },
        {
         "hoverinfo": "name",
         "marker": {
          "color": "white",
          "size": 5
         },
         "mode": "markers",
         "name": "Junction #124",
         "opacity": 0.9,
         "type": "scatter",
         "x": [
          3032.8418448242596
         ],
         "y": [
          1806.0894766144474
         ]
        },
        {
         "hoverinfo": "name",
         "marker": {
          "color": "white",
          "size": 5
         },
         "mode": "markers",
         "name": "Junction #125",
         "opacity": 0.9,
         "type": "scatter",
         "x": [
          2495.38885400275
         ],
         "y": [
          1895.9825172511228
         ]
        },
        {
         "hoverinfo": "name",
         "marker": {
          "color": "white",
          "size": 5
         },
         "mode": "markers",
         "name": "Junction #126",
         "opacity": 0.9,
         "type": "scatter",
         "x": [
          2502.692019884982
         ],
         "y": [
          1894.7610080240102
         ]
        },
        {
         "hoverinfo": "name",
         "marker": {
          "color": "red",
          "size": 5
         },
         "mode": "markers",
         "name": "Junction #127",
         "opacity": 0.9,
         "type": "scatter",
         "x": [
          1669.501950038022
         ],
         "y": [
          1888.3403523340494
         ]
        },
        {
         "hoverinfo": "name",
         "marker": {
          "color": "white",
          "size": 5
         },
         "mode": "markers",
         "name": "Junction #128",
         "opacity": 0.9,
         "type": "scatter",
         "x": [
          1485.4005741064434
         ],
         "y": [
          1896.4421625127914
         ]
        },
        {
         "hoverinfo": "name",
         "marker": {
          "color": "white",
          "size": 5
         },
         "mode": "markers",
         "name": "Junction #129",
         "opacity": 0.9,
         "type": "scatter",
         "x": [
          1140.1181718780206
         ],
         "y": [
          1911.6371194584383
         ]
        },
        {
         "hoverinfo": "name",
         "marker": {
          "color": "red",
          "size": 5
         },
         "mode": "markers",
         "name": "Junction #130",
         "opacity": 0.9,
         "type": "scatter",
         "x": [
          1130.3777787209856
         ],
         "y": [
          1912.0657681636708
         ]
        },
        {
         "hoverinfo": "name",
         "marker": {
          "color": "white",
          "size": 5
         },
         "mode": "markers",
         "name": "Junction #131",
         "opacity": 0.9,
         "type": "scatter",
         "x": [
          2952.309075114216
         ],
         "y": [
          84.66683902143586
         ]
        },
        {
         "hoverinfo": "name",
         "marker": {
          "color": "red",
          "size": 5
         },
         "mode": "markers",
         "name": "Junction #132",
         "opacity": 0.9,
         "type": "scatter",
         "x": [
          2718.633986800233
         ],
         "y": [
          313.4338991157906
         ]
        },
        {
         "hoverinfo": "name",
         "marker": {
          "color": "white",
          "size": 5
         },
         "mode": "markers",
         "name": "Junction #133",
         "opacity": 0.9,
         "type": "scatter",
         "x": [
          2731.2624105196974
         ],
         "y": [
          301.0707183044674
         ]
        },
        {
         "hoverinfo": "name",
         "marker": {
          "color": "white",
          "size": 5
         },
         "mode": "markers",
         "name": "Junction #134",
         "opacity": 0.9,
         "type": "scatter",
         "x": [
          2665.1523940625398
         ],
         "y": [
          365.7921835527095
         ]
        },
        {
         "hoverinfo": "name",
         "marker": {
          "color": "white",
          "size": 5
         },
         "mode": "markers",
         "name": "Junction #135",
         "opacity": 0.9,
         "type": "scatter",
         "x": [
          2527.449570332351
         ],
         "y": [
          1869.1004337700108
         ]
        },
        {
         "hoverinfo": "name",
         "marker": {
          "color": "white",
          "size": 5
         },
         "mode": "markers",
         "name": "Junction #136",
         "opacity": 0.9,
         "type": "scatter",
         "x": [
          2944.2569736580267
         ],
         "y": [
          1981.0185886311106
         ]
        },
        {
         "hoverinfo": "name",
         "marker": {
          "color": "white",
          "size": 5
         },
         "mode": "markers",
         "name": "Junction #137",
         "opacity": 0.9,
         "type": "scatter",
         "x": [
          2936.55965683192
         ],
         "y": [
          1978.9517599479213
         ]
        },
        {
         "hoverinfo": "name",
         "marker": {
          "color": "white",
          "size": 5
         },
         "mode": "markers",
         "name": "Junction #138",
         "opacity": 0.9,
         "type": "scatter",
         "x": [
          2544.956140335707
         ],
         "y": [
          1873.801173241261
         ]
        },
        {
         "hoverinfo": "name",
         "marker": {
          "color": "white",
          "size": 5
         },
         "mode": "markers",
         "name": "Junction #139",
         "opacity": 0.9,
         "type": "scatter",
         "x": [
          2760.14741697802
         ],
         "y": [
          1931.5828019547846
         ]
        },
        {
         "hoverinfo": "name",
         "marker": {
          "color": "red",
          "size": 5
         },
         "mode": "markers",
         "name": "Junction #140",
         "opacity": 0.9,
         "type": "scatter",
         "x": [
          1033.2534832698063
         ],
         "y": [
          1383.1148972767119
         ]
        },
        {
         "hoverinfo": "name",
         "marker": {
          "color": "white",
          "size": 5
         },
         "mode": "markers",
         "name": "Junction #141",
         "opacity": 0.9,
         "type": "scatter",
         "x": [
          1154.5403996644409
         ],
         "y": [
          1280.9327790749364
         ]
        },
        {
         "hoverinfo": "name",
         "marker": {
          "color": "red",
          "size": 5
         },
         "mode": "markers",
         "name": "Junction #142",
         "opacity": 0.9,
         "type": "scatter",
         "x": [
          1215.9585748093925
         ],
         "y": [
          1229.1890344159583
         ]
        },
        {
         "hoverinfo": "name",
         "marker": {
          "color": "white",
          "size": 5
         },
         "mode": "markers",
         "name": "Junction #143",
         "opacity": 0.9,
         "type": "scatter",
         "x": [
          1194.5153309793056
         ],
         "y": [
          2358.1085745824957
         ]
        },
        {
         "hoverinfo": "name",
         "marker": {
          "color": "white",
          "size": 5
         },
         "mode": "markers",
         "name": "Junction #144",
         "opacity": 0.9,
         "type": "scatter",
         "x": [
          1224.8803197946274
         ],
         "y": [
          2194.4772172599005
         ]
        },
        {
         "hoverinfo": "name",
         "marker": {
          "color": "white",
          "size": 5
         },
         "mode": "markers",
         "name": "Junction #145",
         "opacity": 0.9,
         "type": "scatter",
         "x": [
          1186.6624755831624
         ],
         "y": [
          2400.426172495807
         ]
        },
        {
         "hoverinfo": "name",
         "marker": {
          "color": "white",
          "size": 5
         },
         "mode": "markers",
         "name": "Junction #146",
         "opacity": 0.9,
         "type": "scatter",
         "x": [
          2584.516749815867
         ],
         "y": [
          2104.2687199038173
         ]
        },
        {
         "hoverinfo": "name",
         "marker": {
          "color": "white",
          "size": 5
         },
         "mode": "markers",
         "name": "Junction #147",
         "opacity": 0.9,
         "type": "scatter",
         "x": [
          2530.193401338203
         ],
         "y": [
          1880.4074939914371
         ]
        },
        {
         "hoverinfo": "name",
         "marker": {
          "color": "white",
          "size": 5
         },
         "mode": "markers",
         "name": "Junction #148",
         "opacity": 0.9,
         "type": "scatter",
         "x": [
          2534.7905272044936
         ],
         "y": [
          1899.3518017511942
         ]
        },
        {
         "hoverinfo": "name",
         "marker": {
          "color": "white",
          "size": 5
         },
         "mode": "markers",
         "name": "Junction #149",
         "opacity": 0.9,
         "type": "scatter",
         "x": [
          959.0582682655763
         ],
         "y": [
          486.290823117132
         ]
        },
        {
         "hoverinfo": "name",
         "marker": {
          "color": "white",
          "size": 5
         },
         "mode": "markers",
         "name": "Junction #150",
         "opacity": 0.9,
         "type": "scatter",
         "x": [
          1464.242234780264
         ],
         "y": [
          333.2258366181999
         ]
        },
        {
         "hoverinfo": "name",
         "marker": {
          "color": "white",
          "size": 5
         },
         "mode": "markers",
         "name": "Junction #151",
         "opacity": 0.9,
         "type": "scatter",
         "x": [
          514.7199221269368
         ],
         "y": [
          620.9202798314739
         ]
        },
        {
         "hoverinfo": "name",
         "marker": {
          "color": "white",
          "size": 5
         },
         "mode": "markers",
         "name": "Junction #152",
         "opacity": 0.9,
         "type": "scatter",
         "x": [
          730.0084939742396
         ],
         "y": [
          292.4047411758711
         ]
        },
        {
         "hoverinfo": "name",
         "marker": {
          "color": "white",
          "size": 5
         },
         "mode": "markers",
         "name": "Junction #153",
         "opacity": 0.9,
         "type": "scatter",
         "x": [
          590.8901286498491
         ],
         "y": [
          241.72704337602732
         ]
        },
        {
         "hoverinfo": "name",
         "marker": {
          "color": "white",
          "size": 5
         },
         "mode": "markers",
         "name": "Junction #154",
         "opacity": 0.9,
         "type": "scatter",
         "x": [
          283.87127903143113
         ],
         "y": [
          129.8869678867991
         ]
        },
        {
         "hoverinfo": "name",
         "marker": {
          "color": "white",
          "size": 5
         },
         "mode": "markers",
         "name": "Junction #155",
         "opacity": 0.9,
         "type": "scatter",
         "x": [
          617.6713905016015
         ],
         "y": [
          251.48285592929375
         ]
        },
        {
         "hoverinfo": "name",
         "marker": {
          "color": "white",
          "size": 5
         },
         "mode": "markers",
         "name": "Junction #156",
         "opacity": 0.9,
         "type": "scatter",
         "x": [
          780.7318818583361
         ],
         "y": [
          310.88213283139123
         ]
        },
        {
         "hoverinfo": "name",
         "marker": {
          "color": "white",
          "size": 5
         },
         "mode": "markers",
         "name": "Junction #157",
         "opacity": 0.9,
         "type": "scatter",
         "x": [
          1681.4094239249366
         ],
         "y": [
          2402.1901177237596
         ]
        },
        {
         "hoverinfo": "name",
         "marker": {
          "color": "white",
          "size": 5
         },
         "mode": "markers",
         "name": "Junction #158",
         "opacity": 0.9,
         "type": "scatter",
         "x": [
          1678.2989028465943
         ],
         "y": [
          2267.960091983172
         ]
        },
        {
         "hoverinfo": "name",
         "marker": {
          "color": "white",
          "size": 5
         },
         "mode": "markers",
         "name": "Junction #159",
         "opacity": 0.9,
         "type": "scatter",
         "x": [
          1662.238974512513
         ],
         "y": [
          1574.9171775064315
         ]
        },
        {
         "hoverinfo": "name",
         "marker": {
          "color": "white",
          "size": 5
         },
         "mode": "markers",
         "name": "Junction #160",
         "opacity": 0.9,
         "type": "scatter",
         "x": [
          2343.2346275793457
         ],
         "y": [
          62.932832882090906
         ]
        },
        {
         "hoverinfo": "name",
         "marker": {
          "color": "white",
          "size": 5
         },
         "mode": "markers",
         "name": "Junction #161",
         "opacity": 0.9,
         "type": "scatter",
         "x": [
          2788.6896165077173
         ],
         "y": [
          78.8282977195264
         ]
        },
        {
         "hoverinfo": "name",
         "marker": {
          "color": "white",
          "size": 5
         },
         "mode": "markers",
         "name": "Junction #162",
         "opacity": 0.9,
         "type": "scatter",
         "x": [
          2134.8914009029922
         ],
         "y": [
          2231.1518696749918
         ]
        },
        {
         "hoverinfo": "name",
         "marker": {
          "color": "white",
          "size": 5
         },
         "mode": "markers",
         "name": "Junction #163",
         "opacity": 0.9,
         "type": "scatter",
         "x": [
          2095.917950693138
         ],
         "y": [
          1836.5833542584078
         ]
        },
        {
         "hoverinfo": "name",
         "marker": {
          "color": "white",
          "size": 5
         },
         "mode": "markers",
         "name": "Junction #164",
         "opacity": 0.9,
         "type": "scatter",
         "x": [
          2047.0600151363715
         ],
         "y": [
          1341.94397808949
         ]
        },
        {
         "hoverinfo": "name",
         "marker": {
          "color": "white",
          "size": 5
         },
         "mode": "markers",
         "name": "Junction #165",
         "opacity": 0.9,
         "type": "scatter",
         "x": [
          2095.8821175684197
         ],
         "y": [
          2889.634371577165
         ]
        },
        {
         "hoverinfo": "name",
         "marker": {
          "color": "white",
          "size": 5
         },
         "mode": "markers",
         "name": "Junction #166",
         "opacity": 0.9,
         "type": "scatter",
         "x": [
          1822.6398192169138
         ],
         "y": [
          2840.792295694466
         ]
        },
        {
         "hoverinfo": "name",
         "marker": {
          "color": "white",
          "size": 5
         },
         "mode": "markers",
         "name": "Junction #167",
         "opacity": 0.9,
         "type": "scatter",
         "x": [
          1568.2419419850376
         ],
         "y": [
          2795.318661125001
         ]
        },
        {
         "hoverinfo": "name",
         "marker": {
          "color": "white",
          "size": 5
         },
         "mode": "markers",
         "name": "Junction #168",
         "opacity": 0.9,
         "type": "scatter",
         "x": [
          2219.454074185461
         ],
         "y": [
          2911.722865629791
         ]
        },
        {
         "hoverinfo": "name",
         "marker": {
          "color": "white",
          "size": 5
         },
         "mode": "markers",
         "name": "Junction #169",
         "opacity": 0.9,
         "type": "scatter",
         "x": [
          1583.764418762459
         ],
         "y": [
          2798.093304704067
         ]
        },
        {
         "hoverinfo": "name",
         "marker": {
          "color": "white",
          "size": 5
         },
         "mode": "markers",
         "name": "Junction #170",
         "opacity": 0.9,
         "type": "scatter",
         "x": [
          136.46064773502044
         ],
         "y": [
          1665.6916041746763
         ]
        },
        {
         "hoverinfo": "name",
         "marker": {
          "color": "white",
          "size": 5
         },
         "mode": "markers",
         "name": "Junction #171",
         "opacity": 0.9,
         "type": "scatter",
         "x": [
          -31.48191967112779
         ],
         "y": [
          1599.9188245773591
         ]
        },
        {
         "hoverinfo": "name",
         "marker": {
          "color": "white",
          "size": 5
         },
         "mode": "markers",
         "name": "Junction #172",
         "opacity": 0.9,
         "type": "scatter",
         "x": [
          1696.9668098105576
         ],
         "y": [
          1107.217633358087
         ]
        },
        {
         "hoverinfo": "name",
         "marker": {
          "color": "white",
          "size": 5
         },
         "mode": "markers",
         "name": "Junction #173",
         "opacity": 0.9,
         "type": "scatter",
         "x": [
          2297.484811851355
         ],
         "y": [
          1339.5974567193348
         ]
        },
        {
         "hoverinfo": "name",
         "marker": {
          "color": "white",
          "size": 5
         },
         "mode": "markers",
         "name": "Junction #174",
         "opacity": 0.9,
         "type": "scatter",
         "x": [
          2003.955864137483
         ],
         "y": [
          1226.011844315781
         ]
        },
        {
         "hoverinfo": "name",
         "marker": {
          "color": "white",
          "size": 5
         },
         "mode": "markers",
         "name": "Junction #175",
         "opacity": 0.9,
         "type": "scatter",
         "x": [
          1723.4189203881488
         ],
         "y": [
          1117.4536908329055
         ]
        },
        {
         "hoverinfo": "name",
         "marker": {
          "color": "white",
          "size": 5
         },
         "mode": "markers",
         "name": "Junction #176",
         "opacity": 0.9,
         "type": "scatter",
         "x": [
          2947.2264812434555
         ],
         "y": [
          1975.1546829979343
         ]
        },
        {
         "hoverinfo": "name",
         "marker": {
          "color": "white",
          "size": 5
         },
         "mode": "markers",
         "name": "Junction #177",
         "opacity": 0.9,
         "type": "scatter",
         "x": [
          3131.464375116285
         ],
         "y": [
          1611.338934883157
         ]
        },
        {
         "hoverinfo": "name",
         "marker": {
          "color": "white",
          "size": 5
         },
         "mode": "markers",
         "name": "Junction #178",
         "opacity": 0.9,
         "type": "scatter",
         "x": [
          2955.166806810593
         ],
         "y": [
          1959.47487128408
         ]
        },
        {
         "hoverinfo": "name",
         "marker": {
          "color": "white",
          "size": 5
         },
         "mode": "markers",
         "name": "Junction #179",
         "opacity": 0.9,
         "type": "scatter",
         "x": [
          421.40477408698905
         ],
         "y": [
          1373.5769349954242
         ]
        },
        {
         "hoverinfo": "name",
         "marker": {
          "color": "white",
          "size": 5
         },
         "mode": "markers",
         "name": "Junction #180",
         "opacity": 0.9,
         "type": "scatter",
         "x": [
          533.5600802332725
         ],
         "y": [
          1258.5992705281426
         ]
        },
        {
         "hoverinfo": "name",
         "marker": {
          "color": "white",
          "size": 5
         },
         "mode": "markers",
         "name": "Junction #181",
         "opacity": 0.9,
         "type": "scatter",
         "x": [
          1597.1743422095487
         ],
         "y": [
          1479.4824373022293
         ]
        },
        {
         "hoverinfo": "name",
         "marker": {
          "color": "white",
          "size": 5
         },
         "mode": "markers",
         "name": "Junction #182",
         "opacity": 0.9,
         "type": "scatter",
         "x": [
          1691.7860012468416
         ],
         "y": [
          1126.5440688156696
         ]
        },
        {
         "hoverinfo": "name",
         "marker": {
          "color": "white",
          "size": 5
         },
         "mode": "markers",
         "name": "Junction #183",
         "opacity": 0.9,
         "type": "scatter",
         "x": [
          1643.036104333834
         ],
         "y": [
          1308.4001873473508
         ]
        },
        {
         "hoverinfo": "name",
         "marker": {
          "color": "white",
          "size": 5
         },
         "mode": "markers",
         "name": "Junction #184",
         "opacity": 0.9,
         "type": "scatter",
         "x": [
          2230.032268700224
         ],
         "y": [
          2872.404032907555
         ]
        },
        {
         "hoverinfo": "name",
         "marker": {
          "color": "white",
          "size": 5
         },
         "mode": "markers",
         "name": "Junction #185",
         "opacity": 0.9,
         "type": "scatter",
         "x": [
          3078.3837719015846
         ],
         "y": [
          2771.109966527275
         ]
        },
        {
         "hoverinfo": "name",
         "marker": {
          "color": "white",
          "size": 5
         },
         "mode": "markers",
         "name": "Junction #186",
         "opacity": 0.9,
         "type": "scatter",
         "x": [
          2154.9089282211094
         ],
         "y": [
          995.7842765881396
         ]
        },
        {
         "hoverinfo": "name",
         "marker": {
          "color": "white",
          "size": 5
         },
         "mode": "markers",
         "name": "Junction #187",
         "opacity": 0.9,
         "type": "scatter",
         "x": [
          2307.421979826803
         ],
         "y": [
          1363.5603404563699
         ]
        },
        {
         "hoverinfo": "name",
         "marker": {
          "color": "white",
          "size": 5
         },
         "mode": "markers",
         "name": "Junction #188",
         "opacity": 0.9,
         "type": "scatter",
         "x": [
          1996.282019730158
         ],
         "y": [
          2764.741569605174
         ]
        },
        {
         "hoverinfo": "name",
         "marker": {
          "color": "white",
          "size": 5
         },
         "mode": "markers",
         "name": "Junction #189",
         "opacity": 0.9,
         "type": "scatter",
         "x": [
          1818.331496410495
         ],
         "y": [
          2541.6018342821717
         ]
        },
        {
         "hoverinfo": "name",
         "marker": {
          "color": "white",
          "size": 5
         },
         "mode": "markers",
         "name": "Junction #190",
         "opacity": 0.9,
         "type": "scatter",
         "x": [
          2005.7022877421455
         ],
         "y": [
          2776.5540446215614
         ]
        },
        {
         "hoverinfo": "name",
         "marker": {
          "color": "white",
          "size": 5
         },
         "mode": "markers",
         "name": "Junction #191",
         "opacity": 0.9,
         "type": "scatter",
         "x": [
          2477.278742788498
         ],
         "y": [
          2554.077630038441
         ]
        },
        {
         "hoverinfo": "name",
         "marker": {
          "color": "white",
          "size": 5
         },
         "mode": "markers",
         "name": "Junction #192",
         "opacity": 0.9,
         "type": "scatter",
         "x": [
          2294.0881305045423
         ],
         "y": [
          2634.310309857965
         ]
        },
        {
         "hoverinfo": "name",
         "marker": {
          "color": "white",
          "size": 5
         },
         "mode": "markers",
         "name": "Junction #193",
         "opacity": 0.9,
         "type": "scatter",
         "x": [
          1948.5644593504285
         ],
         "y": [
          2785.6406085678327
         ]
        },
        {
         "hoverinfo": "name",
         "marker": {
          "color": "white",
          "size": 5
         },
         "mode": "markers",
         "name": "Junction #194",
         "opacity": 0.9,
         "type": "scatter",
         "x": [
          1381.5367302964669
         ],
         "y": [
          843.9104451454489
         ]
        },
        {
         "hoverinfo": "name",
         "marker": {
          "color": "white",
          "size": 5
         },
         "mode": "markers",
         "name": "Junction #195",
         "opacity": 0.9,
         "type": "scatter",
         "x": [
          768.5752543563735
         ],
         "y": [
          325.0507373869322
         ]
        },
        {
         "hoverinfo": "name",
         "marker": {
          "color": "white",
          "size": 5
         },
         "mode": "markers",
         "name": "Junction #196",
         "opacity": 0.9,
         "type": "scatter",
         "x": [
          1364.6692989121373
         ],
         "y": [
          829.6324996917194
         ]
        },
        {
         "hoverinfo": "name",
         "marker": {
          "color": "white",
          "size": 5
         },
         "mode": "markers",
         "name": "Junction #197",
         "opacity": 0.9,
         "type": "scatter",
         "x": [
          1122.6663400569432
         ],
         "y": [
          624.7818044408907
         ]
        },
        {
         "hoverinfo": "name",
         "marker": {
          "color": "white",
          "size": 5
         },
         "mode": "markers",
         "name": "Junction #198",
         "opacity": 0.9,
         "type": "scatter",
         "x": [
          1319.4897747819923
         ],
         "y": [
          157.16817944141724
         ]
        },
        {
         "hoverinfo": "name",
         "marker": {
          "color": "white",
          "size": 5
         },
         "mode": "markers",
         "name": "Junction #199",
         "opacity": 0.9,
         "type": "scatter",
         "x": [
          643.0222155353996
         ],
         "y": [
          235.67676588140577
         ]
        },
        {
         "hoverinfo": "name",
         "marker": {
          "color": "white",
          "size": 5
         },
         "mode": "markers",
         "name": "Junction #200",
         "opacity": 0.9,
         "type": "scatter",
         "x": [
          867.6228075320114
         ],
         "y": [
          209.6103643959048
         ]
        },
        {
         "hoverinfo": "name",
         "marker": {
          "color": "white",
          "size": 5
         },
         "mode": "markers",
         "name": "Junction #201",
         "opacity": 0.9,
         "type": "scatter",
         "x": [
          2862.039977833693
         ],
         "y": [
          318.9124349603648
         ]
        },
        {
         "hoverinfo": "name",
         "marker": {
          "color": "white",
          "size": 5
         },
         "mode": "markers",
         "name": "Junction #202",
         "opacity": 0.9,
         "type": "scatter",
         "x": [
          1913.5306549038842
         ],
         "y": [
          282.6765546659958
         ]
        },
        {
         "hoverinfo": "name",
         "marker": {
          "color": "white",
          "size": 5
         },
         "mode": "markers",
         "name": "Junction #203",
         "opacity": 0.9,
         "type": "scatter",
         "x": [
          2688.1931410571124
         ],
         "y": [
          312.27096817168564
         ]
        },
        {
         "hoverinfo": "name",
         "marker": {
          "color": "white",
          "size": 5
         },
         "mode": "markers",
         "name": "Junction #204",
         "opacity": 0.9,
         "type": "scatter",
         "x": [
          1944.6045723335114
         ],
         "y": [
          100.76757826569565
         ]
        },
        {
         "hoverinfo": "name",
         "marker": {
          "color": "white",
          "size": 5
         },
         "mode": "markers",
         "name": "Junction #205",
         "opacity": 0.9,
         "type": "scatter",
         "x": [
          2814.800442360471
         ],
         "y": [
          18.17561425527873
         ]
        },
        {
         "hoverinfo": "name",
         "marker": {
          "color": "white",
          "size": 5
         },
         "mode": "markers",
         "name": "Junction #206",
         "opacity": 0.9,
         "type": "scatter",
         "x": [
          2695.136559594911
         ],
         "y": [
          296.14214217790857
         ]
        },
        {
         "hoverinfo": "name",
         "marker": {
          "color": "green",
          "size": 5
         },
         "mode": "markers",
         "name": "Junction #207",
         "opacity": 0.9,
         "type": "scatter",
         "x": [
          2255.3548781773798
         ],
         "y": [
          2221.440701685137
         ]
        },
        {
         "hoverinfo": "name",
         "marker": {
          "color": "white",
          "size": 5
         },
         "mode": "markers",
         "name": "Junction #208",
         "opacity": 0.9,
         "type": "scatter",
         "x": [
          2980.925275137711
         ],
         "y": [
          1963.158899754343
         ]
        },
        {
         "hoverinfo": "name",
         "marker": {
          "color": "white",
          "size": 5
         },
         "mode": "markers",
         "name": "Junction #209",
         "opacity": 0.9,
         "type": "scatter",
         "x": [
          1517.8941170270414
         ],
         "y": [
          398.48085675123
         ]
        },
        {
         "hoverinfo": "name",
         "marker": {
          "color": "white",
          "size": 5
         },
         "mode": "markers",
         "name": "Junction #210",
         "opacity": 0.9,
         "type": "scatter",
         "x": [
          1968.6074933823024
         ],
         "y": [
          946.6687155295309
         ]
        },
        {
         "hoverinfo": "name",
         "marker": {
          "color": "white",
          "size": 5
         },
         "mode": "markers",
         "name": "Junction #211",
         "opacity": 0.9,
         "type": "scatter",
         "x": [
          1315.7382543544215
         ],
         "y": [
          961.1006148655159
         ]
        },
        {
         "hoverinfo": "name",
         "marker": {
          "color": "white",
          "size": 5
         },
         "mode": "markers",
         "name": "Junction #212",
         "opacity": 0.9,
         "type": "scatter",
         "x": [
          1260.6638789949352
         ],
         "y": [
          962.3180528970028
         ]
        },
        {
         "hoverinfo": "name",
         "marker": {
          "color": "white",
          "size": 5
         },
         "mode": "markers",
         "name": "Junction #213",
         "opacity": 0.9,
         "type": "scatter",
         "x": [
          2036.8072685991244
         ],
         "y": [
          2450.089472058534
         ]
        },
        {
         "hoverinfo": "name",
         "marker": {
          "color": "white",
          "size": 5
         },
         "mode": "markers",
         "name": "Junction #214",
         "opacity": 0.9,
         "type": "scatter",
         "x": [
          2325.324994818326
         ],
         "y": [
          2518.203819189188
         ]
        },
        {
         "hoverinfo": "name",
         "marker": {
          "color": "white",
          "size": 5
         },
         "mode": "markers",
         "name": "Junction #215",
         "opacity": 0.9,
         "type": "scatter",
         "x": [
          1977.6057388992251
         ],
         "y": [
          2436.112952842585
         ]
        },
        {
         "hoverinfo": "name",
         "marker": {
          "color": "white",
          "size": 5
         },
         "mode": "markers",
         "name": "Junction #216",
         "opacity": 0.9,
         "type": "scatter",
         "x": [
          2846.832538479282
         ],
         "y": [
          2641.3232764428785
         ]
        },
        {
         "hoverinfo": "name",
         "marker": {
          "color": "white",
          "size": 5
         },
         "mode": "markers",
         "name": "Junction #217",
         "opacity": 0.9,
         "type": "scatter",
         "x": [
          2850.544846784808
         ],
         "y": [
          2642.1996921137356
         ]
        },
        {
         "hoverinfo": "name",
         "marker": {
          "color": "white",
          "size": 5
         },
         "mode": "markers",
         "name": "Junction #218",
         "opacity": 0.9,
         "type": "scatter",
         "x": [
          2351.8496191656423
         ],
         "y": [
          2419.612583579294
         ]
        },
        {
         "hoverinfo": "name",
         "marker": {
          "color": "white",
          "size": 5
         },
         "mode": "markers",
         "name": "Junction #219",
         "opacity": 0.9,
         "type": "scatter",
         "x": [
          1942.7672709518692
         ],
         "y": [
          2459.186809339473
         ]
        },
        {
         "hoverinfo": "name",
         "marker": {
          "color": "white",
          "size": 5
         },
         "mode": "markers",
         "name": "Junction #220",
         "opacity": 0.9,
         "type": "scatter",
         "x": [
          2375.676351359425
         ],
         "y": [
          1006.5409574691075
         ]
        },
        {
         "hoverinfo": "name",
         "marker": {
          "color": "white",
          "size": 5
         },
         "mode": "markers",
         "name": "Junction #221",
         "opacity": 0.9,
         "type": "scatter",
         "x": [
          2404.083340307339
         ],
         "y": [
          615.7534426144921
         ]
        },
        {
         "hoverinfo": "name",
         "marker": {
          "color": "white",
          "size": 5
         },
         "mode": "markers",
         "name": "Junction #222",
         "opacity": 0.9,
         "type": "scatter",
         "x": [
          1131.9740855417615
         ],
         "y": [
          1923.1672391299585
         ]
        },
        {
         "hoverinfo": "name",
         "marker": {
          "color": "red",
          "size": 5
         },
         "mode": "markers",
         "name": "Junction #223",
         "opacity": 0.9,
         "type": "scatter",
         "x": [
          904.8346925587368
         ],
         "y": [
          2244.7434448671997
         ]
        },
        {
         "hoverinfo": "name",
         "marker": {
          "color": "white",
          "size": 5
         },
         "mode": "markers",
         "name": "Junction #224",
         "opacity": 0.9,
         "type": "scatter",
         "x": [
          920.8523223193262
         ],
         "y": [
          2222.066230951694
         ]
        },
        {
         "hoverinfo": "name",
         "marker": {
          "color": "red",
          "size": 5
         },
         "mode": "markers",
         "name": "Junction #225",
         "opacity": 0.9,
         "type": "scatter",
         "x": [
          1172.176648299607
         ],
         "y": [
          2202.7548330798345
         ]
        },
        {
         "hoverinfo": "name",
         "marker": {
          "color": "white",
          "size": 5
         },
         "mode": "markers",
         "name": "Junction #226",
         "opacity": 0.9,
         "type": "scatter",
         "x": [
          1055.1015109329535
         ],
         "y": [
          1388.559077330251
         ]
        },
        {
         "hoverinfo": "name",
         "marker": {
          "color": "white",
          "size": 5
         },
         "mode": "markers",
         "name": "Junction #227",
         "opacity": 0.9,
         "type": "scatter",
         "x": [
          418.1808840320465
         ],
         "y": [
          2310.8494411363354
         ]
        },
        {
         "hoverinfo": "name",
         "marker": {
          "color": "red",
          "size": 5
         },
         "mode": "markers",
         "name": "Junction #228",
         "opacity": 0.9,
         "type": "scatter",
         "x": [
          413.49357786361253
         ],
         "y": [
          2321.9132675496567
         ]
        },
        {
         "hoverinfo": "name",
         "marker": {
          "color": "red",
          "size": 5
         },
         "mode": "markers",
         "name": "Junction #229",
         "opacity": 0.9,
         "type": "scatter",
         "x": [
          103.13382143402436
         ],
         "y": [
          3054.4804068463923
         ]
        },
        {
         "hoverinfo": "name",
         "marker": {
          "color": "white",
          "size": 5
         },
         "mode": "markers",
         "name": "Junction #230",
         "opacity": 0.9,
         "type": "scatter",
         "x": [
          441.5940534758848
         ],
         "y": [
          2255.585450860478
         ]
        },
        {
         "hoverinfo": "name",
         "marker": {
          "color": "white",
          "size": 5
         },
         "mode": "markers",
         "name": "Junction #231",
         "opacity": 0.9,
         "type": "scatter",
         "x": [
          217.88608711023605
         ],
         "y": [
          2783.621388392068
         ]
        },
        {
         "hoverinfo": "name",
         "marker": {
          "color": "white",
          "size": 5
         },
         "mode": "markers",
         "name": "Junction #232",
         "opacity": 0.9,
         "type": "scatter",
         "x": [
          200.2843166749269
         ],
         "y": [
          2825.1682653541193
         ]
        },
        {
         "hoverinfo": "name",
         "marker": {
          "color": "white",
          "size": 5
         },
         "mode": "markers",
         "name": "Junction #233",
         "opacity": 0.9,
         "type": "scatter",
         "x": [
          1666.075482739966
         ],
         "y": [
          2458.719727422942
         ]
        },
        {
         "hoverinfo": "name",
         "marker": {
          "color": "white",
          "size": 5
         },
         "mode": "markers",
         "name": "Junction #234",
         "opacity": 0.9,
         "type": "scatter",
         "x": [
          1718.7035316066513
         ],
         "y": [
          2264.7028712359825
         ]
        },
        {
         "hoverinfo": "name",
         "marker": {
          "color": "white",
          "size": 5
         },
         "mode": "markers",
         "name": "Junction #235",
         "opacity": 0.9,
         "type": "scatter",
         "x": [
          1836.4845749807944
         ],
         "y": [
          1830.4951009316437
         ]
        },
        {
         "hoverinfo": "name",
         "marker": {
          "color": "white",
          "size": 5
         },
         "mode": "markers",
         "name": "Junction #236",
         "opacity": 0.9,
         "type": "scatter",
         "x": [
          16.9194784407605
         ],
         "y": [
          2439.6151717205466
         ]
        },
        {
         "hoverinfo": "name",
         "marker": {
          "color": "white",
          "size": 5
         },
         "mode": "markers",
         "name": "Junction #237",
         "opacity": 0.9,
         "type": "scatter",
         "x": [
          118.93510293005728
         ],
         "y": [
          2406.878117432926
         ]
        },
        {
         "hoverinfo": "name",
         "marker": {
          "color": "white",
          "size": 5
         },
         "mode": "markers",
         "name": "Junction #238",
         "opacity": 0.9,
         "type": "scatter",
         "x": [
          1360.4817057188413
         ],
         "y": [
          840.8837408866194
         ]
        },
        {
         "hoverinfo": "name",
         "marker": {
          "color": "white",
          "size": 5
         },
         "mode": "markers",
         "name": "Junction #239",
         "opacity": 0.9,
         "type": "scatter",
         "x": [
          1201.6842244029697
         ],
         "y": [
          818.0562675099841
         ]
        },
        {
         "hoverinfo": "name",
         "marker": {
          "color": "red",
          "size": 5
         },
         "mode": "markers",
         "name": "Junction #240",
         "opacity": 0.9,
         "type": "scatter",
         "x": [
          945.200051662579
         ],
         "y": [
          2238.403679047907
         ]
        },
        {
         "hoverinfo": "name",
         "marker": {
          "color": "red",
          "size": 5
         },
         "mode": "markers",
         "name": "Junction #241",
         "opacity": 0.9,
         "type": "scatter",
         "x": [
          1410.3748811103524
         ],
         "y": [
          2550.5383148747974
         ]
        },
        {
         "hoverinfo": "name",
         "marker": {
          "color": "white",
          "size": 5
         },
         "mode": "markers",
         "name": "Junction #242",
         "opacity": 0.9,
         "type": "scatter",
         "x": [
          1441.2477096730845
         ],
         "y": [
          2539.4523045517576
         ]
        },
        {
         "hoverinfo": "name",
         "marker": {
          "color": "white",
          "size": 5
         },
         "mode": "markers",
         "name": "Junction #243",
         "opacity": 0.9,
         "type": "scatter",
         "x": [
          1620.5535711486461
         ],
         "y": [
          2475.066023027195
         ]
        },
        {
         "hoverinfo": "name",
         "marker": {
          "color": "white",
          "size": 5
         },
         "mode": "markers",
         "name": "Junction #244",
         "opacity": 0.9,
         "type": "scatter",
         "x": [
          74.75663509799436
         ],
         "y": [
          2852.09940221383
         ]
        },
        {
         "hoverinfo": "name",
         "marker": {
          "color": "white",
          "size": 5
         },
         "mode": "markers",
         "name": "Junction #245",
         "opacity": 0.9,
         "type": "scatter",
         "x": [
          98.89308229559249
         ],
         "y": [
          1271.0295029849042
         ]
        },
        {
         "hoverinfo": "name",
         "marker": {
          "color": "white",
          "size": 5
         },
         "mode": "markers",
         "name": "Junction #246",
         "opacity": 0.9,
         "type": "scatter",
         "x": [
          2247.6458441140185
         ],
         "y": [
          854.3456465464246
         ]
        },
        {
         "hoverinfo": "name",
         "marker": {
          "color": "white",
          "size": 5
         },
         "mode": "markers",
         "name": "Junction #247",
         "opacity": 0.9,
         "type": "scatter",
         "x": [
          404.5528977180516
         ],
         "y": [
          1226.4527380977847
         ]
        },
        {
         "hoverinfo": "name",
         "marker": {
          "color": "white",
          "size": 5
         },
         "mode": "markers",
         "name": "Junction #248",
         "opacity": 0.9,
         "type": "scatter",
         "x": [
          387.2928726343403
         ],
         "y": [
          1075.7652257235018
         ]
        },
        {
         "hoverinfo": "name",
         "marker": {
          "color": "white",
          "size": 5
         },
         "mode": "markers",
         "name": "Junction #249",
         "opacity": 0.9,
         "type": "scatter",
         "x": [
          1581.1243931256909
         ],
         "y": [
          2821.274059075634
         ]
        },
        {
         "hoverinfo": "name",
         "marker": {
          "color": "white",
          "size": 5
         },
         "mode": "markers",
         "name": "Junction #250",
         "opacity": 0.9,
         "type": "scatter",
         "x": [
          2266.9988517955635
         ],
         "y": [
          2735.000348846934
         ]
        },
        {
         "hoverinfo": "name",
         "marker": {
          "color": "white",
          "size": 5
         },
         "mode": "markers",
         "name": "Junction #251",
         "opacity": 0.9,
         "type": "scatter",
         "x": [
          229.24984240380442
         ],
         "y": [
          1182.7700125089564
         ]
        },
        {
         "hoverinfo": "name",
         "marker": {
          "color": "white",
          "size": 5
         },
         "mode": "markers",
         "name": "Junction #252",
         "opacity": 0.9,
         "type": "scatter",
         "x": [
          1643.8240750773914
         ],
         "y": [
          2270.739281588708
         ]
        },
        {
         "hoverinfo": "name",
         "marker": {
          "color": "white",
          "size": 5
         },
         "mode": "markers",
         "name": "Junction #253",
         "opacity": 0.9,
         "type": "scatter",
         "x": [
          1596.2222898154962
         ],
         "y": [
          2688.706924188962
         ]
        },
        {
         "hoverinfo": "name",
         "marker": {
          "color": "white",
          "size": 5
         },
         "mode": "markers",
         "name": "Junction #254",
         "opacity": 0.9,
         "type": "scatter",
         "x": [
          1411.4708630202504
         ],
         "y": [
          1207.0984605677518
         ]
        },
        {
         "hoverinfo": "name",
         "marker": {
          "color": "white",
          "size": 5
         },
         "mode": "markers",
         "name": "Junction #255",
         "opacity": 0.9,
         "type": "scatter",
         "x": [
          2848.8710394204977
         ],
         "y": [
          2642.4658757976044
         ]
        },
        {
         "hoverinfo": "name",
         "marker": {
          "color": "white",
          "size": 5
         },
         "mode": "markers",
         "name": "Junction #256",
         "opacity": 0.9,
         "type": "scatter",
         "x": [
          1201.7494037858958
         ],
         "y": [
          1267.3662887445025
         ]
        },
        {
         "hoverinfo": "name",
         "marker": {
          "color": "white",
          "size": 5
         },
         "mode": "markers",
         "name": "Junction #257",
         "opacity": 0.9,
         "type": "scatter",
         "x": [
          1366.0730355346384
         ],
         "y": [
          1220.144471579163
         ]
        },
        {
         "hoverinfo": "name",
         "marker": {
          "color": "white",
          "size": 5
         },
         "mode": "markers",
         "name": "Junction #258",
         "opacity": 0.9,
         "type": "scatter",
         "x": [
          1077.8968861650185
         ],
         "y": [
          -35.46502908397724
         ]
        },
        {
         "hoverinfo": "name",
         "marker": {
          "color": "white",
          "size": 5
         },
         "mode": "markers",
         "name": "Junction #259",
         "opacity": 0.9,
         "type": "scatter",
         "x": [
          1289.2560082829184
         ],
         "y": [
          1032.253213549211
         ]
        },
        {
         "hoverinfo": "name",
         "marker": {
          "color": "white",
          "size": 5
         },
         "mode": "markers",
         "name": "Junction #260",
         "opacity": 0.9,
         "type": "scatter",
         "x": [
          227.27726597541846
         ],
         "y": [
          2819.377105964202
         ]
        },
        {
         "hoverinfo": "name",
         "marker": {
          "color": "white",
          "size": 5
         },
         "mode": "markers",
         "name": "Junction #261",
         "opacity": 0.9,
         "type": "scatter",
         "x": [
          2499.226177615279
         ],
         "y": [
          1894.2653162214979
         ]
        }
       ],
       "layout": {
        "height": 800,
        "paper_bgcolor": "rgb(211,211,211)",
        "plot_bgcolor": "rgb(51,51,51)",
        "showlegend": false,
        "template": {
         "data": {
          "bar": [
           {
            "error_x": {
             "color": "#2a3f5f"
            },
            "error_y": {
             "color": "#2a3f5f"
            },
            "marker": {
             "line": {
              "color": "#E5ECF6",
              "width": 0.5
             }
            },
            "type": "bar"
           }
          ],
          "barpolar": [
           {
            "marker": {
             "line": {
              "color": "#E5ECF6",
              "width": 0.5
             }
            },
            "type": "barpolar"
           }
          ],
          "carpet": [
           {
            "aaxis": {
             "endlinecolor": "#2a3f5f",
             "gridcolor": "white",
             "linecolor": "white",
             "minorgridcolor": "white",
             "startlinecolor": "#2a3f5f"
            },
            "baxis": {
             "endlinecolor": "#2a3f5f",
             "gridcolor": "white",
             "linecolor": "white",
             "minorgridcolor": "white",
             "startlinecolor": "#2a3f5f"
            },
            "type": "carpet"
           }
          ],
          "choropleth": [
           {
            "colorbar": {
             "outlinewidth": 0,
             "ticks": ""
            },
            "type": "choropleth"
           }
          ],
          "contour": [
           {
            "colorbar": {
             "outlinewidth": 0,
             "ticks": ""
            },
            "colorscale": [
             [
              0,
              "#0d0887"
             ],
             [
              0.1111111111111111,
              "#46039f"
             ],
             [
              0.2222222222222222,
              "#7201a8"
             ],
             [
              0.3333333333333333,
              "#9c179e"
             ],
             [
              0.4444444444444444,
              "#bd3786"
             ],
             [
              0.5555555555555556,
              "#d8576b"
             ],
             [
              0.6666666666666666,
              "#ed7953"
             ],
             [
              0.7777777777777778,
              "#fb9f3a"
             ],
             [
              0.8888888888888888,
              "#fdca26"
             ],
             [
              1,
              "#f0f921"
             ]
            ],
            "type": "contour"
           }
          ],
          "contourcarpet": [
           {
            "colorbar": {
             "outlinewidth": 0,
             "ticks": ""
            },
            "type": "contourcarpet"
           }
          ],
          "heatmap": [
           {
            "colorbar": {
             "outlinewidth": 0,
             "ticks": ""
            },
            "colorscale": [
             [
              0,
              "#0d0887"
             ],
             [
              0.1111111111111111,
              "#46039f"
             ],
             [
              0.2222222222222222,
              "#7201a8"
             ],
             [
              0.3333333333333333,
              "#9c179e"
             ],
             [
              0.4444444444444444,
              "#bd3786"
             ],
             [
              0.5555555555555556,
              "#d8576b"
             ],
             [
              0.6666666666666666,
              "#ed7953"
             ],
             [
              0.7777777777777778,
              "#fb9f3a"
             ],
             [
              0.8888888888888888,
              "#fdca26"
             ],
             [
              1,
              "#f0f921"
             ]
            ],
            "type": "heatmap"
           }
          ],
          "heatmapgl": [
           {
            "colorbar": {
             "outlinewidth": 0,
             "ticks": ""
            },
            "colorscale": [
             [
              0,
              "#0d0887"
             ],
             [
              0.1111111111111111,
              "#46039f"
             ],
             [
              0.2222222222222222,
              "#7201a8"
             ],
             [
              0.3333333333333333,
              "#9c179e"
             ],
             [
              0.4444444444444444,
              "#bd3786"
             ],
             [
              0.5555555555555556,
              "#d8576b"
             ],
             [
              0.6666666666666666,
              "#ed7953"
             ],
             [
              0.7777777777777778,
              "#fb9f3a"
             ],
             [
              0.8888888888888888,
              "#fdca26"
             ],
             [
              1,
              "#f0f921"
             ]
            ],
            "type": "heatmapgl"
           }
          ],
          "histogram": [
           {
            "marker": {
             "colorbar": {
              "outlinewidth": 0,
              "ticks": ""
             }
            },
            "type": "histogram"
           }
          ],
          "histogram2d": [
           {
            "colorbar": {
             "outlinewidth": 0,
             "ticks": ""
            },
            "colorscale": [
             [
              0,
              "#0d0887"
             ],
             [
              0.1111111111111111,
              "#46039f"
             ],
             [
              0.2222222222222222,
              "#7201a8"
             ],
             [
              0.3333333333333333,
              "#9c179e"
             ],
             [
              0.4444444444444444,
              "#bd3786"
             ],
             [
              0.5555555555555556,
              "#d8576b"
             ],
             [
              0.6666666666666666,
              "#ed7953"
             ],
             [
              0.7777777777777778,
              "#fb9f3a"
             ],
             [
              0.8888888888888888,
              "#fdca26"
             ],
             [
              1,
              "#f0f921"
             ]
            ],
            "type": "histogram2d"
           }
          ],
          "histogram2dcontour": [
           {
            "colorbar": {
             "outlinewidth": 0,
             "ticks": ""
            },
            "colorscale": [
             [
              0,
              "#0d0887"
             ],
             [
              0.1111111111111111,
              "#46039f"
             ],
             [
              0.2222222222222222,
              "#7201a8"
             ],
             [
              0.3333333333333333,
              "#9c179e"
             ],
             [
              0.4444444444444444,
              "#bd3786"
             ],
             [
              0.5555555555555556,
              "#d8576b"
             ],
             [
              0.6666666666666666,
              "#ed7953"
             ],
             [
              0.7777777777777778,
              "#fb9f3a"
             ],
             [
              0.8888888888888888,
              "#fdca26"
             ],
             [
              1,
              "#f0f921"
             ]
            ],
            "type": "histogram2dcontour"
           }
          ],
          "mesh3d": [
           {
            "colorbar": {
             "outlinewidth": 0,
             "ticks": ""
            },
            "type": "mesh3d"
           }
          ],
          "parcoords": [
           {
            "line": {
             "colorbar": {
              "outlinewidth": 0,
              "ticks": ""
             }
            },
            "type": "parcoords"
           }
          ],
          "scatter": [
           {
            "marker": {
             "colorbar": {
              "outlinewidth": 0,
              "ticks": ""
             }
            },
            "type": "scatter"
           }
          ],
          "scatter3d": [
           {
            "line": {
             "colorbar": {
              "outlinewidth": 0,
              "ticks": ""
             }
            },
            "marker": {
             "colorbar": {
              "outlinewidth": 0,
              "ticks": ""
             }
            },
            "type": "scatter3d"
           }
          ],
          "scattercarpet": [
           {
            "marker": {
             "colorbar": {
              "outlinewidth": 0,
              "ticks": ""
             }
            },
            "type": "scattercarpet"
           }
          ],
          "scattergeo": [
           {
            "marker": {
             "colorbar": {
              "outlinewidth": 0,
              "ticks": ""
             }
            },
            "type": "scattergeo"
           }
          ],
          "scattergl": [
           {
            "marker": {
             "colorbar": {
              "outlinewidth": 0,
              "ticks": ""
             }
            },
            "type": "scattergl"
           }
          ],
          "scattermapbox": [
           {
            "marker": {
             "colorbar": {
              "outlinewidth": 0,
              "ticks": ""
             }
            },
            "type": "scattermapbox"
           }
          ],
          "scatterpolar": [
           {
            "marker": {
             "colorbar": {
              "outlinewidth": 0,
              "ticks": ""
             }
            },
            "type": "scatterpolar"
           }
          ],
          "scatterpolargl": [
           {
            "marker": {
             "colorbar": {
              "outlinewidth": 0,
              "ticks": ""
             }
            },
            "type": "scatterpolargl"
           }
          ],
          "scatterternary": [
           {
            "marker": {
             "colorbar": {
              "outlinewidth": 0,
              "ticks": ""
             }
            },
            "type": "scatterternary"
           }
          ],
          "surface": [
           {
            "colorbar": {
             "outlinewidth": 0,
             "ticks": ""
            },
            "colorscale": [
             [
              0,
              "#0d0887"
             ],
             [
              0.1111111111111111,
              "#46039f"
             ],
             [
              0.2222222222222222,
              "#7201a8"
             ],
             [
              0.3333333333333333,
              "#9c179e"
             ],
             [
              0.4444444444444444,
              "#bd3786"
             ],
             [
              0.5555555555555556,
              "#d8576b"
             ],
             [
              0.6666666666666666,
              "#ed7953"
             ],
             [
              0.7777777777777778,
              "#fb9f3a"
             ],
             [
              0.8888888888888888,
              "#fdca26"
             ],
             [
              1,
              "#f0f921"
             ]
            ],
            "type": "surface"
           }
          ],
          "table": [
           {
            "cells": {
             "fill": {
              "color": "#EBF0F8"
             },
             "line": {
              "color": "white"
             }
            },
            "header": {
             "fill": {
              "color": "#C8D4E3"
             },
             "line": {
              "color": "white"
             }
            },
            "type": "table"
           }
          ]
         },
         "layout": {
          "annotationdefaults": {
           "arrowcolor": "#2a3f5f",
           "arrowhead": 0,
           "arrowwidth": 1
          },
          "colorscale": {
           "diverging": [
            [
             0,
             "#8e0152"
            ],
            [
             0.1,
             "#c51b7d"
            ],
            [
             0.2,
             "#de77ae"
            ],
            [
             0.3,
             "#f1b6da"
            ],
            [
             0.4,
             "#fde0ef"
            ],
            [
             0.5,
             "#f7f7f7"
            ],
            [
             0.6,
             "#e6f5d0"
            ],
            [
             0.7,
             "#b8e186"
            ],
            [
             0.8,
             "#7fbc41"
            ],
            [
             0.9,
             "#4d9221"
            ],
            [
             1,
             "#276419"
            ]
           ],
           "sequential": [
            [
             0,
             "#0d0887"
            ],
            [
             0.1111111111111111,
             "#46039f"
            ],
            [
             0.2222222222222222,
             "#7201a8"
            ],
            [
             0.3333333333333333,
             "#9c179e"
            ],
            [
             0.4444444444444444,
             "#bd3786"
            ],
            [
             0.5555555555555556,
             "#d8576b"
            ],
            [
             0.6666666666666666,
             "#ed7953"
            ],
            [
             0.7777777777777778,
             "#fb9f3a"
            ],
            [
             0.8888888888888888,
             "#fdca26"
            ],
            [
             1,
             "#f0f921"
            ]
           ],
           "sequentialminus": [
            [
             0,
             "#0d0887"
            ],
            [
             0.1111111111111111,
             "#46039f"
            ],
            [
             0.2222222222222222,
             "#7201a8"
            ],
            [
             0.3333333333333333,
             "#9c179e"
            ],
            [
             0.4444444444444444,
             "#bd3786"
            ],
            [
             0.5555555555555556,
             "#d8576b"
            ],
            [
             0.6666666666666666,
             "#ed7953"
            ],
            [
             0.7777777777777778,
             "#fb9f3a"
            ],
            [
             0.8888888888888888,
             "#fdca26"
            ],
            [
             1,
             "#f0f921"
            ]
           ]
          },
          "colorway": [
           "#636efa",
           "#EF553B",
           "#00cc96",
           "#ab63fa",
           "#FFA15A",
           "#19d3f3",
           "#FF6692",
           "#B6E880",
           "#FF97FF",
           "#FECB52"
          ],
          "font": {
           "color": "#2a3f5f"
          },
          "geo": {
           "bgcolor": "white",
           "lakecolor": "white",
           "landcolor": "#E5ECF6",
           "showlakes": true,
           "showland": true,
           "subunitcolor": "white"
          },
          "hoverlabel": {
           "align": "left"
          },
          "hovermode": "closest",
          "mapbox": {
           "style": "light"
          },
          "paper_bgcolor": "white",
          "plot_bgcolor": "#E5ECF6",
          "polar": {
           "angularaxis": {
            "gridcolor": "white",
            "linecolor": "white",
            "ticks": ""
           },
           "bgcolor": "#E5ECF6",
           "radialaxis": {
            "gridcolor": "white",
            "linecolor": "white",
            "ticks": ""
           }
          },
          "scene": {
           "xaxis": {
            "backgroundcolor": "#E5ECF6",
            "gridcolor": "white",
            "gridwidth": 2,
            "linecolor": "white",
            "showbackground": true,
            "ticks": "",
            "zerolinecolor": "white"
           },
           "yaxis": {
            "backgroundcolor": "#E5ECF6",
            "gridcolor": "white",
            "gridwidth": 2,
            "linecolor": "white",
            "showbackground": true,
            "ticks": "",
            "zerolinecolor": "white"
           },
           "zaxis": {
            "backgroundcolor": "#E5ECF6",
            "gridcolor": "white",
            "gridwidth": 2,
            "linecolor": "white",
            "showbackground": true,
            "ticks": "",
            "zerolinecolor": "white"
           }
          },
          "shapedefaults": {
           "line": {
            "color": "#2a3f5f"
           }
          },
          "ternary": {
           "aaxis": {
            "gridcolor": "white",
            "linecolor": "white",
            "ticks": ""
           },
           "baxis": {
            "gridcolor": "white",
            "linecolor": "white",
            "ticks": ""
           },
           "bgcolor": "#E5ECF6",
           "caxis": {
            "gridcolor": "white",
            "linecolor": "white",
            "ticks": ""
           }
          },
          "title": {
           "x": 0.05
          },
          "xaxis": {
           "automargin": true,
           "gridcolor": "white",
           "linecolor": "white",
           "ticks": "",
           "zerolinecolor": "white",
           "zerolinewidth": 2
          },
          "yaxis": {
           "automargin": true,
           "gridcolor": "white",
           "linecolor": "white",
           "ticks": "",
           "zerolinecolor": "white",
           "zerolinewidth": 2
          }
         }
        },
        "width": 800,
        "xaxis": {
         "range": [
          -600,
          3600
         ],
         "showgrid": false,
         "title": {
          "text": "x $\\mu$ m"
         },
         "zeroline": false
        },
        "yaxis": {
         "range": [
          -600,
          3600
         ],
         "showgrid": false,
         "title": {
          "text": "x $\\mu$ m"
         },
         "zeroline": false
        }
       }
      },
      "text/html": [
       "<div>\n",
       "        \n",
       "        \n",
       "            <div id=\"96677885-ce76-4721-9f60-be0d49136336\" class=\"plotly-graph-div\" style=\"height:800px; width:800px;\"></div>\n",
       "            <script type=\"text/javascript\">\n",
       "                require([\"plotly\"], function(Plotly) {\n",
       "                    window.PLOTLYENV=window.PLOTLYENV || {};\n",
       "                    \n",
       "                if (document.getElementById(\"96677885-ce76-4721-9f60-be0d49136336\")) {\n",
       "                    Plotly.newPlot(\n",
       "                        '96677885-ce76-4721-9f60-be0d49136336',\n",
       "                        [{\"hoverinfo\": \"name\", \"line\": {\"color\": \"yellow\", \"width\": 1.5}, \"mode\": \"lines\", \"name\": \"Nanowire #1\", \"opacity\": 1.0, \"type\": \"scatter\", \"x\": [2218.9598169631636, 1678.8375773201244, 1948.8986971416439], \"y\": [20.799957779366878, 917.8222982471494, 469.31112801325816]}, {\"hoverinfo\": \"name\", \"line\": {\"color\": \"white\", \"width\": 1.5}, \"mode\": \"lines\", \"name\": \"Nanowire #2\", \"opacity\": 1.0, \"type\": \"scatter\", \"x\": [2897.7700950322665, 2197.570367932801, 2547.670231482534], \"y\": [405.81360262892537, 1095.6437863586466, 750.728694493786]}, {\"hoverinfo\": \"name\", \"line\": {\"color\": \"white\", \"width\": 1.5}, \"mode\": \"lines\", \"name\": \"Nanowire #3\", \"opacity\": 1.0, \"type\": \"scatter\", \"x\": [2358.910993748829, 1586.7663600532314, 1972.83867690103], \"y\": [1351.2673996400686, 1944.0925885966544, 1647.6799941183615]}, {\"hoverinfo\": \"name\", \"line\": {\"color\": \"white\", \"width\": 1.5}, \"mode\": \"lines\", \"name\": \"Nanowire #4\", \"opacity\": 0.2, \"type\": \"scatter\", \"x\": [2089.165443677921, 1320.6861763349086, 1704.9258100064148], \"y\": [1845.001976482109, 2442.5735597182647, 2143.787768100187]}, {\"hoverinfo\": \"name\", \"line\": {\"color\": \"white\", \"width\": 1.5}, \"mode\": \"lines\", \"name\": \"Nanowire #5\", \"opacity\": 0.2, \"type\": \"scatter\", \"x\": [-276.66400213158477, 838.7126091001396, 281.0243034842774], \"y\": [1816.274674889716, 2144.9095854166717, 1980.5921301531937]}, {\"hoverinfo\": \"name\", \"line\": {\"color\": \"yellow\", \"width\": 1.5}, \"mode\": \"lines\", \"name\": \"Nanowire #6\", \"opacity\": 1.0, \"type\": \"scatter\", \"x\": [1093.7236875217102, 1112.5711308348912, 1103.1474091783007], \"y\": [302.25324673570435, 1377.3501349399528, 839.8016908378286]}, {\"hoverinfo\": \"name\", \"line\": {\"color\": \"white\", \"width\": 1.5}, \"mode\": \"lines\", \"name\": \"Nanowire #7\", \"opacity\": 0.2, \"type\": \"scatter\", \"x\": [328.0918795562978, 1263.122326534055, 795.6071030451764], \"y\": [2779.1232163655895, 2950.068467613575, 2864.5958419895824]}, {\"hoverinfo\": \"name\", \"line\": {\"color\": \"white\", \"width\": 1.5}, \"mode\": \"lines\", \"name\": \"Nanowire #8\", \"opacity\": 0.2, \"type\": \"scatter\", \"x\": [813.4704429265142, 650.4674173479872, 731.9689301372507], \"y\": [1694.134708590659, 2733.2467915839516, 2213.6907500873053]}, {\"hoverinfo\": \"name\", \"line\": {\"color\": \"white\", \"width\": 1.5}, \"mode\": \"lines\", \"name\": \"Nanowire #9\", \"opacity\": 0.2, \"type\": \"scatter\", \"x\": [2825.7840510226097, 3012.2792774920636, 2919.0316642573366], \"y\": [1161.1414172897144, 2164.9828977786897, 1663.062157534202]}, {\"hoverinfo\": \"name\", \"line\": {\"color\": \"white\", \"width\": 1.5}, \"mode\": \"lines\", \"name\": \"Nanowire #10\", \"opacity\": 0.2, \"type\": \"scatter\", \"x\": [1562.9165178597887, 795.6698301407736, 1179.2931740002812], \"y\": [1693.9156195364214, 1976.4088578696922, 1835.1622387030568]}, {\"hoverinfo\": \"name\", \"line\": {\"color\": \"white\", \"width\": 1.5}, \"mode\": \"lines\", \"name\": \"Nanowire #11\", \"opacity\": 0.2, \"type\": \"scatter\", \"x\": [2473.238112237666, 2879.0412188250134, 2676.1396655313397], \"y\": [857.7375184737787, 1659.8628560929608, 1258.8001872833697]}, {\"hoverinfo\": \"name\", \"line\": {\"color\": \"white\", \"width\": 1.5}, \"mode\": \"lines\", \"name\": \"Nanowire #12\", \"opacity\": 1.0, \"type\": \"scatter\", \"x\": [1413.615290395455, 2373.2164655881224, 1893.4158779917886], \"y\": [558.3220605687072, 928.0638764382375, 743.1929685034723]}, {\"hoverinfo\": \"name\", \"line\": {\"color\": \"white\", \"width\": 1.5}, \"mode\": \"lines\", \"name\": \"Nanowire #13\", \"opacity\": 1.0, \"type\": \"scatter\", \"x\": [1866.3632728038015, 2902.5045484460893, 2384.4339106249454], \"y\": [818.1585569608543, 1317.6775149467153, 1067.9180359537847]}, {\"hoverinfo\": \"name\", \"line\": {\"color\": \"white\", \"width\": 1.5}, \"mode\": \"lines\", \"name\": \"Nanowire #14\", \"opacity\": 1.0, \"type\": \"scatter\", \"x\": [1864.6055574020584, 1151.2170012290944, 1507.9112793155764], \"y\": [1941.7515671402325, 2605.3250956459824, 2273.5383313931075]}, {\"hoverinfo\": \"name\", \"line\": {\"color\": \"white\", \"width\": 1.5}, \"mode\": \"lines\", \"name\": \"Nanowire #15\", \"opacity\": 0.2, \"type\": \"scatter\", \"x\": [1901.880145116223, 1559.5431626419318, 1730.7116538790774], \"y\": [-396.31420835483294, 482.6751401333682, 43.18046588926761]}, {\"hoverinfo\": \"name\", \"line\": {\"color\": \"white\", \"width\": 1.5}, \"mode\": \"lines\", \"name\": \"Nanowire #16\", \"opacity\": 0.2, \"type\": \"scatter\", \"x\": [998.8766767894031, 1956.2294861237801, 1477.5530814565916], \"y\": [190.8178556514626, 505.6179873900348, 348.2179215207487]}, {\"hoverinfo\": \"name\", \"line\": {\"color\": \"white\", \"width\": 1.5}, \"mode\": \"lines\", \"name\": \"Nanowire #17\", \"opacity\": 0.2, \"type\": \"scatter\", \"x\": [133.05551759670266, 1038.4024091915644, 585.7289633941335], \"y\": [15.534729582962939, 260.4811225475535, 138.00792606525823]}, {\"hoverinfo\": \"name\", \"line\": {\"color\": \"white\", \"width\": 1.5}, \"mode\": \"lines\", \"name\": \"Nanowire #18\", \"opacity\": 0.2, \"type\": \"scatter\", \"x\": [2452.984679421788, 1881.7280121472443, 2167.356345784516], \"y\": [-268.4406867786849, 512.8135006925057, 122.1864069569104]}, {\"hoverinfo\": \"name\", \"line\": {\"color\": \"white\", \"width\": 1.5}, \"mode\": \"lines\", \"name\": \"Nanowire #19\", \"opacity\": 0.2, \"type\": \"scatter\", \"x\": [357.6030696678347, 1327.0311049773002, 842.3170873225674], \"y\": [2453.6089781286114, 2679.154525937432, 2566.3817520330217]}, {\"hoverinfo\": \"name\", \"line\": {\"color\": \"white\", \"width\": 1.5}, \"mode\": \"lines\", \"name\": \"Nanowire #20\", \"opacity\": 0.2, \"type\": \"scatter\", \"x\": [452.07652217770783, -306.18072358898485, 72.94789929436152], \"y\": [1873.4675039281335, 2348.479652352008, 2110.973578140071]}, {\"hoverinfo\": \"name\", \"line\": {\"color\": \"white\", \"width\": 1.5}, \"mode\": \"lines\", \"name\": \"Nanowire #21\", \"opacity\": 1.0, \"type\": \"scatter\", \"x\": [2262.6464164283225, 1610.1873590146843, 1936.4168877215034], \"y\": [991.5378413627053, 1853.5051331612458, 1422.5214872619756]}, {\"hoverinfo\": \"name\", \"line\": {\"color\": \"white\", \"width\": 1.5}, \"mode\": \"lines\", \"name\": \"Nanowire #22\", \"opacity\": 0.2, \"type\": \"scatter\", \"x\": [105.7745270272552, 956.8895494150385, 531.3320382211468], \"y\": [182.31368083316792, 404.691283072841, 293.50248195300446]}, {\"hoverinfo\": \"name\", \"line\": {\"color\": \"white\", \"width\": 1.5}, \"mode\": \"lines\", \"name\": \"Nanowire #23\", \"opacity\": 0.2, \"type\": \"scatter\", \"x\": [2401.800915675761, 3240.950590441724, 2821.3757530587427], \"y\": [1360.2948303609521, 1589.400420340042, 1474.847625350497]}, {\"hoverinfo\": \"name\", \"line\": {\"color\": \"white\", \"width\": 1.5}, \"mode\": \"lines\", \"name\": \"Nanowire #24\", \"opacity\": 0.2, \"type\": \"scatter\", \"x\": [3369.5628270585494, 2354.0086349569747, 2861.785731007762], \"y\": [1399.0898585363118, 1441.7407661470822, 1420.415312341697]}, {\"hoverinfo\": \"name\", \"line\": {\"color\": \"white\", \"width\": 1.5}, \"mode\": \"lines\", \"name\": \"Nanowire #25\", \"opacity\": 1.0, \"type\": \"scatter\", \"x\": [2538.2980779885925, 2950.8882633340986, 2744.5931706613455], \"y\": [24.774527011111445, 1014.4366924489797, 519.6056097300456]}, {\"hoverinfo\": \"name\", \"line\": {\"color\": \"yellow\", \"width\": 1.5}, \"mode\": \"lines\", \"name\": \"Nanowire #26\", \"opacity\": 1.0, \"type\": \"scatter\", \"x\": [910.0863161617109, 1310.8658853709558, 1110.4761007663333], \"y\": [835.9064295743979, 1767.2034658534403, 1301.554947713919]}, {\"hoverinfo\": \"name\", \"line\": {\"color\": \"white\", \"width\": 1.5}, \"mode\": \"lines\", \"name\": \"Nanowire #27\", \"opacity\": 0.2, \"type\": \"scatter\", \"x\": [456.19487072878985, -363.45517155558525, 46.369849586602285], \"y\": [922.235420072061, 1468.7929863121794, 1195.5142031921202]}, {\"hoverinfo\": \"name\", \"line\": {\"color\": \"white\", \"width\": 1.5}, \"mode\": \"lines\", \"name\": \"Nanowire #28\", \"opacity\": 0.2, \"type\": \"scatter\", \"x\": [3261.7858746863917, 2308.1255008399608, 2784.9556877631762], \"y\": [1767.7968718073498, 1927.303716505949, 1847.5502941566494]}, {\"hoverinfo\": \"name\", \"line\": {\"color\": \"white\", \"width\": 1.5}, \"mode\": \"lines\", \"name\": \"Nanowire #29\", \"opacity\": 1.0, \"type\": \"scatter\", \"x\": [1759.7841370793096, 809.3207528245764, 1284.552444951943], \"y\": [1884.367274250146, 1926.1946309557168, 1905.2809526029314]}, {\"hoverinfo\": \"name\", \"line\": {\"color\": \"yellow\", \"width\": 1.5}, \"mode\": \"lines\", \"name\": \"Nanowire #30\", \"opacity\": 1.0, \"type\": \"scatter\", \"x\": [3295.112147615296, 2504.816766646721, 2899.9644571310087], \"y\": [-250.9361199983577, 522.7601786306248, 135.91202931613356]}, {\"hoverinfo\": \"name\", \"marker\": {\"color\": \"red\", \"size\": 30, \"symbol\": \"hexagon\"}, \"mode\": \"markers\", \"name\": \"Drain\", \"opacity\": 0.9, \"type\": \"scatter\", \"x\": [3295.112147615296], \"y\": [-250.9361199983577]}, {\"hoverinfo\": \"name\", \"line\": {\"color\": \"white\", \"width\": 1.5}, \"mode\": \"lines\", \"name\": \"Nanowire #31\", \"opacity\": 0.2, \"type\": \"scatter\", \"x\": [2695.7812278569436, 3085.938634678573, 2890.8599312677584], \"y\": [647.5541386715214, 1600.121549087306, 1123.8378438794136]}, {\"hoverinfo\": \"name\", \"line\": {\"color\": \"white\", \"width\": 1.5}, \"mode\": \"lines\", \"name\": \"Nanowire #32\", \"opacity\": 0.2, \"type\": \"scatter\", \"x\": [2096.069954822771, 3021.98677798139, 2559.0283664020803], \"y\": [1753.2694522967774, 2001.8900419886406, 1877.579747142709]}, {\"hoverinfo\": \"name\", \"line\": {\"color\": \"white\", \"width\": 1.5}, \"mode\": \"lines\", \"name\": \"Nanowire #33\", \"opacity\": 1.0, \"type\": \"scatter\", \"x\": [1239.1949441786346, 527.4984082388796, 883.3466762087571], \"y\": [1209.6127972417644, 1809.2047542387618, 1509.408775740263]}, {\"hoverinfo\": \"name\", \"line\": {\"color\": \"white\", \"width\": 1.5}, \"mode\": \"lines\", \"name\": \"Nanowire #34\", \"opacity\": 0.2, \"type\": \"scatter\", \"x\": [1251.9017837847155, 1058.684587826836, 1155.2931858057757], \"y\": [2048.8635021871414, 3090.0755449427925, 2569.469523564967]}, {\"hoverinfo\": \"name\", \"line\": {\"color\": \"white\", \"width\": 1.5}, \"mode\": \"lines\", \"name\": \"Nanowire #35\", \"opacity\": 0.2, \"type\": \"scatter\", \"x\": [2423.333541170682, 2683.4864879304596, 2553.410014550571], \"y\": [1440.048422463246, 2512.1133672504243, 1976.0808948568351]}, {\"hoverinfo\": \"name\", \"line\": {\"color\": \"white\", \"width\": 1.5}, \"mode\": \"lines\", \"name\": \"Nanowire #36\", \"opacity\": 1.0, \"type\": \"scatter\", \"x\": [1473.575472706651, 427.95655823101504, 950.766015468833], \"y\": [330.39797185628015, 647.208590632298, 488.80328124428905]}, {\"hoverinfo\": \"name\", \"line\": {\"color\": \"white\", \"width\": 1.5}, \"mode\": \"lines\", \"name\": \"Nanowire #37\", \"opacity\": 0.2, \"type\": \"scatter\", \"x\": [78.51240323990481, 938.4440768766501, 508.4782400582775], \"y\": [55.079338975894814, 368.33314542668427, 211.70624220128954]}, {\"hoverinfo\": \"name\", \"line\": {\"color\": \"white\", \"width\": 1.5}, \"mode\": \"lines\", \"name\": \"Nanowire #38\", \"opacity\": 1.0, \"type\": \"scatter\", \"x\": [1659.212873376553, 1681.594701373548, 1670.4037873750506], \"y\": [1444.330171939495, 2410.185497298399, 1927.2578346189468]}, {\"hoverinfo\": \"name\", \"line\": {\"color\": \"white\", \"width\": 1.5}, \"mode\": \"lines\", \"name\": \"Nanowire #39\", \"opacity\": 0.2, \"type\": \"scatter\", \"x\": [2333.971093084054, 3282.9575518806323, 2808.464322482343], \"y\": [62.60227605704665, 96.46558719268424, 79.53393162486545]}, {\"hoverinfo\": \"name\", \"line\": {\"color\": \"white\", \"width\": 1.5}, \"mode\": \"lines\", \"name\": \"Nanowire #40\", \"opacity\": 0.2, \"type\": \"scatter\", \"x\": [2040.0102860390225, 2136.1684940108153, 2088.089390024919], \"y\": [1270.5722845634525, 2244.0812030773272, 1757.32674382039]}, {\"hoverinfo\": \"name\", \"line\": {\"color\": \"white\", \"width\": 1.5}, \"mode\": \"lines\", \"name\": \"Nanowire #41\", \"opacity\": 0.2, \"type\": \"scatter\", \"x\": [1178.6069545340793, 2241.7600660021108, 1710.183510268095], \"y\": [2725.6713856539363, 2915.7100628958096, 2820.690724274873]}, {\"hoverinfo\": \"name\", \"line\": {\"color\": \"white\", \"width\": 1.5}, \"mode\": \"lines\", \"name\": \"Nanowire #42\", \"opacity\": 0.2, \"type\": \"scatter\", \"x\": [-238.42177000539834, 821.4807326300096, 291.5294813123056], \"y\": [1518.8732065654513, 1933.9718606898223, 1726.4225336276368]}, {\"hoverinfo\": \"name\", \"line\": {\"color\": \"white\", \"width\": 1.5}, \"mode\": \"lines\", \"name\": \"Nanowire #43\", \"opacity\": 0.2, \"type\": \"scatter\", \"x\": [1363.2321711036836, 2326.811189091335, 1845.0216800975093], \"y\": [978.073800652528, 1350.9457565866032, 1164.5097786195656]}, {\"hoverinfo\": \"name\", \"line\": {\"color\": \"white\", \"width\": 1.5}, \"mode\": \"lines\", \"name\": \"Nanowire #44\", \"opacity\": 0.2, \"type\": \"scatter\", \"x\": [3181.0607466198785, 2759.2623540057016, 2970.16155031279], \"y\": [1513.400662668575, 2346.328647985544, 1929.8646553270596]}, {\"hoverinfo\": \"name\", \"line\": {\"color\": \"white\", \"width\": 1.5}, \"mode\": \"lines\", \"name\": \"Nanowire #45\", \"opacity\": 0.2, \"type\": \"scatter\", \"x\": [766.9742189216605, 73.52987249748367, 420.2520457095721], \"y\": [1019.3113273876804, 1730.2060155614192, 1374.7586714745498]}, {\"hoverinfo\": \"name\", \"line\": {\"color\": \"white\", \"width\": 1.5}, \"mode\": \"lines\", \"name\": \"Nanowire #46\", \"opacity\": 0.2, \"type\": \"scatter\", \"x\": [1705.3181606294286, 1404.659753552992, 1554.9889570912103], \"y\": [1076.0638393895292, 2197.6368965060806, 1636.850367947805]}, {\"hoverinfo\": \"name\", \"line\": {\"color\": \"white\", \"width\": 1.5}, \"mode\": \"lines\", \"name\": \"Nanowire #47\", \"opacity\": 0.2, \"type\": \"scatter\", \"x\": [3131.264812650712, 2132.9736189170208, 2632.1192157838664], \"y\": [2764.7959143546946, 2883.992938304457, 2824.3944263295757]}, {\"hoverinfo\": \"name\", \"line\": {\"color\": \"white\", \"width\": 1.5}, \"mode\": \"lines\", \"name\": \"Nanowire #48\", \"opacity\": 1.0, \"type\": \"scatter\", \"x\": [2037.075197544424, 2407.5365089808024, 2222.3058532626133], \"y\": [711.635312267224, 1604.9805145374216, 1158.3079134023228]}, {\"hoverinfo\": \"name\", \"line\": {\"color\": \"white\", \"width\": 1.5}, \"mode\": \"lines\", \"name\": \"Nanowire #49\", \"opacity\": 0.2, \"type\": \"scatter\", \"x\": [1787.1255520512186, 2394.968893920389, 2091.0472229858037], \"y\": [2502.4713724271946, 3264.672010516291, 2883.5716914717427]}, {\"hoverinfo\": \"name\", \"line\": {\"color\": \"white\", \"width\": 1.5}, \"mode\": \"lines\", \"name\": \"Nanowire #50\", \"opacity\": 0.2, \"type\": \"scatter\", \"x\": [2580.448447250959, 1634.456056671697, 2107.452251961328], \"y\": [2508.89200746745, 2923.211844268932, 2716.051925868191]}, {\"hoverinfo\": \"name\", \"line\": {\"color\": \"white\", \"width\": 1.5}, \"mode\": \"lines\", \"name\": \"Nanowire #51\", \"opacity\": 0.2, \"type\": \"scatter\", \"x\": [728.0929938580684, 1428.8539134604625, 1078.4734536592655], \"y\": [290.78330839502024, 883.9635003407584, 587.3734043678893]}, {\"hoverinfo\": \"name\", \"line\": {\"color\": \"white\", \"width\": 1.5}, \"mode\": \"lines\", \"name\": \"Nanowire #52\", \"opacity\": 0.2, \"type\": \"scatter\", \"x\": [1351.321788040238, 410.2292775467222, 880.7755327934801], \"y\": [153.47386131738602, 262.6939439336067, 208.08390262549636]}, {\"hoverinfo\": \"name\", \"line\": {\"color\": \"yellow\", \"width\": 1.5}, \"mode\": \"lines\", \"name\": \"Nanowire #53\", \"opacity\": 1.0, \"type\": \"scatter\", \"x\": [1883.0431332241737, 2973.1237996469076, 2428.0834664355407], \"y\": [281.51184056213697, 323.156167702423, 302.33400413228]}, {\"hoverinfo\": \"name\", \"line\": {\"color\": \"white\", \"width\": 1.5}, \"mode\": \"lines\", \"name\": \"Nanowire #54\", \"opacity\": 0.2, \"type\": \"scatter\", \"x\": [2942.960705623967, 1917.7196624511175, 2430.3401840375423], \"y\": [6.0116771284612796, 103.3192767808371, 54.665476954649186]}, {\"hoverinfo\": \"name\", \"line\": {\"color\": \"white\", \"width\": 1.5}, \"mode\": \"lines\", \"name\": \"Nanowire #55\", \"opacity\": 0.2, \"type\": \"scatter\", \"x\": [2102.6406242115863, 3099.793287269036, 2601.2169557403113], \"y\": [215.3091307066148, 351.3486338289555, 283.32888226778516]}, {\"hoverinfo\": \"name\", \"line\": {\"color\": \"white\", \"width\": 1.5}, \"mode\": \"lines\", \"name\": \"Nanowire #56\", \"opacity\": 0.2, \"type\": \"scatter\", \"x\": [3256.237691916498, 2223.20562342233, 2739.721657669414], \"y\": [1865.1557461011012, 2232.88489439704, 2049.0203202490707]}, {\"hoverinfo\": \"name\", \"line\": {\"color\": \"white\", \"width\": 1.5}, \"mode\": \"lines\", \"name\": \"Nanowire #57\", \"opacity\": 0.2, \"type\": \"scatter\", \"x\": [1574.3651888160923, 1493.6892043495343, 1534.0271965828133], \"y\": [-248.7820045501635, 675.9138953115374, 213.56594538068697]}, {\"hoverinfo\": \"name\", \"line\": {\"color\": \"white\", \"width\": 1.5}, \"mode\": \"lines\", \"name\": \"Nanowire #58\", \"opacity\": 0.2, \"type\": \"scatter\", \"x\": [1986.586964296443, 1022.5108038267545, 1504.5488840615988], \"y\": [946.2712731339701, 967.5825086285978, 956.926890881284]}, {\"hoverinfo\": \"name\", \"line\": {\"color\": \"white\", \"width\": 1.5}, \"mode\": \"lines\", \"name\": \"Nanowire #59\", \"opacity\": 0.2, \"type\": \"scatter\", \"x\": [1895.3562797707098, 2894.414794029941, 2394.8855369003254], \"y\": [2416.695191986769, 2652.5566738299585, 2534.6259329083637]}, {\"hoverinfo\": \"name\", \"line\": {\"color\": \"white\", \"width\": 1.5}, \"mode\": \"lines\", \"name\": \"Nanowire #60\", \"opacity\": 0.2, \"type\": \"scatter\", \"x\": [2036.0156331971584, 1863.7679514694323, 1949.8917923332954], \"y\": [-434.3594314211198, 573.991045836075, 69.8158072074776]}, {\"hoverinfo\": \"name\", \"line\": {\"color\": \"white\", \"width\": 1.5}, \"mode\": \"lines\", \"name\": \"Nanowire #61\", \"opacity\": 0.2, \"type\": \"scatter\", \"x\": [2534.8671160223967, 1676.9341475238232, 2105.90063177311], \"y\": [2401.907650158683, 2484.903245374932, 2443.4054477668074]}, {\"hoverinfo\": \"name\", \"line\": {\"color\": \"white\", \"width\": 1.5}, \"mode\": \"lines\", \"name\": \"Nanowire #62\", \"opacity\": 0.2, \"type\": \"scatter\", \"x\": [2422.006328213334, 2352.7496884032726, 2387.3780083083034], \"y\": [369.1915871712532, 1321.9370614691466, 845.5643243201998]}, {\"hoverinfo\": \"name\", \"line\": {\"color\": \"white\", \"width\": 1.5}, \"mode\": \"lines\", \"name\": \"Nanowire #63\", \"opacity\": 0.2, \"type\": \"scatter\", \"x\": [2863.8973734563037, 2476.1346774490944, 2670.016025452699], \"y\": [-95.87135758753294, 804.8603233174704, 354.49448286496875]}, {\"hoverinfo\": \"name\", \"line\": {\"color\": \"yellow\", \"width\": 1.5}, \"mode\": \"lines\", \"name\": \"Nanowire #64\", \"opacity\": 1.0, \"type\": \"scatter\", \"x\": [1313.2815849975636, 714.6893561116513, 1013.9854705546074], \"y\": [1666.4782650995435, 2513.9447270853602, 2090.211496092452]}, {\"hoverinfo\": \"name\", \"line\": {\"color\": \"white\", \"width\": 1.5}, \"mode\": \"lines\", \"name\": \"Nanowire #65\", \"opacity\": 1.0, \"type\": \"scatter\", \"x\": [1053.9762670211758, 1199.5214488184884, 1126.748857919832], \"y\": [1380.7336001387685, 2392.9234805405354, 1886.828540339652]}, {\"hoverinfo\": \"name\", \"line\": {\"color\": \"yellow\", \"width\": 1.5}, \"mode\": \"lines\", \"name\": \"Nanowire #66\", \"opacity\": 1.0, \"type\": \"scatter\", \"x\": [474.8974820664033, 88.99415697881065, 281.945819522607], \"y\": [2176.976685046266, 3087.855396116052, 2632.416040581159]}, {\"hoverinfo\": \"name\", \"line\": {\"color\": \"white\", \"width\": 1.5}, \"mode\": \"lines\", \"name\": \"Nanowire #67\", \"opacity\": 0.2, \"type\": \"scatter\", \"x\": [1841.79921381116, 1627.8816321658837, 1734.8404229885218], \"y\": [1810.9023259790956, 2599.523936844219, 2205.2131314116573]}, {\"hoverinfo\": \"name\", \"line\": {\"color\": \"white\", \"width\": 1.5}, \"mode\": \"lines\", \"name\": \"Nanowire #68\", \"opacity\": 0.2, \"type\": \"scatter\", \"x\": [581.0680047550138, -365.41436197456136, 107.82682139022626], \"y\": [2258.578580270102, 2562.3070020389896, 2410.442791154546]}, {\"hoverinfo\": \"name\", \"line\": {\"color\": \"yellow\", \"width\": 1.5}, \"mode\": \"lines\", \"name\": \"Nanowire #69\", \"opacity\": 1.0, \"type\": \"scatter\", \"x\": [900.549331797974, 1893.038776996787, 1396.7940543973805], \"y\": [774.7674905926552, 917.4399448351836, 846.1037177139194]}, {\"hoverinfo\": \"name\", \"line\": {\"color\": \"white\", \"width\": 1.5}, \"mode\": \"lines\", \"name\": \"Nanowire #70\", \"opacity\": 0.2, \"type\": \"scatter\", \"x\": [1226.760645632067, 2029.1071626133928, 1627.93390412273], \"y\": [44.384788883674105, 1020.2524737946627, 532.3186313391684]}, {\"hoverinfo\": \"name\", \"line\": {\"color\": \"yellow\", \"width\": 1.5}, \"mode\": \"lines\", \"name\": \"Nanowire #71\", \"opacity\": 1.0, \"type\": \"scatter\", \"x\": [1342.4972156736717, 376.7502970960346, 859.6237563848532], \"y\": [2176.0043585310336, 2327.6841513141167, 2251.844254922575]}, {\"hoverinfo\": \"name\", \"line\": {\"color\": \"white\", \"width\": 1.5}, \"mode\": \"lines\", \"name\": \"Nanowire #72\", \"opacity\": 1.0, \"type\": \"scatter\", \"x\": [2255.8214341175267, 1289.178129296538, 1772.4997817070323], \"y\": [2246.950025412715, 2594.058410190869, 2420.504217801792]}, {\"hoverinfo\": \"name\", \"line\": {\"color\": \"yellow\", \"width\": 1.5}, \"mode\": \"lines\", \"name\": \"Nanowire #73\", \"opacity\": 1.0, \"type\": \"scatter\", \"x\": [14.075659141444476, 168.9258404928521, 91.50074981714829], \"y\": [2419.333562403336, 3523.6972896007037, 2971.51542600202]}, {\"hoverinfo\": \"name\", \"marker\": {\"color\": \"green\", \"size\": 30, \"symbol\": \"hexagon\"}, \"mode\": \"markers\", \"name\": \"Drain\", \"opacity\": 0.9, \"type\": \"scatter\", \"x\": [168.9258404928521], \"y\": [3523.6972896007037]}, {\"hoverinfo\": \"name\", \"line\": {\"color\": \"white\", \"width\": 1.5}, \"mode\": \"lines\", \"name\": \"Nanowire #74\", \"opacity\": 0.2, \"type\": \"scatter\", \"x\": [309.86816758471105, -85.77903508942453, 112.04456624764325], \"y\": [738.8151089144789, 1736.8909525540798, 1237.8530307342794]}, {\"hoverinfo\": \"name\", \"line\": {\"color\": \"white\", \"width\": 1.5}, \"mode\": \"lines\", \"name\": \"Nanowire #75\", \"opacity\": 1.0, \"type\": \"scatter\", \"x\": [2099.783018412378, 2835.820345545571, 2467.8016819789746], \"y\": [678.5748149239806, 1553.5336998327184, 1116.0542573783496]}, {\"hoverinfo\": \"name\", \"line\": {\"color\": \"white\", \"width\": 1.5}, \"mode\": \"lines\", \"name\": \"Nanowire #76\", \"opacity\": 1.0, \"type\": \"scatter\", \"x\": [722.1932684531797, 1438.9505800143975, 1080.5719242337886], \"y\": [2088.765012771345, 2569.712751680636, 2329.2388822259904]}, {\"hoverinfo\": \"name\", \"line\": {\"color\": \"white\", \"width\": 1.5}, \"mode\": \"lines\", \"name\": \"Nanowire #77\", \"opacity\": 0.2, \"type\": \"scatter\", \"x\": [329.914917451256, 432.4481584600527, 381.18153795565433], \"y\": [574.8307664902036, 1469.9904750279036, 1022.4106207590536]}, {\"hoverinfo\": \"name\", \"line\": {\"color\": \"white\", \"width\": 1.5}, \"mode\": \"lines\", \"name\": \"Nanowire #78\", \"opacity\": 0.2, \"type\": \"scatter\", \"x\": [1357.5109102724678, 1775.9486500563585, 1566.7297801644131], \"y\": [2370.740471079587, 3213.803482541801, 2792.271976810694]}, {\"hoverinfo\": \"name\", \"line\": {\"color\": \"white\", \"width\": 1.5}, \"mode\": \"lines\", \"name\": \"Nanowire #79\", \"opacity\": 0.2, \"type\": \"scatter\", \"x\": [2420.3606648057957, 2199.6006537858693, 2309.9806592958325], \"y\": [2164.9590754223746, 2985.5174356356965, 2575.2382555290355]}, {\"hoverinfo\": \"name\", \"line\": {\"color\": \"white\", \"width\": 1.5}, \"mode\": \"lines\", \"name\": \"Nanowire #80\", \"opacity\": 1.0, \"type\": \"scatter\", \"x\": [160.58755414451088, 1134.338610836548, 647.4630824905295], \"y\": [1165.660465325337, 1408.303698924773, 1286.982082125055]}, {\"hoverinfo\": \"name\", \"line\": {\"color\": \"white\", \"width\": 1.5}, \"mode\": \"lines\", \"name\": \"Nanowire #81\", \"opacity\": 0.2, \"type\": \"scatter\", \"x\": [2321.0371827486097, 1416.305672165392, 1868.6714274570008], \"y\": [2216.14572010164, 2289.080686647344, 2252.613203374492]}, {\"hoverinfo\": \"name\", \"line\": {\"color\": \"white\", \"width\": 1.5}, \"mode\": \"lines\", \"name\": \"Nanowire #82\", \"opacity\": 0.2, \"type\": \"scatter\", \"x\": [835.272145731167, -323.18735576855903, 256.04239498130397], \"y\": [2238.5205515456864, 2288.7366929624077, 2263.628622254047]}, {\"hoverinfo\": \"name\", \"line\": {\"color\": \"white\", \"width\": 1.5}, \"mode\": \"lines\", \"name\": \"Nanowire #83\", \"opacity\": 0.2, \"type\": \"scatter\", \"x\": [423.41819235628236, -113.32786534463617, 155.0451635058231], \"y\": [-64.53422696641371, 683.2774399820094, 309.3716065077978]}, {\"hoverinfo\": \"name\", \"line\": {\"color\": \"white\", \"width\": 1.5}, \"mode\": \"lines\", \"name\": \"Nanowire #84\", \"opacity\": 0.2, \"type\": \"scatter\", \"x\": [1648.654246440452, 1539.473542968436, 1594.063894704444], \"y\": [2228.3279449788247, 3186.989495098575, 2707.6587200387]}, {\"hoverinfo\": \"name\", \"line\": {\"color\": \"white\", \"width\": 1.5}, \"mode\": \"lines\", \"name\": \"Nanowire #85\", \"opacity\": 0.2, \"type\": \"scatter\", \"x\": [1317.6872542814822, 1926.1234753791568, 1621.9053648303195], \"y\": [1069.539636078867, 1961.974598608276, 1515.7571173435715]}, {\"hoverinfo\": \"name\", \"line\": {\"color\": \"white\", \"width\": 1.5}, \"mode\": \"lines\", \"name\": \"Nanowire #86\", \"opacity\": 0.2, \"type\": \"scatter\", \"x\": [2278.613617412043, 1545.9657915771963, 1912.2897044946196], \"y\": [2236.752504394261, 2721.9922922521887, 2479.372398323225]}, {\"hoverinfo\": \"name\", \"line\": {\"color\": \"white\", \"width\": 1.5}, \"mode\": \"lines\", \"name\": \"Nanowire #87\", \"opacity\": 0.2, \"type\": \"scatter\", \"x\": [2409.8406974952586, 1946.707304840711, 2178.274001167985], \"y\": [606.9725520114418, 1313.3250541722286, 960.1488030918352]}, {\"hoverinfo\": \"name\", \"line\": {\"color\": \"white\", \"width\": 1.5}, \"mode\": \"lines\", \"name\": \"Nanowire #88\", \"opacity\": 0.2, \"type\": \"scatter\", \"x\": [2484.7626906484634, 3370.3497861267447, 2927.556238387604], \"y\": [2438.379649519418, 2934.759721457785, 2686.5696854886014]}, {\"hoverinfo\": \"name\", \"line\": {\"color\": \"white\", \"width\": 1.5}, \"mode\": \"lines\", \"name\": \"Nanowire #89\", \"opacity\": 1.0, \"type\": \"scatter\", \"x\": [2040.426705552999, 1057.3753842541728, 1548.901044903586], \"y\": [1026.3549029608544, 1308.8551694441244, 1167.6050362024894]}, {\"hoverinfo\": \"name\", \"line\": {\"color\": \"white\", \"width\": 1.5}, \"mode\": \"lines\", \"name\": \"Nanowire #90\", \"opacity\": 0.2, \"type\": \"scatter\", \"x\": [1425.7295173933976, 512.0093202540781, 968.8694188237379], \"y\": [-252.33662531249152, 317.3625341942817, 32.51295444089508]}, {\"hoverinfo\": \"name\", \"line\": {\"color\": \"white\", \"width\": 1.5}, \"mode\": \"lines\", \"name\": \"Nanowire #91\", \"opacity\": 0.2, \"type\": \"scatter\", \"x\": [2903.8887332361187, 1867.2284353761029, 2385.558584306111], \"y\": [2633.7164744447086, 2798.5753840708735, 2716.145929257791]}, {\"hoverinfo\": \"name\", \"line\": {\"color\": \"white\", \"width\": 1.5}, \"mode\": \"lines\", \"name\": \"Nanowire #92\", \"opacity\": 0.2, \"type\": \"scatter\", \"x\": [1146.7432969538993, 478.2502106185461, 812.4967537862227], \"y\": [-115.70583348293667, 663.425894199738, 273.86003035840065]}, {\"hoverinfo\": \"name\", \"line\": {\"color\": \"white\", \"width\": 1.5}, \"mode\": \"lines\", \"name\": \"Nanowire #93\", \"opacity\": 1.0, \"type\": \"scatter\", \"x\": [1479.1659601876718, 1154.6625640461448, 1316.9142621169083], \"y\": [522.0024380887648, 1393.8793874537243, 957.9409127712446]}, {\"hoverinfo\": \"name\", \"line\": {\"color\": \"white\", \"width\": 1.5}, \"mode\": \"lines\", \"name\": \"Nanowire #94\", \"opacity\": 0.2, \"type\": \"scatter\", \"x\": [105.80839460440441, 364.92989344919135, 235.36914402679787], \"y\": [2356.8998471559166, 3343.471955148913, 2850.1859011524148]}, {\"hoverinfo\": \"name\", \"line\": {\"color\": \"white\", \"width\": 1.5}, \"mode\": \"lines\", \"name\": \"Nanowire #95\", \"opacity\": 0.2, \"type\": \"scatter\", \"x\": [577.7421435145585, -425.6376830218134, 76.05223024637253], \"y\": [2744.1871760383165, 2959.45570558702, 2851.8214408126682]}, {\"hoverinfo\": \"name\", \"line\": {\"color\": \"white\", \"width\": 1.5}, \"mode\": \"lines\", \"name\": \"Nanowire #96\", \"opacity\": 0.2, \"type\": \"scatter\", \"x\": [3311.033215603845, 2464.857272463705, 2887.945244033775], \"y\": [1530.981938989713, 1909.6453897500037, 1720.3136643698583]}, {\"hoverinfo\": \"name\", \"line\": {\"color\": \"white\", \"width\": 1.5}, \"mode\": \"lines\", \"name\": \"Nanowire #97\", \"opacity\": 0.2, \"type\": \"scatter\", \"x\": [1916.5692967563423, 3099.3114263168923, 2507.9403615366173], \"y\": [1810.9325454131138, 1980.0907276056816, 1895.5116365093977]}, {\"hoverinfo\": \"name\", \"line\": {\"color\": \"white\", \"width\": 1.5}, \"mode\": \"lines\", \"name\": \"Nanowire #98\", \"opacity\": 0.2, \"type\": \"scatter\", \"x\": [1567.3520614659626, 2608.493175096225, 2087.922618281094], \"y\": [1302.1165748467026, 1388.5565570232159, 1345.3365659349593]}, {\"hoverinfo\": \"name\", \"line\": {\"color\": \"white\", \"width\": 1.5}, \"mode\": \"lines\", \"name\": \"Nanowire #99\", \"opacity\": 0.2, \"type\": \"scatter\", \"x\": [1056.0926175509114, 1397.6250489347078, 1226.8588332428096], \"y\": [461.94524435889235, 1297.3193858294949, 879.6323150941936]}, {\"hoverinfo\": \"name\", \"line\": {\"color\": \"white\", \"width\": 1.5}, \"mode\": \"lines\", \"name\": \"Nanowire #100\", \"opacity\": 0.2, \"type\": \"scatter\", \"x\": [965.9266999685151, 73.83922045655959, 519.8829602125373], \"y\": [683.9947741545341, 1287.9924980649616, 985.9936361097479]}, {\"hoverinfo\": \"none\", \"line\": {\"color\": \"red\", \"width\": 2}, \"mode\": \"lines\", \"name\": \"Current\", \"opacity\": 0.9, \"type\": \"scatter\", \"x\": [1743.7121092226796, 1795.6695948583174, null, 1797.9524899361832, 1849.969251894802, null, 1868.22791776874, 1920.3182150129428, null, 1994.9081736578855, 2047.0378882282778, null, 2085.9053655966345, 2085.941978973684, null, 2149.188181634181, 2149.21493718082, null, 2306.9056392367193, 2371.310353352557, null, 2352.58873429679, 2417.368356814976, null, 2375.833786599105, 2479.3065744973974, null, 2569.000287378511, 2672.5027555466627, null, 1664.0462301036464, 1720.1997713622343, null, 1735.4230250802425, 1791.6224191756241, null, 1935.7097148330154, 1991.938280203641, null, 2192.944063780194, 2249.171988447537, null, 2327.7136229435623, 2327.7263905758273, null, 1363.600337591894, 1363.627450852343, null, 1451.4153417325213, 1451.472745052318, null, 1602.8967675864408, 1602.9160794150546, null, 1719.9482745021462, 1719.9472344042758, null, 514.0279791847247, 514.0769712833011, null, 763.5742933976428, 763.620917611405, null, 1097.2780190093488, 1097.2727752817032, null, 1098.6808413363055, 1098.675183099698, null, 1100.7716966635985, 1100.7653015194276, null, 1103.9358492574609, 1102.1670489010664, null, 1108.227557446079, 1106.4580221321603, null, 1111.1873031984783, 1109.4195267130804, null, 1111.3956010355223, 1111.396598241877, null, 732.741879753445, 732.8790015116499, null, 702.5424551757756, 702.5576551372112, null, 724.974086790188, 724.9914897605364, null, 737.1687588958298, 737.2023746763857, null, 747.8829753658264, 747.9169737001504, null, 763.6287168819479, 763.6555651955881, null, 2862.018615618003, 2862.0082780790585, null, 2880.636338540825, 2880.6147800636377, null, 2906.9399941489405, 2906.9117725896435, null, 2937.3490346432272, 2937.3226203478257, null, 2958.625360784199, 2958.601963802122, null, 2971.817299402611, 2971.796597230182, null, 2974.8907572343724, 2974.874385654766, null, 2977.5220730418705, 2977.5179071782172, null, 1035.5231697469662, 1035.5344699168236, null, 1160.8431659064936, 1160.944348652469, null, 1368.2496918899615, 1368.4241527760396, null, 2701.2897583960366, 2701.298177901616, null, 2769.872403361867, 2769.887059086779, null, 2794.489337275579, 2794.5214937800633, null, 1480.0664201442253, 1481.0019721455449, null, 1629.807660807031, 1630.7140420743417, null, 1781.5992633659314, 1782.4798506561874, null, 1942.2819883794868, 1943.0295528459983, null, 2157.1774186617167, 2207.89214449828, null, 2256.7819111796666, 2307.516610882955, null, 2324.2039779624815, 2374.8884842551806, null, 2154.521463166804, 2170.2443046660087, null, 2213.47387135802, 2229.1834820136955, null, 2265.3557666123934, 2346.8865601130756, null, 2324.762508261619, 2324.853203424679, null, 2414.1103834263863, 2414.157169347805, null, 2549.537160239028, 2549.5029801357473, null, 2746.3474716731807, 2746.296491152717, null, 1324.1293619278354, 1368.261560564635, null, 1363.11436495715, 1407.221415260541, null, 1435.1590120546703, 1479.2690089309394, null, 1586.5696865408358, 1630.6192041237, null, 1730.7310591864348, 1730.7552427989801, null, 1582.5315952047722, 1582.5385810590158, null, 1227.1595336684727, 1227.21334764728, null, 1461.8224189018251, 1461.9945579753178, null, 1498.6178768217387, 1498.8265881434575, null, 1558.8443363337644, 1559.0861822369332, null, 1738.2001971703282, 1738.46032919761, null, 1890.0770629189924, 1890.240398636824, null, 1916.136170059994, 1916.2087608485892, null, 531.5020386002009, 531.5038839904806, null, 795.2414031887715, 795.2438637091446, null, 859.9646798708719, 859.9557217508735, null, 1973.3534487719933, 1973.4098319480913, null, 2080.0764155021593, 2080.0844709026724, null, 2157.327016840184, 2157.3463520787805, null, 520.0837161378219, 520.2417234863709, null, 912.6829759043703, 912.7454530061749, null, 39.29928529119594, 39.342568033163005, null, 1702.2291073117076, 1746.326371071252, null, 1868.923295653123, 1913.0519636457987, null, 2020.8370082443842, 2064.965169078926, null, 2054.047242825891, 2098.1841239046944, null, 2129.334857072753, 2173.4693653523827, null, 2222.376468986002, 2266.477410806606, null, 318.24802039144066, 318.247095567934, null, 478.55980032205593, 478.5446560484549, null, 645.9623501595839, 645.9450479644673, null, 783.9150800822742, 783.9039822001944, null, 2557.1009863389163, 2557.151260066409, null, 2704.0857329790288, 2704.1119345510747, null, 2766.9400928769664, 2766.8601777577705, null, 2833.5478395618334, 2833.4305256026155, null, 2974.4461606929412, 2974.364037565476, null, 3108.0006392980354, 3107.9064800928463, null, 3178.961354540715, 3178.916618708822, null, 2691.2587957856795, 2691.2837270161294, null, 2744.3043936613203, 2744.244352391756, null, 2816.9609023408584, 2816.8870587906877, null, 2941.82296433155, 2941.8104987163247, null, 2551.7841622317355, 2551.786158362753, null, 2603.0938546173084, 2603.0777370714395, null, 2653.232358247482, 2653.1934017479834, null, 2665.301227704233, 2665.2453662287785, null, 2674.4811728109416, 2674.4066952906273, null, 2715.795489930668, 2659.8862187070004, null, 1109.3513554075193, 1109.127072503525, null, 1113.481351852237, 1073.3677907649032, null, 1200.266320669476, 1160.0903813660743, null, 267.15031505585387, 267.1709063507772, null, 2499.040436943866, 2499.0339029670627, null, 2517.5799934728, 2517.580550890416, null, 2554.6503147783133, 2554.6621470929786, null, 2762.5326286120426, 2762.5506628231115, null, 2990.537219776168, 2990.5389612186987, null, 1039.544475126008, 1039.5324449841014, null, 1135.2479752995032, 1218.8946432649916, null, 1312.7593729922319, 1396.4720226010522, null, 1572.0839867513414, 1655.7844204874882, null, 1664.1346747171308, 1677.1086152397845, null, 2670.5907437744527, 2670.659858960918, null, 2697.331540143299, 2801.085822025102, null, 2724.948198659965, 2900.9951205755933, null, 2841.7857428169564, 3017.893937980883, null, 3123.710611364756, 3299.8888546120675, null, 3035.6327864836658, 3035.6280575444157, null, 2536.2028553340288, 2536.207822843798, null, 2560.894401415858, 2560.8868978894516, null, 2668.4900397370147, 2668.4764632799856, null, 2848.35353690497, 2848.3408314492253, null, 2940.4083152449734, 2940.438120303589, null, 2962.068038618962, 2962.0900655169758, null, 1072.3848866074218, 1072.7289764792022, null, 1113.6020407617518, 1113.9896394423583, null, 1135.1140956214538, 1135.6223759408167, null, 1185.2494872369166, 1185.8780152802801, null, 1116.7052771271008, 1116.7307102964714, null, 1164.7758341070803, 1164.812970963928, null, 1190.588903281234, 1190.6114303972718, null, 1209.6978253869665, 1209.7014234736178, null, 2528.8214858352767, 2528.820272895693, null, 2531.3306841994104, 2531.3252132102925, null, 2533.629247132556, 2533.621080348604, null, 2559.6536385101804, 2559.644471463013, null, 736.8890951962566, 736.8443060644762, null, 1027.6398695225732, 1027.555131795488, null, 1271.8312819180114, 1272.0328499277448, null, 1455.8416639183583, 1455.9240256142882, null, 437.3807038406401, 437.3798057058784, null, 604.2807595757254, 604.2660523386548, null, 673.8399422379206, 673.8231393530729, null, 755.3701879162879, 755.3641626485798, null, 1664.5978716844697, 1664.5973844604298, null, 1668.1409148337398, 1666.44774698572, null, 1669.4135054245376, 1667.7189983371234, null, 1672.166096545664, 1670.7724456358746, null, 1675.3869670558042, 1675.386262606357, null, 1677.1212969524481, 1677.121189764821, null, 1679.8541633857653, 1679.8535356005077, null, 2450.3134117959735, 2450.365639119334, null, 2673.0409062601593, 2673.1401767409934, null, 2870.4993458109666, 2870.5973115884085, null, 2044.1944430429412, 2044.193022798056, null, 2058.479227726485, 2058.476304637108, null, 2082.9081955048687, 2082.905351815429, null, 2115.404675798065, 2115.401122915748, null, 1576.0031803737484, 1576.0082666603719, null, 1703.2021189896864, 1703.2039501458135, null, 1959.2609683926667, 1959.2622444952767, null, 2157.6680958769402, 2157.6687083690163, null, 52.48936403194632, 52.42022880961857, null, 457.4748130761778, 457.31349755741303, null, 1710.1928650993532, 1710.26538020871, null, 1863.687392262816, 1863.8101057477727, null, 2035.3607394198766, 2035.4052745938918, null, 2182.1252132768127, 2182.173414997267, null, 2945.741727450741, 2945.7453659311345, null, 2951.1966440270244, 2951.223806624138, null, 2962.0924668254574, 2962.1236753413373, null, 3000.9299858322906, 3000.954529051018, null, 3082.1531099702725, 3082.178450864204, null, 3142.9939230329883, 3143.017068686086, null, 278.93271091100473, 279.00183756929874, null, 477.4824271601308, 477.53427215385125, null, 1511.2743970181405, 1511.2775630933997, null, 1567.1612810696931, 1567.2125843188169, null, 1620.1052232716913, 1620.1508845387627, null, 1667.4110527903376, 1667.4373815906242, null, 1694.3764055286997, 1694.3965383845984, null, 2654.2080203009045, 2654.208075613343, null, 2107.45705410962, 2086.945020244349, null, 2144.9264751837227, 2117.728302155897, null, 2173.4065138321725, 2146.196028248288, null, 2244.6944556472954, 2217.5052743856645, null, 2302.4533958390793, 2275.284012905931, null, 2311.7058335352963, 2284.5574330358077, null, 1907.3067580703264, 1907.3062764728193, null, 2000.9921537361517, 2000.9917408962401, null, 2050.7922026552824, 2050.7917823391595, null, 1885.602139283671, 1885.602655770203, null, 1972.4232395402933, 1972.4236440291597, null, 2145.18507511735, 2145.1853785921057, null, 2385.68343664652, 2385.6836866737412, null, 749.2918741653066, 749.2831192021612, null, 794.5817967923833, 794.5691813614195, null, 889.8233037469847, 889.8019333528755, null, 1029.04269184953, 1029.0531816154148, null, 1110.8467277452135, 1110.8893060081969, null, 1243.6678194845404, 1243.724436532168, null, 1373.1030146043022, 1373.147669700765, null, 501.66342495547417, 501.67802375928795, null, 616.9561720926243, 616.9853697002519, null, 749.2887706088503, 749.3303515286487, null, 861.5890666071562, 861.6423978415132, null, 937.2503909062522, 937.3246907792774, null, 1163.1838745312425, 1163.2019034609925, null, 1979.913578589647, 1979.9890308033434, null, 2052.125452369885, 2052.2827222912674, null, 2357.811802868654, 2458.8832624450747, null, 2672.93117216503, 2774.0465316927816, null, 2703.4135639286724, 2804.524480040367, null, 2790.336982316963, 2790.3523920597368, null, 2064.5623034364826, 2064.588573192513, null, 2192.6588697454563, 2192.736775808908, null, 2272.0161662654023, 2272.1266837227327, null, 2444.705378015108, 2444.7638687187437, null, 2680.4882854056705, 2680.541611852278, null, 2671.966036408463, 2672.024844603889, null, 2713.199485057304, 2713.2691668526436, null, 2796.651194176695, 2796.6359147324456, null, 2419.9358139966234, 2420.1665294407862, null, 2760.538203323894, 2760.7322969887996, null, 2941.893069037688, 2942.045695305672, null, 2961.1957618736496, 2961.299333443597, null, 2978.0451588207775, 2978.08577658893, null, 1509.4524012976553, 1509.455118389993, null, 1519.4630629616609, 1519.4660945802098, null, 1183.009649808072, 1183.0515694962537, null, 1288.2010666746783, 1288.2612637508207, null, 1642.1728738683619, 1642.2172914352423, null, 2007.2065037491748, 2007.20591032506, null, 2181.066131708725, 2181.0654100983857, null, 2401.301868803412, 2401.3013560585127, null, 2662.05564063389, 2662.055393542307, null, 2848.688692632045, 2848.688545975977, null, 1896.6371927366458, 1896.6543500541875, null, 1929.0676136186978, 1929.0720568572754, null, 1989.787269775497, 1989.7867939694702, null, 2194.3284438823835, 2194.3280991744027, null, 2373.6693365933224, 2373.6728706598365, null, 2379.0575198707384, 2379.0580713957365, null, 2393.261014344695, 2393.258545172024, null, 2669.042823099029, 2669.004577695731, null, 2680.5631965963153, 2680.5440807491036, null, 2691.6648503260117, 2691.6474927464023, null, 2741.913088051314, 2741.8913910768024, null, 2801.7450294340942, 2801.7238486850424, null, 912.8435074390316, 971.5287636685881, null, 1026.413203930544, 1085.1223261660123, null, 1136.046128709891, 1194.7654592039446, null, 1169.7346678640529, 1228.4158948569536, null, 1242.0980068052854, 1300.7341830537875, null, 1088.7183394479277, 1088.67895988287, null, 1126.356473341944, 1126.3034613474472, null, 1131.1759321313734, 1119.2043798060815, null, 1152.0753669206842, 1140.1012962118289, null, 1183.3459896394563, 1183.3312235528208, null, 151.70906905447563, 247.75447548493833, null, 209.0852018925815, 305.15105551452075, null, 287.7883801040687, 383.8739070986155, null, 385.592125480757, 481.61436824228673, null, 415.83723094782954, 415.8593927178777, null, 429.88746875396566, 429.9482034503598, null, 1673.7424533324513, 1673.7668230948902, null, 1700.056477765794, 1700.0737533032818, null, 1741.3281947763207, 1741.3324931270386, null, 1775.2923666327767, 1775.2963200564254, null, 1811.5582251501787, 1811.5708252020029, null, 67.92729068540889, 68.06757376269978, null, 268.5579934810519, 268.6521451306758, null, 1152.1002511483414, 1251.623859369337, null, 1281.0829650609055, 1380.6826894312392, null, 1371.009218007654, 1470.6513399206767, null, 1538.8249297777647, 1638.524961883928, null, 1391.8660047811281, 1391.8775316187402, null, 1470.2229897637308, 1470.2891718913697, null, 1497.0489308871195, 1497.0906628956457, null, 1543.1503218326686, 1543.1897556132699, null, 1663.5055813420445, 1663.5327900630894, null, 1774.957862616045, 1775.0026267724281, null, 1879.9592912842995, 1879.9310752608346, null, 568.0508645187107, 811.1642710805689, null, 813.7214218662727, 1056.8207850945362, null, 925.0173721106579, 1067.6283528129775, null, 1058.6883499810929, 1141.6773682009036, null, 1198.5284840471172, 1198.5090024157266, null, 1425.8112953917184, 1426.012356203064, null, 1530.9006404108654, 1531.0489634298244, null, 1643.3145269443062, 1643.4021371193967, null, 45.83805676937743, 45.817598894654715, null, 88.94522826600937, 88.89786048921674, null, 136.02983096343823, 101.79418925868549, null, 33.705581312232354, 33.73294263893857, null, 128.67468349508044, 128.68380393731584, null, 2263.412457611411, 2263.4608642029616, null, 2307.5638274431117, 2307.6468611716687, null, 2355.8124675684226, 2355.55670706058, null, 2416.1173981924894, 2415.8881201200766, null, 2592.551795504312, 2592.3803793763036, null, 2741.37208317642, 2741.255415596817, null, 2781.748264768382, 2781.702409153899, null, 764.4597733783771, 764.4980851016679, null, 850.5017068647599, 850.5803801367548, null, 933.0261869909525, 933.0705094495335, null, 1065.9312636228706, 1116.0916203814754, null, 1240.3506818027543, 1290.5775301402796, null, 1352.2068845663493, 1352.3842799610923, null, 381.5686090257399, 381.57142545084, null, 395.92288517619596, 395.9257016012961, null, 412.97883590252036, 412.9760194774202, null, 1372.4948667157191, 1372.493077618519, null, 1407.1142745117738, 1407.095426777216, null, 1504.744825829061, 1504.7508901656215, null, 1574.6831675553642, 1574.686934778843, null, 2224.7431714428426, 2224.7433330894537, null, 2248.5155602478935, 2248.51570742235, null, 2280.543491150053, 2280.5436217183246, null, 2309.706562661434, 2309.7067083886745, null, 2338.5873069919844, 2338.5873969646354, null, 316.901370060928, 316.94940013331075, null, 469.0564889756621, 469.1525491204276, null, 783.4067817515395, 783.5748870048791, null, 1044.17749710138, 1043.9090258007516, null, 1514.0794870714722, 1514.1618183663102, null, 1586.8369595959853, 1586.9673874131306, null, 1661.0614889619928, 1661.269813054815, null, 1698.5012172266229, 1698.7319403209742, null, 1926.7974662548218, 1927.0775991592743, null, 2195.123139540186, 2195.367244781663, null, 119.56708053695972, 119.51605403434822, null, 584.4670379412261, 584.5715571580254, null, 253.96529927660657, 253.9658566472451, null, 305.9739377682955, 305.97505250957255, null, 1582.4444059440748, 1582.445364796236, null, 1589.9933542889776, 1589.9946873208332, null, 1608.3879304820712, 1608.3894740066985, null, 1632.1888231130188, 1632.1976662320974, null, 1504.3226026148996, 1504.3213974368066, null, 1629.7066583610308, 1629.717727651316, null, 1699.870210139751, 1699.8931264577802, null, 1769.5112175582103, 1769.5048227659086, null, 1819.002782165113, 1818.9756703130743, null, 1707.2768931129956, 1707.2753422378776, null, 1880.549383681182, 1880.5484767868447, null, 1960.186504925547, 1960.1859965735264, null, 2079.432396179296, 2079.4783602055654, null, 2164.503916204191, 2164.5675046172755, null, 2204.241827718901, 2204.313469873816, null, 2241.015297682274, 2241.0752029754162, null, 2325.864592210679, 2325.8832664469523, null, 2847.85178894989, 2847.851698929904, null, 2963.627405661041, 2963.627357068368, null, 1109.2637464799905, 1109.8090568413015, null, 1132.820046967695, 1133.2689178210367, null, 1178.1449017251684, 1178.4426545791127, null, 1283.911219660267, 1284.0570646295896, null, 1388.7719492774445, 1388.7986265194866, null, 1551.628432133546, 1551.6571656128865, null, 1707.6024608174953, 1707.6541928495024, null, 581.177134942307, 581.1790275654441, null, 630.3468030185006, 630.3505882647748, null, 688.9748481153208, 688.9680546969435, null, 906.4121834301302, 906.4048492622851, null, 1977.133373546287, 1977.1334942973854, null, 2136.3505697688543, 2136.3507023619522, null, 2557.934945608031, 2557.935141327379, null, 2849.707943102653, 2849.708091920223, null, 630.9808715315461, 631.0113459759034, null, 757.9085376462644, 757.9348364354155, null, 774.6535681073549, 774.68316038878, null, 822.5529579588895, 822.5783745851083, null, 865.998420795727, 866.0177944798696, null, 972.7598468485149, 972.7654748379535, null, 1208.8539892976441, 1208.9091212640783, null, 1252.6072915461555, 1252.9490967540555, null, 1302.49713131867, 1302.8508189200356, null, 1338.1099800366314, 1338.469173081917, null, 1362.5755023154893, 1362.91975452145, null, 1411.8957268161594, 1412.2454456601183, null, 168.41059502014667, 168.4229025066375, null, 222.58167654282727, 222.58117262800425, null, 137.52047588646064, 137.7099581388558, null, 213.7807913251727, 213.91902395615145, null, 301.11983192955256, 301.2561250313725, null, 2497.3075158090146, 2497.3135626973067, null, 2514.709789476741, 2514.7284460054098, null, 2537.574770836955, 2537.609908640969, null, 2735.7108074470425, 2735.7577317028463, null, 3028.9649248373316, 3029.0028177902605, null, 3167.431806624012, 3167.4741348420566, null, 2297.5720641542084, 2297.579206309162, null, 2500.9590987501306, 2500.95256542311, null, 2518.741273544738, 2518.7276227429006, null, 2647.4689720912565, 2647.4595201779402, null, 2857.6571118943066, 2857.6467672116214, null, 2964.8916393877466, 2964.872429383118, null, 2977.770873551306, 2977.7281933825416, null, 1821.6906249365456, 1821.7650328282546, null, 2023.7025803378142, 2023.7778256589313, null, 2177.2409974815873, 2177.331479269623, null, 2323.429769235069, 2323.46566286028, null, 2399.8335428664395, 2399.8854779483886, null, 1110.5004536480353, 1110.5094028378553, null, 1162.1752822299563, 1162.1772708796047, null, 1231.1740516989526, 1231.1469394593412, null, 1274.9599436389267, 1274.9259129602149, null, 1327.6645219087784, 1327.6175998601454, null, 164.07146234969846, 164.1124501279485, null, 308.27135751907235, 308.2713575190724, null, 1772.1685229611517, 1795.6695948583174, 1789.876227247644, null, 1826.441368516843, 1849.969251894802, 1844.169274850946, null, 1896.7570706329868, 1920.3182150129428, 1914.5100386319457, null, 2023.4589148597663, 2047.0378882282778, 2041.2253167335052, null, 2085.9254182491627, 2085.941978973684, 2085.937896506064, null, 2149.2028352860207, 2149.21493718082, 2149.2119538817747, null, 2346.6437153079464, 2371.310353352557, 2359.66461063808, null, 2392.55813099131, 2417.368356814976, 2405.65482268406, null, 2439.677087097402, 2479.3065744973974, 2460.5964927532905, null, 2632.861900772652, 2672.5027555466627, 2653.787306978229, null, 1699.9460281362346, 1720.1997713622343, 1708.7932735772188, null, 1771.3521375165749, 1791.6224191756241, 1780.2066072802318, null, 1971.6574769015194, 1991.938280203641, 1980.5165427320696, null, 2228.8914162375154, 2249.171988447537, 2237.7503811223537, null, 2327.7217854816568, 2327.7263905758273, 2327.723797080103, null, 1363.6176441344478, 1363.627450852343, 1363.6219706917764, null, 1451.4519825857549, 1451.472745052318, 1451.461142633268, null, 1602.9090944323518, 1602.9160794150546, 1602.912176088052, null, 1719.9476106019824, 1719.9472344042758, 1719.9474446299455, null, 514.0646411523131, 514.0769712833011, 514.0616789061836, null, 763.6091834199823, 763.620917611405, 763.6063643450544, null, 1097.2435627282196, 1097.2727752817032, 1097.3049443304913, null, 1098.6436613368044, 1098.675183099698, 1098.7098950645036, null, 1100.729674480085, 1100.7653015194276, 1100.804534240642, null, 1092.3131475344853, 1102.1670489010664, 1113.018227453176, null, 1096.6000263527046, 1106.4580221321603, 1117.3137094776416, null, 1099.5713292823752, 1109.4195267130804, 1120.2644240549018, null, 1111.4021536303214, 1111.396598241877, 1111.3904806129606, null, 732.8429180550968, 732.8790015116499, 732.8377735856023, null, 702.5434279575281, 702.5576551372112, 702.5633123419359, null, 724.975200562224, 724.9914897605364, 724.9979668931592, null, 737.1709102708883, 737.2023746763857, 737.214885981325, null, 747.8851512239289, 747.9169737001504, 747.9296273860418, null, 763.6304351461491, 763.6555651955881, 763.6655577477021, null, 2862.005482950628, 2862.0082780790585, 2862.0169016729274, null, 2880.6089509477492, 2880.6147800636377, 2880.632764184683, null, 2906.9041418679435, 2906.9117725896435, 2906.935315065955, null, 2937.3154782854403, 2937.3226203478257, 2937.3446552012947, null, 2958.5956375797837, 2958.601963802122, 2958.6214816073043, null, 2971.79099964733, 2971.796597230182, 2971.813867020234, null, 2974.869959004684, 2974.874385654766, 2974.8880428563757, null, 2977.5167807859493, 2977.5179071782172, 2977.5213823492854, null, 1035.5308574062456, 1035.5344699168236, 1035.5317112156645, null, 1160.9120019050508, 1160.944348652469, 1160.9196469920407, null, 1368.368380004092, 1368.4241527760396, 1368.3815617836292, null, 2701.2975119784196, 2701.298177901616, 2701.294096776454, null, 2769.885899922849, 2769.887059086779, 2769.8799551247776, null, 2794.5189504285518, 2794.5214937800633, 2794.505906793591, null, 1480.775219714713, 1481.0019721455449, 1480.7012457891758, null, 1630.4943598382572, 1630.7140420743417, 1630.42269243732, null, 1782.26642018055, 1782.4798506561874, 1782.196792304658, null, 1942.8483634949564, 1943.0295528459983, 1942.7892537093946, null, 2195.600270453661, 2207.89214449828, 2191.59026636262, null, 2295.219895714778, 2307.516610882955, 2291.20831229375, null, 2362.6039346083717, 2374.8884842551806, 2358.5963199711337, null, 2166.58965777578, 2170.2443046660087, 2165.034168675484, null, 2225.5319105256553, 2229.1834820136955, 2223.977730376601, null, 2327.935388917956, 2346.8865601130756, 2319.8694002965485, null, 2324.8321220701637, 2324.853203424679, 2324.8231494339134, null, 2414.1462943401143, 2414.157169347805, 2414.141665724427, null, 2549.510925023328, 2549.5029801357473, 2549.514306522665, null, 2746.3083411609095, 2746.296491152717, 2746.3133847558547, null, 1351.6083205117814, 1368.261560564635, 1360.0323797786534, null, 1390.5776649055979, 1407.221415260541, 1398.9969237986465, null, 1462.624146689732, 1479.2690089309394, 1471.0439680316351, null, 1613.9971636820496, 1630.6192041237, 1622.4054405922725, null, 1730.7461171375016, 1730.7552427989801, 1730.750733363107, null, 1582.5347712498112, 1582.5385810590158, 1582.5384521348108, null, 1227.1999927126212, 1227.21334764728, 1227.1963614226706, null, 1461.951838478829, 1461.9945579753178, 1461.9402227815408, null, 1498.7747925668084, 1498.8265881434575, 1498.7607090267702, null, 1559.0261637007482, 1559.0861822369332, 1559.0098442867732, null, 1738.395772621345, 1738.46032919761, 1738.378219285995, null, 1890.199863855947, 1890.240398636824, 1890.188842196447, null, 1916.19074610112, 1916.2087608485892, 1916.1858477790302, null, 531.5034149897482, 531.5038839904806, 531.503312531436, null, 795.2432383748347, 795.2438637091446, 795.2431017637518, null, 859.9579984317937, 859.9557217508735, 859.9584957975085, null, 1973.3860251414105, 1973.4098319480913, 1973.4018490420626, null, 2080.081069651164, 2080.0844709026724, 2080.083330393929, null, 2157.338188113583, 2157.3463520787805, 2157.34361453536, null, 520.2009519604247, 520.2417234863709, 520.1934080086402, null, 912.7293316877636, 912.7454530061749, 912.7263487616658, null, 39.32758417122847, 39.342568033163005, 39.33314841115724, null, 1727.9174743963406, 1746.326371071252, 1739.872543735147, null, 1894.6299569220187, 1913.0519636457987, 1906.5935401628815, null, 2046.5433740739893, 2064.965169078926, 2058.506819820819, null, 2079.7586885361184, 2098.1841239046944, 2091.7244984007166, null, 2155.0449205353984, 2173.4693653523827, 2167.0100871179375, null, 2248.0669786839085, 2266.477410806606, 2260.023045170185, null, 318.2473314895671, 318.247095567934, 318.2473810761958, null, 478.5485193388386, 478.5446560484549, 478.5493313353612, null, 645.9494617386616, 645.9450479644673, 645.9503894373178, null, 783.9068132597914, 783.9039822001944, 783.9074082993354, null, 2557.1384958601584, 2557.151260066409, 2557.1356791622134, null, 2704.1052821247204, 2704.1119345510747, 2704.103814123086, null, 2766.880467740528, 2766.8601777577705, 2766.8849451636916, null, 2833.460310932772, 2833.4305256026155, 2833.4668837095346, null, 2974.3848881486574, 2974.364037565476, 2974.389489280419, null, 3107.9303865659763, 3107.9064800928463, 3107.9356620458934, null, 3178.9279768756733, 3178.916618708822, 3178.93048330064, null, 2691.276591274125, 2691.2837270161294, 2691.2768061421652, null, 2744.2615372238515, 2744.244352391756, 2744.2610197624317, null, 2816.908194070142, 2816.8870587906877, 2816.907557654746, null, 2941.814066587327, 2941.8104987163247, 2941.8139591533068, null, 2551.7860869189776, 2551.786158362753, 2551.785104356776, null, 2603.0783139365453, 2603.0777370714395, 2603.0862475296844, null, 2653.1947960449434, 2653.1934017479834, 2653.21397173209, null, 2665.247365573853, 2665.2453662287785, 2665.2748624534665, null, 2674.4093609248985, 2674.4066952906273, 2674.4460212421086, null, 2661.8872744458436, 2659.8862187070004, 2689.407680729596, null, 1109.1368244818386, 1109.127072503525, 1109.2437747191225, null, 1075.1119565967074, 1073.3677907649032, 1094.2402753414265, null, 1161.8372594465586, 1160.0903813660743, 1180.9953235035196, null, 267.16369265672205, 267.1709063507772, 267.16651035209725, null, 2499.035857079689, 2499.0339029670627, 2499.0356328123084, null, 2517.580384183855, 2517.580550890416, 2517.5804033162444, null, 2554.658608409543, 2554.6621470929786, 2554.6590145331475, null, 2762.5452693421407, 2762.5506628231115, 2762.5458883350443, null, 2990.538440406498, 2990.5389612186987, 2990.5385001784816, null, 1039.5358906958948, 1039.5324449841014, 1039.535782053654, null, 1194.9362965950136, 1218.8946432649916, 1195.6916959506707, null, 1372.4947772573641, 1396.4720226010522, 1373.2507724824334, null, 1631.810674053195, 1655.7844204874882, 1632.5665589587193, null, 1673.392577622534, 1677.1086152397845, 1673.5097431540432, null, 2670.633432166101, 2670.659858960918, 2670.647317537311, null, 2761.4144667284863, 2801.085822025102, 2782.258897486155, null, 2833.6820433558337, 2900.9951205755933, 2869.0502017336394, null, 2950.5574323998135, 3017.893937980883, 2985.937900688673, null, 3232.525565534901, 3299.8888546120675, 3267.92010661572, null, 3035.62820601245, 3035.6280575444157, 3035.630575325972, null, 2536.206559324195, 2536.207822843798, 2536.206285604037, null, 2560.8888064619855, 2560.8868978894516, 2560.889219921954, null, 2668.4799165433697, 2668.4764632799856, 2668.480664634493, null, 2848.3440631675603, 2848.3408314492253, 2848.344763264695, null, 2940.4305391859702, 2940.438120303589, 2940.4288968650217, null, 2962.08446282695, 2962.0900655169758, 2962.083249098888, null, 1072.6022304266548, 1072.7289764792022, 1072.6617193037098, null, 1113.8468668507526, 1113.9896394423583, 1113.9138778619688, null, 1135.4351500752794, 1135.6223759408167, 1135.5230254471164, null, 1185.646495974003, 1185.8780152802801, 1185.7551606879738, null, 1116.709477848933, 1116.7307102964714, 1116.7376031270617, null, 1164.7819678925734, 1164.812970963928, 1164.823035697079, null, 1190.5926240187785, 1190.6114303972718, 1190.6175356369401, null, 1209.6984196723633, 1209.7014234736178, 1209.702398617587, null, 2528.8201019661615, 2528.820272895693, 2528.8211276994502, null, 2531.3244422291, 2531.3252132102925, 2531.3290688203465, null, 2533.6199294713692, 2533.621080348604, 2533.626835785808, null, 2559.643179626966, 2559.644471463013, 2559.6509318230064, null, 736.8583248946887, 736.8443060644762, 736.8555400442389, null, 1027.5816543861565, 1027.555131795488, 1027.576385654926, null, 1271.9697598969178, 1272.0328499277448, 1271.9822927757718, null, 1455.8982467124572, 1455.9240256142882, 1455.9033677093787, null, 437.38002532740745, 437.3798057058784, 437.3800924667142, null, 604.2696487097469, 604.2660523386548, 604.2707481368512, null, 673.8272481743993, 673.8231393530729, 673.828504259886, null, 755.3656360115577, 755.3641626485798, 755.3660864253641, null, 1664.5953644747824, 1664.5973844604298, 1664.5996791505781, null, 1659.4280302426375, 1666.44774698572, 1674.4220981283243, null, 1660.6937292318153, 1667.7189983371234, 1675.699656925979, null, 1664.9944983184234, 1670.7724456358746, 1677.3361550388543, null, 1675.383342024333, 1675.386262606357, 1675.3895803679495, null, 1677.1207453748686, 1677.121189764821, 1677.1216945888268, null, 1679.850932861099, 1679.8535356005077, 1679.8564922950209, null, 2450.3511070532186, 2450.365639119334, 2450.3507246072304, null, 2673.112555084397, 2673.1401767409934, 2673.1118281546087, null, 2870.5700529608694, 2870.5973115884085, 2870.5693355850567, null, 2044.191947844201, 2044.193022798056, 2044.1948985080942, null, 2058.474092211471, 2058.476304637108, 2058.4801651460557, null, 2082.9031994859556, 2082.905351815429, 2082.909107461292, null, 2115.3984338129158, 2115.401122915748, 2115.405815188958, null, 1576.0069260833177, 1576.0082666603719, 1576.0067395098217, null, 1703.2034675135774, 1703.2039501458135, 1703.2034003437095, null, 1959.2619081568034, 1959.2622444952767, 1959.2618613472264, null, 2157.6685469363474, 2157.6687083690163, 2157.6685244691143, null, 52.43694040417389, 52.42022880961857, 52.44249673001792, null, 457.35249127804207, 457.31349755741303, 457.36545603834486, null, 1710.24781684801, 1710.26538020871, 1710.2420584215151, null, 1863.7803842012127, 1863.8101057477727, 1863.7706395205619, null, 2035.39448805117, 2035.4052745938918, 2035.3909515119813, null, 2182.161740406824, 2182.173414997267, 2182.1579127070986, null, 2945.7436029978917, 2945.7453659311345, 2945.745077432471, null, 2951.210645677745, 2951.223806624138, 2951.2216528752892, null, 2962.108554047789, 2962.1236753413373, 2962.121200787639, null, 3000.9426372578796, 3000.954529051018, 3000.9525829952395, null, 3082.1661725778094, 3082.178450864204, 3082.1764415599796, null, 3143.00585404787, 3143.017068686086, 3143.015233444651, null, 278.97507892447464, 279.00183756929874, 278.9896215277038, null, 477.51420317023315, 477.53427215385125, 477.52511012265506, null, 1511.275458703466, 1511.2775630933997, 1511.2778824007985, null, 1567.1784846742491, 1567.2125843188169, 1567.2177583926102, null, 1620.120534940945, 1620.1508845387627, 1620.1554896031469, null, 1667.4198816710868, 1667.4373815906242, 1667.4400369225555, null, 1694.3831567130278, 1694.3965383845984, 1694.398568838495, null, 2654.2080593426886, 2654.208075613343, 2654.208060697984, null, 2087.652264427068, 2086.945020244349, 2097.8027801779335, null, 2118.666080914496, 2117.728302155897, 2132.1252768931618, null, 2147.13423153737, 2146.196028248288, 2160.5995204659125, null, 2218.442743112875, 2217.5052743856645, 2231.8974894565126, null, 2276.2207989971466, 2275.284012905931, 2289.665748006867, null, 2285.493495663702, 2284.5574330358077, 2298.928061377219, null, 1907.3063502755672, 1907.3062764728193, 1907.3064742022455, null, 2000.991804162182, 2000.9917408962401, 2000.9919103958694, null, 2050.7918467507984, 2050.7917823391595, 2050.791954908296, null, 1885.602486958367, 1885.602655770203, 1885.6025333788891, null, 1972.4235118233732, 1972.4236440291597, 1972.4235481778244, null, 2145.185279402432, 2145.1853785921057, 2145.1853066779863, null, 2385.683604953209, 2385.6836866737412, 2385.6836274250327, null, 749.2848268910789, 749.2831192021612, 749.2863476978014, null, 794.5716420492934, 794.5691813614195, 794.5738334499765, null, 889.806101729667, 889.8019333528755, 889.8098139370726, null, 1029.0511355466133, 1029.0531816154148, 1029.049313390859, null, 1110.88100095578, 1110.8893060081969, 1110.8736047728949, null, 1243.7133931613191, 1243.724436532168, 1243.703558329897, null, 1373.1389595540654, 1373.147669700765, 1373.1312026086887, null, 501.6737343985473, 501.67802375928795, 501.67408208709895, null, 616.9767909787706, 616.9853697002519, 616.9774863558739, null, 749.3181343931068, 749.3303515286487, 749.3191246940906, null, 861.6267282766763, 861.6423978415132, 861.6279984259205, null, 937.3028602949133, 937.3246907792774, 937.3046298381971, null, 1163.196606274699, 1163.2019034609925, 1163.1970356559382, null, 1979.9680559986525, 1979.9890308033434, 1979.9674644749748, null, 2052.2390031513887, 2052.2827222912674, 2052.237770200389, null, 2430.7866166267877, 2458.8832624450747, 2429.994245421747, null, 2745.9376822179024, 2774.0465316927816, 2745.144966849856, null, 2776.416865781519, 2804.524480040367, 2775.6241852485778, null, 2790.348108337243, 2790.3523920597368, 2790.347987529287, null, 2064.5809117147564, 2064.588573192513, 2064.5814233727347, null, 2192.7140547919507, 2192.736775808908, 2192.7155721741015, null, 2272.0944517126572, 2272.1266837227327, 2272.096604269335, null, 2444.7468101200893, 2444.7638687187437, 2444.7479493478436, null, 2680.526059390198, 2680.541611852278, 2680.527098033336, null, 2672.0090893324113, 2672.024844603889, 2672.0074428989965, null, 2713.2504984409593, 2713.2691668526436, 2713.248547582998, null, 2796.640008239999, 2796.6359147324456, 2796.640436013499, null, 2420.0930621379234, 2420.1665294407862, 2420.10991578342, null, 2760.670491251801, 2760.7322969887996, 2760.684669695006, null, 2941.997094136836, 2942.045695305672, 2942.00824340785, null, 2961.2663528864223, 2961.299333443597, 2961.27391873677, null, 2978.0728425702073, 2978.08577658893, 2978.0758096774493, null, 1509.4511569707356, 1509.455118389993, 1509.4575478702786, null, 1519.461674593471, 1519.4660945802098, 1519.468805293201, null, 1183.0396569299571, 1183.0515694962537, 1183.0398470895605, null, 1288.2441571908362, 1288.2612637508207, 1288.244430261859, null, 1642.204669031948, 1642.2172914352423, 1642.204870522638, null, 2007.2060632410585, 2007.20591032506, 2007.2060919908183, null, 2181.065596045945, 2181.0654100983857, 2181.0656310059735, null, 2401.301488184755, 2401.3013560585127, 2401.3015130258295, null, 2662.0554572138954, 2662.055393542307, 2662.0554691848006, null, 2848.688583766924, 2848.688545975977, 2848.688590872005, null, 1896.6392075026542, 1896.6543500541875, 1896.659819042909, null, 1929.0681353835967, 1929.0720568572754, 1929.0734731638518, null, 1989.7869328257484, 1989.7867939694702, 1989.7869233800393, null, 2194.3281997718404, 2194.3280991744027, 2194.3281929286923, null, 2373.6668859575393, 2373.6728706598365, 2373.676862800399, null, 2379.057137425504, 2379.0580713957365, 2379.0586944075867, null, 2393.262726548718, 2393.258545172024, 2393.255755953333, null, 2669.024474895814, 2669.004577695731, 2669.006243849603, null, 2680.554025783119, 2680.5440807491036, 2680.5449135274275, null, 2691.6565230403635, 2691.6474927464023, 2691.6482489261252, null, 2741.9026789442537, 2741.8913910768024, 2741.892336301456, null, 2801.7348679858064, 2801.7238486850424, 2801.7247714204304, null, 946.4599525770342, 971.5287636685881, 963.5099134234353, null, 1060.0433201391006, 1085.1223261660123, 1077.1002148304315, null, 1169.682092475172, 1194.7654592039446, 1186.7419529950664, null, 1203.3488049502264, 1228.4158948569536, 1220.397595173346, null, 1275.6863376502529, 1300.7341830537875, 1292.7220391782307, null, 1088.6619611793565, 1088.67895988287, 1088.7181613984003, null, 1126.2805780277408, 1126.3034613474472, 1126.3562336551786, null, 1114.0367029087593, 1119.2043798060815, 1131.1218043310614, null, 1134.9325322213538, 1140.1012962118289, 1152.0212277338321, null, 1183.3248495786947, 1183.3312235528208, 1183.3459228765364, null, 197.4173568271195, 247.75447548493833, 243.93969833290362, null, 254.8032205430142, 305.15105551452075, 301.335466231206, null, 333.5157613696439, 383.8739070986155, 380.0575364189267, null, 431.28938959610366, 481.61436824228673, 477.80051111587625, null, 415.84777779853863, 415.8593927178777, 415.8585124861501, null, 429.9163725723131, 429.9482034503598, 429.9457911607902, null, 1673.7507348626923, 1673.7668230948902, 1673.7691712755277, null, 1700.0623484789983, 1700.0737533032818, 1700.075417910507, null, 1741.329655476709, 1741.3324931270386, 1741.3329073002974, null, 1775.293710117252, 1775.2963200564254, 1775.296700993781, null, 1811.5625070019398, 1811.5708252020029, 1811.5720392966334, null, 68.02340783724705, 68.06757376269978, 68.03264590462169, null, 268.62250296129343, 268.6521451306758, 268.6287031338264, null, 1225.0353361394073, 1251.623859369337, 1222.0994224557123, null, 1354.0738311668283, 1380.6826894312392, 1351.135672081782, null, 1444.0311548156417, 1470.6513399206767, 1441.0917450170414, null, 1611.8893056103623, 1638.524961883928, 1608.9481874801259, null, 1391.875720620798, 1391.8775316187402, 1391.8728436061356, null, 1470.278773922646, 1470.2891718913697, 1470.2622553459112, null, 1497.084106320103, 1497.0906628956457, 1497.0736903149107, null, 1543.1835601156035, 1543.1897556132699, 1543.1737177313519, null, 1663.5285152620136, 1663.5327900630894, 1663.521724163533, null, 1774.9955938117994, 1775.0026267724281, 1774.9844210045997, null, 1879.9355083206344, 1879.9310752608346, 1879.9425508344577, null, 738.7108729118378, 811.1642710805689, 746.5465447531185, null, 984.3715721628718, 1056.8207850945362, 992.2067913801892, null, 1025.1269938209578, 1067.6283528129775, 1029.7234200795906, null, 1116.9447281307966, 1141.6773682009036, 1119.6195074545565, null, 1198.5148083908725, 1198.5090024157266, 1198.514180487736, null, 1425.9482676246243, 1426.012356203064, 1425.9630835650532, null, 1531.001685139384, 1531.0489634298244, 1531.0126148924196, null, 1643.3742111822594, 1643.4021371193967, 1643.380667075511, null, 45.808395712797186, 45.817598894654715, 45.83833654486058, null, 88.87655161574297, 88.89786048921674, 88.94587605287954, null, 86.39293957426281, 101.79418925868549, 136.49802686980405, null, 33.718147111126115, 33.73294263893857, 33.73231142467058, null, 128.6788720947117, 128.68380393731584, 128.68359353255985, null, 2263.4531222648448, 2263.4608642029616, 2263.441313750952, null, 2307.633581121008, 2307.6468611716687, 2307.6133255131285, null, 2355.597612275367, 2355.55670706058, 2355.660003602938, null, 2415.9247898501967, 2415.8881201200766, 2415.980720937609, null, 2592.407794920608, 2592.3803793763036, 2592.449610914343, null, 2741.274074898218, 2741.255415596817, 2741.302535293599, null, 2781.7097430999233, 2781.702409153899, 2781.720929317406, null, 764.4899224588318, 764.4980851016679, 764.4846469983046, null, 850.5636181181117, 850.5803801367548, 850.5527849395099, null, 933.0610661677403, 933.0705094495335, 933.0549630389685, null, 1105.4045240676255, 1116.0916203814754, 1098.4975264340956, null, 1279.8762672224839, 1290.5775301402796, 1272.960113809212, null, 1352.3464843433621, 1352.3842799610923, 1352.3220572927814, null, 381.5731544190467, 381.57142545084, 381.5681085383032, null, 395.9274305695028, 395.9257016012961, 395.9223846887593, null, 412.9742905092135, 412.9760194774202, 412.97933638995704, null, 1372.4932121200588, 1372.493077618519, 1372.4939518378412, null, 1407.096843720533, 1407.095426777216, 1407.1046364801487, null, 1504.7504342582479, 1504.7508901656215, 1504.7479269056055, null, 1574.6866515648517, 1574.686934778843, 1574.6850939735718, null, 2224.74322587065, 2224.7433330894537, 2224.743349169381, null, 2248.5156098028015, 2248.51570742235, 2248.5157220626475, null, 2280.5435351135156, 2280.5436217183246, 2280.543634706709, null, 2309.706611729052, 2309.7067083886745, 2309.7067228850096, null, 2338.5873372865517, 2338.5873969646354, 2338.5874059147377, null, 316.9370881047138, 316.94940013331075, 316.9346320591514, null, 469.12792506323365, 469.1525491204276, 469.1230129721089, null, 783.5317949047896, 783.5748870048791, 783.5231987453213, null, 1043.9778457330735, 1043.9090258007516, 1043.9915741684854, null, 1514.1379275225115, 1514.1618183663102, 1514.1392895439776, null, 1586.929539950479, 1586.9673874131306, 1586.931697641392, null, 1661.2093616994594, 1661.269813054815, 1661.2128080425164, null, 1698.6649892373218, 1698.7319403209742, 1698.6688061311027, null, 1926.996310367736, 1927.0775991592743, 1927.0009446569206, null, 2195.296410474902, 2195.367244781663, 2195.3004487519574, null, 119.530665753281, 119.51605403434822, 119.53021185219656, null, 584.5416275069464, 584.5715571580254, 584.5425572470505, null, 253.9656198417599, 253.9658566472451, 253.96577919848465, null, 305.97457889860215, 305.97505250957255, 305.9748976120517, null, 1582.4442306270596, 1582.445364796236, 1582.445958349632, null, 1589.9931105567573, 1589.9946873208332, 1589.9955125007905, null, 1608.3876482632456, 1608.3894740066985, 1608.3904294869299, null, 1632.1872062326431, 1632.1976662320974, 1632.203140343306, null, 1504.3215558074457, 1504.3213974368066, 1504.3219185643438, null, 1629.7162730525406, 1629.717727651316, 1629.7129412118522, null, 1699.8901150589209, 1699.8931264577802, 1699.883217279671, null, 1769.5056630959398, 1769.5048227659086, 1769.5075879193598, null, 1818.9792330407429, 1818.9756703130743, 1818.9873936697836, null, 1707.2758848344401, 1707.2753422378776, 1707.2756740488576, null, 1880.5487940772211, 1880.5484767868447, 1880.5486708176184, null, 1960.186174427988, 1960.1859965735264, 1960.1861053358505, null, 2079.4582096493623, 2079.4783602055654, 2079.472595527984, null, 2164.5396275578505, 2164.5675046172755, 2164.5595295391745, null, 2204.2820620667485, 2204.313469873816, 2204.304484718297, null, 2241.0489405899316, 2241.0752029754162, 2241.067689823754, null, 2325.8750796913932, 2325.8832664469523, 2325.880924377296, null, 2847.851719130039, 2847.851698929904, 2847.851729484439, null, 2963.627367972375, 2963.627357068368, 2963.627373561667, null, 1109.6392505925219, 1109.8090568413015, 1109.6714086165439, null, 1133.1291422341412, 1133.2689178210367, 1133.1556130307895, null, 1178.3499361956399, 1178.4426545791127, 1178.3674952667839, null, 1284.0116494148767, 1284.0570646295896, 1284.0202501794317, null, 1388.7903193925358, 1388.7986265194866, 1388.7918926019433, null, 1551.648218186453, 1551.6571656128865, 1551.6499126562164, null, 1707.6380838170685, 1707.6541928495024, 1707.641134556695, null, 581.1783729410745, 581.1790275654441, 581.1786150994162, null, 630.3492790160356, 630.3505882647748, 630.349763332719, null, 688.970404418415, 688.9680546969435, 688.9695352105433, null, 906.4073860192908, 906.4048492622851, 906.4064476233216, null, 1977.1334582863758, 1977.1334942973854, 1977.1334622270451, null, 2136.3506628193613, 2136.3507023619522, 2136.3506671464897, null, 2557.9350829589553, 2557.935141327379, 2557.9350893461865, null, 2849.708047539087, 2849.708091920223, 2849.7080523956956, null, 630.9991106207256, 631.0113459759034, 631.0063993647902, null, 757.9242775874103, 757.9348364354155, 757.9305676165601, null, 774.6712792181338, 774.68316038878, 774.6783569703339, null, 822.5681699216348, 822.5783745851083, 822.5742489589201, null, 866.0100160310221, 866.0177944798696, 866.0146497439014, null, 972.7632152249837, 972.7654748379535, 972.7645613028362, null, 1208.8783802259647, 1208.9091212640783, 1208.9087780409754, null, 1252.7585095574964, 1252.9490967540555, 1252.9469688516488, null, 1302.6536062186372, 1302.8508189200356, 1302.848617043994, null, 1338.268890599549, 1338.469173081917, 1338.4669369318297, null, 1362.7278029030224, 1362.91975452145, 1362.917611385299, null, 1412.0504458985185, 1412.2454456601183, 1412.2432684915073, null, 168.42424096617097, 168.4229025066375, 168.41462489456254, null, 222.58111782643292, 222.58117262800425, 222.5815115446, null, 137.65237045839584, 137.7099581388558, 137.6607127747084, null, 213.87701212400714, 213.91902395615145, 213.8830980783262, null, 301.2147026633286, 301.2561250313725, 301.2207032261899, null, 2497.311580382465, 2497.3135626973067, 2497.3121356823644, null, 2514.7223299483753, 2514.7284460054098, 2514.724043221053, null, 2537.5983896270495, 2537.609908640969, 2537.6016164138027, null, 2735.7423488076734, 2735.7577317028463, 2735.7466579718703, null, 3028.9903955725244, 3029.0028177902605, 3028.9938753710485, null, 3167.4602586381643, 3167.4741348420566, 3167.4641457374605, null, 2297.5772976906565, 2297.579206309162, 2297.577088069484, null, 2500.954311342785, 2500.95256542311, 2500.9545030949494, null, 2518.7312706857374, 2518.7276227429006, 2518.7316713347163, null, 2647.4620460397828, 2647.4595201779402, 2647.4623234520154, null, 2857.6495316507767, 2857.6467672116214, 2857.6498352656563, null, 2964.8775629276247, 2964.872429383118, 2964.8781267383683, null, 2977.7395989261704, 2977.7281933825416, 2977.740851582698, null, 1821.7446905295726, 1821.7650328282546, 1821.7434227988763, null, 2023.7572544162656, 2023.7778256589313, 2023.7559724177954, null, 2177.3067425445897, 2177.331479269623, 2177.3052009535363, null, 2323.4558499381824, 2323.46566286028, 2323.455238397532, null, 2399.8712794685657, 2399.8854779483886, 2399.870394620251, null, 1110.5091259708022, 1110.5094028378553, 1110.504634012327, null, 1162.1772093554243, 1162.1772708796047, 1162.176211172145, null, 1231.1477782487777, 1231.1469394593412, 1231.161386972802, null, 1274.9269657900154, 1274.9259129602149, 1274.9440471570138, null, 1327.619051518854, 1327.6175998601454, 1327.6426035831485, null, 164.09804791022677, 164.1124501279485, 164.10374279801187, null, 308.2713575190724, 308.2713575190724, 308.2713575190724, null], \"y\": [810.0801980839683, 723.7904252345795, null, 719.9990466623085, 633.6108290867592, null, 603.2872652822334, 516.7769220300504, null, 392.89966912652085, 306.32386250401464, null, 241.77366819969575, 241.7128615623039, null, 136.67505239208072, 136.63061740809962, null, 987.9277056852718, 924.476787251427, null, 942.9211502140581, 879.1008755493207, null, 920.020343372933, 818.0799261971265, null, 729.7145240960913, 627.7448661976483, null, 1884.759852777579, 1841.6471608614586, null, 1829.959288061361, 1786.8113919678751, null, 1676.1862907280847, 1633.0159979669231, null, 1478.6909059698278, 1435.5211051178605, null, 1375.2196314312332, 1375.2098288972522, null, 2409.20339037817, 2409.1823070325786, null, 2340.9182026233493, 2340.8735656446415, null, 2223.1258309548593, 2223.110814024032, null, 2132.106258560104, 2132.1070673430568, null, 2049.244405398331, 2049.258840445444, null, 2122.770808783399, 2122.7845461561965, null, 504.99961707942566, 504.700504081407, null, 585.0194846738777, 584.696727233067, null, 704.286168154802, 703.9213759926151, null, 884.7759327843596, 783.8799264976999, null, 1129.5837850747084, 1028.6458553009165, null, 1298.413763518256, 1197.5761609367482, null, 1310.2955000861548, 1310.3523827853596, null, 2853.102621180462, 2853.1276902180357, null, 2401.278714076586, 2401.1818173255424, null, 2258.281494429511, 2258.170553931905, null, 2180.542869099462, 2180.328575140004, null, 2112.241855947925, 2112.025123283778, null, 2011.8658647230945, 2011.694712028152, null, 1356.179969519203, 1356.124326001698, null, 1456.392950280082, 1456.2769082018679, null, 1597.9767381753063, 1597.8248309527846, null, 1761.6584409615898, 1761.5162616366597, null, 1876.1817943848882, 1876.0558562492497, null, 1947.1895914418046, 1947.0781585659429, null, 1963.7329878517976, 1963.6448651098838, null, 1977.896481501678, 1977.874058049794, null, 1888.097044062009, 1888.0928834424483, null, 1841.9553635442785, 1841.9181089793105, null, 1765.5901708176584, 1765.5259359093043, null, 1308.5127853457666, 1308.529427649992, null, 1444.075762452232, 1444.1047314968312, null, 1492.7344989334306, 1492.7980606622523, null, 583.9261990535929, 584.2866745352312, null, 641.6226667784327, 641.9719025487811, null, 700.109154930769, 700.4484520806142, null, 762.0214618987632, 762.309504317294, null, 844.8223469629804, 864.3631263064105, null, 883.2007346561336, 902.7492100861712, null, 909.1789827517027, 928.708118269227, null, 957.0782992479203, 964.6582090410043, null, 985.4989849234129, 993.0725161874986, null, 1010.5110087323586, 1049.816630437252, null, 1039.15072648471, 1039.1944502069582, null, 1082.2249274163244, 1082.2474826945136, null, 1147.5135555475613, 1147.4970774764952, null, 1242.3949042589334, 1242.370326783778, null, 2444.486988112192, 2403.4364855260005, null, 2408.2242589232796, 2367.1971485939325, null, 2341.2103991258678, 2300.180547979129, null, 2200.3725420382634, 2159.3989469917647, null, 2066.2777771406345, 2066.255282239406, null, 423.6497108176977, 423.6317738380997, null, 265.88263085085185, 265.90032615341187, null, 343.04530950531154, 343.10191288338126, null, 355.144521924841, 355.2131511187305, null, 374.94839903647295, 375.02792366045236, null, 433.92482660729854, 434.01036413918786, null, 483.8655139689019, 483.91922259647333, null, 492.43436160896937, 492.4582311684358, null, 123.3365445725388, 123.33704385264551, null, 194.69262547202734, 194.6932911788363, null, 212.20385051881766, 212.2014268520423, null, 387.5059810735548, 387.42887108963174, null, 241.55098495056063, 241.53996833448758, null, 135.9025798860921, 135.87613689297785, null, 2491.4114607076367, 2491.448222440007, null, 2582.7529650670776, 2582.767500887828, null, 2132.0528365558184, 2132.0257219738396, null, 1731.9082672575348, 1673.6511266957737, null, 1511.687647357221, 1453.3890184883003, null, 1310.9935962263828, 1252.695637366895, null, 1267.1193704999594, 1208.809891277248, null, 1167.6564843296178, 1109.3501398250996, null, 1044.738693038094, 986.4766933693982, null, 237.82832309768548, 237.82808146168037, null, 279.7142589512554, 279.710302086246, null, 323.4528567464612, 323.4483360641065, null, 359.4968654828594, 359.49396585079796, null, 1402.6950306863585, 1402.7087564761002, null, 1442.8249718751006, 1442.8321254578314, null, 1459.9855400552538, 1459.9637215393416, null, 1478.1708621262778, 1478.138832936912, null, 1516.6390805627673, 1516.6166592139487, null, 1553.1022748358314, 1553.0765673835074, null, 1572.476049288579, 1572.4638354613355, null, 1427.5770459211271, 1427.5759988675925, null, 1425.349254522354, 1425.3517761156484, null, 1422.2978506060363, 1422.3009518629267, null, 1417.0539352035162, 1417.0544587302836, null, 57.123011801581924, 57.12779983439399, null, 180.19734337283307, 180.15868291528326, null, 300.4623953223836, 300.36895205829023, null, 329.4114685315617, 329.27747603555383, null, 351.4310043217747, 351.2523583271572, null, 450.5298631810949, 316.42272153657615, null, 1298.9413613444938, 1298.420192053878, null, 1308.5382912887953, 1215.3258537662432, null, 1510.2017254117663, 1416.8443387645189, null, 1048.2937705012025, 1048.2800398509755, null, 1895.3717626375665, 1895.3728554941554, null, 1892.270882864074, 1892.2707896318004, null, 1886.07059380356, 1886.0686147602555, null, 1851.300718848473, 1851.297702491515, null, 1813.1652422042057, 1813.1649509348913, null, 1916.0630994161436, 1916.0636288305798, null, 1911.8514438110547, 1908.1703772111368, null, 1904.0396409856148, 1900.3556707096825, null, 1892.6274568847598, 1888.9440241967789, null, 1888.576551795389, 1888.005603301099, null, 360.46805899867195, 360.4003954829348, null, 334.2889167802125, 232.71385283326674, null, 307.252308710129, 134.90301355897455, null, 192.86877866295163, 20.45949722495405, null, -83.13464048846092, -255.6124987448811, null, 1477.3000654862017, 1477.2885198040312, null, 1871.450803505636, 1871.4521373459738, null, 1878.0808015721216, 1878.0787867786614, null, 1906.9716159288832, 1906.967970475352, null, 1955.2672809513529, 1955.2638693728823, null, 1979.985174289516, 1979.9931773315425, null, 1985.801088919334, 1985.8070034250827, null, 1350.1473703570302, 1349.8574806228737, null, 1315.4226346399892, 1315.0960894909003, null, 1297.2991024587832, 1296.8708851273786, null, 1255.0609067454475, 1254.5313827973644, null, 2777.4126883635627, 2777.2756336769817, null, 2518.369270507331, 2518.1691467948003, null, 2379.2673735391513, 2379.1459790411577, null, 2276.292895921198, 2276.2735064919425, null, 1874.7539638807239, 1874.7489654748858, null, 1885.0941258477876, 1885.0715804347158, null, 1894.5662797276661, 1894.532625206757, null, 2001.8102608275058, 2001.7724843193485, null, 553.605551474303, 553.619122070968, null, 465.5113792584892, 465.53705382441365, null, 391.52416327590083, 391.46309046533383, null, 335.7711138850775, 335.746159229524, null, 185.80700563141323, 185.80667846107934, null, 246.60494965266054, 246.5995921363183, null, 271.9437985525824, 271.9376776387944, null, 301.64343700363116, 301.64124213384986, null, 1676.7119636970021, 1676.690938250207, null, 1829.6068520930012, 1756.5406493254766, null, 1884.5236533162395, 1811.3996576150303, null, 2003.3077308827642, 1943.1667471752673, null, 2142.2997263054835, 2142.2693268112903, null, 2217.14221758133, 2217.137592054751, null, 2335.0751048534657, 2335.0480136911942, null, 66.75379592359911, 66.7556595857034, null, 74.70152834231686, 74.7050706765071, null, 81.74756837048113, 81.75106414807776, null, 1312.9328302276551, 1312.9184516208643, null, 1457.5524688606838, 1457.522875405918, null, 1704.8721569451427, 1704.8433673380005, null, 2033.8676119666998, 2033.8316424671145, null, 2796.705982914534, 2796.706892088548, null, 2819.4428001992665, 2819.443127518525, null, 2865.2133336358156, 2865.2135617392273, null, 2900.678618603478, 2900.67872808647, null, 1632.8052143760178, 1632.778138359432, null, 1791.4131188013944, 1791.3499414293606, null, 1112.3356620954962, 1112.3637229500353, null, 1171.7327675743431, 1171.7802534746181, null, 1238.1644514749396, 1238.1816850563407, null, 1294.9572576767166, 1294.9759100855483, null, 1978.0866358145224, 1978.0794508840038, null, 1967.3147771410072, 1967.2611389866518, null, 1945.7987261299463, 1945.7370984739107, null, 1869.10602879513, 1869.0575631440367, null, 1708.7142057488022, 1708.6641649233788, null, 1588.571462825341, 1588.5257569560413, null, 1519.6342695850503, 1519.563403372865, null, 1316.0881027617834, 1316.0349531026443, null, 1799.9227172574765, 1799.9109065626012, null, 1591.4428546521954, 1591.251473534603, null, 1393.94131232479, 1393.7709779995366, null, 1217.4721280815102, 1217.3739113932934, null, 1116.8808510868782, 1116.80574768645, null, 2821.756999717415, 2821.7569931130515, null, 881.3569321729628, 831.8933944791208, null, 971.7121906441027, 906.1254299356352, null, 1040.3900933066384, 974.773641608738, null, 1212.296683372236, 1146.7316057678938, null, 1351.5788985878523, 1286.061563463539, null, 1373.890596382074, 1308.4238591363062, null, 2653.171701943673, 2653.1710980480602, null, 2770.647807113368, 2770.6472894358308, null, 2833.094208099363, 2833.0936810470866, null, 2813.2164521311493, 2813.2162259236047, null, 2775.1910890865033, 2775.1909119309967, null, 2699.5259397315695, 2699.525806817592, null, 2594.1939699482027, 2594.1938604428424, null, 308.7277392814017, 308.72032837908995, null, 347.06475872075623, 347.05408000915673, null, 427.6848015858561, 427.6667119719449, null, 545.5312468529413, 545.5401262312955, null, 614.7767375148206, 614.8127791682615, null, 727.2071520663051, 727.255077271949, null, 836.7714724185842, 836.8092720702915, null, 252.0823993483771, 252.0807050595151, null, 238.70190462871653, 238.69851605099254, null, 223.34382114425455, 223.3389954002974, null, 210.31062040150405, 210.30443095492197, null, 201.52961747282666, 201.52099447542767, null, 175.30852499558287, 175.30643261765528, null, 285.2125800039835, 285.2154625032034, null, 287.97128859110626, 287.9772967703696, null, 299.6494173522249, 303.5106480453251, null, 311.687915517947, 315.5508233198989, null, 312.8524336437381, 316.7151716939665, null, 316.17316703807774, 316.1737557361337, null, 89.38215924535348, 89.37966593227375, null, 77.22426771902269, 77.21687350467344, null, 69.69231404756249, 69.68182462308607, null, 53.30204876007372, 53.29649729487377, null, 30.92343944666763, 30.91837813103661, null, 292.9810349792337, 292.989058061337, null, 298.606430241188, 298.6159367863399, null, 309.9915766324161, 309.9894920890151, null, 2162.854710794477, 2162.772582856373, null, 2041.6102399258693, 2041.541148268154, null, 1977.0532214729278, 1976.9988909935118, null, 1970.1820283968664, 1970.145159952637, null, 1964.1841367750708, 1964.1696780397187, null, 495.238522299112, 495.20737939876983, null, 380.4978363711221, 380.4630884190431, null, 964.0346263724343, 964.0336997232926, null, 961.7093338812593, 961.7080032041631, null, 953.8846651975234, 953.883683331913, null, 2443.1012124505596, 2443.1010723527684, null, 2484.146645623861, 2484.1464752633847, null, 2536.140724613814, 2536.140603563075, null, 2597.70045324066, 2597.700394906352, null, 2641.761484278307, 2641.7614496551923, null, 381.5721128993306, 381.47167271251266, null, 191.72206646584573, 191.696055423518, null, 2454.638140699003, 2454.638186728012, null, 2434.851027818914, 2434.8510611656266, null, 1034.1509345124307, 1034.1023172840103, null, 960.0271068718673, 960.019519686761, null, 764.6333494445596, 764.6673172069906, null, 356.75512887581226, 356.8439688976976, null, 329.9945211853003, 330.0389252741108, null, 304.20655517479713, 304.24687499415813, null, 187.48521994871749, 187.5356197229187, null, 48.50195598740257, 48.551156624525625, null, 2233.4048379094465, 2150.320253667254, null, 2072.616735040826, 1989.4983621214408, null, 1917.4021792941985, 1834.2693538704727, null, 1869.7070945457967, 1786.6282147594395, null, 1767.257547307029, 1684.2424488280844, null, 1622.3463673928263, 1622.0725033132755, null, 1884.0997128095364, 1883.7310423822032, null, 1917.6165036468146, 1834.360679120548, null, 2062.9610361048963, 1979.687697550844, null, 2280.431703831165, 2280.329013496239, null, 2939.824336100256, 2713.120624766087, null, 2804.3948268730937, 2577.642852385419, null, 2618.6253740960206, 2391.8269629618644, null, 2387.771313674815, 2161.122277414763, null, 2316.381354342996, 2316.329044131541, null, 2283.2174459984067, 2283.0740890010134, null, 2430.454922573351, 2430.3650817983985, null, 2333.446494479871, 2333.3828070442833, null, 2181.2955225883516, 2181.279676428157, null, 2056.0843093952553, 2056.069734831995, null, 1922.3877728907169, 1922.341321948769, null, 2423.2466445767363, 2423.2016274066714, null, 2358.8637792846307, 2358.833565798408, null, 810.9284666154188, 825.2351955268954, null, 829.4700041983017, 843.7876749670305, null, 842.3970930160342, 856.7208585210834, null, 866.5209560702175, 880.8530462878579, null, 245.19700802980856, 245.2110277433573, null, 340.50003223843385, 340.5805273840032, null, 373.127542304949, 373.17829957463886, null, 429.1991481523469, 429.24711016298477, null, 575.5832926316676, 575.6163857043657, null, 711.139037441411, 711.1934826128326, null, 838.8488223512406, 838.8145041297325, null, 2297.638567043764, 2259.4552806974793, null, 2259.0536557025353, 2220.872574996143, null, 2241.5735619575535, 2219.1751430908603, null, 2220.579256063871, 2207.5450368034135, null, 2198.6160251698675, 2198.6190849464565, null, 2544.9953097132775, 2544.923111526914, null, 2507.2591637894766, 2507.2059030227806, null, 2466.8928752250686, 2466.8614156099093, null, 2645.8572869671884, 2645.7113850729693, null, 2953.289904530111, 2952.9520860395464, null, 3289.0888482235478, 3044.9263903814494, null, 1435.4741637811317, 1435.405140977354, null, 1195.901215608641, 1195.8782080073818, null, 873.0880907892956, 873.1456337640935, null, 925.572702494522, 925.6714082202644, null, 982.9279137129924, 982.6238803161845, null, 1054.6149503730012, 1054.3423977738637, null, 1264.3500247241486, 1264.1462550800172, null, 1441.2590321253756, 1441.1203444099683, null, 1489.2559169575256, 1489.201406437698, null, 2117.12604885355, 2117.151756211387, null, 2174.8606163203585, 2174.913406479131, null, 2230.2349549998007, 2230.264695591063, null, 2319.4149257718573, 2353.0727758932426, null, 2436.45122724016, 2470.153693543372, null, 2511.507298429655, 2511.626331626273, null, 1025.7899192467644, 1025.814507860632, null, 1151.1089819106433, 1151.1335705245108, null, 1300.0148365466043, 1299.9902479327368, null, 2400.929955061578, 2400.9263504113997, null, 2470.6806955341126, 2470.6427213593556, null, 2667.385482838379, 2667.3977011861934, null, 2808.2963601003175, 2808.303950254046, null, 2892.063449268673, 2892.0628484330537, null, 2803.7021908772444, 2803.7016438341916, null, 2684.6553293524494, 2684.654844034088, null, 2576.2570645235764, 2576.2565228597805, null, 2468.908201384241, 2468.907866958588, null, 1204.6113753033706, 1204.6233436314076, null, 1242.5260043129638, 1242.549940969038, null, 1320.8570839024273, 1320.8989730505573, null, 1385.8369873034815, 1385.7700885370407, null, 2281.1986466876397, 2281.192009547047, null, 2275.333300159469, 2275.3227857158263, null, 2269.34968678594, 2269.332892730949, null, 2266.331481609577, 2266.3128818581913, null, 2247.927370455487, 2247.9047875303036, null, 2226.296285680064, 2226.2766071263577, null, 2269.544464526614, 2269.546676389927, null, 2249.3922865908144, 2249.387755960469, null, 171.5529293807216, 171.55215283423314, null, 99.09284124746266, 99.09128815448572, null, 2809.6836818898505, 2809.6752626850844, null, 2743.4001144465146, 2743.388409755626, null, 2581.8864736080786, 2581.8729206846688, null, 2372.9026523079515, 2372.825005269837, null, 1343.2904489349905, 1343.2886812179663, null, 1527.1998074043304, 1527.2160434884397, null, 1630.1134810669641, 1630.1470939958342, null, 1732.2607032258945, 1732.2513235472522, null, 1804.853361377968, 1804.8135945728052, null, 2615.154379235567, 2615.1554063952563, null, 2500.3943218108225, 2500.3949224557714, null, 2447.649881091029, 2447.6502177775214, null, 1110.8980604519602, 1110.827957959936, null, 981.1503851919572, 981.0534026910119, null, 920.5437140379378, 920.4344482925023, null, 864.4582904132627, 864.3669252593467, null, 735.0495445804584, 735.0210633831899, null, 2641.8945761202413, 2641.8945256631746, null, 2706.7879211624395, 2706.7878939257794, null, 1293.9439681277888, 1293.7872618408953, null, 1287.1745746882439, 1287.0455823020498, null, 1274.1495339097196, 1274.0639684272642, null, 1243.7553801618328, 1243.7134685730823, null, 1213.6214660734574, 1213.6137998124773, null, 1166.8212646917107, 1166.8130075281274, null, 1121.9988798242875, 1121.9840135477148, null, 274.2368092555388, 274.23562921616366, null, 243.57981090534975, 243.57745082659946, null, 207.02557020917857, 207.02980586551175, null, 71.45467272648708, 71.45924553692744, null, 2781.097326594697, 2781.0973073917867, null, 2755.777196734248, 2755.777175648118, null, 2688.7331123222693, 2688.733081197244, null, 2642.33278395567, 2642.332760289381, null, 485.41761537130617, 485.3820972680263, null, 337.4828441490354, 337.45219279085967, null, 317.9664351091617, 317.93194517078507, null, 262.1394787309616, 262.10985553768916, null, 211.50359451321842, 211.48101439637637, null, 87.07266765596378, 87.066108208717, null, 1248.2776615802304, 1248.129532804758, null, 1130.7211239825847, 1129.8027604600932, null, 996.6769142073636, 995.7266250252669, null, 900.9921778760677, 900.0270966464706, null, 835.2581202891695, 834.3331821630542, null, 702.7443549759556, 701.8047290662366, null, 2595.249752912497, 2595.2966120999654, null, 2801.499247178135, 2801.4973285866195, null, 2838.6338337839748, 2838.5931816154043, null, 2822.2726856591607, 2822.243028759132, null, 2803.5346700584278, 2803.5054292715986, null, 1895.1239167363103, 1895.1212107558276, null, 1887.3364051064675, 1887.3280563161454, null, 1877.104333616349, 1877.0886094608375, null, 1788.4385236852384, 1788.417525096504, null, 1657.2074045061863, 1657.1904474224593, null, 1595.243521346395, 1595.2245794830164, null, 1865.4243352399528, 1865.425356725464, null, 1894.513162122754, 1894.5122277130506, null, 1897.0564048876022, 1897.0544525221908, null, 1915.4673018529893, 1915.4659500211446, null, 1945.5288366194322, 1945.5273571018986, null, 1960.8657365959384, 1960.8629891420499, null, 1962.70775083107, 1962.7016466266255, null, 1323.232848717148, 1323.2390263781288, null, 1340.0047440882176, 1340.0109912761648, null, 1352.75215927293, 1352.7596714574386, null, 1364.8893755055292, 1364.892355547603, null, 1371.2327431282765, 1371.237055000605, null, 595.0245515999478, 595.0464409465392, null, 721.4190359754374, 721.4239001298779, null, 890.1871602034935, 890.1208447915227, null, 997.285633223107, 997.2023955964563, null, 1126.198842564187, 1126.084073182158, null, 1226.8997577469304, 1226.8720065169896, null, 1129.267619116229, 1129.267619116229, null, 742.7850320681557, 723.7904252345795, 753.4473360785211, null, 652.6271061462094, 633.6108290867592, 663.3015743744637, null, 535.8200821039684, 516.7769220300504, 546.5096406615718, null, 325.3814327558742, 306.32386250401464, 336.0790802252092, null, 241.72624667309967, 241.7128615623039, 241.7337601805793, null, 136.64039869529628, 136.63061740809962, 136.645889256834, null, 935.7557823359145, 924.476787251427, 948.972408067563, null, 890.44552716354, 879.1008755493207, 903.7390886304916, null, 836.2007902069251, 818.0799261971265, 857.4346568552934, null, 645.8709280197879, 627.7448661976483, 667.1108854182469, null, 1848.039271729345, 1841.6471608614586, 1859.5626570670488, null, 1793.2087223893254, 1786.8113919678751, 1804.7415172833162, null, 1639.416649034255, 1633.0159979669231, 1650.9554302264899, null, 1441.921683252189, 1435.5211051178605, 1453.4603329643667, null, 1375.211282271681, 1375.2098288972522, 1375.2139023441314, null, 2409.185468607493, 2409.1823070325786, 2409.1910325762283, null, 2340.880259228994, 2340.8735656446415, 2340.8920390839926, null, 2223.1130659034407, 2223.110814024032, 2223.117028924075, null, 2132.1069460611716, 2132.1070673430568, 2132.106732620518, null, 2049.249744207895, 2049.258840445444, 2049.2597979786415, null, 2122.7758895577604, 2122.7845461561965, 2122.7854574099247, null, 504.7853644026571, 504.700504081407, 504.78428832636854, null, 584.7882956379657, 584.696727233067, 584.7871344994285, null, 704.0248699239312, 703.9213759926151, 704.0235575630556, null, 812.5047858754252, 783.8799264976999, 812.1418066645801, null, 1057.282608647174, 1028.6458553009165, 1056.9194786141622, null, 1226.1844507998949, 1197.5761609367482, 1225.8216816997526, null, 1310.3362447901536, 1310.3523827853596, 1310.33644942895, null, 2853.1065535401317, 2853.1276902180357, 2853.1346925821686, null, 2401.207573666226, 2401.1818173255424, 2401.210692882019, null, 2258.200043272065, 2258.170553931905, 2258.203614571913, null, 2180.3855370934934, 2180.328575140004, 2180.3924354579435, null, 2112.082733474779, 2112.025123283778, 2112.0897103438865, null, 2011.7402065062677, 2011.694712028152, 2011.7457161047153, null, 1356.1410730365017, 1356.124326001698, 1356.1389516485708, null, 1456.3118333972845, 1456.2769082018679, 1456.3074093372102, null, 1597.8705504841257, 1597.8248309527846, 1597.8647590790722, null, 1761.559053361729, 1761.5162616366597, 1761.5536328290696, null, 1876.0937598620192, 1876.0558562492497, 1876.0889585185212, null, 1947.1116965292854, 1947.0781585659429, 1947.1074481932967, null, 1963.6713874199747, 1963.6448651098838, 1963.6680277739727, null, 1977.8808068382596, 1977.874058049794, 1977.8799519526892, null, 1888.0928968877838, 1888.0928834424483, 1888.0952158192122, null, 1841.9182293700637, 1841.9181089793105, 1841.938993292432, null, 1765.5261434889392, 1765.5259359093043, 1765.5619449712958, null, 1308.5238721626984, 1308.529427649992, 1308.5255999470014, null, 1444.0950611316584, 1444.1047314968312, 1444.0980686635394, null, 1492.776842664309, 1492.7980606622523, 1492.7834415676725, null, 584.0890604013363, 584.2866745352312, 584.2810469790843, null, 641.7804500706019, 641.9719025487811, 641.9664504611738, null, 700.262447994858, 700.4484520806142, 700.4431551495925, null, 762.1515982849495, 762.309504317294, 762.3050075485384, null, 853.6507911205795, 864.3631263064105, 864.0580658001854, null, 892.0326558741739, 902.7492100861712, 902.444029432636, null, 918.0021662763975, 928.708118269227, 928.4032395403693, null, 960.9081149004558, 964.6582090410043, 964.1346320022825, null, 989.3255777684394, 993.0725161874986, 992.5493797412662, null, 1030.370517532237, 1049.816630437252, 1047.1016217393724, null, 1039.1728182774127, 1039.1944502069582, 1039.191430021014, null, 1082.2363236677065, 1082.2474826945136, 1082.2459247042361, null, 1147.5052298581777, 1147.4970774764952, 1147.4982156878839, null, 1242.382486274865, 1242.370326783778, 1242.3720244559156, null, 2410.480711563029, 2403.4364855260005, 2419.53717210485, null, 2374.2373605425983, 2367.1971485939325, 2383.288660342461, null, 2307.2212302493745, 2300.180547979129, 2316.2731347216045, null, 2166.429975770309, 2159.3989469917647, 2175.4694691605796, null, 2066.259142342424, 2066.255282239406, 2066.2641051120017, null, 423.63611362144906, 423.6317738380997, 423.6375472031708, null, 265.889816070417, 265.90032615341187, 265.9008593492638, null, 343.0682934411998, 343.10191288338126, 343.10361845955254, null, 355.1723889717596, 355.2131511187305, 355.21521905746033, null, 374.9806901986157, 375.02792366045236, 375.0303199008944, null, 433.9595593249565, 434.01036413918786, 434.0129415609092, null, 483.887322484486, 483.91922259647333, 483.9208409478598, null, 492.44405390019233, 492.4582311684358, 492.45895040734405, null, 123.33671375350153, 123.33704385264551, 123.3370924498903, null, 194.6928510466443, 194.6932911788363, 194.6933559751627, null, 212.20302925982324, 212.2014268520423, 212.20119094533177, null, 387.4448237399051, 387.42887108963174, 387.4563942490872, null, 241.54224747156513, 241.53996833448758, 241.54390053710796, null, 135.88160746630535, 135.87613689297785, 135.88557529095092, null, 2491.4216465126174, 2491.448222440007, 2491.4540715302155, null, 2582.756992598585, 2582.767500887828, 2582.7698136549734, null, 2132.0289247147366, 2132.0257219738396, 2132.0378068565033, null, 1685.549622482573, 1673.6511266957737, 1694.5989139653586, null, 1465.295987887831, 1453.3890184883003, 1474.3517238988063, null, 1264.6024699230388, 1252.695637366895, 1273.6581018590357, null, 1220.7190767637271, 1208.809891277248, 1229.7764981992393, null, 1121.2586850736466, 1109.3501398250996, 1130.3156195820907, null, 998.3761815849855, 986.4766933693982, 1007.4262278503535, null, 237.82824447323213, 237.82808146168037, 237.82805468827115, null, 279.7129714512895, 279.710302086246, 279.70986366331294, null, 323.4513857894375, 323.4483360641065, 323.4478351698853, null, 359.4959219894192, 359.49396585079796, 359.4936445698874, null, 1402.699728680855, 1402.7087564761002, 1402.7100454573447, null, 1442.827420367532, 1442.8321254578314, 1442.832797246788, null, 1459.9780721230177, 1459.9637215393416, 1459.9616725747048, null, 1478.1598993359248, 1478.138832936912, 1478.1358250936373, null, 1516.6314062959063, 1516.6166592139487, 1516.6145536376107, null, 1553.093475817938, 1553.0765673835074, 1553.0741532110255, null, 1572.471868801026, 1572.4638354613355, 1572.4626884676445, null, 1427.573735945233, 1427.5759988675925, 1427.57885213504, null, 1425.3572258559516, 1425.3517761156484, 1425.3449046617784, null, 1422.307654388946, 1422.3009518629267, 1422.2925007999781, null, 1417.0555901914634, 1417.0544587302836, 1417.0530320965597, null, 57.126245235558486, 57.12779983439399, 57.12665486576854, null, 180.17123535689043, 180.15868291528326, 180.16792784168155, null, 300.39929161427204, 300.36895205829023, 300.3912972697469, null, 329.320981288428, 329.27747603555383, 329.3095178385232, null, 351.3103618676714, 351.2523583271572, 351.29507818036797, null, 359.96519804313533, 316.42272153657615, 348.4919398688439, null, 1298.5901265161406, 1298.420192053878, 1298.5441009535587, null, 1245.719059451584, 1215.3258537662432, 1237.4872719041482, null, 1447.2848071186393, 1416.8443387645189, 1439.0402188073635, null, 1048.2817978368923, 1048.2800398509755, 1048.2860234194768, null, 1895.3732178348785, 1895.3728554941554, 1895.3718769838688, null, 1892.2707587202885, 1892.2707896318004, 1892.2708731091202, null, 1886.067958600985, 1886.0686147602555, 1886.0703867349596, null, 1851.2967024069912, 1851.297702491515, 1851.300403245064, null, 1813.1648543634517, 1813.1649509348913, 1813.1652117285062, null, 1916.0647139497858, 1916.0636288305798, 1916.0622452192704, null, 1900.6254449374248, 1908.1703772111368, 1917.7907521571874, null, 1892.8047868895148, 1900.3556707096825, 1909.9836343399431, null, 1881.3942422487387, 1888.9440241967789, 1898.5705828544533, null, 1886.8353534280618, 1888.005603301099, 1889.497762826296, null, 360.41237871907094, 360.4003954829348, 360.4265619906594, null, 250.70283793934743, 232.71385283326674, 271.99447055526707, null, 165.42614377464446, 134.90301355897455, 201.55309985402008, null, 50.9932510364029, 20.45949722495405, 87.13278112687752, null, -225.06659995101933, -255.6124987448811, -188.9126951472333, null, 1477.2922598394766, 1477.2885198040312, 1477.2912894039885, null, 1871.451251629476, 1871.4521373459738, 1871.452271022518, null, 1878.0801246717785, 1878.0787867786614, 1878.0785848574724, null, 1906.9703911836207, 1906.967970475352, 1906.9676051305532, null, 1955.2661347799549, 1955.2638693728823, 1955.263527466878, null, 1979.9878630325557, 1979.9931773315425, 1979.9939793908075, null, 1985.8030759870157, 1985.8070034250827, 1985.8075961727052, null, 1349.9038970959032, 1349.8574806228737, 1349.9745084962613, null, 1315.1483751440978, 1315.0960894909003, 1315.227915077874, null, 1296.9394502949992, 1296.8708851273786, 1297.043755559606, null, 1254.6161689458847, 1254.5313827973644, 1254.7451504967698, null, 2777.311660863399, 2777.2756336769817, 2777.316880057139, null, 2518.2217527616426, 2518.1691467948003, 2518.2293736935035, null, 2379.1778896771116, 2379.1459790411577, 2379.182512513585, null, 2276.278603337587, 2276.2735064919425, 2276.279341708454, null, 1874.7504990193413, 1874.7489654748858, 1874.7502501094793, null, 1885.0784975187494, 1885.0715804347158, 1885.07737480566, null, 1894.5429506396288, 1894.532625206757, 1894.541274716858, null, 2001.7840744055707, 2001.7724843193485, 2001.782193216699, null, 553.6198920496856, 553.619122070968, 553.610700778523, null, 465.53851056724017, 465.53705382441365, 465.5211213615025, null, 391.4596252702863, 391.46309046533383, 391.50098946203366, null, 335.7447433335134, 335.746159229524, 335.7616449489413, null, 185.80686284699786, 185.80667846107934, 185.8066785388899, null, 246.6026115132893, 246.5995921363183, 246.59959341049083, null, 271.9411272495753, 271.9376776387944, 271.9376790945249, null, 301.6424791136085, 301.64124213384986, 301.64124265585343, null, 1676.6969154794983, 1676.690938250207, 1676.6968154952367, null, 1777.3123100493397, 1756.5406493254766, 1776.9648515433073, null, 1832.1877480309433, 1811.3996576150303, 1831.840014696801, null, 1960.263955759463, 1943.1667471752673, 1959.9779617491158, null, 2142.2779689461713, 2142.2693268112903, 2142.2778243846305, null, 2217.1389070248074, 2217.137592054751, 2217.1388850286107, null, 2335.0557153153377, 2335.0480136911942, 2335.055586486216, null, 66.74977536585891, 66.7556595857034, 66.76049304383167, null, 74.69388631369256, 74.7050706765071, 74.7142578161423, null, 81.74002678038181, 81.75106414807776, 81.76013054192683, null, 1312.9226507877815, 1312.9184516208643, 1312.922359336366, null, 1457.5315179578724, 1457.522875405918, 1457.5309181046039, null, 1704.8517751321374, 1704.8433673380005, 1704.8511915726956, null, 2033.8421470963103, 2033.8316424671145, 2033.8414180019188, null, 2796.7061139015705, 2796.706892088548, 2796.7071576690587, null, 2819.4428473569933, 2819.443127518525, 2819.4432231323617, null, 2865.2133664992602, 2865.2135617392273, 2865.2136283709387, null, 2900.6786343769736, 2900.67872808647, 2900.6787600677503, null, 1632.7928649909227, 1632.778138359432, 1632.778677607733, null, 1791.3843035695054, 1791.3499414293606, 1791.3511996753962, null, 1112.3483718882237, 1112.3637229500353, 1112.363252865081, null, 1171.7542756844803, 1171.7802534746181, 1171.779457974708, null, 1238.172257197579, 1238.1816850563407, 1238.181396353539, null, 1294.965706038465, 1294.9759100855483, 1294.9755976140682, null, 1978.081103041785, 1978.0794508840038, 1978.0818497019363, null, 1967.2734729533965, 1967.2611389866518, 1967.2790470466111, null, 1945.7512696076724, 1945.7370984739107, 1945.7576739723168, null, 1869.0687077058888, 1869.0575631440367, 1869.073744271001, null, 1708.675671692843, 1708.6641649233788, 1708.6808719505477, null, 1588.5362669125966, 1588.5257569560413, 1588.5410166803506, null, 1519.576288296988, 1519.563403372865, 1519.5904739227342, null, 1316.0446167957364, 1316.0349531026443, 1316.0552560150463, null, 1799.9139112309933, 1799.9109065626012, 1799.9145609479017, null, 1591.3001613384054, 1591.251473534603, 1591.3106893851764, null, 1393.8143114501563, 1393.7709779995366, 1393.8236816940212, null, 1217.3988979484257, 1217.3739113932934, 1217.4043009364543, null, 1116.8248541671255, 1116.80574768645, 1116.8289856724816, null, 2821.7569892994825, 2821.7569931130515, 2821.7570006502633, null, 847.9422095185319, 831.8933944791208, 843.7328922610312, null, 927.4055453644867, 906.1254299356352, 921.8241515421827, null, 996.063390501348, 974.773641608738, 990.4794699937312, null, 1168.0046859513138, 1146.7316057678938, 1162.4251373481075, null, 1307.319153241961, 1286.061563463539, 1301.7436674950418, null, 1329.665032054309, 1308.4238591363062, 1324.0938521563703, null, 2653.17131770575, 2653.1710980480602, 2653.1712188761207, null, 2770.647477733029, 2770.6472894358308, 2770.6473930132897, null, 2833.093872754201, 2833.0936810470866, 2833.093786500253, null, 2813.2162366986336, 2813.2162259236047, 2813.216342687912, null, 2775.1909203695113, 2775.1909119309967, 2775.1910033755153, null, 2699.5258131487335, 2699.525806817592, 2699.525875425421, null, 2594.1938656589523, 2594.1938604428424, 2594.1939169675597, null, 308.7233158822796, 308.72032837908995, 308.72151925802973, null, 347.0583848405555, 347.05408000915673, 347.0557960016517, null, 427.67400430653333, 427.6667119719449, 427.6696188433796, null, 545.5365467520311, 545.5401262312955, 545.5386993787699, null, 614.7982499584452, 614.8127791682615, 614.8069875326102, null, 727.2357575320978, 727.255077271949, 727.2473760345442, null, 836.7940341714104, 836.8092720702915, 836.8031979369059, null, 252.0796847672456, 252.0807050595151, 252.08268061822926, null, 238.69647546645353, 238.69851605099254, 238.70246716842087, null, 223.3360893614486, 223.3389954002974, 223.34462226873802, null, 210.3007037011804, 210.30443095492197, 210.3116479150315, null, 201.5158017495688, 201.52099447542767, 201.53104898150147, null, 175.30517259814368, 175.30643261765528, 175.30887235242594, null, 285.2069080511467, 285.2154625032034, 285.2223917573123, null, 287.95946617353854, 287.9772967703696, 287.99173986216977, null, 292.05159452134905, 303.5106480453251, 312.7926795756262, null, 304.0867926055853, 315.5508233198989, 324.83688646045016, null, 305.2516447553245, 316.7151716939665, 326.0008267675114, null, 316.17200864483834, 316.1737557361337, 316.17517091029765, null, 89.37767338092763, 89.37966593227375, 89.38306425236127, null, 77.21096435837528, 77.21687350467344, 77.22695162416791, null, 69.67344191454026, 69.68182462308607, 69.69612143249795, null, 53.29206079648646, 53.29649729487377, 53.30406379579084, null, 30.91433333964806, 30.91837813103661, 30.925276570995123, null, 292.98076221579396, 292.989058061337, 292.99283036825096, null, 298.6061070439526, 298.6159367863399, 298.62040659053014, null, 309.9916475013442, 309.9894920890151, 309.98851197471697, null, 2162.772062562808, 2162.772582856373, 2162.819408160376, null, 2041.540710561501, 2041.541148268154, 2041.5805409273548, null, 1976.9985468012737, 1976.9988909935118, 1977.0298675561046, null, 1970.1449263851723, 1970.145159952637, 1970.166180523091, null, 1964.1695864413282, 1964.1696780397187, 1964.177921698259, null, 495.21588003476904, 495.20737939876983, 495.21643761495545, null, 380.47257307490673, 380.4630884190431, 380.4731951996731, null, 964.0296597395727, 964.0336997232926, 964.0382621662287, null, 961.7022017486145, 961.7080032041631, 961.7145549161805, null, 953.8794026166964, 953.883683331913, 953.8885176382507, null, 2443.1011727363266, 2443.1010723527684, 2443.1010509585262, null, 2484.146597330911, 2484.1464752633847, 2484.146449247748, null, 2536.140690298946, 2536.140603563075, 2536.1405850774954, null, 2597.7004367043373, 2597.700394906352, 2597.700385998158, null, 2641.7614744635166, 2641.7614496551923, 2641.761444367919, null, 381.4982271387662, 381.47167271251266, 381.501748027689, null, 191.70293223574976, 191.696055423518, 191.70384404200684, null, 2454.6382225726497, 2454.638186728012, 2454.6381249315023, null, 2434.8510871340504, 2434.8510611656266, 2434.8510163958067, null, 1034.1156602426665, 1034.1023172840103, 1034.1163854758279, null, 960.0216019835204, 960.019519686761, 960.0217151631158, null, 764.6579947823176, 764.6673172069906, 764.657488078243, null, 356.8228484132941, 356.8439688976976, 356.8149999943035, null, 330.02836881717536, 330.0389252741108, 330.02444601429346, null, 304.23728951570035, 304.24687499415813, 304.2337275305809, null, 187.52363787484651, 187.5356197229187, 187.5191853934472, null, 48.53945985468081, 48.551156624525625, 48.53511330898494, null, 2167.720982957269, 2150.320253667254, 2179.763906805311, null, 2006.9061679062143, 1989.4983621214408, 2018.9539893471137, null, 1851.6801864997312, 1834.2693538704727, 1863.7301027986693, null, 1804.027749342968, 1786.6282147594395, 1816.0698463429508, null, 1701.6286254430538, 1684.2424488280844, 1713.6614774858028, null, 1622.1537483110167, 1622.0725033132755, 1622.1456671483256, null, 1883.84041279721, 1883.7310423822032, 1883.8295340952366, null, 1859.0594979166199, 1834.360679120548, 1856.6027906913437, null, 2004.3917120890892, 1979.687697550844, 2001.9344880610686, null, 2280.359477790946, 2280.329013496239, 2280.3564476115057, null, 2767.1753270578006, 2713.120624766087, 2786.8850052616717, null, 2631.709062430486, 2577.642852385419, 2651.422936645173, null, 2445.904245252226, 2391.8269629618644, 2465.622156680744, null, 2215.1639431097806, 2161.122277414763, 2234.8688678488306, null, 2316.3415168559195, 2316.329044131541, 2316.3460647189804, null, 2283.1082707079204, 2283.0740890010134, 2283.1207342016596, null, 2430.3879081274863, 2430.3650817983985, 2430.3929090972715, null, 2333.3989884537186, 2333.3828070442833, 2333.402533602803, null, 2181.283702547339, 2181.279676428157, 2181.2845846208565, null, 2056.073437869702, 2056.069734831995, 2056.074249160016, null, 1922.3531239895228, 1922.341321948769, 1922.3557096724414, null, 2423.1999242059665, 2423.2016274066714, 2423.2287119888874, null, 2358.8324226872137, 2358.833565798408, 2358.851743743633, null, 810.990293626776, 825.2351955268954, 831.4137408755955, null, 829.531878495264, 843.7876749670305, 849.9709456978671, null, 842.4589936516049, 856.7208585210834, 862.9067613423844, null, 866.5828926813144, 880.8530462878579, 887.0425442436286, null, 245.20589275375147, 245.2110277433573, 245.20825820014278, null, 340.5510444894788, 340.5805273840032, 340.5646258619472, null, 373.15970874884397, 373.17829957463886, 373.1682726613664, null, 429.2295431545545, 429.24711016298477, 429.23763544293035, null, 575.6042647303002, 575.6163857043657, 575.6098482887031, null, 711.1735410221313, 711.1934826128326, 711.1827271680405, null, 838.8270738381023, 838.8145041297325, 838.8212835690686, null, 2245.2745417755636, 2259.4552806974793, 2295.1643510695703, null, 2206.6926552180585, 2220.872574996143, 2256.5795826502845, null, 2210.856683350865, 2219.1751430908603, 2240.1221801866377, null, 2202.704309928642, 2207.5450368034135, 2219.7346594722394, null, 2198.62022130472, 2198.6190849464565, 2198.6162234385038, null, 2544.922834703548, 2544.923111526914, 2544.964094812056, null, 2507.2056988095524, 2507.2059030227806, 2507.236136485674, null, 2466.861294986982, 2466.8614156099093, 2466.879273653767, null, 2645.7546150545495, 2645.7113850729693, 2645.750416851403, null, 2953.0521799225135, 2952.9520860395464, 2953.042459482229, null, 3117.2704720784122, 3044.9263903814494, 3110.244904628789, null, 1435.4217916057023, 1435.405140977354, 1435.4274064806311, null, 1195.8837582168312, 1195.8782080073818, 1195.8856298418075, null, 873.1244451426408, 873.1456337640935, 873.1343787602689, null, 925.635062545309, 925.6714082202644, 925.6521020699541, null, 982.7358322716851, 982.6238803161845, 982.6833471243555, null, 1054.4427577894758, 1054.3423977738637, 1054.395707157963, null, 1264.2212876598974, 1264.1462550800172, 1264.1861109986955, null, 1441.1714123554862, 1441.1203444099683, 1441.1474707581076, null, 1489.2214784408206, 1489.201406437698, 1489.2120683145179, null, 2117.1405780927216, 2117.151756211387, 2117.148440121376, null, 2174.8904521692075, 2174.913406479131, 2174.9065968754653, null, 2230.2517637347282, 2230.264695591063, 2230.26085923891, null, 2338.437610153714, 2353.0727758932426, 2348.731121598421, null, 2455.4991277169884, 2470.153693543372, 2465.806284037307, null, 2511.574573401825, 2511.626331626273, 2511.610977080826, null, 1025.8072871566949, 1025.814507860632, 1025.807865121165, null, 1151.1263498205738, 1151.1335705245108, 1151.1269277850438, null, 1299.9974686366738, 1299.9902479327368, 1299.9968906722038, null, 2400.9275501625357, 2400.9263504113997, 2400.9271830181674, null, 2470.655360466358, 2470.6427213593556, 2470.651492683433, null, 2667.3936345012316, 2667.3977011861934, 2667.3948789763876, null, 2808.301423990717, 2808.303950254046, 2808.3021970705054, null, 2892.063001227374, 2892.0628484330537, 2892.063034399212, null, 2803.701782948899, 2803.7016438341916, 2803.701813150876, null, 2684.6549674520193, 2684.654844034088, 2684.6549942462066, null, 2576.2566606065266, 2576.2565228597805, 2576.2566905115177, null, 2468.9079520040455, 2468.907866958588, 2468.907970467521, null, 1204.6150414908736, 1204.6233436314076, 1204.6248978422177, null, 1242.5333366879702, 1242.549940969038, 1242.5530493906585, null, 1320.8699155586883, 1320.8989730505573, 1320.904412788393, null, 1385.8164945980059, 1385.7700885370407, 1385.761401042374, null, 2281.18543292028, 2281.192009547047, 2281.2023282970367, null, 2275.312367137143, 2275.3227857158263, 2275.3391325015714, null, 2269.3162517949877, 2269.332892730949, 2269.3590024166388, null, 2266.2944516891894, 2266.3128818581913, 2266.3417988566684, null, 2247.8824105039093, 2247.9047875303036, 2247.9398971615883, null, 2226.2571079909662, 2226.2766071263577, 2226.3072013367723, null, 2269.5512884759582, 2269.546676389927, 2269.540817220916, null, 2249.378308877187, 2249.387755960469, 2249.3997574836926, null, 171.55231455913892, 171.55215283423314, 171.5524289383303, null, 99.09161160429727, 99.09128815448572, 99.09184036268007, null, 2809.6775377404356, 2809.6752626850844, 2809.677734508488, null, 2743.3915726219993, 2743.388409755626, 2743.391846176247, null, 2581.87658298435, 2581.8729206846688, 2581.8768997342586, null, 2372.8459872170033, 2372.825005269837, 2372.8478019319164, null, 1343.2893032097145, 1343.2886812179663, 1343.289055892604, null, 1527.2103306338363, 1527.2160434884397, 1527.2126021859863, null, 1630.1352668967545, 1630.1470939958342, 1630.1399696021806, null, 1732.2546238960279, 1732.2513235472522, 1732.25331160736, null, 1804.8275869846702, 1804.8135945728052, 1804.8220233049583, null, 2615.1552759601013, 2615.1554063952563, 2615.154957701783, null, 2500.394846182123, 2500.3949224557714, 2500.3946600764443, null, 2447.650175022967, 2447.6502177775214, 2447.650070702988, null, 1110.8430042114164, 1110.827957959936, 1110.8524365851279, null, 981.0742182577098, 981.0534026910119, 981.0872673686041, null, 920.4579002388817, 920.4344482925023, 920.4726020749371, null, 864.3865351625423, 864.3669252593467, 864.3988284527102, null, 735.0271763649712, 735.0210633831899, 735.0310085439512, null, 2641.8945491240092, 2641.8945256631746, 2641.89453065082, null, 2706.787906589908, 2706.7878939257794, 2706.7878966181042, null, 1293.775486424943, 1293.7872618408953, 1293.8873907017025, null, 1287.0358893980047, 1287.0455823020498, 1287.1280031221613, null, 1274.057538760867, 1274.0639684272642, 1274.118641245136, null, 1243.7103192010914, 1243.7134685730823, 1243.740248351478, null, 1213.6132237448949, 1213.6137998124773, 1213.618698237383, null, 1166.8123870582172, 1166.8130075281274, 1166.8182835154505, null, 1121.9828964477324, 1121.9840135477148, 1121.9935124859335, null, 274.23576768388057, 274.23562921616366, 274.2361560730226, null, 243.57772776203333, 243.57745082659946, 243.57850454031725, null, 207.02930884678975, 207.02980586551175, 207.02791475523347, null, 71.45870895600059, 71.45924553692744, 71.45720389611806, null, 2781.0973004154444, 2781.0973073917867, 2781.097325195029, null, 2755.777167987609, 2755.777175648118, 2755.7771951973155, null, 2688.733069889643, 2688.733081197244, 2688.7331100536185, null, 2642.33275169151, 2642.332760289381, 2642.332782230674, null, 485.3889832357452, 485.3820972680263, 485.3952369600413, null, 337.45813523269766, 337.45219279085967, 337.4635320620785, null, 317.9386318060599, 317.93194517078507, 317.94470449986056, null, 262.1155986470832, 262.10985553768916, 262.1208144459685, null, 211.48539205006009, 211.48101439637637, 211.4893677641964, null, 87.06737990224295, 87.066108208717, 87.0685348336956, null, 1248.1656345870106, 1248.129532804758, 1248.1769483328476, null, 1130.02658300782, 1129.8027604600932, 1130.096725567537, null, 995.9582284596421, 995.7266250252669, 996.030809430109, null, 900.2623051823949, 900.0270966464706, 900.336015936493, null, 834.5586070659456, 834.3331821630542, 834.6292517792392, null, 702.0337336595949, 701.8047290662366, 702.1055001930756, null, 2595.2821393076733, 2595.2966120999654, 2595.2846649526496, null, 2801.497921157212, 2801.4973285866195, 2801.4978177478, null, 2838.585199754115, 2838.5931816154043, 2838.624083802388, null, 2822.2372057668877, 2822.243028759132, 2822.2655727734436, null, 2803.4996879812156, 2803.5054292715986, 2803.527656972947, null, 1895.121353145515, 1895.1212107558276, 1895.1225940400752, null, 1887.3284956325601, 1887.3280563161454, 1887.3323241777257, null, 1877.0894368716786, 1877.0886094608375, 1877.0966475737378, null, 1788.4186300499596, 1788.417525096504, 1788.4282594743768, null, 1657.1913397104363, 1657.1904474224593, 1657.1991158023513, null, 1595.225576210828, 1595.2245794830164, 1595.2342624727494, null, 1865.4243359324867, 1865.425356725464, 1865.4258015890032, null, 1894.5131614892548, 1894.5122277130506, 1894.5118207715884, null, 1897.056403563962, 1897.0544525221908, 1897.0536022544416, null, 1915.4673009364915, 1915.4659500211446, 1915.4653612896432, null, 1945.5288356163676, 1945.5273571018986, 1945.5267127624547, null, 1960.8657347332544, 1960.8629891420499, 1960.8617926081324, null, 1962.7077466926185, 1962.7016466266255, 1962.6989882061557, null, 1323.2296501480614, 1323.2390263781288, 1323.2449195467336, null, 1340.0015095205865, 1340.0109912761648, 1340.0169507698943, null, 1352.7482697359003, 1352.7596714574386, 1352.7668376923675, null, 1364.8878325476874, 1364.892355547603, 1364.895198353391, null, 1371.2305105969708, 1371.237055000605, 1371.241168303474, null, 595.039351928344, 595.0464409465392, 595.0411884102549, null, 721.4223248393963, 721.4239001298779, 721.422732934339, null, 890.142321502128, 890.1208447915227, 890.1367577428814, null, 997.2293526848001, 997.2023955964563, 997.2223691782337, null, 1126.121242050313, 1126.084073182158, 1126.111613078834, null, 1226.87562421105, 1226.8720065169896, 1226.884035398525, null, 1129.267619116229, 1129.267619116229, 1129.267619116229, null]}, {\"hoverinfo\": \"name\", \"marker\": {\"color\": \"white\", \"size\": 5}, \"mode\": \"markers\", \"name\": \"Junction #1\", \"opacity\": 0.9, \"type\": \"scatter\", \"x\": [1804.5938906860697], \"y\": [708.9691641516665]}, {\"hoverinfo\": \"name\", \"marker\": {\"color\": \"white\", \"size\": 5}, \"mode\": \"markers\", \"name\": \"Junction #2\", \"opacity\": 0.9, \"type\": \"scatter\", \"x\": [1931.8619448514107], \"y\": [497.6053664128003]}, {\"hoverinfo\": \"name\", \"marker\": {\"color\": \"white\", \"size\": 5}, \"mode\": \"markers\", \"name\": \"Junction #3\", \"opacity\": 0.9, \"type\": \"scatter\", \"x\": [2113.856328728909], \"y\": [195.35336455915012]}, {\"hoverinfo\": \"name\", \"marker\": {\"color\": \"red\", \"size\": 5}, \"mode\": \"markers\", \"name\": \"Junction #4\", \"opacity\": 0.9, \"type\": \"scatter\", \"x\": [2057.95440246436], \"y\": [288.1939718402414]}, {\"hoverinfo\": \"name\", \"marker\": {\"color\": \"white\", \"size\": 5}, \"mode\": \"markers\", \"name\": \"Junction #5\", \"opacity\": 0.9, \"type\": \"scatter\", \"x\": [2184.5200345394537], \"y\": [77.99674022501131]}, {\"hoverinfo\": \"name\", \"marker\": {\"color\": \"red\", \"size\": 5}, \"mode\": \"markers\", \"name\": \"Junction #6\", \"opacity\": 0.9, \"type\": \"scatter\", \"x\": [1696.1131292590624], \"y\": [889.1314669949861]}, {\"hoverinfo\": \"name\", \"marker\": {\"color\": \"white\", \"size\": 5}, \"mode\": \"markers\", \"name\": \"Junction #7\", \"opacity\": 0.9, \"type\": \"scatter\", \"x\": [1791.3110891862968], \"y\": [731.0289291729505]}, {\"hoverinfo\": \"name\", \"marker\": {\"color\": \"red\", \"size\": 5}, \"mode\": \"markers\", \"name\": \"Junction #8\", \"opacity\": 0.9, \"type\": \"scatter\", \"x\": [2369.2288848161597], \"y\": [926.5274304712389]}, {\"hoverinfo\": \"name\", \"marker\": {\"color\": \"red\", \"size\": 5}, \"mode\": \"markers\", \"name\": \"Junction #9\", \"opacity\": 0.9, \"type\": \"scatter\", \"x\": [2277.862694696019], \"y\": [1016.5405414136662]}, {\"hoverinfo\": \"name\", \"marker\": {\"color\": \"red\", \"size\": 5}, \"mode\": \"markers\", \"name\": \"Junction #10\", \"opacity\": 0.9, \"type\": \"scatter\", \"x\": [2755.561886374971], \"y\": [545.9157919175555]}, {\"hoverinfo\": \"name\", \"marker\": {\"color\": \"white\", \"size\": 5}, \"mode\": \"markers\", \"name\": \"Junction #11\", \"opacity\": 0.9, \"type\": \"scatter\", \"x\": [2382.438688382051], \"y\": [913.5132562746271]}, {\"hoverinfo\": \"name\", \"marker\": {\"color\": \"red\", \"size\": 5}, \"mode\": \"markers\", \"name\": \"Junction #12\", \"opacity\": 0.9, \"type\": \"scatter\", \"x\": [2335.94858377742], \"y\": [959.3148699568774]}, {\"hoverinfo\": \"name\", \"marker\": {\"color\": \"red\", \"size\": 5}, \"mode\": \"markers\", \"name\": \"Junction #13\", \"opacity\": 0.9, \"type\": \"scatter\", \"x\": [1658.7673993962396], \"y\": [1888.8127512567285]}, {\"hoverinfo\": \"name\", \"marker\": {\"color\": \"white\", \"size\": 5}, \"mode\": \"markers\", \"name\": \"Junction #14\", \"opacity\": 0.9, \"type\": \"scatter\", \"x\": [1669.3250608110534], \"y\": [1880.7069542984295]}, {\"hoverinfo\": \"name\", \"marker\": {\"color\": \"white\", \"size\": 5}, \"mode\": \"markers\", \"name\": \"Junction #15\", \"opacity\": 0.9, \"type\": \"scatter\", \"x\": [2069.8984403165987], \"y\": [1573.1609596318774]}, {\"hoverinfo\": \"name\", \"marker\": {\"color\": \"red\", \"size\": 5}, \"mode\": \"markers\", \"name\": \"Junction #16\", \"opacity\": 0.9, \"type\": \"scatter\", \"x\": [2315.9896872437894], \"y\": [1384.220852307778]}, {\"hoverinfo\": \"name\", \"marker\": {\"color\": \"white\", \"size\": 5}, \"mode\": \"markers\", \"name\": \"Junction #17\", \"opacity\": 0.9, \"type\": \"scatter\", \"x\": [1801.5209893494318], \"y\": [1779.2116218242923]}, {\"hoverinfo\": \"name\", \"marker\": {\"color\": \"white\", \"size\": 5}, \"mode\": \"markers\", \"name\": \"Junction #18\", \"opacity\": 0.9, \"type\": \"scatter\", \"x\": [2339.4375586433353], \"y\": [1366.2184105546885]}, {\"hoverinfo\": \"name\", \"marker\": {\"color\": \"white\", \"size\": 5}, \"mode\": \"markers\", \"name\": \"Junction #19\", \"opacity\": 0.9, \"type\": \"scatter\", \"x\": [1354.2198358333246], \"y\": [2416.4976942398716]}, {\"hoverinfo\": \"name\", \"marker\": {\"color\": \"white\", \"size\": 5}, \"mode\": \"markers\", \"name\": \"Junction #20\", \"opacity\": 0.9, \"type\": \"scatter\", \"x\": [1675.9436910583022], \"y\": [2166.324343179488]}, {\"hoverinfo\": \"name\", \"marker\": {\"color\": \"white\", \"size\": 5}, \"mode\": \"markers\", \"name\": \"Junction #21\", \"opacity\": 0.9, \"type\": \"scatter\", \"x\": [1763.9528579459902], \"y\": [2097.88817394072]}, {\"hoverinfo\": \"name\", \"marker\": {\"color\": \"white\", \"size\": 5}, \"mode\": \"markers\", \"name\": \"Junction #22\", \"opacity\": 0.9, \"type\": \"scatter\", \"x\": [1372.9808393504632], \"y\": [2401.909086516468]}, {\"hoverinfo\": \"name\", \"marker\": {\"color\": \"white\", \"size\": 5}, \"mode\": \"markers\", \"name\": \"Junction #23\", \"opacity\": 0.9, \"type\": \"scatter\", \"x\": [1529.8498441145794], \"y\": [2279.927318730231]}, {\"hoverinfo\": \"name\", \"marker\": {\"color\": \"white\", \"size\": 5}, \"mode\": \"markers\", \"name\": \"Junction #24\", \"opacity\": 0.9, \"type\": \"scatter\", \"x\": [746.9974953850921], \"y\": [2117.8866158777737]}, {\"hoverinfo\": \"name\", \"marker\": {\"color\": \"white\", \"size\": 5}, \"mode\": \"markers\", \"name\": \"Junction #25\", \"opacity\": 0.9, \"type\": \"scatter\", \"x\": [281.0584629843572], \"y\": [1980.6021949188876]}, {\"hoverinfo\": \"name\", \"marker\": {\"color\": \"white\", \"size\": 5}, \"mode\": \"markers\", \"name\": \"Junction #26\", \"opacity\": 0.9, \"type\": \"scatter\", \"x\": [780.1510914101937], \"y\": [2127.6550016890237]}, {\"hoverinfo\": \"name\", \"marker\": {\"color\": \"red\", \"size\": 5}, \"mode\": \"markers\", \"name\": \"Junction #27\", \"opacity\": 0.9, \"type\": \"scatter\", \"x\": [1111.2749121260074], \"y\": [1303.411156734961]}, {\"hoverinfo\": \"name\", \"marker\": {\"color\": \"white\", \"size\": 5}, \"mode\": \"markers\", \"name\": \"Junction #28\", \"opacity\": 0.9, \"type\": \"scatter\", \"x\": [1111.516289945037], \"y\": [1317.1798434373486]}, {\"hoverinfo\": \"name\", \"marker\": {\"color\": \"red\", \"size\": 5}, \"mode\": \"markers\", \"name\": \"Junction #29\", \"opacity\": 0.9, \"type\": \"scatter\", \"x\": [1096.2214707795702], \"y\": [444.7319353998464]}, {\"hoverinfo\": \"name\", \"marker\": {\"color\": \"white\", \"size\": 5}, \"mode\": \"markers\", \"name\": \"Junction #30\", \"opacity\": 0.9, \"type\": \"scatter\", \"x\": [1099.0271154334837], \"y\": [604.7716705887506]}, {\"hoverinfo\": \"name\", \"marker\": {\"color\": \"white\", \"size\": 5}, \"mode\": \"markers\", \"name\": \"Junction #31\", \"opacity\": 0.9, \"type\": \"scatter\", \"x\": [1105.3554206212086], \"y\": [965.7511998478658]}, {\"hoverinfo\": \"name\", \"marker\": {\"color\": \"red\", \"size\": 5}, \"mode\": \"markers\", \"name\": \"Junction #32\", \"opacity\": 0.9, \"type\": \"scatter\", \"x\": [1102.516277893713], \"y\": [803.8006657208534]}, {\"hoverinfo\": \"name\", \"marker\": {\"color\": \"white\", \"size\": 5}, \"mode\": \"markers\", \"name\": \"Junction #33\", \"opacity\": 0.9, \"type\": \"scatter\", \"x\": [1111.0996942709492], \"y\": [1293.416370301551]}, {\"hoverinfo\": \"name\", \"marker\": {\"color\": \"white\", \"size\": 5}, \"mode\": \"markers\", \"name\": \"Junction #34\", \"opacity\": 0.9, \"type\": \"scatter\", \"x\": [1098.3345672391274], \"y\": [565.2672987590049]}, {\"hoverinfo\": \"name\", \"marker\": {\"color\": \"white\", \"size\": 5}, \"mode\": \"markers\", \"name\": \"Junction #35\", \"opacity\": 0.9, \"type\": \"scatter\", \"x\": [1090.5213616232033], \"y\": [2918.5130082082705]}, {\"hoverinfo\": \"name\", \"marker\": {\"color\": \"white\", \"size\": 5}, \"mode\": \"markers\", \"name\": \"Junction #36\", \"opacity\": 0.9, \"type\": \"scatter\", \"x\": [374.96239788368666], \"y\": [2787.6922341526533]}, {\"hoverinfo\": \"name\", \"marker\": {\"color\": \"white\", \"size\": 5}, \"mode\": \"markers\", \"name\": \"Junction #37\", \"opacity\": 0.9, \"type\": \"scatter\", \"x\": [682.4767591777423], \"y\": [2529.1935616153005]}, {\"hoverinfo\": \"name\", \"marker\": {\"color\": \"white\", \"size\": 5}, \"mode\": \"markers\", \"name\": \"Junction #38\", \"opacity\": 0.9, \"type\": \"scatter\", \"x\": [778.4889784173351], \"y\": [1917.1346334281125]}, {\"hoverinfo\": \"name\", \"marker\": {\"color\": \"white\", \"size\": 5}, \"mode\": \"markers\", \"name\": \"Junction #39\", \"opacity\": 0.9, \"type\": \"scatter\", \"x\": [722.6081511738088], \"y\": [2273.363866537871]}, {\"hoverinfo\": \"name\", \"marker\": {\"color\": \"white\", \"size\": 5}, \"mode\": \"markers\", \"name\": \"Junction #40\", \"opacity\": 0.9, \"type\": \"scatter\", \"x\": [748.7684553465607], \"y\": [2106.5970960180766]}, {\"hoverinfo\": \"name\", \"marker\": {\"color\": \"white\", \"size\": 5}, \"mode\": \"markers\", \"name\": \"Junction #41\", \"opacity\": 0.9, \"type\": \"scatter\", \"x\": [727.3400224065674], \"y\": [2243.1991223211508]}, {\"hoverinfo\": \"name\", \"marker\": {\"color\": \"white\", \"size\": 5}, \"mode\": \"markers\", \"name\": \"Junction #42\", \"opacity\": 0.9, \"type\": \"scatter\", \"x\": [2850.179067893859], \"y\": [1292.451640699639]}, {\"hoverinfo\": \"name\", \"marker\": {\"color\": \"white\", \"size\": 5}, \"mode\": \"markers\", \"name\": \"Junction #43\", \"opacity\": 0.9, \"type\": \"scatter\", \"x\": [2887.414513739503], \"y\": [1492.877602221397]}, {\"hoverinfo\": \"name\", \"marker\": {\"color\": \"white\", \"size\": 5}, \"mode\": \"markers\", \"name\": \"Junction #44\", \"opacity\": 0.9, \"type\": \"scatter\", \"x\": [2873.858163342147], \"y\": [1419.908298338767]}, {\"hoverinfo\": \"name\", \"marker\": {\"color\": \"white\", \"size\": 5}, \"mode\": \"markers\", \"name\": \"Junction #45\", \"opacity\": 0.9, \"type\": \"scatter\", \"x\": [2948.232594728076], \"y\": [1820.241007793964]}, {\"hoverinfo\": \"name\", \"marker\": {\"color\": \"white\", \"size\": 5}, \"mode\": \"markers\", \"name\": \"Junction #46\", \"opacity\": 0.9, \"type\": \"scatter\", \"x\": [2979.879103579897], \"y\": [1990.5835892075575]}, {\"hoverinfo\": \"name\", \"marker\": {\"color\": \"white\", \"size\": 5}, \"mode\": \"markers\", \"name\": \"Junction #47\", \"opacity\": 0.9, \"type\": \"scatter\", \"x\": [2969.0181268403217], \"y\": [1932.1225809758125]}, {\"hoverinfo\": \"name\", \"marker\": {\"color\": \"white\", \"size\": 5}, \"mode\": \"markers\", \"name\": \"Junction #48\", \"opacity\": 0.9, \"type\": \"scatter\", \"x\": [2975.165042503844], \"y\": [1965.2093737957985]}, {\"hoverinfo\": \"name\", \"marker\": {\"color\": \"white\", \"size\": 5}, \"mode\": \"markers\", \"name\": \"Junction #49\", \"opacity\": 0.9, \"type\": \"scatter\", \"x\": [2926.465474558378], \"y\": [1703.0758741292157]}, {\"hoverinfo\": \"name\", \"marker\": {\"color\": \"white\", \"size\": 5}, \"mode\": \"markers\", \"name\": \"Junction #50\", \"opacity\": 0.9, \"type\": \"scatter\", \"x\": [2974.6164719649005], \"y\": [1962.2566019077967]}, {\"hoverinfo\": \"name\", \"marker\": {\"color\": \"white\", \"size\": 5}, \"mode\": \"markers\", \"name\": \"Junction #51\", \"opacity\": 0.9, \"type\": \"scatter\", \"x\": [948.7111715310303], \"y\": [1920.0604306686164]}, {\"hoverinfo\": \"name\", \"marker\": {\"color\": \"green\", \"size\": 5}, \"mode\": \"markers\", \"name\": \"Junction #52\", \"opacity\": 0.9, \"type\": \"scatter\", \"x\": [1537.1482199298375], \"y\": [1703.4032720021617]}, {\"hoverinfo\": \"name\", \"marker\": {\"color\": \"white\", \"size\": 5}, \"mode\": \"markers\", \"name\": \"Junction #53\", \"opacity\": 0.9, \"type\": \"scatter\", \"x\": [1199.3511638500854], \"y\": [1827.777069633155]}, {\"hoverinfo\": \"name\", \"marker\": {\"color\": \"white\", \"size\": 5}, \"mode\": \"markers\", \"name\": \"Junction #54\", \"opacity\": 0.9, \"type\": \"scatter\", \"x\": [1122.335167962902], \"y\": [1856.1336574554018]}, {\"hoverinfo\": \"name\", \"marker\": {\"color\": \"white\", \"size\": 5}, \"mode\": \"markers\", \"name\": \"Junction #55\", \"opacity\": 0.9, \"type\": \"scatter\", \"x\": [2642.5158754525028], \"y\": [1192.3381678182277]}, {\"hoverinfo\": \"name\", \"marker\": {\"color\": \"white\", \"size\": 5}, \"mode\": \"markers\", \"name\": \"Junction #56\", \"opacity\": 0.9, \"type\": \"scatter\", \"x\": [2779.6811653841637], \"y\": [1463.4641220311587]}, {\"hoverinfo\": \"name\", \"marker\": {\"color\": \"white\", \"size\": 5}, \"mode\": \"markers\", \"name\": \"Junction #57\", \"opacity\": 0.9, \"type\": \"scatter\", \"x\": [2760.06364133957], \"y\": [1424.6874028733055]}, {\"hoverinfo\": \"name\", \"marker\": {\"color\": \"white\", \"size\": 5}, \"mode\": \"markers\", \"name\": \"Junction #58\", \"opacity\": 0.9, \"type\": \"scatter\", \"x\": [2809.2975091669946], \"y\": [1522.0048758357025]}, {\"hoverinfo\": \"name\", \"marker\": {\"color\": \"red\", \"size\": 5}, \"mode\": \"markers\", \"name\": \"Junction #59\", \"opacity\": 0.9, \"type\": \"scatter\", \"x\": [2079.970086072904], \"y\": [815.0737596458599]}, {\"hoverinfo\": \"name\", \"marker\": {\"color\": \"white\", \"size\": 5}, \"mode\": \"markers\", \"name\": \"Junction #60\", \"opacity\": 0.9, \"type\": \"scatter\", \"x\": [1501.010685568269], \"y\": [591.996187846994]}, {\"hoverinfo\": \"name\", \"marker\": {\"color\": \"white\", \"size\": 5}, \"mode\": \"markers\", \"name\": \"Junction #61\", \"opacity\": 0.9, \"type\": \"scatter\", \"x\": [1758.604636045793], \"y\": [691.2491457098715]}, {\"hoverinfo\": \"name\", \"marker\": {\"color\": \"white\", \"size\": 5}, \"mode\": \"markers\", \"name\": \"Junction #62\", \"opacity\": 0.9, \"type\": \"scatter\", \"x\": [2279.1790711088033], \"y\": [891.8305350321665]}, {\"hoverinfo\": \"name\", \"marker\": {\"color\": \"white\", \"size\": 5}, \"mode\": \"markers\", \"name\": \"Junction #63\", \"opacity\": 0.9, \"type\": \"scatter\", \"x\": [2234.38475125053], \"y\": [874.5709342801008]}, {\"hoverinfo\": \"name\", \"marker\": {\"color\": \"red\", \"size\": 5}, \"mode\": \"markers\", \"name\": \"Junction #64\", \"opacity\": 0.9, \"type\": \"scatter\", \"x\": [1459.1221547201815], \"y\": [575.8562102601918]}, {\"hoverinfo\": \"name\", \"marker\": {\"color\": \"red\", \"size\": 5}, \"mode\": \"markers\", \"name\": \"Junction #65\", \"opacity\": 0.9, \"type\": \"scatter\", \"x\": [2252.848838528768], \"y\": [1004.481476051051]}, {\"hoverinfo\": \"name\", \"marker\": {\"color\": \"red\", \"size\": 5}, \"mode\": \"markers\", \"name\": \"Junction #66\", \"opacity\": 0.9, \"type\": \"scatter\", \"x\": [2134.9440221463356], \"y\": [947.6401047000659]}, {\"hoverinfo\": \"name\", \"marker\": {\"color\": \"white\", \"size\": 5}, \"mode\": \"markers\", \"name\": \"Junction #67\", \"opacity\": 0.9, \"type\": \"scatter\", \"x\": [2371.6623218272193], \"y\": [1061.7609115557539]}, {\"hoverinfo\": \"name\", \"marker\": {\"color\": \"white\", \"size\": 5}, \"mode\": \"markers\", \"name\": \"Junction #68\", \"opacity\": 0.9, \"type\": \"scatter\", \"x\": [2456.5584450255533], \"y\": [1102.6889432768949]}, {\"hoverinfo\": \"name\", \"marker\": {\"color\": \"white\", \"size\": 5}, \"mode\": \"markers\", \"name\": \"Junction #69\", \"opacity\": 0.9, \"type\": \"scatter\", \"x\": [2174.098904187272], \"y\": [966.5164937957747]}, {\"hoverinfo\": \"name\", \"marker\": {\"color\": \"red\", \"size\": 5}, \"mode\": \"markers\", \"name\": \"Junction #70\", \"opacity\": 0.9, \"type\": \"scatter\", \"x\": [1674.8302430533063], \"y\": [2118.275109431479]}, {\"hoverinfo\": \"name\", \"marker\": {\"color\": \"white\", \"size\": 5}, \"mode\": \"markers\", \"name\": \"Junction #71\", \"opacity\": 0.9, \"type\": \"scatter\", \"x\": [1786.6318753195633], \"y\": [2014.2804448497902]}, {\"hoverinfo\": \"name\", \"marker\": {\"color\": \"red\", \"size\": 5}, \"mode\": \"markers\", \"name\": \"Junction #72\", \"opacity\": 0.9, \"type\": \"scatter\", \"x\": [1294.038888022346], \"y\": [2472.4762819845128]}, {\"hoverinfo\": \"name\", \"marker\": {\"color\": \"white\", \"size\": 5}, \"mode\": \"markers\", \"name\": \"Junction #73\", \"opacity\": 0.9, \"type\": \"scatter\", \"x\": [1372.008894080975], \"y\": [2399.9508236066877]}, {\"hoverinfo\": \"name\", \"marker\": {\"color\": \"white\", \"size\": 5}, \"mode\": \"markers\", \"name\": \"Junction #74\", \"opacity\": 0.9, \"type\": \"scatter\", \"x\": [1498.3091300283652], \"y\": [2282.469974645048]}, {\"hoverinfo\": \"name\", \"marker\": {\"color\": \"white\", \"size\": 5}, \"mode\": \"markers\", \"name\": \"Junction #75\", \"opacity\": 0.9, \"type\": \"scatter\", \"x\": [1596.6566637712488], \"y\": [387.3819820819317]}, {\"hoverinfo\": \"name\", \"marker\": {\"color\": \"white\", \"size\": 5}, \"mode\": \"markers\", \"name\": \"Junction #76\", \"opacity\": 0.9, \"type\": \"scatter\", \"x\": [1568.4065266382959], \"y\": [459.91743955346374]}, {\"hoverinfo\": \"name\", \"marker\": {\"color\": \"white\", \"size\": 5}, \"mode\": \"markers\", \"name\": \"Junction #77\", \"opacity\": 0.9, \"type\": \"scatter\", \"x\": [1900.410395268577], \"y\": [487.2633568051384]}, {\"hoverinfo\": \"name\", \"marker\": {\"color\": \"white\", \"size\": 5}, \"mode\": \"markers\", \"name\": \"Junction #78\", \"opacity\": 0.9, \"type\": \"scatter\", \"x\": [1447.4410930564527], \"y\": [338.3163911519552]}, {\"hoverinfo\": \"name\", \"marker\": {\"color\": \"white\", \"size\": 5}, \"mode\": \"markers\", \"name\": \"Junction #79\", \"opacity\": 0.9, \"type\": \"scatter\", \"x\": [1006.8779742804929], \"y\": [193.4488705497485]}, {\"hoverinfo\": \"name\", \"marker\": {\"color\": \"white\", \"size\": 5}, \"mode\": \"markers\", \"name\": \"Junction #80\", \"opacity\": 0.9, \"type\": \"scatter\", \"x\": [1521.03200889628], \"y\": [362.5148159910142]}, {\"hoverinfo\": \"name\", \"marker\": {\"color\": \"white\", \"size\": 5}, \"mode\": \"markers\", \"name\": \"Junction #81\", \"opacity\": 0.9, \"type\": \"scatter\", \"x\": [1879.7437305694077], \"y\": [480.4676711326654]}, {\"hoverinfo\": \"name\", \"marker\": {\"color\": \"white\", \"size\": 5}, \"mode\": \"markers\", \"name\": \"Junction #82\", \"opacity\": 0.9, \"type\": \"scatter\", \"x\": [1476.2037447471976], \"y\": [347.77422785866787]}, {\"hoverinfo\": \"name\", \"marker\": {\"color\": \"white\", \"size\": 5}, \"mode\": \"markers\", \"name\": \"Junction #83\", \"opacity\": 0.9, \"type\": \"scatter\", \"x\": [855.555325682301], \"y\": [211.0108764071033]}, {\"hoverinfo\": \"name\", \"marker\": {\"color\": \"white\", \"size\": 5}, \"mode\": \"markers\", \"name\": \"Junction #84\", \"opacity\": 0.9, \"type\": \"scatter\", \"x\": [328.0765965051599], \"y\": [68.2987146081262]}, {\"hoverinfo\": \"name\", \"marker\": {\"color\": \"white\", \"size\": 5}, \"mode\": \"markers\", \"name\": \"Junction #85\", \"opacity\": 0.9, \"type\": \"scatter\", \"x\": [734.9274806952419], \"y\": [178.3743745369514]}, {\"hoverinfo\": \"name\", \"marker\": {\"color\": \"white\", \"size\": 5}, \"mode\": \"markers\", \"name\": \"Junction #86\", \"opacity\": 0.9, \"type\": \"scatter\", \"x\": [864.3740340594428], \"y\": [213.39682463053202]}, {\"hoverinfo\": \"name\", \"marker\": {\"color\": \"white\", \"size\": 5}, \"mode\": \"markers\", \"name\": \"Junction #87\", \"opacity\": 0.9, \"type\": \"scatter\", \"x\": [2046.2965022754095], \"y\": [287.74860534197114]}, {\"hoverinfo\": \"name\", \"marker\": {\"color\": \"white\", \"size\": 5}, \"mode\": \"markers\", \"name\": \"Junction #88\", \"opacity\": 0.9, \"type\": \"scatter\", \"x\": [2200.797704951459], \"y\": [76.45179521303407]}, {\"hoverinfo\": \"name\", \"marker\": {\"color\": \"white\", \"size\": 5}, \"mode\": \"markers\", \"name\": \"Junction #89\", \"opacity\": 0.9, \"type\": \"scatter\", \"x\": [1142.8891926309982], \"y\": [2636.3123685188543]}, {\"hoverinfo\": \"name\", \"marker\": {\"color\": \"white\", \"size\": 5}, \"mode\": \"markers\", \"name\": \"Junction #90\", \"opacity\": 0.9, \"type\": \"scatter\", \"x\": [357.69067309790137], \"y\": [2453.629359799973]}, {\"hoverinfo\": \"name\", \"marker\": {\"color\": \"white\", \"size\": 5}, \"mode\": \"markers\", \"name\": \"Junction #91\", \"opacity\": 0.9, \"type\": \"scatter\", \"x\": [-202.45989240196533], \"y\": [2283.5034781927498]}, {\"hoverinfo\": \"name\", \"marker\": {\"color\": \"red\", \"size\": 5}, \"mode\": \"markers\", \"name\": \"Junction #92\", \"opacity\": 0.9, \"type\": \"scatter\", \"x\": [1666.9567688564262], \"y\": [1778.5067498875728]}, {\"hoverinfo\": \"name\", \"marker\": {\"color\": \"white\", \"size\": 5}, \"mode\": \"markers\", \"name\": \"Junction #93\", \"opacity\": 0.9, \"type\": \"scatter\", \"x\": [2041.3288709495112], \"y\": [1283.9216823658203]}, {\"hoverinfo\": \"name\", \"marker\": {\"color\": \"white\", \"size\": 5}, \"mode\": \"markers\", \"name\": \"Junction #94\", \"opacity\": 0.9, \"type\": \"scatter\", \"x\": [2066.7656147022703], \"y\": [1250.3170586340984]}, {\"hoverinfo\": \"name\", \"marker\": {\"color\": \"white\", \"size\": 5}, \"mode\": \"markers\", \"name\": \"Junction #95\", \"opacity\": 0.9, \"type\": \"scatter\", \"x\": [2191.9040994432357], \"y\": [1084.9959100251372]}, {\"hoverinfo\": \"name\", \"marker\": {\"color\": \"white\", \"size\": 5}, \"mode\": \"markers\", \"name\": \"Junction #96\", \"opacity\": 0.9, \"type\": \"scatter\", \"x\": [1737.5014457669888], \"y\": [1685.3097846274968]}, {\"hoverinfo\": \"name\", \"marker\": {\"color\": \"white\", \"size\": 5}, \"mode\": \"markers\", \"name\": \"Junction #97\", \"opacity\": 0.9, \"type\": \"scatter\", \"x\": [2000.3451455392571], \"y\": [1338.0655100869453]}, {\"hoverinfo\": \"name\", \"marker\": {\"color\": \"white\", \"size\": 5}, \"mode\": \"markers\", \"name\": \"Junction #98\", \"opacity\": 0.9, \"type\": \"scatter\", \"x\": [820.5883392283931], \"y\": [369.0787800545803]}, {\"hoverinfo\": \"name\", \"marker\": {\"color\": \"white\", \"size\": 5}, \"mode\": \"markers\", \"name\": \"Junction #99\", \"opacity\": 0.9, \"type\": \"scatter\", \"x\": [412.4367212610993], \"y\": [262.43775532072686]}, {\"hoverinfo\": \"name\", \"marker\": {\"color\": \"white\", \"size\": 5}, \"mode\": \"markers\", \"name\": \"Junction #100\", \"opacity\": 0.9, \"type\": \"scatter\", \"x\": [224.059319521782], \"y\": [213.2188908746441]}, {\"hoverinfo\": \"name\", \"marker\": {\"color\": \"white\", \"size\": 5}, \"mode\": \"markers\", \"name\": \"Junction #101\", \"opacity\": 0.9, \"type\": \"scatter\", \"x\": [544.6828793830125], \"y\": [296.9907625817838]}, {\"hoverinfo\": \"name\", \"marker\": {\"color\": \"white\", \"size\": 5}, \"mode\": \"markers\", \"name\": \"Junction #102\", \"opacity\": 0.9, \"type\": \"scatter\", \"x\": [747.2418209361554], \"y\": [349.9149509111385]}, {\"hoverinfo\": \"name\", \"marker\": {\"color\": \"white\", \"size\": 5}, \"mode\": \"markers\", \"name\": \"Junction #103\", \"opacity\": 0.9, \"type\": \"scatter\", \"x\": [2653.9724455882883], \"y\": [1429.1429856708523]}, {\"hoverinfo\": \"name\", \"marker\": {\"color\": \"white\", \"size\": 5}, \"mode\": \"markers\", \"name\": \"Junction #104\", \"opacity\": 0.9, \"type\": \"scatter\", \"x\": [3061.4778076463795], \"y\": [1540.4005589041376]}, {\"hoverinfo\": \"name\", \"marker\": {\"color\": \"white\", \"size\": 5}, \"mode\": \"markers\", \"name\": \"Junction #105\", \"opacity\": 0.9, \"type\": \"scatter\", \"x\": [3154.5234709496913], \"y\": [1565.8039907675252]}, {\"hoverinfo\": \"name\", \"marker\": {\"color\": \"white\", \"size\": 5}, \"mode\": \"markers\", \"name\": \"Junction #106\", \"opacity\": 0.9, \"type\": \"scatter\", \"x\": [2754.199020369769], \"y\": [1456.5069580793488]}, {\"hoverinfo\": \"name\", \"marker\": {\"color\": \"white\", \"size\": 5}, \"mode\": \"markers\", \"name\": \"Junction #107\", \"opacity\": 0.9, \"type\": \"scatter\", \"x\": [3203.399238131739], \"y\": [1579.1481078096328]}, {\"hoverinfo\": \"name\", \"marker\": {\"color\": \"white\", \"size\": 5}, \"mode\": \"markers\", \"name\": \"Junction #108\", \"opacity\": 0.9, \"type\": \"scatter\", \"x\": [2460.229527089544], \"y\": [1376.2470757018646]}, {\"hoverinfo\": \"name\", \"marker\": {\"color\": \"white\", \"size\": 5}, \"mode\": \"markers\", \"name\": \"Junction #109\", \"opacity\": 0.9, \"type\": \"scatter\", \"x\": [3009.7877653209525], \"y\": [1414.1995720682655]}, {\"hoverinfo\": \"name\", \"marker\": {\"color\": \"white\", \"size\": 5}, \"mode\": \"markers\", \"name\": \"Junction #110\", \"opacity\": 0.9, \"type\": \"scatter\", \"x\": [2728.5451459830706], \"y\": [1426.0111061714022]}, {\"hoverinfo\": \"name\", \"marker\": {\"color\": \"red\", \"size\": 5}, \"mode\": \"markers\", \"name\": \"Junction #111\", \"opacity\": 0.9, \"type\": \"scatter\", \"x\": [2676.029093486365], \"y\": [355.1439344446344]}, {\"hoverinfo\": \"name\", \"marker\": {\"color\": \"white\", \"size\": 5}, \"mode\": \"markers\", \"name\": \"Junction #112\", \"opacity\": 0.9, \"type\": \"scatter\", \"x\": [2557.392196012601], \"y\": [70.57475896510732]}, {\"hoverinfo\": \"name\", \"marker\": {\"color\": \"white\", \"size\": 5}, \"mode\": \"markers\", \"name\": \"Junction #113\", \"opacity\": 0.9, \"type\": \"scatter\", \"x\": [2657.669203272948], \"y\": [311.10486286420837]}, {\"hoverinfo\": \"name\", \"marker\": {\"color\": \"white\", \"size\": 5}, \"mode\": \"markers\", \"name\": \"Junction #114\", \"opacity\": 0.9, \"type\": \"scatter\", \"x\": [2546.1761284508702], \"y\": [43.67126463805653]}, {\"hoverinfo\": \"name\", \"marker\": {\"color\": \"white\", \"size\": 5}, \"mode\": \"markers\", \"name\": \"Junction #115\", \"opacity\": 0.9, \"type\": \"scatter\", \"x\": [2648.7955132220154], \"y\": [289.8199277805588]}, {\"hoverinfo\": \"name\", \"marker\": {\"color\": \"white\", \"size\": 5}, \"mode\": \"markers\", \"name\": \"Junction #116\", \"opacity\": 0.9, \"type\": \"scatter\", \"x\": [2672.933252135518], \"y\": [347.718074198915]}, {\"hoverinfo\": \"name\", \"marker\": {\"color\": \"white\", \"size\": 5}, \"mode\": \"markers\", \"name\": \"Junction #117\", \"opacity\": 0.9, \"type\": \"scatter\", \"x\": [1115.6877915784667], \"y\": [1313.6654258426297]}, {\"hoverinfo\": \"name\", \"marker\": {\"color\": \"red\", \"size\": 5}, \"mode\": \"markers\", \"name\": \"Junction #118\", \"opacity\": 0.9, \"type\": \"scatter\", \"x\": [1284.8448497604852], \"y\": [1706.738024980903]}, {\"hoverinfo\": \"name\", \"marker\": {\"color\": \"red\", \"size\": 5}, \"mode\": \"markers\", \"name\": \"Junction #119\", \"opacity\": 0.9, \"type\": \"scatter\", \"x\": [1107.4277986890315], \"y\": [1294.4715659540266]}, {\"hoverinfo\": \"name\", \"marker\": {\"color\": \"white\", \"size\": 5}, \"mode\": \"markers\", \"name\": \"Junction #120\", \"opacity\": 0.9, \"type\": \"scatter\", \"x\": [158.4562846945684], \"y\": [1120.7729282323778]}, {\"hoverinfo\": \"name\", \"marker\": {\"color\": \"white\", \"size\": 5}, \"mode\": \"markers\", \"name\": \"Junction #121\", \"opacity\": 0.9, \"type\": \"scatter\", \"x\": [375.8443454171394], \"y\": [975.8146127700271]}, {\"hoverinfo\": \"name\", \"marker\": {\"color\": \"white\", \"size\": 5}, \"mode\": \"markers\", \"name\": \"Junction #122\", \"opacity\": 0.9, \"type\": \"scatter\", \"x\": [2576.832662496009], \"y\": [1882.360429902982]}, {\"hoverinfo\": \"name\", \"marker\": {\"color\": \"white\", \"size\": 5}, \"mode\": \"markers\", \"name\": \"Junction #123\", \"opacity\": 0.9, \"type\": \"scatter\", \"x\": [2532.467967060618], \"y\": [1889.780757704138]}, {\"hoverinfo\": \"name\", \"marker\": {\"color\": \"white\", \"size\": 5}, \"mode\": \"markers\", \"name\": \"Junction #124\", \"opacity\": 0.9, \"type\": \"scatter\", \"x\": [3032.8418448242596], \"y\": [1806.0894766144474]}, {\"hoverinfo\": \"name\", \"marker\": {\"color\": \"white\", \"size\": 5}, \"mode\": \"markers\", \"name\": \"Junction #125\", \"opacity\": 0.9, \"type\": \"scatter\", \"x\": [2495.38885400275], \"y\": [1895.9825172511228]}, {\"hoverinfo\": \"name\", \"marker\": {\"color\": \"white\", \"size\": 5}, \"mode\": \"markers\", \"name\": \"Junction #126\", \"opacity\": 0.9, \"type\": \"scatter\", \"x\": [2502.692019884982], \"y\": [1894.7610080240102]}, {\"hoverinfo\": \"name\", \"marker\": {\"color\": \"red\", \"size\": 5}, \"mode\": \"markers\", \"name\": \"Junction #127\", \"opacity\": 0.9, \"type\": \"scatter\", \"x\": [1669.501950038022], \"y\": [1888.3403523340494]}, {\"hoverinfo\": \"name\", \"marker\": {\"color\": \"white\", \"size\": 5}, \"mode\": \"markers\", \"name\": \"Junction #128\", \"opacity\": 0.9, \"type\": \"scatter\", \"x\": [1485.4005741064434], \"y\": [1896.4421625127914]}, {\"hoverinfo\": \"name\", \"marker\": {\"color\": \"white\", \"size\": 5}, \"mode\": \"markers\", \"name\": \"Junction #129\", \"opacity\": 0.9, \"type\": \"scatter\", \"x\": [1140.1181718780206], \"y\": [1911.6371194584383]}, {\"hoverinfo\": \"name\", \"marker\": {\"color\": \"red\", \"size\": 5}, \"mode\": \"markers\", \"name\": \"Junction #130\", \"opacity\": 0.9, \"type\": \"scatter\", \"x\": [1130.3777787209856], \"y\": [1912.0657681636708]}, {\"hoverinfo\": \"name\", \"marker\": {\"color\": \"white\", \"size\": 5}, \"mode\": \"markers\", \"name\": \"Junction #131\", \"opacity\": 0.9, \"type\": \"scatter\", \"x\": [2952.309075114216], \"y\": [84.66683902143586]}, {\"hoverinfo\": \"name\", \"marker\": {\"color\": \"red\", \"size\": 5}, \"mode\": \"markers\", \"name\": \"Junction #132\", \"opacity\": 0.9, \"type\": \"scatter\", \"x\": [2718.633986800233], \"y\": [313.4338991157906]}, {\"hoverinfo\": \"name\", \"marker\": {\"color\": \"white\", \"size\": 5}, \"mode\": \"markers\", \"name\": \"Junction #133\", \"opacity\": 0.9, \"type\": \"scatter\", \"x\": [2731.2624105196974], \"y\": [301.0707183044674]}, {\"hoverinfo\": \"name\", \"marker\": {\"color\": \"white\", \"size\": 5}, \"mode\": \"markers\", \"name\": \"Junction #134\", \"opacity\": 0.9, \"type\": \"scatter\", \"x\": [2665.1523940625398], \"y\": [365.7921835527095]}, {\"hoverinfo\": \"name\", \"marker\": {\"color\": \"white\", \"size\": 5}, \"mode\": \"markers\", \"name\": \"Junction #135\", \"opacity\": 0.9, \"type\": \"scatter\", \"x\": [2527.449570332351], \"y\": [1869.1004337700108]}, {\"hoverinfo\": \"name\", \"marker\": {\"color\": \"white\", \"size\": 5}, \"mode\": \"markers\", \"name\": \"Junction #136\", \"opacity\": 0.9, \"type\": \"scatter\", \"x\": [2944.2569736580267], \"y\": [1981.0185886311106]}, {\"hoverinfo\": \"name\", \"marker\": {\"color\": \"white\", \"size\": 5}, \"mode\": \"markers\", \"name\": \"Junction #137\", \"opacity\": 0.9, \"type\": \"scatter\", \"x\": [2936.55965683192], \"y\": [1978.9517599479213]}, {\"hoverinfo\": \"name\", \"marker\": {\"color\": \"white\", \"size\": 5}, \"mode\": \"markers\", \"name\": \"Junction #138\", \"opacity\": 0.9, \"type\": \"scatter\", \"x\": [2544.956140335707], \"y\": [1873.801173241261]}, {\"hoverinfo\": \"name\", \"marker\": {\"color\": \"white\", \"size\": 5}, \"mode\": \"markers\", \"name\": \"Junction #139\", \"opacity\": 0.9, \"type\": \"scatter\", \"x\": [2760.14741697802], \"y\": [1931.5828019547846]}, {\"hoverinfo\": \"name\", \"marker\": {\"color\": \"red\", \"size\": 5}, \"mode\": \"markers\", \"name\": \"Junction #140\", \"opacity\": 0.9, \"type\": \"scatter\", \"x\": [1033.2534832698063], \"y\": [1383.1148972767119]}, {\"hoverinfo\": \"name\", \"marker\": {\"color\": \"white\", \"size\": 5}, \"mode\": \"markers\", \"name\": \"Junction #141\", \"opacity\": 0.9, \"type\": \"scatter\", \"x\": [1154.5403996644409], \"y\": [1280.9327790749364]}, {\"hoverinfo\": \"name\", \"marker\": {\"color\": \"red\", \"size\": 5}, \"mode\": \"markers\", \"name\": \"Junction #142\", \"opacity\": 0.9, \"type\": \"scatter\", \"x\": [1215.9585748093925], \"y\": [1229.1890344159583]}, {\"hoverinfo\": \"name\", \"marker\": {\"color\": \"white\", \"size\": 5}, \"mode\": \"markers\", \"name\": \"Junction #143\", \"opacity\": 0.9, \"type\": \"scatter\", \"x\": [1194.5153309793056], \"y\": [2358.1085745824957]}, {\"hoverinfo\": \"name\", \"marker\": {\"color\": \"white\", \"size\": 5}, \"mode\": \"markers\", \"name\": \"Junction #144\", \"opacity\": 0.9, \"type\": \"scatter\", \"x\": [1224.8803197946274], \"y\": [2194.4772172599005]}, {\"hoverinfo\": \"name\", \"marker\": {\"color\": \"white\", \"size\": 5}, \"mode\": \"markers\", \"name\": \"Junction #145\", \"opacity\": 0.9, \"type\": \"scatter\", \"x\": [1186.6624755831624], \"y\": [2400.426172495807]}, {\"hoverinfo\": \"name\", \"marker\": {\"color\": \"white\", \"size\": 5}, \"mode\": \"markers\", \"name\": \"Junction #146\", \"opacity\": 0.9, \"type\": \"scatter\", \"x\": [2584.516749815867], \"y\": [2104.2687199038173]}, {\"hoverinfo\": \"name\", \"marker\": {\"color\": \"white\", \"size\": 5}, \"mode\": \"markers\", \"name\": \"Junction #147\", \"opacity\": 0.9, \"type\": \"scatter\", \"x\": [2530.193401338203], \"y\": [1880.4074939914371]}, {\"hoverinfo\": \"name\", \"marker\": {\"color\": \"white\", \"size\": 5}, \"mode\": \"markers\", \"name\": \"Junction #148\", \"opacity\": 0.9, \"type\": \"scatter\", \"x\": [2534.7905272044936], \"y\": [1899.3518017511942]}, {\"hoverinfo\": \"name\", \"marker\": {\"color\": \"white\", \"size\": 5}, \"mode\": \"markers\", \"name\": \"Junction #149\", \"opacity\": 0.9, \"type\": \"scatter\", \"x\": [959.0582682655763], \"y\": [486.290823117132]}, {\"hoverinfo\": \"name\", \"marker\": {\"color\": \"white\", \"size\": 5}, \"mode\": \"markers\", \"name\": \"Junction #150\", \"opacity\": 0.9, \"type\": \"scatter\", \"x\": [1464.242234780264], \"y\": [333.2258366181999]}, {\"hoverinfo\": \"name\", \"marker\": {\"color\": \"white\", \"size\": 5}, \"mode\": \"markers\", \"name\": \"Junction #151\", \"opacity\": 0.9, \"type\": \"scatter\", \"x\": [514.7199221269368], \"y\": [620.9202798314739]}, {\"hoverinfo\": \"name\", \"marker\": {\"color\": \"white\", \"size\": 5}, \"mode\": \"markers\", \"name\": \"Junction #152\", \"opacity\": 0.9, \"type\": \"scatter\", \"x\": [730.0084939742396], \"y\": [292.4047411758711]}, {\"hoverinfo\": \"name\", \"marker\": {\"color\": \"white\", \"size\": 5}, \"mode\": \"markers\", \"name\": \"Junction #153\", \"opacity\": 0.9, \"type\": \"scatter\", \"x\": [590.8901286498491], \"y\": [241.72704337602732]}, {\"hoverinfo\": \"name\", \"marker\": {\"color\": \"white\", \"size\": 5}, \"mode\": \"markers\", \"name\": \"Junction #154\", \"opacity\": 0.9, \"type\": \"scatter\", \"x\": [283.87127903143113], \"y\": [129.8869678867991]}, {\"hoverinfo\": \"name\", \"marker\": {\"color\": \"white\", \"size\": 5}, \"mode\": \"markers\", \"name\": \"Junction #155\", \"opacity\": 0.9, \"type\": \"scatter\", \"x\": [617.6713905016015], \"y\": [251.48285592929375]}, {\"hoverinfo\": \"name\", \"marker\": {\"color\": \"white\", \"size\": 5}, \"mode\": \"markers\", \"name\": \"Junction #156\", \"opacity\": 0.9, \"type\": \"scatter\", \"x\": [780.7318818583361], \"y\": [310.88213283139123]}, {\"hoverinfo\": \"name\", \"marker\": {\"color\": \"white\", \"size\": 5}, \"mode\": \"markers\", \"name\": \"Junction #157\", \"opacity\": 0.9, \"type\": \"scatter\", \"x\": [1681.4094239249366], \"y\": [2402.1901177237596]}, {\"hoverinfo\": \"name\", \"marker\": {\"color\": \"white\", \"size\": 5}, \"mode\": \"markers\", \"name\": \"Junction #158\", \"opacity\": 0.9, \"type\": \"scatter\", \"x\": [1678.2989028465943], \"y\": [2267.960091983172]}, {\"hoverinfo\": \"name\", \"marker\": {\"color\": \"white\", \"size\": 5}, \"mode\": \"markers\", \"name\": \"Junction #159\", \"opacity\": 0.9, \"type\": \"scatter\", \"x\": [1662.238974512513], \"y\": [1574.9171775064315]}, {\"hoverinfo\": \"name\", \"marker\": {\"color\": \"white\", \"size\": 5}, \"mode\": \"markers\", \"name\": \"Junction #160\", \"opacity\": 0.9, \"type\": \"scatter\", \"x\": [2343.2346275793457], \"y\": [62.932832882090906]}, {\"hoverinfo\": \"name\", \"marker\": {\"color\": \"white\", \"size\": 5}, \"mode\": \"markers\", \"name\": \"Junction #161\", \"opacity\": 0.9, \"type\": \"scatter\", \"x\": [2788.6896165077173], \"y\": [78.8282977195264]}, {\"hoverinfo\": \"name\", \"marker\": {\"color\": \"white\", \"size\": 5}, \"mode\": \"markers\", \"name\": \"Junction #162\", \"opacity\": 0.9, \"type\": \"scatter\", \"x\": [2134.8914009029922], \"y\": [2231.1518696749918]}, {\"hoverinfo\": \"name\", \"marker\": {\"color\": \"white\", \"size\": 5}, \"mode\": \"markers\", \"name\": \"Junction #163\", \"opacity\": 0.9, \"type\": \"scatter\", \"x\": [2095.917950693138], \"y\": [1836.5833542584078]}, {\"hoverinfo\": \"name\", \"marker\": {\"color\": \"white\", \"size\": 5}, \"mode\": \"markers\", \"name\": \"Junction #164\", \"opacity\": 0.9, \"type\": \"scatter\", \"x\": [2047.0600151363715], \"y\": [1341.94397808949]}, {\"hoverinfo\": \"name\", \"marker\": {\"color\": \"white\", \"size\": 5}, \"mode\": \"markers\", \"name\": \"Junction #165\", \"opacity\": 0.9, \"type\": \"scatter\", \"x\": [2095.8821175684197], \"y\": [2889.634371577165]}, {\"hoverinfo\": \"name\", \"marker\": {\"color\": \"white\", \"size\": 5}, \"mode\": \"markers\", \"name\": \"Junction #166\", \"opacity\": 0.9, \"type\": \"scatter\", \"x\": [1822.6398192169138], \"y\": [2840.792295694466]}, {\"hoverinfo\": \"name\", \"marker\": {\"color\": \"white\", \"size\": 5}, \"mode\": \"markers\", \"name\": \"Junction #167\", \"opacity\": 0.9, \"type\": \"scatter\", \"x\": [1568.2419419850376], \"y\": [2795.318661125001]}, {\"hoverinfo\": \"name\", \"marker\": {\"color\": \"white\", \"size\": 5}, \"mode\": \"markers\", \"name\": \"Junction #168\", \"opacity\": 0.9, \"type\": \"scatter\", \"x\": [2219.454074185461], \"y\": [2911.722865629791]}, {\"hoverinfo\": \"name\", \"marker\": {\"color\": \"white\", \"size\": 5}, \"mode\": \"markers\", \"name\": \"Junction #169\", \"opacity\": 0.9, \"type\": \"scatter\", \"x\": [1583.764418762459], \"y\": [2798.093304704067]}, {\"hoverinfo\": \"name\", \"marker\": {\"color\": \"white\", \"size\": 5}, \"mode\": \"markers\", \"name\": \"Junction #170\", \"opacity\": 0.9, \"type\": \"scatter\", \"x\": [136.46064773502044], \"y\": [1665.6916041746763]}, {\"hoverinfo\": \"name\", \"marker\": {\"color\": \"white\", \"size\": 5}, \"mode\": \"markers\", \"name\": \"Junction #171\", \"opacity\": 0.9, \"type\": \"scatter\", \"x\": [-31.48191967112779], \"y\": [1599.9188245773591]}, {\"hoverinfo\": \"name\", \"marker\": {\"color\": \"white\", \"size\": 5}, \"mode\": \"markers\", \"name\": \"Junction #172\", \"opacity\": 0.9, \"type\": \"scatter\", \"x\": [1696.9668098105576], \"y\": [1107.217633358087]}, {\"hoverinfo\": \"name\", \"marker\": {\"color\": \"white\", \"size\": 5}, \"mode\": \"markers\", \"name\": \"Junction #173\", \"opacity\": 0.9, \"type\": \"scatter\", \"x\": [2297.484811851355], \"y\": [1339.5974567193348]}, {\"hoverinfo\": \"name\", \"marker\": {\"color\": \"white\", \"size\": 5}, \"mode\": \"markers\", \"name\": \"Junction #174\", \"opacity\": 0.9, \"type\": \"scatter\", \"x\": [2003.955864137483], \"y\": [1226.011844315781]}, {\"hoverinfo\": \"name\", \"marker\": {\"color\": \"white\", \"size\": 5}, \"mode\": \"markers\", \"name\": \"Junction #175\", \"opacity\": 0.9, \"type\": \"scatter\", \"x\": [1723.4189203881488], \"y\": [1117.4536908329055]}, {\"hoverinfo\": \"name\", \"marker\": {\"color\": \"white\", \"size\": 5}, \"mode\": \"markers\", \"name\": \"Junction #176\", \"opacity\": 0.9, \"type\": \"scatter\", \"x\": [2947.2264812434555], \"y\": [1975.1546829979343]}, {\"hoverinfo\": \"name\", \"marker\": {\"color\": \"white\", \"size\": 5}, \"mode\": \"markers\", \"name\": \"Junction #177\", \"opacity\": 0.9, \"type\": \"scatter\", \"x\": [3131.464375116285], \"y\": [1611.338934883157]}, {\"hoverinfo\": \"name\", \"marker\": {\"color\": \"white\", \"size\": 5}, \"mode\": \"markers\", \"name\": \"Junction #178\", \"opacity\": 0.9, \"type\": \"scatter\", \"x\": [2955.166806810593], \"y\": [1959.47487128408]}, {\"hoverinfo\": \"name\", \"marker\": {\"color\": \"white\", \"size\": 5}, \"mode\": \"markers\", \"name\": \"Junction #179\", \"opacity\": 0.9, \"type\": \"scatter\", \"x\": [421.40477408698905], \"y\": [1373.5769349954242]}, {\"hoverinfo\": \"name\", \"marker\": {\"color\": \"white\", \"size\": 5}, \"mode\": \"markers\", \"name\": \"Junction #180\", \"opacity\": 0.9, \"type\": \"scatter\", \"x\": [533.5600802332725], \"y\": [1258.5992705281426]}, {\"hoverinfo\": \"name\", \"marker\": {\"color\": \"white\", \"size\": 5}, \"mode\": \"markers\", \"name\": \"Junction #181\", \"opacity\": 0.9, \"type\": \"scatter\", \"x\": [1597.1743422095487], \"y\": [1479.4824373022293]}, {\"hoverinfo\": \"name\", \"marker\": {\"color\": \"white\", \"size\": 5}, \"mode\": \"markers\", \"name\": \"Junction #182\", \"opacity\": 0.9, \"type\": \"scatter\", \"x\": [1691.7860012468416], \"y\": [1126.5440688156696]}, {\"hoverinfo\": \"name\", \"marker\": {\"color\": \"white\", \"size\": 5}, \"mode\": \"markers\", \"name\": \"Junction #183\", \"opacity\": 0.9, \"type\": \"scatter\", \"x\": [1643.036104333834], \"y\": [1308.4001873473508]}, {\"hoverinfo\": \"name\", \"marker\": {\"color\": \"white\", \"size\": 5}, \"mode\": \"markers\", \"name\": \"Junction #184\", \"opacity\": 0.9, \"type\": \"scatter\", \"x\": [2230.032268700224], \"y\": [2872.404032907555]}, {\"hoverinfo\": \"name\", \"marker\": {\"color\": \"white\", \"size\": 5}, \"mode\": \"markers\", \"name\": \"Junction #185\", \"opacity\": 0.9, \"type\": \"scatter\", \"x\": [3078.3837719015846], \"y\": [2771.109966527275]}, {\"hoverinfo\": \"name\", \"marker\": {\"color\": \"white\", \"size\": 5}, \"mode\": \"markers\", \"name\": \"Junction #186\", \"opacity\": 0.9, \"type\": \"scatter\", \"x\": [2154.9089282211094], \"y\": [995.7842765881396]}, {\"hoverinfo\": \"name\", \"marker\": {\"color\": \"white\", \"size\": 5}, \"mode\": \"markers\", \"name\": \"Junction #187\", \"opacity\": 0.9, \"type\": \"scatter\", \"x\": [2307.421979826803], \"y\": [1363.5603404563699]}, {\"hoverinfo\": \"name\", \"marker\": {\"color\": \"white\", \"size\": 5}, \"mode\": \"markers\", \"name\": \"Junction #188\", \"opacity\": 0.9, \"type\": \"scatter\", \"x\": [1996.282019730158], \"y\": [2764.741569605174]}, {\"hoverinfo\": \"name\", \"marker\": {\"color\": \"white\", \"size\": 5}, \"mode\": \"markers\", \"name\": \"Junction #189\", \"opacity\": 0.9, \"type\": \"scatter\", \"x\": [1818.331496410495], \"y\": [2541.6018342821717]}, {\"hoverinfo\": \"name\", \"marker\": {\"color\": \"white\", \"size\": 5}, \"mode\": \"markers\", \"name\": \"Junction #190\", \"opacity\": 0.9, \"type\": \"scatter\", \"x\": [2005.7022877421455], \"y\": [2776.5540446215614]}, {\"hoverinfo\": \"name\", \"marker\": {\"color\": \"white\", \"size\": 5}, \"mode\": \"markers\", \"name\": \"Junction #191\", \"opacity\": 0.9, \"type\": \"scatter\", \"x\": [2477.278742788498], \"y\": [2554.077630038441]}, {\"hoverinfo\": \"name\", \"marker\": {\"color\": \"white\", \"size\": 5}, \"mode\": \"markers\", \"name\": \"Junction #192\", \"opacity\": 0.9, \"type\": \"scatter\", \"x\": [2294.0881305045423], \"y\": [2634.310309857965]}, {\"hoverinfo\": \"name\", \"marker\": {\"color\": \"white\", \"size\": 5}, \"mode\": \"markers\", \"name\": \"Junction #193\", \"opacity\": 0.9, \"type\": \"scatter\", \"x\": [1948.5644593504285], \"y\": [2785.6406085678327]}, {\"hoverinfo\": \"name\", \"marker\": {\"color\": \"white\", \"size\": 5}, \"mode\": \"markers\", \"name\": \"Junction #194\", \"opacity\": 0.9, \"type\": \"scatter\", \"x\": [1381.5367302964669], \"y\": [843.9104451454489]}, {\"hoverinfo\": \"name\", \"marker\": {\"color\": \"white\", \"size\": 5}, \"mode\": \"markers\", \"name\": \"Junction #195\", \"opacity\": 0.9, \"type\": \"scatter\", \"x\": [768.5752543563735], \"y\": [325.0507373869322]}, {\"hoverinfo\": \"name\", \"marker\": {\"color\": \"white\", \"size\": 5}, \"mode\": \"markers\", \"name\": \"Junction #196\", \"opacity\": 0.9, \"type\": \"scatter\", \"x\": [1364.6692989121373], \"y\": [829.6324996917194]}, {\"hoverinfo\": \"name\", \"marker\": {\"color\": \"white\", \"size\": 5}, \"mode\": \"markers\", \"name\": \"Junction #197\", \"opacity\": 0.9, \"type\": \"scatter\", \"x\": [1122.6663400569432], \"y\": [624.7818044408907]}, {\"hoverinfo\": \"name\", \"marker\": {\"color\": \"white\", \"size\": 5}, \"mode\": \"markers\", \"name\": \"Junction #198\", \"opacity\": 0.9, \"type\": \"scatter\", \"x\": [1319.4897747819923], \"y\": [157.16817944141724]}, {\"hoverinfo\": \"name\", \"marker\": {\"color\": \"white\", \"size\": 5}, \"mode\": \"markers\", \"name\": \"Junction #199\", \"opacity\": 0.9, \"type\": \"scatter\", \"x\": [643.0222155353996], \"y\": [235.67676588140577]}, {\"hoverinfo\": \"name\", \"marker\": {\"color\": \"white\", \"size\": 5}, \"mode\": \"markers\", \"name\": \"Junction #200\", \"opacity\": 0.9, \"type\": \"scatter\", \"x\": [867.6228075320114], \"y\": [209.6103643959048]}, {\"hoverinfo\": \"name\", \"marker\": {\"color\": \"white\", \"size\": 5}, \"mode\": \"markers\", \"name\": \"Junction #201\", \"opacity\": 0.9, \"type\": \"scatter\", \"x\": [2862.039977833693], \"y\": [318.9124349603648]}, {\"hoverinfo\": \"name\", \"marker\": {\"color\": \"white\", \"size\": 5}, \"mode\": \"markers\", \"name\": \"Junction #202\", \"opacity\": 0.9, \"type\": \"scatter\", \"x\": [1913.5306549038842], \"y\": [282.6765546659958]}, {\"hoverinfo\": \"name\", \"marker\": {\"color\": \"white\", \"size\": 5}, \"mode\": \"markers\", \"name\": \"Junction #203\", \"opacity\": 0.9, \"type\": \"scatter\", \"x\": [2688.1931410571124], \"y\": [312.27096817168564]}, {\"hoverinfo\": \"name\", \"marker\": {\"color\": \"white\", \"size\": 5}, \"mode\": \"markers\", \"name\": \"Junction #204\", \"opacity\": 0.9, \"type\": \"scatter\", \"x\": [1944.6045723335114], \"y\": [100.76757826569565]}, {\"hoverinfo\": \"name\", \"marker\": {\"color\": \"white\", \"size\": 5}, \"mode\": \"markers\", \"name\": \"Junction #205\", \"opacity\": 0.9, \"type\": \"scatter\", \"x\": [2814.800442360471], \"y\": [18.17561425527873]}, {\"hoverinfo\": \"name\", \"marker\": {\"color\": \"white\", \"size\": 5}, \"mode\": \"markers\", \"name\": \"Junction #206\", \"opacity\": 0.9, \"type\": \"scatter\", \"x\": [2695.136559594911], \"y\": [296.14214217790857]}, {\"hoverinfo\": \"name\", \"marker\": {\"color\": \"green\", \"size\": 5}, \"mode\": \"markers\", \"name\": \"Junction #207\", \"opacity\": 0.9, \"type\": \"scatter\", \"x\": [2255.3548781773798], \"y\": [2221.440701685137]}, {\"hoverinfo\": \"name\", \"marker\": {\"color\": \"white\", \"size\": 5}, \"mode\": \"markers\", \"name\": \"Junction #208\", \"opacity\": 0.9, \"type\": \"scatter\", \"x\": [2980.925275137711], \"y\": [1963.158899754343]}, {\"hoverinfo\": \"name\", \"marker\": {\"color\": \"white\", \"size\": 5}, \"mode\": \"markers\", \"name\": \"Junction #209\", \"opacity\": 0.9, \"type\": \"scatter\", \"x\": [1517.8941170270414], \"y\": [398.48085675123]}, {\"hoverinfo\": \"name\", \"marker\": {\"color\": \"white\", \"size\": 5}, \"mode\": \"markers\", \"name\": \"Junction #210\", \"opacity\": 0.9, \"type\": \"scatter\", \"x\": [1968.6074933823024], \"y\": [946.6687155295309]}, {\"hoverinfo\": \"name\", \"marker\": {\"color\": \"white\", \"size\": 5}, \"mode\": \"markers\", \"name\": \"Junction #211\", \"opacity\": 0.9, \"type\": \"scatter\", \"x\": [1315.7382543544215], \"y\": [961.1006148655159]}, {\"hoverinfo\": \"name\", \"marker\": {\"color\": \"white\", \"size\": 5}, \"mode\": \"markers\", \"name\": \"Junction #212\", \"opacity\": 0.9, \"type\": \"scatter\", \"x\": [1260.6638789949352], \"y\": [962.3180528970028]}, {\"hoverinfo\": \"name\", \"marker\": {\"color\": \"white\", \"size\": 5}, \"mode\": \"markers\", \"name\": \"Junction #213\", \"opacity\": 0.9, \"type\": \"scatter\", \"x\": [2036.8072685991244], \"y\": [2450.089472058534]}, {\"hoverinfo\": \"name\", \"marker\": {\"color\": \"white\", \"size\": 5}, \"mode\": \"markers\", \"name\": \"Junction #214\", \"opacity\": 0.9, \"type\": \"scatter\", \"x\": [2325.324994818326], \"y\": [2518.203819189188]}, {\"hoverinfo\": \"name\", \"marker\": {\"color\": \"white\", \"size\": 5}, \"mode\": \"markers\", \"name\": \"Junction #215\", \"opacity\": 0.9, \"type\": \"scatter\", \"x\": [1977.6057388992251], \"y\": [2436.112952842585]}, {\"hoverinfo\": \"name\", \"marker\": {\"color\": \"white\", \"size\": 5}, \"mode\": \"markers\", \"name\": \"Junction #216\", \"opacity\": 0.9, \"type\": \"scatter\", \"x\": [2846.832538479282], \"y\": [2641.3232764428785]}, {\"hoverinfo\": \"name\", \"marker\": {\"color\": \"white\", \"size\": 5}, \"mode\": \"markers\", \"name\": \"Junction #217\", \"opacity\": 0.9, \"type\": \"scatter\", \"x\": [2850.544846784808], \"y\": [2642.1996921137356]}, {\"hoverinfo\": \"name\", \"marker\": {\"color\": \"white\", \"size\": 5}, \"mode\": \"markers\", \"name\": \"Junction #218\", \"opacity\": 0.9, \"type\": \"scatter\", \"x\": [2351.8496191656423], \"y\": [2419.612583579294]}, {\"hoverinfo\": \"name\", \"marker\": {\"color\": \"white\", \"size\": 5}, \"mode\": \"markers\", \"name\": \"Junction #219\", \"opacity\": 0.9, \"type\": \"scatter\", \"x\": [1942.7672709518692], \"y\": [2459.186809339473]}, {\"hoverinfo\": \"name\", \"marker\": {\"color\": \"white\", \"size\": 5}, \"mode\": \"markers\", \"name\": \"Junction #220\", \"opacity\": 0.9, \"type\": \"scatter\", \"x\": [2375.676351359425], \"y\": [1006.5409574691075]}, {\"hoverinfo\": \"name\", \"marker\": {\"color\": \"white\", \"size\": 5}, \"mode\": \"markers\", \"name\": \"Junction #221\", \"opacity\": 0.9, \"type\": \"scatter\", \"x\": [2404.083340307339], \"y\": [615.7534426144921]}, {\"hoverinfo\": \"name\", \"marker\": {\"color\": \"white\", \"size\": 5}, \"mode\": \"markers\", \"name\": \"Junction #222\", \"opacity\": 0.9, \"type\": \"scatter\", \"x\": [1131.9740855417615], \"y\": [1923.1672391299585]}, {\"hoverinfo\": \"name\", \"marker\": {\"color\": \"red\", \"size\": 5}, \"mode\": \"markers\", \"name\": \"Junction #223\", \"opacity\": 0.9, \"type\": \"scatter\", \"x\": [904.8346925587368], \"y\": [2244.7434448671997]}, {\"hoverinfo\": \"name\", \"marker\": {\"color\": \"white\", \"size\": 5}, \"mode\": \"markers\", \"name\": \"Junction #224\", \"opacity\": 0.9, \"type\": \"scatter\", \"x\": [920.8523223193262], \"y\": [2222.066230951694]}, {\"hoverinfo\": \"name\", \"marker\": {\"color\": \"red\", \"size\": 5}, \"mode\": \"markers\", \"name\": \"Junction #225\", \"opacity\": 0.9, \"type\": \"scatter\", \"x\": [1172.176648299607], \"y\": [2202.7548330798345]}, {\"hoverinfo\": \"name\", \"marker\": {\"color\": \"white\", \"size\": 5}, \"mode\": \"markers\", \"name\": \"Junction #226\", \"opacity\": 0.9, \"type\": \"scatter\", \"x\": [1055.1015109329535], \"y\": [1388.559077330251]}, {\"hoverinfo\": \"name\", \"marker\": {\"color\": \"white\", \"size\": 5}, \"mode\": \"markers\", \"name\": \"Junction #227\", \"opacity\": 0.9, \"type\": \"scatter\", \"x\": [418.1808840320465], \"y\": [2310.8494411363354]}, {\"hoverinfo\": \"name\", \"marker\": {\"color\": \"red\", \"size\": 5}, \"mode\": \"markers\", \"name\": \"Junction #228\", \"opacity\": 0.9, \"type\": \"scatter\", \"x\": [413.49357786361253], \"y\": [2321.9132675496567]}, {\"hoverinfo\": \"name\", \"marker\": {\"color\": \"red\", \"size\": 5}, \"mode\": \"markers\", \"name\": \"Junction #229\", \"opacity\": 0.9, \"type\": \"scatter\", \"x\": [103.13382143402436], \"y\": [3054.4804068463923]}, {\"hoverinfo\": \"name\", \"marker\": {\"color\": \"white\", \"size\": 5}, \"mode\": \"markers\", \"name\": \"Junction #230\", \"opacity\": 0.9, \"type\": \"scatter\", \"x\": [441.5940534758848], \"y\": [2255.585450860478]}, {\"hoverinfo\": \"name\", \"marker\": {\"color\": \"white\", \"size\": 5}, \"mode\": \"markers\", \"name\": \"Junction #231\", \"opacity\": 0.9, \"type\": \"scatter\", \"x\": [217.88608711023605], \"y\": [2783.621388392068]}, {\"hoverinfo\": \"name\", \"marker\": {\"color\": \"white\", \"size\": 5}, \"mode\": \"markers\", \"name\": \"Junction #232\", \"opacity\": 0.9, \"type\": \"scatter\", \"x\": [200.2843166749269], \"y\": [2825.1682653541193]}, {\"hoverinfo\": \"name\", \"marker\": {\"color\": \"white\", \"size\": 5}, \"mode\": \"markers\", \"name\": \"Junction #233\", \"opacity\": 0.9, \"type\": \"scatter\", \"x\": [1666.075482739966], \"y\": [2458.719727422942]}, {\"hoverinfo\": \"name\", \"marker\": {\"color\": \"white\", \"size\": 5}, \"mode\": \"markers\", \"name\": \"Junction #234\", \"opacity\": 0.9, \"type\": \"scatter\", \"x\": [1718.7035316066513], \"y\": [2264.7028712359825]}, {\"hoverinfo\": \"name\", \"marker\": {\"color\": \"white\", \"size\": 5}, \"mode\": \"markers\", \"name\": \"Junction #235\", \"opacity\": 0.9, \"type\": \"scatter\", \"x\": [1836.4845749807944], \"y\": [1830.4951009316437]}, {\"hoverinfo\": \"name\", \"marker\": {\"color\": \"white\", \"size\": 5}, \"mode\": \"markers\", \"name\": \"Junction #236\", \"opacity\": 0.9, \"type\": \"scatter\", \"x\": [16.9194784407605], \"y\": [2439.6151717205466]}, {\"hoverinfo\": \"name\", \"marker\": {\"color\": \"white\", \"size\": 5}, \"mode\": \"markers\", \"name\": \"Junction #237\", \"opacity\": 0.9, \"type\": \"scatter\", \"x\": [118.93510293005728], \"y\": [2406.878117432926]}, {\"hoverinfo\": \"name\", \"marker\": {\"color\": \"white\", \"size\": 5}, \"mode\": \"markers\", \"name\": \"Junction #238\", \"opacity\": 0.9, \"type\": \"scatter\", \"x\": [1360.4817057188413], \"y\": [840.8837408866194]}, {\"hoverinfo\": \"name\", \"marker\": {\"color\": \"white\", \"size\": 5}, \"mode\": \"markers\", \"name\": \"Junction #239\", \"opacity\": 0.9, \"type\": \"scatter\", \"x\": [1201.6842244029697], \"y\": [818.0562675099841]}, {\"hoverinfo\": \"name\", \"marker\": {\"color\": \"red\", \"size\": 5}, \"mode\": \"markers\", \"name\": \"Junction #240\", \"opacity\": 0.9, \"type\": \"scatter\", \"x\": [945.200051662579], \"y\": [2238.403679047907]}, {\"hoverinfo\": \"name\", \"marker\": {\"color\": \"red\", \"size\": 5}, \"mode\": \"markers\", \"name\": \"Junction #241\", \"opacity\": 0.9, \"type\": \"scatter\", \"x\": [1410.3748811103524], \"y\": [2550.5383148747974]}, {\"hoverinfo\": \"name\", \"marker\": {\"color\": \"white\", \"size\": 5}, \"mode\": \"markers\", \"name\": \"Junction #242\", \"opacity\": 0.9, \"type\": \"scatter\", \"x\": [1441.2477096730845], \"y\": [2539.4523045517576]}, {\"hoverinfo\": \"name\", \"marker\": {\"color\": \"white\", \"size\": 5}, \"mode\": \"markers\", \"name\": \"Junction #243\", \"opacity\": 0.9, \"type\": \"scatter\", \"x\": [1620.5535711486461], \"y\": [2475.066023027195]}, {\"hoverinfo\": \"name\", \"marker\": {\"color\": \"white\", \"size\": 5}, \"mode\": \"markers\", \"name\": \"Junction #244\", \"opacity\": 0.9, \"type\": \"scatter\", \"x\": [74.75663509799436], \"y\": [2852.09940221383]}, {\"hoverinfo\": \"name\", \"marker\": {\"color\": \"white\", \"size\": 5}, \"mode\": \"markers\", \"name\": \"Junction #245\", \"opacity\": 0.9, \"type\": \"scatter\", \"x\": [98.89308229559249], \"y\": [1271.0295029849042]}, {\"hoverinfo\": \"name\", \"marker\": {\"color\": \"white\", \"size\": 5}, \"mode\": \"markers\", \"name\": \"Junction #246\", \"opacity\": 0.9, \"type\": \"scatter\", \"x\": [2247.6458441140185], \"y\": [854.3456465464246]}, {\"hoverinfo\": \"name\", \"marker\": {\"color\": \"white\", \"size\": 5}, \"mode\": \"markers\", \"name\": \"Junction #247\", \"opacity\": 0.9, \"type\": \"scatter\", \"x\": [404.5528977180516], \"y\": [1226.4527380977847]}, {\"hoverinfo\": \"name\", \"marker\": {\"color\": \"white\", \"size\": 5}, \"mode\": \"markers\", \"name\": \"Junction #248\", \"opacity\": 0.9, \"type\": \"scatter\", \"x\": [387.2928726343403], \"y\": [1075.7652257235018]}, {\"hoverinfo\": \"name\", \"marker\": {\"color\": \"white\", \"size\": 5}, \"mode\": \"markers\", \"name\": \"Junction #249\", \"opacity\": 0.9, \"type\": \"scatter\", \"x\": [1581.1243931256909], \"y\": [2821.274059075634]}, {\"hoverinfo\": \"name\", \"marker\": {\"color\": \"white\", \"size\": 5}, \"mode\": \"markers\", \"name\": \"Junction #250\", \"opacity\": 0.9, \"type\": \"scatter\", \"x\": [2266.9988517955635], \"y\": [2735.000348846934]}, {\"hoverinfo\": \"name\", \"marker\": {\"color\": \"white\", \"size\": 5}, \"mode\": \"markers\", \"name\": \"Junction #251\", \"opacity\": 0.9, \"type\": \"scatter\", \"x\": [229.24984240380442], \"y\": [1182.7700125089564]}, {\"hoverinfo\": \"name\", \"marker\": {\"color\": \"white\", \"size\": 5}, \"mode\": \"markers\", \"name\": \"Junction #252\", \"opacity\": 0.9, \"type\": \"scatter\", \"x\": [1643.8240750773914], \"y\": [2270.739281588708]}, {\"hoverinfo\": \"name\", \"marker\": {\"color\": \"white\", \"size\": 5}, \"mode\": \"markers\", \"name\": \"Junction #253\", \"opacity\": 0.9, \"type\": \"scatter\", \"x\": [1596.2222898154962], \"y\": [2688.706924188962]}, {\"hoverinfo\": \"name\", \"marker\": {\"color\": \"white\", \"size\": 5}, \"mode\": \"markers\", \"name\": \"Junction #254\", \"opacity\": 0.9, \"type\": \"scatter\", \"x\": [1411.4708630202504], \"y\": [1207.0984605677518]}, {\"hoverinfo\": \"name\", \"marker\": {\"color\": \"white\", \"size\": 5}, \"mode\": \"markers\", \"name\": \"Junction #255\", \"opacity\": 0.9, \"type\": \"scatter\", \"x\": [2848.8710394204977], \"y\": [2642.4658757976044]}, {\"hoverinfo\": \"name\", \"marker\": {\"color\": \"white\", \"size\": 5}, \"mode\": \"markers\", \"name\": \"Junction #256\", \"opacity\": 0.9, \"type\": \"scatter\", \"x\": [1201.7494037858958], \"y\": [1267.3662887445025]}, {\"hoverinfo\": \"name\", \"marker\": {\"color\": \"white\", \"size\": 5}, \"mode\": \"markers\", \"name\": \"Junction #257\", \"opacity\": 0.9, \"type\": \"scatter\", \"x\": [1366.0730355346384], \"y\": [1220.144471579163]}, {\"hoverinfo\": \"name\", \"marker\": {\"color\": \"white\", \"size\": 5}, \"mode\": \"markers\", \"name\": \"Junction #258\", \"opacity\": 0.9, \"type\": \"scatter\", \"x\": [1077.8968861650185], \"y\": [-35.46502908397724]}, {\"hoverinfo\": \"name\", \"marker\": {\"color\": \"white\", \"size\": 5}, \"mode\": \"markers\", \"name\": \"Junction #259\", \"opacity\": 0.9, \"type\": \"scatter\", \"x\": [1289.2560082829184], \"y\": [1032.253213549211]}, {\"hoverinfo\": \"name\", \"marker\": {\"color\": \"white\", \"size\": 5}, \"mode\": \"markers\", \"name\": \"Junction #260\", \"opacity\": 0.9, \"type\": \"scatter\", \"x\": [227.27726597541846], \"y\": [2819.377105964202]}, {\"hoverinfo\": \"name\", \"marker\": {\"color\": \"white\", \"size\": 5}, \"mode\": \"markers\", \"name\": \"Junction #261\", \"opacity\": 0.9, \"type\": \"scatter\", \"x\": [2499.226177615279], \"y\": [1894.2653162214979]}],\n",
       "                        {\"height\": 800, \"paper_bgcolor\": \"rgb(211,211,211)\", \"plot_bgcolor\": \"rgb(51,51,51)\", \"showlegend\": false, \"template\": {\"data\": {\"bar\": [{\"error_x\": {\"color\": \"#2a3f5f\"}, \"error_y\": {\"color\": \"#2a3f5f\"}, \"marker\": {\"line\": {\"color\": \"#E5ECF6\", \"width\": 0.5}}, \"type\": \"bar\"}], \"barpolar\": [{\"marker\": {\"line\": {\"color\": \"#E5ECF6\", \"width\": 0.5}}, \"type\": \"barpolar\"}], \"carpet\": [{\"aaxis\": {\"endlinecolor\": \"#2a3f5f\", \"gridcolor\": \"white\", \"linecolor\": \"white\", \"minorgridcolor\": \"white\", \"startlinecolor\": \"#2a3f5f\"}, \"baxis\": {\"endlinecolor\": \"#2a3f5f\", \"gridcolor\": \"white\", \"linecolor\": \"white\", \"minorgridcolor\": \"white\", \"startlinecolor\": \"#2a3f5f\"}, \"type\": \"carpet\"}], \"choropleth\": [{\"colorbar\": {\"outlinewidth\": 0, \"ticks\": \"\"}, \"type\": \"choropleth\"}], \"contour\": [{\"colorbar\": {\"outlinewidth\": 0, \"ticks\": \"\"}, \"colorscale\": [[0.0, \"#0d0887\"], [0.1111111111111111, \"#46039f\"], [0.2222222222222222, \"#7201a8\"], [0.3333333333333333, \"#9c179e\"], [0.4444444444444444, \"#bd3786\"], [0.5555555555555556, \"#d8576b\"], [0.6666666666666666, \"#ed7953\"], [0.7777777777777778, \"#fb9f3a\"], [0.8888888888888888, \"#fdca26\"], [1.0, \"#f0f921\"]], \"type\": \"contour\"}], \"contourcarpet\": [{\"colorbar\": {\"outlinewidth\": 0, \"ticks\": \"\"}, \"type\": \"contourcarpet\"}], \"heatmap\": [{\"colorbar\": {\"outlinewidth\": 0, \"ticks\": \"\"}, \"colorscale\": [[0.0, \"#0d0887\"], [0.1111111111111111, \"#46039f\"], [0.2222222222222222, \"#7201a8\"], [0.3333333333333333, \"#9c179e\"], [0.4444444444444444, \"#bd3786\"], [0.5555555555555556, \"#d8576b\"], [0.6666666666666666, \"#ed7953\"], [0.7777777777777778, \"#fb9f3a\"], [0.8888888888888888, \"#fdca26\"], [1.0, \"#f0f921\"]], \"type\": \"heatmap\"}], \"heatmapgl\": [{\"colorbar\": {\"outlinewidth\": 0, \"ticks\": \"\"}, \"colorscale\": [[0.0, \"#0d0887\"], [0.1111111111111111, \"#46039f\"], [0.2222222222222222, \"#7201a8\"], [0.3333333333333333, \"#9c179e\"], [0.4444444444444444, \"#bd3786\"], [0.5555555555555556, \"#d8576b\"], [0.6666666666666666, \"#ed7953\"], [0.7777777777777778, \"#fb9f3a\"], [0.8888888888888888, \"#fdca26\"], [1.0, \"#f0f921\"]], \"type\": \"heatmapgl\"}], \"histogram\": [{\"marker\": {\"colorbar\": {\"outlinewidth\": 0, \"ticks\": \"\"}}, \"type\": \"histogram\"}], \"histogram2d\": [{\"colorbar\": {\"outlinewidth\": 0, \"ticks\": \"\"}, \"colorscale\": [[0.0, \"#0d0887\"], [0.1111111111111111, \"#46039f\"], [0.2222222222222222, \"#7201a8\"], [0.3333333333333333, \"#9c179e\"], [0.4444444444444444, \"#bd3786\"], [0.5555555555555556, \"#d8576b\"], [0.6666666666666666, \"#ed7953\"], [0.7777777777777778, \"#fb9f3a\"], [0.8888888888888888, \"#fdca26\"], [1.0, \"#f0f921\"]], \"type\": \"histogram2d\"}], \"histogram2dcontour\": [{\"colorbar\": {\"outlinewidth\": 0, \"ticks\": \"\"}, \"colorscale\": [[0.0, \"#0d0887\"], [0.1111111111111111, \"#46039f\"], [0.2222222222222222, \"#7201a8\"], [0.3333333333333333, \"#9c179e\"], [0.4444444444444444, \"#bd3786\"], [0.5555555555555556, \"#d8576b\"], [0.6666666666666666, \"#ed7953\"], [0.7777777777777778, \"#fb9f3a\"], [0.8888888888888888, \"#fdca26\"], [1.0, \"#f0f921\"]], \"type\": \"histogram2dcontour\"}], \"mesh3d\": [{\"colorbar\": {\"outlinewidth\": 0, \"ticks\": \"\"}, \"type\": \"mesh3d\"}], \"parcoords\": [{\"line\": {\"colorbar\": {\"outlinewidth\": 0, \"ticks\": \"\"}}, \"type\": \"parcoords\"}], \"scatter\": [{\"marker\": {\"colorbar\": {\"outlinewidth\": 0, \"ticks\": \"\"}}, \"type\": \"scatter\"}], \"scatter3d\": [{\"line\": {\"colorbar\": {\"outlinewidth\": 0, \"ticks\": \"\"}}, \"marker\": {\"colorbar\": {\"outlinewidth\": 0, \"ticks\": \"\"}}, \"type\": \"scatter3d\"}], \"scattercarpet\": [{\"marker\": {\"colorbar\": {\"outlinewidth\": 0, \"ticks\": \"\"}}, \"type\": \"scattercarpet\"}], \"scattergeo\": [{\"marker\": {\"colorbar\": {\"outlinewidth\": 0, \"ticks\": \"\"}}, \"type\": \"scattergeo\"}], \"scattergl\": [{\"marker\": {\"colorbar\": {\"outlinewidth\": 0, \"ticks\": \"\"}}, \"type\": \"scattergl\"}], \"scattermapbox\": [{\"marker\": {\"colorbar\": {\"outlinewidth\": 0, \"ticks\": \"\"}}, \"type\": \"scattermapbox\"}], \"scatterpolar\": [{\"marker\": {\"colorbar\": {\"outlinewidth\": 0, \"ticks\": \"\"}}, \"type\": \"scatterpolar\"}], \"scatterpolargl\": [{\"marker\": {\"colorbar\": {\"outlinewidth\": 0, \"ticks\": \"\"}}, \"type\": \"scatterpolargl\"}], \"scatterternary\": [{\"marker\": {\"colorbar\": {\"outlinewidth\": 0, \"ticks\": \"\"}}, \"type\": \"scatterternary\"}], \"surface\": [{\"colorbar\": {\"outlinewidth\": 0, \"ticks\": \"\"}, \"colorscale\": [[0.0, \"#0d0887\"], [0.1111111111111111, \"#46039f\"], [0.2222222222222222, \"#7201a8\"], [0.3333333333333333, \"#9c179e\"], [0.4444444444444444, \"#bd3786\"], [0.5555555555555556, \"#d8576b\"], [0.6666666666666666, \"#ed7953\"], [0.7777777777777778, \"#fb9f3a\"], [0.8888888888888888, \"#fdca26\"], [1.0, \"#f0f921\"]], \"type\": \"surface\"}], \"table\": [{\"cells\": {\"fill\": {\"color\": \"#EBF0F8\"}, \"line\": {\"color\": \"white\"}}, \"header\": {\"fill\": {\"color\": \"#C8D4E3\"}, \"line\": {\"color\": \"white\"}}, \"type\": \"table\"}]}, \"layout\": {\"annotationdefaults\": {\"arrowcolor\": \"#2a3f5f\", \"arrowhead\": 0, \"arrowwidth\": 1}, \"colorscale\": {\"diverging\": [[0, \"#8e0152\"], [0.1, \"#c51b7d\"], [0.2, \"#de77ae\"], [0.3, \"#f1b6da\"], [0.4, \"#fde0ef\"], [0.5, \"#f7f7f7\"], [0.6, \"#e6f5d0\"], [0.7, \"#b8e186\"], [0.8, \"#7fbc41\"], [0.9, \"#4d9221\"], [1, \"#276419\"]], \"sequential\": [[0.0, \"#0d0887\"], [0.1111111111111111, \"#46039f\"], [0.2222222222222222, \"#7201a8\"], [0.3333333333333333, \"#9c179e\"], [0.4444444444444444, \"#bd3786\"], [0.5555555555555556, \"#d8576b\"], [0.6666666666666666, \"#ed7953\"], [0.7777777777777778, \"#fb9f3a\"], [0.8888888888888888, \"#fdca26\"], [1.0, \"#f0f921\"]], \"sequentialminus\": [[0.0, \"#0d0887\"], [0.1111111111111111, \"#46039f\"], [0.2222222222222222, \"#7201a8\"], [0.3333333333333333, \"#9c179e\"], [0.4444444444444444, \"#bd3786\"], [0.5555555555555556, \"#d8576b\"], [0.6666666666666666, \"#ed7953\"], [0.7777777777777778, \"#fb9f3a\"], [0.8888888888888888, \"#fdca26\"], [1.0, \"#f0f921\"]]}, \"colorway\": [\"#636efa\", \"#EF553B\", \"#00cc96\", \"#ab63fa\", \"#FFA15A\", \"#19d3f3\", \"#FF6692\", \"#B6E880\", \"#FF97FF\", \"#FECB52\"], \"font\": {\"color\": \"#2a3f5f\"}, \"geo\": {\"bgcolor\": \"white\", \"lakecolor\": \"white\", \"landcolor\": \"#E5ECF6\", \"showlakes\": true, \"showland\": true, \"subunitcolor\": \"white\"}, \"hoverlabel\": {\"align\": \"left\"}, \"hovermode\": \"closest\", \"mapbox\": {\"style\": \"light\"}, \"paper_bgcolor\": \"white\", \"plot_bgcolor\": \"#E5ECF6\", \"polar\": {\"angularaxis\": {\"gridcolor\": \"white\", \"linecolor\": \"white\", \"ticks\": \"\"}, \"bgcolor\": \"#E5ECF6\", \"radialaxis\": {\"gridcolor\": \"white\", \"linecolor\": \"white\", \"ticks\": \"\"}}, \"scene\": {\"xaxis\": {\"backgroundcolor\": \"#E5ECF6\", \"gridcolor\": \"white\", \"gridwidth\": 2, \"linecolor\": \"white\", \"showbackground\": true, \"ticks\": \"\", \"zerolinecolor\": \"white\"}, \"yaxis\": {\"backgroundcolor\": \"#E5ECF6\", \"gridcolor\": \"white\", \"gridwidth\": 2, \"linecolor\": \"white\", \"showbackground\": true, \"ticks\": \"\", \"zerolinecolor\": \"white\"}, \"zaxis\": {\"backgroundcolor\": \"#E5ECF6\", \"gridcolor\": \"white\", \"gridwidth\": 2, \"linecolor\": \"white\", \"showbackground\": true, \"ticks\": \"\", \"zerolinecolor\": \"white\"}}, \"shapedefaults\": {\"line\": {\"color\": \"#2a3f5f\"}}, \"ternary\": {\"aaxis\": {\"gridcolor\": \"white\", \"linecolor\": \"white\", \"ticks\": \"\"}, \"baxis\": {\"gridcolor\": \"white\", \"linecolor\": \"white\", \"ticks\": \"\"}, \"bgcolor\": \"#E5ECF6\", \"caxis\": {\"gridcolor\": \"white\", \"linecolor\": \"white\", \"ticks\": \"\"}}, \"title\": {\"x\": 0.05}, \"xaxis\": {\"automargin\": true, \"gridcolor\": \"white\", \"linecolor\": \"white\", \"ticks\": \"\", \"zerolinecolor\": \"white\", \"zerolinewidth\": 2}, \"yaxis\": {\"automargin\": true, \"gridcolor\": \"white\", \"linecolor\": \"white\", \"ticks\": \"\", \"zerolinecolor\": \"white\", \"zerolinewidth\": 2}}}, \"width\": 800, \"xaxis\": {\"range\": [-600.0, 3600.0], \"showgrid\": false, \"title\": {\"text\": \"x $\\\\mu$ m\"}, \"zeroline\": false}, \"yaxis\": {\"range\": [-600.0, 3600.0], \"showgrid\": false, \"title\": {\"text\": \"x $\\\\mu$ m\"}, \"zeroline\": false}},\n",
       "                        {\"responsive\": true}\n",
       "                    ).then(function(){\n",
       "                            \n",
       "var gd = document.getElementById('96677885-ce76-4721-9f60-be0d49136336');\n",
       "var x = new MutationObserver(function (mutations, observer) {{\n",
       "        var display = window.getComputedStyle(gd).display;\n",
       "        if (!display || display === 'none') {{\n",
       "            console.log([gd, 'removed!']);\n",
       "            Plotly.purge(gd);\n",
       "            observer.disconnect();\n",
       "        }}\n",
       "}});\n",
       "\n",
       "// Listen for the removal of the full notebook cells\n",
       "var notebookContainer = gd.closest('#notebook-container');\n",
       "if (notebookContainer) {{\n",
       "    x.observe(notebookContainer, {childList: true});\n",
       "}}\n",
       "\n",
       "// Listen for the clearing of the current output cell\n",
       "var outputEl = gd.closest('.output');\n",
       "if (outputEl) {{\n",
       "    x.observe(outputEl, {childList: true});\n",
       "}}\n",
       "\n",
       "                        })\n",
       "                };\n",
       "                });\n",
       "            </script>\n",
       "        </div>"
      ]
     },
     "metadata": {},
     "output_type": "display_data"
    }
   ],
   "source": [
    "network1.draw(time = 0.928)"
   ]
  },
  {
   "cell_type": "code",
   "execution_count": 94,
   "metadata": {},
   "outputs": [],
   "source": [
    "currentPaths, formedTime = findCurrent(network1, numToFind = 4)"
   ]
  },
  {
   "cell_type": "code",
   "execution_count": 110,
   "metadata": {},
   "outputs": [
    {
     "data": {
      "text/plain": [
       "[[73, 66, 71, 64, 26, 6, 69, 1, 53, 30],\n",
       " [73, 66, 71, 65, 29, 38, 21, 13, 2, 25, 30],\n",
       " [73, 66, 71, 76, 14, 38, 21, 13, 2, 25, 30],\n",
       " [73, 66, 71, 65, 29, 3, 48, 12, 2, 25, 30],\n",
       " [73, 66, 71, 65, 29, 3, 48, 13, 2, 25, 30],\n",
       " [73, 66, 71, 65, 29, 38, 21, 13, 48, 12, 2, 25, 30],\n",
       " [73, 66, 71, 76, 14, 38, 21, 13, 48, 12, 2, 25, 30],\n",
       " [73, 66, 71, 76, 14, 38, 29, 3, 48, 12, 2, 25, 30],\n",
       " [73, 66, 71, 76, 14, 38, 29, 3, 48, 13, 2, 25, 30]]"
      ]
     },
     "execution_count": 110,
     "metadata": {},
     "output_type": "execute_result"
    }
   ],
   "source": [
    "currentPaths"
   ]
  },
  {
   "cell_type": "code",
   "execution_count": 105,
   "metadata": {},
   "outputs": [
    {
     "data": {
      "text/plain": [
       "[0.802, 0.926, 0.926, 0.928, 0.928, 0.928, 0.928, 0.928, 0.928]"
      ]
     },
     "execution_count": 105,
     "metadata": {},
     "output_type": "execute_result"
    }
   ],
   "source": [
    "formedTime"
   ]
  },
  {
   "cell_type": "code",
   "execution_count": 86,
   "metadata": {},
   "outputs": [],
   "source": [
    "first50, length50 = k_shortest_paths(network1, k = 50, getLength = True)"
   ]
  },
  {
   "cell_type": "code",
   "execution_count": 111,
   "metadata": {},
   "outputs": [
    {
     "data": {
      "text/plain": [
       "[[73, 66, 71, 64, 26, 6, 69, 1, 53, 30],\n",
       " [73, 68, 66, 71, 64, 26, 6, 69, 1, 53, 30],\n",
       " [73, 66, 71, 65, 29, 3, 48, 12, 2, 25, 30],\n",
       " [73, 66, 71, 64, 29, 3, 48, 12, 2, 25, 30],\n",
       " [73, 66, 71, 64, 26, 33, 6, 69, 1, 53, 30],\n",
       " [73, 66, 71, 64, 26, 6, 36, 16, 1, 53, 30],\n",
       " [73, 66, 71, 64, 26, 6, 69, 1, 18, 53, 30],\n",
       " [73, 66, 71, 64, 26, 6, 69, 1, 53, 25, 30],\n",
       " [73, 95, 66, 71, 64, 26, 6, 69, 1, 53, 30],\n",
       " [73, 66, 71, 76, 14, 38, 21, 13, 2, 25, 30],\n",
       " [73, 66, 71, 65, 64, 26, 6, 69, 1, 53, 30],\n",
       " [73, 66, 71, 65, 29, 38, 21, 13, 2, 25, 30],\n",
       " [73, 66, 71, 65, 29, 3, 48, 13, 2, 25, 30],\n",
       " [73, 66, 71, 65, 29, 3, 48, 12, 1, 53, 30],\n",
       " [73, 66, 71, 64, 29, 38, 21, 13, 2, 25, 30],\n",
       " [73, 66, 71, 64, 29, 3, 48, 13, 2, 25, 30],\n",
       " [73, 66, 71, 64, 29, 3, 48, 12, 1, 53, 30],\n",
       " [73, 66, 71, 64, 26, 89, 6, 69, 1, 53, 30],\n",
       " [73, 66, 71, 64, 26, 33, 93, 12, 2, 25, 30],\n",
       " [73, 66, 71, 64, 26, 6, 51, 69, 1, 53, 30],\n",
       " [73, 66, 71, 64, 26, 6, 36, 70, 1, 53, 30],\n",
       " [73, 66, 71, 64, 26, 6, 36, 16, 18, 53, 30],\n",
       " [73, 66, 71, 64, 26, 6, 69, 1, 54, 25, 30],\n",
       " [73, 66, 71, 64, 26, 6, 69, 1, 53, 55, 30],\n",
       " [73, 66, 71, 76, 64, 26, 6, 69, 1, 53, 30],\n",
       " [73, 66, 71, 65, 80, 33, 6, 69, 1, 53, 30],\n",
       " [73, 66, 71, 64, 26, 89, 93, 12, 2, 25, 30],\n",
       " [73, 66, 71, 64, 26, 33, 93, 69, 1, 53, 30],\n",
       " [73, 66, 71, 64, 26, 33, 93, 12, 1, 53, 30],\n",
       " [73, 66, 71, 64, 26, 6, 99, 69, 1, 53, 30],\n",
       " [73, 66, 71, 64, 26, 6, 36, 16, 60, 53, 30],\n",
       " [73, 66, 71, 64, 26, 6, 69, 1, 54, 39, 30],\n",
       " [73, 66, 71, 64, 26, 6, 69, 1, 53, 63, 30],\n",
       " [73, 66, 71, 65, 80, 33, 93, 12, 2, 25, 30],\n",
       " [73, 66, 71, 64, 26, 89, 99, 69, 1, 53, 30],\n",
       " [73, 66, 71, 64, 26, 89, 93, 69, 1, 53, 30],\n",
       " [73, 66, 71, 64, 26, 89, 93, 12, 1, 53, 30],\n",
       " [73, 66, 71, 64, 26, 6, 58, 70, 1, 53, 30],\n",
       " [73, 66, 71, 64, 26, 6, 69, 1, 54, 63, 30],\n",
       " [73, 66, 71, 65, 80, 33, 93, 69, 1, 53, 30],\n",
       " [73, 66, 71, 65, 80, 33, 93, 12, 1, 53, 30],\n",
       " [73, 66, 19, 8, 71, 64, 26, 6, 69, 1, 53, 30],\n",
       " [73, 66, 71, 64, 26, 6, 69, 93, 12, 2, 25, 30],\n",
       " [73, 68, 94, 66, 71, 64, 26, 6, 69, 1, 53, 30],\n",
       " [73, 68, 66, 71, 65, 29, 3, 48, 12, 2, 25, 30],\n",
       " [73, 68, 66, 71, 64, 29, 3, 48, 12, 2, 25, 30],\n",
       " [73, 68, 66, 71, 64, 26, 33, 6, 69, 1, 53, 30],\n",
       " [73, 68, 66, 71, 64, 26, 6, 36, 16, 1, 53, 30],\n",
       " [73, 68, 66, 71, 64, 26, 6, 69, 1, 18, 53, 30],\n",
       " [73, 68, 66, 71, 64, 26, 6, 69, 1, 53, 25, 30]]"
      ]
     },
     "execution_count": 111,
     "metadata": {},
     "output_type": "execute_result"
    }
   ],
   "source": [
    "first50"
   ]
  },
  {
   "cell_type": "code",
   "execution_count": 11,
   "metadata": {},
   "outputs": [],
   "source": [
    "G = nx.from_numpy_array(network1.adjMat)"
   ]
  },
  {
   "cell_type": "code",
   "execution_count": 30,
   "metadata": {},
   "outputs": [],
   "source": [
    "c = nx.communicability_exp(G)"
   ]
  },
  {
   "cell_type": "code",
   "execution_count": 34,
   "metadata": {},
   "outputs": [],
   "source": [
    "centrality = np.zeros(100)\n",
    "comm = np.zeros(100)"
   ]
  },
  {
   "cell_type": "code",
   "execution_count": 48,
   "metadata": {},
   "outputs": [],
   "source": [
    "for i in range(100):\n",
    "    centrality[i] = c[i][i]\n",
    "    for j in range(100):\n",
    "        comm[i] += c[i][j]"
   ]
  },
  {
   "cell_type": "code",
   "execution_count": 103,
   "metadata": {},
   "outputs": [
    {
     "name": "stdout",
     "output_type": "stream",
     "text": [
      "3236.601989751824\n"
     ]
    }
   ],
   "source": [
    "sumcomm = 0\n",
    "for i in currentPaths[]:\n",
    "    sumcomm += comm[i-1]\n",
    "print(sumcomm)"
   ]
  },
  {
   "cell_type": "code",
   "execution_count": 89,
   "metadata": {},
   "outputs": [
    {
     "name": "stdout",
     "output_type": "stream",
     "text": [
      "4259.677911341245\n"
     ]
    }
   ],
   "source": [
    "sumcomm = 0\n",
    "for i in first50[11]:\n",
    "    sumcomm += comm[i-1]\n",
    "print(sumcomm)"
   ]
  },
  {
   "cell_type": "code",
   "execution_count": 72,
   "metadata": {},
   "outputs": [
    {
     "name": "stdout",
     "output_type": "stream",
     "text": [
      "40\n"
     ]
    }
   ],
   "source": [
    "samelength = 0\n",
    "for i in length50:\n",
    "    if i == 10:\n",
    "        samelength+=1\n",
    "print(samelength)"
   ]
  },
  {
   "cell_type": "code",
   "execution_count": 75,
   "metadata": {},
   "outputs": [],
   "source": [
    "theircomm = []"
   ]
  },
  {
   "cell_type": "code",
   "execution_count": 76,
   "metadata": {},
   "outputs": [],
   "source": [
    "for j in range(len(length50)):\n",
    "    if length50[j] == 10:\n",
    "        temp = 0\n",
    "        for i in first50[j]:\n",
    "            temp += comm[i-1]\n",
    "        theircomm.append([temp])"
   ]
  },
  {
   "cell_type": "code",
   "execution_count": 82,
   "metadata": {},
   "outputs": [
    {
     "data": {
      "text/plain": [
       "13"
      ]
     },
     "execution_count": 82,
     "metadata": {},
     "output_type": "execute_result"
    }
   ],
   "source": [
    "np.argmax(theircomm)"
   ]
  },
  {
   "cell_type": "code",
   "execution_count": 90,
   "metadata": {},
   "outputs": [
    {
     "data": {
      "text/plain": [
       "[<matplotlib.lines.Line2D at 0x267f3bc6128>]"
      ]
     },
     "execution_count": 90,
     "metadata": {},
     "output_type": "execute_result"
    },
    {
     "data": {
      "image/png": "[encoded data removed]",
      "text/plain": [
       "<Figure size 432x288 with 1 Axes>"
      ]
     },
     "metadata": {
      "needs_background": "light"
     },
     "output_type": "display_data"
    }
   ],
   "source": [
    "plt.plot(theircomm)"
   ]
  },
  {
   "cell_type": "code",
   "execution_count": null,
   "metadata": {},
   "outputs": [],
   "source": []
  },
  {
   "cell_type": "code",
   "execution_count": null,
   "metadata": {},
   "outputs": [],
   "source": []
  },
  {
   "cell_type": "code",
   "execution_count": 45,
   "metadata": {},
   "outputs": [],
   "source": [
    "G = nx.from_numpy_array(this_realization.adjMat)"
   ]
  },
  {
   "cell_type": "code",
   "execution_count": 46,
   "metadata": {},
   "outputs": [
    {
     "data": {
      "image/png": "[encoded data removed]",
      "text/plain": [
       "<Figure size 720x720 with 1 Axes>"
      ]
     },
     "metadata": {},
     "output_type": "display_data"
    }
   ],
   "source": [
    "plt.figure(figsize = (10,10))\n",
    "nx.draw_networkx(G, pos=nx.kamada_kawai_layout(G), fontsize=5, node_color='orange')"
   ]
  },
  {
   "cell_type": "code",
   "execution_count": 49,
   "metadata": {},
   "outputs": [
    {
     "data": {
      "text/plain": [
       "[[73, 66, 71, 64, 26, 6, 69, 1, 53, 30],\n",
       " [73, 66, 71, 76, 14, 38, 21, 13, 2, 25, 30]]"
      ]
     },
     "execution_count": 49,
     "metadata": {},
     "output_type": "execute_result"
    }
   ],
   "source": [
    "currentPaths"
   ]
  },
  {
   "cell_type": "code",
   "execution_count": 51,
   "metadata": {},
   "outputs": [
    {
     "data": {
      "text/plain": [
       "[[72, 65, 70, 63, 25, 5, 68, 0, 52, 29],\n",
       " [72, 65, 70, 75, 13, 37, 20, 12, 1, 24, 29]]"
      ]
     },
     "execution_count": 51,
     "metadata": {},
     "output_type": "execute_result"
    }
   ],
   "source": [
    "[i for i in nx.all_simple_paths(onGraph, 72, 29)]"
   ]
  },
  {
   "cell_type": "code",
   "execution_count": 57,
   "metadata": {},
   "outputs": [],
   "source": [
    "ppp = [i for i in nx.connected_component_subgraphs(onGraph)]"
   ]
  },
  {
   "cell_type": "code",
   "execution_count": 62,
   "metadata": {},
   "outputs": [
    {
     "data": {
      "image/png": "[encoded data removed]",
      "text/plain": [
       "<Figure size 1080x1080 with 1 Axes>"
      ]
     },
     "metadata": {},
     "output_type": "display_data"
    }
   ],
   "source": [
    "plt.figure(figsize = (15,15))\n",
    "nx.draw_networkx(ppp[0],pos=nx.spring_layout(G),fontsize=5, node_color='orange')"
   ]
  },
  {
   "cell_type": "code",
   "execution_count": 61,
   "metadata": {},
   "outputs": [
    {
     "data": {
      "text/plain": [
       "EdgeView([(0, 52), (0, 68), (1, 11), (1, 12), (1, 24), (1, 74), (2, 28), (2, 47), (5, 25), (5, 35), (5, 68), (11, 92), (12, 20), (13, 37), (13, 75), (20, 37), (24, 29), (25, 63), (25, 88), (28, 64), (29, 52), (32, 79), (32, 92), (63, 70), (64, 70), (65, 70), (65, 72), (70, 75), (71, 75)])"
      ]
     },
     "execution_count": 61,
     "metadata": {},
     "output_type": "execute_result"
    }
   ],
   "source": [
    "ppp[0].edges"
   ]
  },
  {
   "cell_type": "code",
   "execution_count": null,
   "metadata": {},
   "outputs": [],
   "source": []
  }
 ],
 "metadata": {
  "kernelspec": {
   "display_name": "Python 3",
   "language": "python",
   "name": "python3"
  },
  "language_info": {
   "codemirror_mode": {
    "name": "ipython",
    "version": 3
   },
   "file_extension": ".py",
   "mimetype": "text/x-python",
   "name": "python",
   "nbconvert_exporter": "python",
   "pygments_lexer": "ipython3",
   "version": "3.7.3"
  },
  "toc": {
   "base_numbering": 1,
   "nav_menu": {},
   "number_sections": true,
   "sideBar": true,
   "skip_h1_title": false,
   "title_cell": "Table of Contents",
   "title_sidebar": "Contents",
   "toc_cell": false,
   "toc_position": {},
   "toc_section_display": true,
   "toc_window_display": false
  },
  "varInspector": {
   "cols": {
    "lenName": 16,
    "lenType": 16,
    "lenVar": 40
   },
   "kernels_config": {
    "python": {
     "delete_cmd_postfix": "",
     "delete_cmd_prefix": "del ",
     "library": "var_list.py",
     "varRefreshCmd": "print(var_dic_list())"
    },
    "r": {
     "delete_cmd_postfix": ") ",
     "delete_cmd_prefix": "rm(",
     "library": "var_list.r",
     "varRefreshCmd": "cat(var_dic_list()) "
    }
   },
   "types_to_exclude": [
    "module",
    "function",
    "builtin_function_or_method",
    "instance",
    "_Feature"
   ],
   "window_display": false
  }
 },
 "nbformat": 4,
 "nbformat_minor": 2
}
